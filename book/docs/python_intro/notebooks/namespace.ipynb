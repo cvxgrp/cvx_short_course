{
 "cells": [
  {
   "cell_type": "markdown",
   "metadata": {
    "pycharm": {
     "name": "#%% md\n"
    }
   },
   "source": [
    "# Python namespaces"
   ]
  },
  {
   "cell_type": "markdown",
   "source": [
    "This notebook covers the basics of Python namespaces."
   ],
   "metadata": {
    "collapsed": false
   }
  },
  {
   "cell_type": "code",
   "execution_count": 1,
   "metadata": {
    "pycharm": {
     "name": "#%%\n"
    }
   },
   "outputs": [
    {
     "name": "stdout",
     "output_type": "stream",
     "text": [
      "720\n"
     ]
    }
   ],
   "source": [
    "# Use the default math module\n",
    "import math\n",
    "\n",
    "# Need to use the prefix 'math.' to call functions in the math module\n",
    "print(math.factorial(6))"
   ]
  },
  {
   "cell_type": "code",
   "execution_count": 2,
   "outputs": [
    {
     "name": "stdout",
     "output_type": "stream",
     "text": [
      "0.5000000000000001\n"
     ]
    }
   ],
   "source": [
    "# This imports sin and cos functions only\n",
    "from math import sin, cos\n",
    "\n",
    "# No need to use 'math.' prefix for individually imported functions\n",
    "print(cos(math.pi / 3))"
   ],
   "metadata": {
    "collapsed": false,
    "pycharm": {
     "name": "#%%\n"
    }
   }
  },
  {
   "cell_type": "code",
   "execution_count": 3,
   "outputs": [
    {
     "name": "stdout",
     "output_type": "stream",
     "text": [
      "0.5140260817216931\n",
      "0.8402052602283743\n",
      "0.49583317356550893\n",
      "0.5272527624922438\n",
      "0.30375778406031995\n"
     ]
    }
   ],
   "source": [
    "# Can use custom namespace name different from the module name\n",
    "# This imports random but uses 'rn' namespace\n",
    "import random as rn\n",
    "\n",
    "for i in range(5):\n",
    "    # print a random number in [0, 1)\n",
    "    print(rn.random())"
   ],
   "metadata": {
    "collapsed": false,
    "pycharm": {
     "name": "#%%\n"
    }
   }
  },
  {
   "cell_type": "code",
   "execution_count": 4,
   "outputs": [
    {
     "name": "stdout",
     "output_type": "stream",
     "text": [
      "1.2246467991473532e-16\n"
     ]
    }
   ],
   "source": [
    "# Import all the 'math' functions into the namespace\n",
    "# Importing everything without a namespace is generally discouraged\n",
    "from math import *\n",
    "\n",
    "print(sin(pi))"
   ],
   "metadata": {
    "collapsed": false,
    "pycharm": {
     "name": "#%%\n"
    }
   }
  }
 ],
 "metadata": {
  "kernelspec": {
   "display_name": "Python 3",
   "language": "python",
   "name": "python3"
  },
  "language_info": {
   "codemirror_mode": {
    "name": "ipython",
    "version": 3
   },
   "file_extension": ".py",
   "mimetype": "text/x-python",
   "name": "python",
   "nbconvert_exporter": "python",
   "pygments_lexer": "ipython3",
   "version": "3.7.0"
  }
 },
 "nbformat": 4,
 "nbformat_minor": 1
}
