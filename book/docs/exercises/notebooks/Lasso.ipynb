{
 "cells": [
  {
   "cell_type": "markdown",
   "source": [
    "# LASSO"
   ],
   "metadata": {
    "collapsed": false,
    "pycharm": {
     "name": "#%% md\n"
    }
   }
  },
  {
   "cell_type": "markdown",
   "source": [
    "We wish to recover a sparse vector $x \\in \\mathbf{R}^n$ from measurements $y \\in \\mathbf{R}^m$. Our measurement model tells us that"
   ],
   "metadata": {
    "collapsed": false
   }
  },
  {
   "cell_type": "markdown",
   "source": [
    "$$\n",
    "y = Ax + v,\n",
    "$$"
   ],
   "metadata": {
    "collapsed": false
   }
  },
  {
   "cell_type": "markdown",
   "source": [
    "where $A \\in \\mathbf{R}^{m \\times n}$ is a known matrix and $v \\in \\mathbf{R}^m$ is unknown measurement error.\n",
    "For our demonstration the entries of $v$ are sampled from the normal distribution with mean zero and\n",
    "standard deviation $\\sigma$ (by default, $\\sigma = 1$).\n",
    "\n",
    "We can first try to recover $x$ by solving the optimization problem"
   ],
   "metadata": {
    "collapsed": false
   }
  },
  {
   "cell_type": "markdown",
   "source": [
    "$$\n",
    "\\begin{array}{ll} \\mbox{minimize} & ||Ax - y||^2_2 + \\gamma ||x||^2_2.\\\\\n",
    "\\end{array}\n",
    "$$"
   ],
   "metadata": {
    "collapsed": false
   }
  },
  {
   "cell_type": "markdown",
   "source": [
    "This problem is called ridge regression.\n",
    "\n",
    "The code below defines $n$, $m$, $A$, $x$, and $y$. Use CVXPY to estimate $x$ from $y$ using ridge regression. Try multiple\n",
    "values of $\\gamma$. Use the plotting code to compare the estimated $x$ with the true $x$.\n",
    "\n",
    "A more effective approach is to solve the LASSO problem"
   ],
   "metadata": {
    "collapsed": false
   }
  },
  {
   "cell_type": "markdown",
   "source": [
    "$$\n",
    "\\begin{array}{ll} \\mbox{minimize} & ||Ax - y||^2_2 + \\gamma \\|x\\|_1.\\\\\n",
    "\\end{array}\n",
    "$$"
   ],
   "metadata": {
    "collapsed": false
   }
  },
  {
   "cell_type": "markdown",
   "source": [
    "How many measurements $m$ are needed to find an accurate $x$ with ridge regression? How about with the LASSO?"
   ],
   "metadata": {
    "collapsed": false
   }
  },
  {
   "cell_type": "code",
   "execution_count": null,
   "outputs": [],
   "source": [
    "# Ridge regression vs. LASSO to estimate sparse x.\n",
    "import numpy as np\n",
    "import scipy.linalg as la\n",
    "import scipy.sparse as sp\n",
    "import cvxpy as cp\n",
    "\n",
    "np.random.seed(1)\n",
    "\n",
    "n = 400\n",
    "m = 200\n",
    "true_x = 100 * sp.rand(n, 1, 0.1).toarray().flatten()\n",
    "A = np.random.randn(m, n)\n",
    "sigma = 1.0\n",
    "v = np.random.normal(0, sigma, m)\n",
    "y = A @ true_x + v\n",
    "\n",
    "\n",
    "x = cp.Variable(n)\n",
    "gamma = None  # set me! Initialize to 1."
   ],
   "metadata": {
    "collapsed": false,
    "pycharm": {
     "name": "#%%\n"
    }
   }
  },
  {
   "cell_type": "code",
   "execution_count": null,
   "outputs": [],
   "source": [
    "ridge_loss = None # set me\n",
    "ridge = cp.Problem(cp.Minimize(ridge_loss))\n",
    "ridge.solve(solver='ECOS')\n",
    "x_ridge = x.value\n",
    "\n",
    "lasso_loss = None # set me\n",
    "lasso = cp.Problem(cp.Minimize(lasso_loss))\n",
    "lasso.solve(solver='ECOS')\n",
    "x_lasso = x.value\n",
    "\n",
    "import matplotlib.pyplot as plt\n",
    "%matplotlib inline\n",
    "plt.semilogy(range(n), np.sort(np.abs(true_x - x_ridge)),  label=\"ridge errors\")\n",
    "plt.semilogy(range(n), np.sort(np.abs(true_x - x_lasso)),  label=\"lasso errors\")\n",
    "plt.legend()\n",
    "plt.show()"
   ],
   "metadata": {
    "collapsed": false,
    "pycharm": {
     "name": "#%%\n"
    }
   }
  },
  {
   "cell_type": "code",
   "execution_count": null,
   "outputs": [],
   "source": [
    "# Managing parallelism for cross-validation.\n",
    "import time\n",
    "import dask\n",
    "\n",
    "def get_x(gamma_val):\n",
    "    # set the regularization parameter\n",
    "    # gamma to gamma_val. Solve the problem\n",
    "    # with the ECOS solver. Return the \n",
    "    # optimal \"x\".\n",
    "    return None\n",
    "\n",
    "num_gamma = 30\n",
    "gamma_values = np.logspace(-4, 2, num_gamma)\n",
    "\n",
    "tic = time.time()\n",
    "xs_loop = [get_x(val) for val in gamma_values]\n",
    "toc = time.time()\n",
    "t_loop = toc - tic\n",
    "\n",
    "tic = time.time()\n",
    "dasklist = [dask.delayed(get_x)(val) for val in gamma_values]\n",
    "xs_dask = dask.compute(*dasklist, scheduler='processes')\n",
    "toc = time.time()\n",
    "t_dask = toc - tic\n"
   ],
   "metadata": {
    "collapsed": false,
    "pycharm": {
     "name": "#%%\n"
    }
   }
  },
  {
   "cell_type": "code",
   "execution_count": null,
   "outputs": [],
   "source": [
    "print(f'Time using a native loop \\n\\t{t_loop}')\n",
    "print(f'Time to solve using Dask parallelism \\n\\t{t_dask}')\n",
    "\n",
    "sol_diffs = [la.norm(xs_loop[i] - xs_dask[i]) for i in range(num_gamma)]\n",
    "print(f'Maximum discrepency between computed solutions \\n\\t{max(sol_diffs)}')\n",
    "\n",
    "sol_errors = [la.norm(xs_loop[i] - true_x) for i in range(num_gamma)]\n",
    "plt.plot(sol_errors)\n",
    "plt.show()"
   ],
   "metadata": {
    "collapsed": false,
    "pycharm": {
     "name": "#%%\n"
    }
   }
  },
  {
   "cell_type": "code",
   "execution_count": null,
   "outputs": [],
   "source": [],
   "metadata": {
    "collapsed": false,
    "pycharm": {
     "name": "#%%\n"
    }
   }
  },
  {
   "cell_type": "code",
   "execution_count": null,
   "metadata": {
    "pycharm": {
     "name": "#%%\n"
    }
   },
   "outputs": [],
   "source": []
  }
 ],
 "metadata": {
  "kernelspec": {
   "display_name": "Python 3 (ipykernel)",
   "language": "python",
   "name": "python3"
  },
  "language_info": {
   "codemirror_mode": {
    "name": "ipython",
    "version": 3
   },
   "file_extension": ".py",
   "mimetype": "text/x-python",
   "name": "python",
   "nbconvert_exporter": "python",
   "pygments_lexer": "ipython3",
   "version": "3.9.13"
  }
 },
 "nbformat": 4,
 "nbformat_minor": 1
}
