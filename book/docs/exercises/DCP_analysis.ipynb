{
 "cells": [
  {
   "cell_type": "markdown",
   "metadata": {
    "pycharm": {
     "name": "#%% md\n"
    }
   },
   "source": [
    "# DCP analysis"
   ]
  },
  {
   "cell_type": "markdown",
   "source": [
    "In this exercise, you will fix optimization problems that break the DCP rules by identifying the DCP error and then rewriting the problem."
   ],
   "metadata": {
    "collapsed": false
   }
  },
  {
   "cell_type": "code",
   "execution_count": null,
   "outputs": [],
   "source": [
    "import cvxpy as cp\n",
    "import numpy as np"
   ],
   "metadata": {
    "collapsed": false,
    "pycharm": {
     "name": "#%%\n"
    }
   }
  },
  {
   "cell_type": "markdown",
   "source": [
    "## Problem 1.\n",
    "\n",
    "$\\min\\{  \\sqrt{x^2 + 1 } : x \\in \\mathbb{R} \\}$"
   ],
   "metadata": {
    "collapsed": false,
    "pycharm": {
     "name": "#%% md\n"
    }
   }
  },
  {
   "cell_type": "code",
   "execution_count": null,
   "metadata": {
    "pycharm": {
     "name": "#%%\n"
    }
   },
   "outputs": [],
   "source": [
    "x = cp.Variable()\n",
    "cost = (x**2 + 1) ** 0.5\n",
    "prob = cp.Problem(cp.Minimize(cost))\n",
    "prob.solve()\n",
    "\n",
    "# TODO explain why the problem isn't DCP and rewrite it to satisfy DCP."
   ]
  },
  {
   "cell_type": "markdown",
   "source": [
    "## Problem 2.\n",
    "\n",
    "$\\min\\{x + 2 \\,:\\, 5 = 2 / x,~~  x > 0 \\}$"
   ],
   "metadata": {
    "collapsed": false,
    "pycharm": {
     "name": "#%% md\n"
    }
   }
  },
  {
   "cell_type": "code",
   "execution_count": null,
   "metadata": {
    "pycharm": {
     "name": "#%%\n"
    }
   },
   "outputs": [],
   "source": [
    "x = cp.Variable()\n",
    "prob = cp.Problem(cp.Minimize(x + 2), [5 == 2 * cp.inv_pos(x)])\n",
    "prob.solve()\n",
    "\n",
    "# TODO explain why the problem isn't DCP and rewrite it to satisfy DCP."
   ]
  },
  {
   "cell_type": "markdown",
   "source": [
    "## Problem 3.\n",
    "$\\min\\{ x + 2 \\,:\\, 5 \\leq 2 / x^2,~~ x \\in \\mathbb{R} \\}$"
   ],
   "metadata": {
    "collapsed": false,
    "pycharm": {
     "name": "#%% md\n"
    }
   }
  },
  {
   "cell_type": "code",
   "execution_count": null,
   "metadata": {
    "pycharm": {
     "name": "#%%\n"
    }
   },
   "outputs": [],
   "source": [
    "x = cp.Variable()\n",
    "prob = cp.Problem(cp.Minimize(x + 2), [5 <= 2 * x**-2])\n",
    "prob.solve()\n",
    "\n",
    "# TODO explain why the problem isn't DCP and rewrite it to satisfy DCP."
   ]
  },
  {
   "cell_type": "markdown",
   "source": [
    "## Problem 4.\n",
    "$\\min\\{ 1/ x \\,:\\, 0 \\leq x^2 / y, ~~ y \\geq 1, ~~ x > 0 \\}$"
   ],
   "metadata": {
    "collapsed": false,
    "pycharm": {
     "name": "#%% md\n"
    }
   }
  },
  {
   "cell_type": "code",
   "execution_count": null,
   "metadata": {
    "pycharm": {
     "name": "#%%\n"
    }
   },
   "outputs": [],
   "source": [
    "x = cp.Variable()\n",
    "y = cp.Variable()\n",
    "prob = cp.Problem(cp.Minimize(cp.pos(x)), [0 <= cp.quad_over_lin(x, y), y >= 1])\n",
    "prob.solve()\n",
    "\n",
    "# TODO explain why the problem isn't DCP and rewrite it to satisfy DCP."
   ]
  },
  {
   "cell_type": "markdown",
   "source": [
    "## Problem 5.\n",
    "$\\min\\{ x + 2 \\,:\\, \\exp(2x) + \\exp(3x) \\leq \\exp(5x)  \\}$"
   ],
   "metadata": {
    "collapsed": false,
    "pycharm": {
     "name": "#%% md\n"
    }
   }
  },
  {
   "cell_type": "code",
   "execution_count": null,
   "metadata": {
    "pycharm": {
     "name": "#%%\n"
    }
   },
   "outputs": [],
   "source": [
    "x = cp.Variable()\n",
    "prob = cp.Problem(cp.Minimize(x + 2), [cp.exp(2 * x) + cp.exp(3 * x) <= cp.exp(5 * x)])\n",
    "prob.solve()\n",
    "\n",
    "# TODO explain why the problem isn't DCP and rewrite it to satisfy DCP."
   ]
  },
  {
   "cell_type": "markdown",
   "source": [
    "## Bonus Problem 1.\n",
    "$\\min\\{ -(\\max\\{x, 4\\} - 3)^2 \\,:\\, x \\geq 1 \\}$"
   ],
   "metadata": {
    "collapsed": false,
    "pycharm": {
     "name": "#%% md\n"
    }
   }
  },
  {
   "cell_type": "code",
   "execution_count": null,
   "metadata": {
    "pycharm": {
     "name": "#%%\n"
    }
   },
   "outputs": [],
   "source": [
    "x = cp.Variable()\n",
    "prob = cp.Problem(cp.Maximize(-((cp.maximum(x, 4) - 3) ** 2)), [x >= 1])\n",
    "prob.solve()\n",
    "\n",
    "# TODO explain why the problem isn't DCP and rewrite it to satisfy DCP."
   ]
  },
  {
   "cell_type": "markdown",
   "source": [
    "## Bonus Problem 2.\n",
    "\n",
    "$\\min\\left\\{ \\sum_{i=1}^m c_i \\frac{x_i}{u_i - x_i} \\,:\\, ~  u > x,~~ x \\in \\mathbb{R}^m \\right\\}$\n",
    "\n",
    "where $c$ and $u$ are nonnegative vectors."
   ],
   "metadata": {
    "collapsed": false,
    "pycharm": {
     "name": "#%% md\n"
    }
   }
  },
  {
   "cell_type": "code",
   "execution_count": null,
   "metadata": {
    "pycharm": {
     "name": "#%%\n"
    }
   },
   "outputs": [],
   "source": [
    "# This is a real problem from the CVXPY forum.\n",
    "\n",
    "m = 10\n",
    "np.random.seed(1)\n",
    "c = np.random.randn(m)\n",
    "c = np.abs(c)  # Important: This is nonnegative.\n",
    "u = np.random.randn(m)\n",
    "u = np.abs(u)  # Important: This is nonnegative.\n",
    "\n",
    "x = cp.Variable(m)\n",
    "cost = sum([c[i] * x[i] * cp.inv_pos(u[i] - x[i]) for i in range(m)])\n",
    "prob = cp.Problem(cp.Minimize(cost))\n",
    "prob.solve()\n",
    "\n",
    "# TODO explain why the problem isn't DCP and rewrite it to satisfy DCP."
   ]
  }
 ],
 "metadata": {
  "kernelspec": {
   "display_name": "Python 3 (ipykernel)",
   "language": "python",
   "name": "python3"
  },
  "language_info": {
   "codemirror_mode": {
    "name": "ipython",
    "version": 3
   },
   "file_extension": ".py",
   "mimetype": "text/x-python",
   "name": "python",
   "nbconvert_exporter": "python",
   "pygments_lexer": "ipython3",
   "version": "3.10.4"
  }
 },
 "nbformat": 4,
 "nbformat_minor": 1
}
