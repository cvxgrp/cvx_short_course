{
 "cells": [
  {
   "cell_type": "markdown",
   "metadata": {
    "pycharm": {
     "name": "#%% md\n"
    }
   },
   "source": [
    "# A toy mixed-norm regression problem"
   ]
  },
  {
   "cell_type": "markdown",
   "source": [
    "Let $f_k(x)$ be the sum of the $k$ largest entries of $|x|$.\n",
    "\n",
    "It turns out that this function is a norm! Special cases:\n",
    " * $f_1(x) = \\|x\\|_{\\infty}$\n",
    " * $f_n(x) = \\|x\\|_1$.\n",
    "\n",
    "Consider the minimum-norm regression problem:\n",
    "\n",
    "$\\qquad \\operatorname{minimize} ~f_k(x) + \\gamma f_n(x) ~\\text{ s.t. }~ A x = y$.\n",
    "\n",
    "For a wide $m \\times n$ matrix $A$, an $m$-vector $y$, and a tuning parameter $\\gamma$.\n",
    "\n",
    "The larger values of $x$ are \"more penalized\" as $\\gamma$ gets smaller."
   ],
   "metadata": {
    "collapsed": false
   }
  },
  {
   "cell_type": "code",
   "execution_count": null,
   "metadata": {
    "pycharm": {
     "name": "#%%\n"
    }
   },
   "outputs": [],
   "source": [
    "import cvxpy as cp\n",
    "import itertools\n",
    "\n",
    "def sum_abs_largest(expr, k):\n",
    "    # implement me!\n",
    "    return None"
   ]
  },
  {
   "cell_type": "code",
   "execution_count": null,
   "metadata": {
    "pycharm": {
     "name": "#%%\n"
    }
   },
   "outputs": [],
   "source": [
    "import numpy as np\n",
    "import scipy.linalg as la\n",
    "import scipy.sparse as sp\n",
    "import time\n",
    "\n",
    "def make_problem_data(n, m, true_k):\n",
    "    np.random.seed(1)\n",
    "    x_ref = np.zeros(n)\n",
    "    idxs = np.random.choice(np.arange(n), true_k, replace=False)\n",
    "    x_ref[idxs] = 10 + 100*np.random.rand(true_k)\n",
    "    A = np.random.randn(m, n)\n",
    "    v = np.random.normal(0, 1.0, m)\n",
    "    v /= (m*la.norm(v))\n",
    "    y = A @ x_ref + v\n",
    "    return A, x_ref, y\n",
    "\n",
    "def make_and_solve(loss, x):\n",
    "    prob = cp.Problem(cp.Minimize(loss), [A @ x == y])\n",
    "    tic = time.time()\n",
    "    prob.solve(solver='ECOS')\n",
    "    toc = time.time()\n",
    "    t = toc - tic\n",
    "    x_est = x.value\n",
    "    return prob, x_est, t"
   ]
  },
  {
   "cell_type": "code",
   "execution_count": null,
   "metadata": {
    "pycharm": {
     "name": "#%%\n"
    }
   },
   "outputs": [],
   "source": [
    "n, m, true_k = 14, 7, 4\n",
    "A, x_ref, y = make_problem_data(n, m, true_k)\n",
    "x = cp.Variable(n)\n",
    "gamma = cp.Parameter(pos=True)\n",
    "gamma.value = 1e-3\n",
    "k = 3"
   ]
  },
  {
   "cell_type": "code",
   "execution_count": null,
   "metadata": {
    "pycharm": {
     "name": "#%%\n"
    }
   },
   "outputs": [],
   "source": [
    "loss1 = sum_abs_largest(x, k) + gamma * cp.norm(x, 1)\n",
    "prob1, x1, t1 = make_and_solve(loss1, x)\n",
    "print(f'Solve time (home brewed)\\n\\t{t1}')\n",
    "\n",
    "loss2 = cp.sum_largest(cp.abs(x), k) + gamma * cp.norm(x, 1)\n",
    "prob2, x2, t2 = make_and_solve(loss2, x)\n",
    "print(f'Solve time (cvxpy atom)\\n\\t{t2}')\n",
    "\n",
    "disc = la.norm(x1 - x2) / min(la.norm(x1), la.norm(x2))\n",
    "print(f'Discrepency between two solutions\\n\\t{disc}')"
   ]
  },
  {
   "cell_type": "code",
   "execution_count": null,
   "metadata": {
    "pycharm": {
     "name": "#%%\n"
    }
   },
   "outputs": [],
   "source": [
    "import matplotlib.pyplot as plt\n",
    "%matplotlib inline\n",
    "\n",
    "A1 = prob1.get_problem_data(solver='SCS')[0]['A']\n",
    "plt.spy(A1, aspect='auto')\n",
    "plt.show()\n",
    "\n",
    "A2 = prob2.get_problem_data(solver='SCS')[0]['A']\n",
    "plt.spy(A2, aspect='auto')\n",
    "plt.show()"
   ]
  }
 ],
 "metadata": {
  "kernelspec": {
   "display_name": "Python 3 (ipykernel)",
   "language": "python",
   "name": "python3"
  },
  "language_info": {
   "codemirror_mode": {
    "name": "ipython",
    "version": 3
   },
   "file_extension": ".py",
   "mimetype": "text/x-python",
   "name": "python",
   "nbconvert_exporter": "python",
   "pygments_lexer": "ipython3",
   "version": "3.9.13"
  }
 },
 "nbformat": 4,
 "nbformat_minor": 1
}
