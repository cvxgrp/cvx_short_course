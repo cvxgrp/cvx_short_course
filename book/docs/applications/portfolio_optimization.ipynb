{
 "cells": [
  {
   "cell_type": "markdown",
   "metadata": {
    "pycharm": {
     "name": "#%% md\n"
    }
   },
   "source": [
    "# Portfolio optimization "
   ]
  },
  {
   "cell_type": "markdown",
   "metadata": {
    "pycharm": {
     "name": "#%% md\n"
    }
   },
   "source": [
    "### Portfolio allocation vector\n",
    "\n",
    "In this example we show how to do portfolio optimization using CVXPY.\n",
    "We begin with the basic definitions.\n",
    "In portfolio optimization we have some amount of money to invest in any of $n$ different assets. \n",
    "We choose what fraction $w_i$ of our money to invest in each asset $i$, $i=1, \\ldots, n$.\n",
    "\n",
    "We call $w\\in {\\bf R}^n$ the *portfolio allocation vector*.\n",
    "We of course have the constraint that ${\\mathbf 1}^T w =1$.\n",
    "The allocation $w_i<0$ means a *short position* in asset $i$, or that we borrow shares to sell now that we must replace later.\n",
    "The allocation $w \\geq 0$ is a *long only* portfolio.\n",
    "The quantity\n",
    "$$ \\|w \\|_1 = {\\mathbf 1}^T w_+ + {\\mathbf 1}^T w_- $$\n",
    "is known as *leverage*."
   ]
  },
  {
   "cell_type": "markdown",
   "metadata": {
    "pycharm": {
     "name": "#%% md\n"
    }
   },
   "source": [
    "### Asset returns\n",
    "\n",
    "We will only model investments held for one period. The initial prices are $p_i > 0$. The end of period prices are $p_i^+ >0$. The asset (fractional) returns are $r_i = (p_i^+-p_i)/p_i$. The porfolio (fractional) return is $R = r^Tw$.\n",
    "\n",
    "A common model is that $r$ is a random variable with mean ${\\bf E}r = \\mu$ and covariance ${\\bf E{(r-\\mu)(r-\\mu)^T}} = \\Sigma$.\n",
    "It follows that $R$ is a random variable with ${\\bf E}R = \\mu^T w$ and ${\\bf var}(R) = w^T\\Sigma w$.\n",
    "${\\bf E}R$ is the (mean) *return* of the portfolio. ${\\bf var}(R)$ is the *risk* of the portfolio.\n",
    "(Risk is also sometimes given as ${\\bf std}(R) = \\sqrt{{\\bf var}(R)}$.)\n",
    "\n",
    "Portfolio optimization has two competing objectives: high return and low risk."
   ]
  },
  {
   "cell_type": "markdown",
   "metadata": {
    "pycharm": {
     "name": "#%% md\n"
    }
   },
   "source": [
    "### Classical (Markowitz) portfolio optimization\n",
    "\n",
    "Classical (Markowitz) portfolio optimization solves the optimization problem\n",
    "\n",
    "\\begin{array}{ll} \\mbox{maximize} & \\mu^T w - \\gamma w^T\\Sigma w\\\\\n",
    "\\mbox{subject to} & {\\bf 1}^T w = 1, \\quad w \\in {\\cal W},\n",
    "\\end{array}\n",
    "\n",
    "where $w \\in {\\bf R}^n$ is the optimization variable, $\\cal W$ is a set of allowed portfolios (e.g., ${\\cal W} = {\\bf R}_+^n$ for a long only portfolio), and $\\gamma >0$ is the *risk aversion parameter*.\n",
    "\n",
    "The objective $\\mu^Tw - \\gamma w^T\\Sigma w$ is the *risk-adjusted return*. Varying $\\gamma$ gives the optimal *risk-return trade-off*. \n",
    "We can get the same risk-return trade-off by fixing return and minimizing risk."
   ]
  },
  {
   "cell_type": "markdown",
   "metadata": {
    "pycharm": {
     "name": "#%% md\n"
    }
   },
   "source": [
    "### Example\n",
    "\n",
    "In the following code we compute and plot the optimal risk-return trade-off for $10$ assets, restricting ourselves to a long only portfolio."
   ]
  },
  {
   "cell_type": "code",
   "execution_count": 38,
   "outputs": [],
   "source": [
    "# Generate data for long only portfolio optimization.\n",
    "import numpy as np\n",
    "import scipy.sparse as sp\n",
    "\n",
    "np.random.seed(1)\n",
    "n = 10\n",
    "mu = np.abs(np.random.randn(n, 1))\n",
    "Sigma = np.random.randn(n, n)\n",
    "Sigma = Sigma.T.dot(Sigma)"
   ],
   "metadata": {
    "collapsed": false,
    "pycharm": {
     "name": "#%%\n"
    }
   }
  },
  {
   "cell_type": "code",
   "execution_count": 39,
   "outputs": [],
   "source": [
    "# Long only portfolio optimization.\n",
    "import cvxpy as cp\n",
    "\n",
    "\n",
    "w = cp.Variable(n)\n",
    "gamma = cp.Parameter(nonneg=True)\n",
    "ret = mu.T @ w\n",
    "risk = cp.quad_form(w, Sigma)\n",
    "prob = cp.Problem(cp.Maximize(ret - gamma * risk), [cp.sum(w) == 1, w >= 0])"
   ],
   "metadata": {
    "collapsed": false,
    "pycharm": {
     "name": "#%%\n"
    }
   }
  },
  {
   "cell_type": "code",
   "execution_count": 40,
   "outputs": [],
   "source": [
    "# Compute trade-off curve.\n",
    "SAMPLES = 100\n",
    "risk_data = np.zeros(SAMPLES)\n",
    "ret_data = np.zeros(SAMPLES)\n",
    "gamma_vals = np.logspace(-2, 3, num=SAMPLES)\n",
    "for i in range(SAMPLES):\n",
    "    gamma.value = gamma_vals[i]\n",
    "    prob.solve()\n",
    "    risk_data[i] = cp.sqrt(risk).value\n",
    "    ret_data[i] = ret.value"
   ],
   "metadata": {
    "collapsed": false,
    "pycharm": {
     "name": "#%%\n"
    }
   }
  },
  {
   "cell_type": "code",
   "execution_count": 41,
   "outputs": [
    {
     "data": {
      "text/plain": "<Figure size 640x480 with 1 Axes>",
      "image/svg+xml": "<?xml version=\"1.0\" encoding=\"utf-8\" standalone=\"no\"?>\n<!DOCTYPE svg PUBLIC \"-//W3C//DTD SVG 1.1//EN\"\n  \"http://www.w3.org/Graphics/SVG/1.1/DTD/svg11.dtd\">\n<svg xmlns:xlink=\"http://www.w3.org/1999/xlink\" width=\"408.10125pt\" height=\"310.86825pt\" viewBox=\"0 0 408.10125 310.86825\" xmlns=\"http://www.w3.org/2000/svg\" version=\"1.1\">\n <metadata>\n  <rdf:RDF xmlns:dc=\"http://purl.org/dc/elements/1.1/\" xmlns:cc=\"http://creativecommons.org/ns#\" xmlns:rdf=\"http://www.w3.org/1999/02/22-rdf-syntax-ns#\">\n   <cc:Work>\n    <dc:type rdf:resource=\"http://purl.org/dc/dcmitype/StillImage\"/>\n    <dc:date>2022-09-03T12:09:03.651975</dc:date>\n    <dc:format>image/svg+xml</dc:format>\n    <dc:creator>\n     <cc:Agent>\n      <dc:title>Matplotlib v3.5.3, https://matplotlib.org/</dc:title>\n     </cc:Agent>\n    </dc:creator>\n   </cc:Work>\n  </rdf:RDF>\n </metadata>\n <defs>\n  <style type=\"text/css\">*{stroke-linejoin: round; stroke-linecap: butt}</style>\n </defs>\n <g id=\"figure_1\">\n  <g id=\"patch_1\">\n   <path d=\"M 0 310.86825 \nL 408.10125 310.86825 \nL 408.10125 0 \nL 0 0 \nz\n\" style=\"fill: #ffffff\"/>\n  </g>\n  <g id=\"axes_1\">\n   <g id=\"patch_2\">\n    <path d=\"M 43.78125 273.312 \nL 400.90125 273.312 \nL 400.90125 7.2 \nL 43.78125 7.2 \nz\n\" style=\"fill: #ffffff\"/>\n   </g>\n   <g id=\"matplotlib.axis_1\">\n    <g id=\"xtick_1\">\n     <g id=\"line2d_1\">\n      <defs>\n       <path id=\"m28792cb9bc\" d=\"M 0 0 \nL 0 3.5 \n\" style=\"stroke: #000000; stroke-width: 0.8\"/>\n      </defs>\n      <g>\n       <use xlink:href=\"#m28792cb9bc\" x=\"75.422156\" y=\"273.312\" style=\"stroke: #000000; stroke-width: 0.8\"/>\n      </g>\n     </g>\n     <g id=\"text_1\">\n      <!-- 0.5 -->\n      <g transform=\"translate(67.470594 287.910437)scale(0.1 -0.1)\">\n       <defs>\n        <path id=\"DejaVuSans-30\" d=\"M 2034 4250 \nQ 1547 4250 1301 3770 \nQ 1056 3291 1056 2328 \nQ 1056 1369 1301 889 \nQ 1547 409 2034 409 \nQ 2525 409 2770 889 \nQ 3016 1369 3016 2328 \nQ 3016 3291 2770 3770 \nQ 2525 4250 2034 4250 \nz\nM 2034 4750 \nQ 2819 4750 3233 4129 \nQ 3647 3509 3647 2328 \nQ 3647 1150 3233 529 \nQ 2819 -91 2034 -91 \nQ 1250 -91 836 529 \nQ 422 1150 422 2328 \nQ 422 3509 836 4129 \nQ 1250 4750 2034 4750 \nz\n\" transform=\"scale(0.015625)\"/>\n        <path id=\"DejaVuSans-2e\" d=\"M 684 794 \nL 1344 794 \nL 1344 0 \nL 684 0 \nL 684 794 \nz\n\" transform=\"scale(0.015625)\"/>\n        <path id=\"DejaVuSans-35\" d=\"M 691 4666 \nL 3169 4666 \nL 3169 4134 \nL 1269 4134 \nL 1269 2991 \nQ 1406 3038 1543 3061 \nQ 1681 3084 1819 3084 \nQ 2600 3084 3056 2656 \nQ 3513 2228 3513 1497 \nQ 3513 744 3044 326 \nQ 2575 -91 1722 -91 \nQ 1428 -91 1123 -41 \nQ 819 9 494 109 \nL 494 744 \nQ 775 591 1075 516 \nQ 1375 441 1709 441 \nQ 2250 441 2565 725 \nQ 2881 1009 2881 1497 \nQ 2881 1984 2565 2268 \nQ 2250 2553 1709 2553 \nQ 1456 2553 1204 2497 \nQ 953 2441 691 2322 \nL 691 4666 \nz\n\" transform=\"scale(0.015625)\"/>\n       </defs>\n       <use xlink:href=\"#DejaVuSans-30\"/>\n       <use xlink:href=\"#DejaVuSans-2e\" x=\"63.623047\"/>\n       <use xlink:href=\"#DejaVuSans-35\" x=\"95.410156\"/>\n      </g>\n     </g>\n    </g>\n    <g id=\"xtick_2\">\n     <g id=\"line2d_2\">\n      <g>\n       <use xlink:href=\"#m28792cb9bc\" x=\"130.234755\" y=\"273.312\" style=\"stroke: #000000; stroke-width: 0.8\"/>\n      </g>\n     </g>\n     <g id=\"text_2\">\n      <!-- 1.0 -->\n      <g transform=\"translate(122.283192 287.910437)scale(0.1 -0.1)\">\n       <defs>\n        <path id=\"DejaVuSans-31\" d=\"M 794 531 \nL 1825 531 \nL 1825 4091 \nL 703 3866 \nL 703 4441 \nL 1819 4666 \nL 2450 4666 \nL 2450 531 \nL 3481 531 \nL 3481 0 \nL 794 0 \nL 794 531 \nz\n\" transform=\"scale(0.015625)\"/>\n       </defs>\n       <use xlink:href=\"#DejaVuSans-31\"/>\n       <use xlink:href=\"#DejaVuSans-2e\" x=\"63.623047\"/>\n       <use xlink:href=\"#DejaVuSans-30\" x=\"95.410156\"/>\n      </g>\n     </g>\n    </g>\n    <g id=\"xtick_3\">\n     <g id=\"line2d_3\">\n      <g>\n       <use xlink:href=\"#m28792cb9bc\" x=\"185.047354\" y=\"273.312\" style=\"stroke: #000000; stroke-width: 0.8\"/>\n      </g>\n     </g>\n     <g id=\"text_3\">\n      <!-- 1.5 -->\n      <g transform=\"translate(177.095791 287.910437)scale(0.1 -0.1)\">\n       <use xlink:href=\"#DejaVuSans-31\"/>\n       <use xlink:href=\"#DejaVuSans-2e\" x=\"63.623047\"/>\n       <use xlink:href=\"#DejaVuSans-35\" x=\"95.410156\"/>\n      </g>\n     </g>\n    </g>\n    <g id=\"xtick_4\">\n     <g id=\"line2d_4\">\n      <g>\n       <use xlink:href=\"#m28792cb9bc\" x=\"239.859952\" y=\"273.312\" style=\"stroke: #000000; stroke-width: 0.8\"/>\n      </g>\n     </g>\n     <g id=\"text_4\">\n      <!-- 2.0 -->\n      <g transform=\"translate(231.90839 287.910437)scale(0.1 -0.1)\">\n       <defs>\n        <path id=\"DejaVuSans-32\" d=\"M 1228 531 \nL 3431 531 \nL 3431 0 \nL 469 0 \nL 469 531 \nQ 828 903 1448 1529 \nQ 2069 2156 2228 2338 \nQ 2531 2678 2651 2914 \nQ 2772 3150 2772 3378 \nQ 2772 3750 2511 3984 \nQ 2250 4219 1831 4219 \nQ 1534 4219 1204 4116 \nQ 875 4013 500 3803 \nL 500 4441 \nQ 881 4594 1212 4672 \nQ 1544 4750 1819 4750 \nQ 2544 4750 2975 4387 \nQ 3406 4025 3406 3419 \nQ 3406 3131 3298 2873 \nQ 3191 2616 2906 2266 \nQ 2828 2175 2409 1742 \nQ 1991 1309 1228 531 \nz\n\" transform=\"scale(0.015625)\"/>\n       </defs>\n       <use xlink:href=\"#DejaVuSans-32\"/>\n       <use xlink:href=\"#DejaVuSans-2e\" x=\"63.623047\"/>\n       <use xlink:href=\"#DejaVuSans-30\" x=\"95.410156\"/>\n      </g>\n     </g>\n    </g>\n    <g id=\"xtick_5\">\n     <g id=\"line2d_5\">\n      <g>\n       <use xlink:href=\"#m28792cb9bc\" x=\"294.672551\" y=\"273.312\" style=\"stroke: #000000; stroke-width: 0.8\"/>\n      </g>\n     </g>\n     <g id=\"text_5\">\n      <!-- 2.5 -->\n      <g transform=\"translate(286.720988 287.910437)scale(0.1 -0.1)\">\n       <use xlink:href=\"#DejaVuSans-32\"/>\n       <use xlink:href=\"#DejaVuSans-2e\" x=\"63.623047\"/>\n       <use xlink:href=\"#DejaVuSans-35\" x=\"95.410156\"/>\n      </g>\n     </g>\n    </g>\n    <g id=\"xtick_6\">\n     <g id=\"line2d_6\">\n      <g>\n       <use xlink:href=\"#m28792cb9bc\" x=\"349.48515\" y=\"273.312\" style=\"stroke: #000000; stroke-width: 0.8\"/>\n      </g>\n     </g>\n     <g id=\"text_6\">\n      <!-- 3.0 -->\n      <g transform=\"translate(341.533587 287.910437)scale(0.1 -0.1)\">\n       <defs>\n        <path id=\"DejaVuSans-33\" d=\"M 2597 2516 \nQ 3050 2419 3304 2112 \nQ 3559 1806 3559 1356 \nQ 3559 666 3084 287 \nQ 2609 -91 1734 -91 \nQ 1441 -91 1130 -33 \nQ 819 25 488 141 \nL 488 750 \nQ 750 597 1062 519 \nQ 1375 441 1716 441 \nQ 2309 441 2620 675 \nQ 2931 909 2931 1356 \nQ 2931 1769 2642 2001 \nQ 2353 2234 1838 2234 \nL 1294 2234 \nL 1294 2753 \nL 1863 2753 \nQ 2328 2753 2575 2939 \nQ 2822 3125 2822 3475 \nQ 2822 3834 2567 4026 \nQ 2313 4219 1838 4219 \nQ 1578 4219 1281 4162 \nQ 984 4106 628 3988 \nL 628 4550 \nQ 988 4650 1302 4700 \nQ 1616 4750 1894 4750 \nQ 2613 4750 3031 4423 \nQ 3450 4097 3450 3541 \nQ 3450 3153 3228 2886 \nQ 3006 2619 2597 2516 \nz\n\" transform=\"scale(0.015625)\"/>\n       </defs>\n       <use xlink:href=\"#DejaVuSans-33\"/>\n       <use xlink:href=\"#DejaVuSans-2e\" x=\"63.623047\"/>\n       <use xlink:href=\"#DejaVuSans-30\" x=\"95.410156\"/>\n      </g>\n     </g>\n    </g>\n    <g id=\"text_7\">\n     <!-- Standard deviation -->\n     <g transform=\"translate(174.763906 301.588562)scale(0.1 -0.1)\">\n      <defs>\n       <path id=\"DejaVuSans-53\" d=\"M 3425 4513 \nL 3425 3897 \nQ 3066 4069 2747 4153 \nQ 2428 4238 2131 4238 \nQ 1616 4238 1336 4038 \nQ 1056 3838 1056 3469 \nQ 1056 3159 1242 3001 \nQ 1428 2844 1947 2747 \nL 2328 2669 \nQ 3034 2534 3370 2195 \nQ 3706 1856 3706 1288 \nQ 3706 609 3251 259 \nQ 2797 -91 1919 -91 \nQ 1588 -91 1214 -16 \nQ 841 59 441 206 \nL 441 856 \nQ 825 641 1194 531 \nQ 1563 422 1919 422 \nQ 2459 422 2753 634 \nQ 3047 847 3047 1241 \nQ 3047 1584 2836 1778 \nQ 2625 1972 2144 2069 \nL 1759 2144 \nQ 1053 2284 737 2584 \nQ 422 2884 422 3419 \nQ 422 4038 858 4394 \nQ 1294 4750 2059 4750 \nQ 2388 4750 2728 4690 \nQ 3069 4631 3425 4513 \nz\n\" transform=\"scale(0.015625)\"/>\n       <path id=\"DejaVuSans-74\" d=\"M 1172 4494 \nL 1172 3500 \nL 2356 3500 \nL 2356 3053 \nL 1172 3053 \nL 1172 1153 \nQ 1172 725 1289 603 \nQ 1406 481 1766 481 \nL 2356 481 \nL 2356 0 \nL 1766 0 \nQ 1100 0 847 248 \nQ 594 497 594 1153 \nL 594 3053 \nL 172 3053 \nL 172 3500 \nL 594 3500 \nL 594 4494 \nL 1172 4494 \nz\n\" transform=\"scale(0.015625)\"/>\n       <path id=\"DejaVuSans-61\" d=\"M 2194 1759 \nQ 1497 1759 1228 1600 \nQ 959 1441 959 1056 \nQ 959 750 1161 570 \nQ 1363 391 1709 391 \nQ 2188 391 2477 730 \nQ 2766 1069 2766 1631 \nL 2766 1759 \nL 2194 1759 \nz\nM 3341 1997 \nL 3341 0 \nL 2766 0 \nL 2766 531 \nQ 2569 213 2275 61 \nQ 1981 -91 1556 -91 \nQ 1019 -91 701 211 \nQ 384 513 384 1019 \nQ 384 1609 779 1909 \nQ 1175 2209 1959 2209 \nL 2766 2209 \nL 2766 2266 \nQ 2766 2663 2505 2880 \nQ 2244 3097 1772 3097 \nQ 1472 3097 1187 3025 \nQ 903 2953 641 2809 \nL 641 3341 \nQ 956 3463 1253 3523 \nQ 1550 3584 1831 3584 \nQ 2591 3584 2966 3190 \nQ 3341 2797 3341 1997 \nz\n\" transform=\"scale(0.015625)\"/>\n       <path id=\"DejaVuSans-6e\" d=\"M 3513 2113 \nL 3513 0 \nL 2938 0 \nL 2938 2094 \nQ 2938 2591 2744 2837 \nQ 2550 3084 2163 3084 \nQ 1697 3084 1428 2787 \nQ 1159 2491 1159 1978 \nL 1159 0 \nL 581 0 \nL 581 3500 \nL 1159 3500 \nL 1159 2956 \nQ 1366 3272 1645 3428 \nQ 1925 3584 2291 3584 \nQ 2894 3584 3203 3211 \nQ 3513 2838 3513 2113 \nz\n\" transform=\"scale(0.015625)\"/>\n       <path id=\"DejaVuSans-64\" d=\"M 2906 2969 \nL 2906 4863 \nL 3481 4863 \nL 3481 0 \nL 2906 0 \nL 2906 525 \nQ 2725 213 2448 61 \nQ 2172 -91 1784 -91 \nQ 1150 -91 751 415 \nQ 353 922 353 1747 \nQ 353 2572 751 3078 \nQ 1150 3584 1784 3584 \nQ 2172 3584 2448 3432 \nQ 2725 3281 2906 2969 \nz\nM 947 1747 \nQ 947 1113 1208 752 \nQ 1469 391 1925 391 \nQ 2381 391 2643 752 \nQ 2906 1113 2906 1747 \nQ 2906 2381 2643 2742 \nQ 2381 3103 1925 3103 \nQ 1469 3103 1208 2742 \nQ 947 2381 947 1747 \nz\n\" transform=\"scale(0.015625)\"/>\n       <path id=\"DejaVuSans-72\" d=\"M 2631 2963 \nQ 2534 3019 2420 3045 \nQ 2306 3072 2169 3072 \nQ 1681 3072 1420 2755 \nQ 1159 2438 1159 1844 \nL 1159 0 \nL 581 0 \nL 581 3500 \nL 1159 3500 \nL 1159 2956 \nQ 1341 3275 1631 3429 \nQ 1922 3584 2338 3584 \nQ 2397 3584 2469 3576 \nQ 2541 3569 2628 3553 \nL 2631 2963 \nz\n\" transform=\"scale(0.015625)\"/>\n       <path id=\"DejaVuSans-20\" transform=\"scale(0.015625)\"/>\n       <path id=\"DejaVuSans-65\" d=\"M 3597 1894 \nL 3597 1613 \nL 953 1613 \nQ 991 1019 1311 708 \nQ 1631 397 2203 397 \nQ 2534 397 2845 478 \nQ 3156 559 3463 722 \nL 3463 178 \nQ 3153 47 2828 -22 \nQ 2503 -91 2169 -91 \nQ 1331 -91 842 396 \nQ 353 884 353 1716 \nQ 353 2575 817 3079 \nQ 1281 3584 2069 3584 \nQ 2775 3584 3186 3129 \nQ 3597 2675 3597 1894 \nz\nM 3022 2063 \nQ 3016 2534 2758 2815 \nQ 2500 3097 2075 3097 \nQ 1594 3097 1305 2825 \nQ 1016 2553 972 2059 \nL 3022 2063 \nz\n\" transform=\"scale(0.015625)\"/>\n       <path id=\"DejaVuSans-76\" d=\"M 191 3500 \nL 800 3500 \nL 1894 563 \nL 2988 3500 \nL 3597 3500 \nL 2284 0 \nL 1503 0 \nL 191 3500 \nz\n\" transform=\"scale(0.015625)\"/>\n       <path id=\"DejaVuSans-69\" d=\"M 603 3500 \nL 1178 3500 \nL 1178 0 \nL 603 0 \nL 603 3500 \nz\nM 603 4863 \nL 1178 4863 \nL 1178 4134 \nL 603 4134 \nL 603 4863 \nz\n\" transform=\"scale(0.015625)\"/>\n       <path id=\"DejaVuSans-6f\" d=\"M 1959 3097 \nQ 1497 3097 1228 2736 \nQ 959 2375 959 1747 \nQ 959 1119 1226 758 \nQ 1494 397 1959 397 \nQ 2419 397 2687 759 \nQ 2956 1122 2956 1747 \nQ 2956 2369 2687 2733 \nQ 2419 3097 1959 3097 \nz\nM 1959 3584 \nQ 2709 3584 3137 3096 \nQ 3566 2609 3566 1747 \nQ 3566 888 3137 398 \nQ 2709 -91 1959 -91 \nQ 1206 -91 779 398 \nQ 353 888 353 1747 \nQ 353 2609 779 3096 \nQ 1206 3584 1959 3584 \nz\n\" transform=\"scale(0.015625)\"/>\n      </defs>\n      <use xlink:href=\"#DejaVuSans-53\"/>\n      <use xlink:href=\"#DejaVuSans-74\" x=\"63.476562\"/>\n      <use xlink:href=\"#DejaVuSans-61\" x=\"102.685547\"/>\n      <use xlink:href=\"#DejaVuSans-6e\" x=\"163.964844\"/>\n      <use xlink:href=\"#DejaVuSans-64\" x=\"227.34375\"/>\n      <use xlink:href=\"#DejaVuSans-61\" x=\"290.820312\"/>\n      <use xlink:href=\"#DejaVuSans-72\" x=\"352.099609\"/>\n      <use xlink:href=\"#DejaVuSans-64\" x=\"391.462891\"/>\n      <use xlink:href=\"#DejaVuSans-20\" x=\"454.939453\"/>\n      <use xlink:href=\"#DejaVuSans-64\" x=\"486.726562\"/>\n      <use xlink:href=\"#DejaVuSans-65\" x=\"550.203125\"/>\n      <use xlink:href=\"#DejaVuSans-76\" x=\"611.726562\"/>\n      <use xlink:href=\"#DejaVuSans-69\" x=\"670.90625\"/>\n      <use xlink:href=\"#DejaVuSans-61\" x=\"698.689453\"/>\n      <use xlink:href=\"#DejaVuSans-74\" x=\"759.96875\"/>\n      <use xlink:href=\"#DejaVuSans-69\" x=\"799.177734\"/>\n      <use xlink:href=\"#DejaVuSans-6f\" x=\"826.960938\"/>\n      <use xlink:href=\"#DejaVuSans-6e\" x=\"888.142578\"/>\n     </g>\n    </g>\n   </g>\n   <g id=\"matplotlib.axis_2\">\n    <g id=\"ytick_1\">\n     <g id=\"line2d_7\">\n      <defs>\n       <path id=\"mebeb18cc32\" d=\"M 0 0 \nL -3.5 0 \n\" style=\"stroke: #000000; stroke-width: 0.8\"/>\n      </defs>\n      <g>\n       <use xlink:href=\"#mebeb18cc32\" x=\"43.78125\" y=\"231.67051\" style=\"stroke: #000000; stroke-width: 0.8\"/>\n      </g>\n     </g>\n     <g id=\"text_8\">\n      <!-- 0.5 -->\n      <g transform=\"translate(20.878125 235.469729)scale(0.1 -0.1)\">\n       <use xlink:href=\"#DejaVuSans-30\"/>\n       <use xlink:href=\"#DejaVuSans-2e\" x=\"63.623047\"/>\n       <use xlink:href=\"#DejaVuSans-35\" x=\"95.410156\"/>\n      </g>\n     </g>\n    </g>\n    <g id=\"ytick_2\">\n     <g id=\"line2d_8\">\n      <g>\n       <use xlink:href=\"#mebeb18cc32\" x=\"43.78125\" y=\"172.727976\" style=\"stroke: #000000; stroke-width: 0.8\"/>\n      </g>\n     </g>\n     <g id=\"text_9\">\n      <!-- 1.0 -->\n      <g transform=\"translate(20.878125 176.527195)scale(0.1 -0.1)\">\n       <use xlink:href=\"#DejaVuSans-31\"/>\n       <use xlink:href=\"#DejaVuSans-2e\" x=\"63.623047\"/>\n       <use xlink:href=\"#DejaVuSans-30\" x=\"95.410156\"/>\n      </g>\n     </g>\n    </g>\n    <g id=\"ytick_3\">\n     <g id=\"line2d_9\">\n      <g>\n       <use xlink:href=\"#mebeb18cc32\" x=\"43.78125\" y=\"113.785443\" style=\"stroke: #000000; stroke-width: 0.8\"/>\n      </g>\n     </g>\n     <g id=\"text_10\">\n      <!-- 1.5 -->\n      <g transform=\"translate(20.878125 117.584662)scale(0.1 -0.1)\">\n       <use xlink:href=\"#DejaVuSans-31\"/>\n       <use xlink:href=\"#DejaVuSans-2e\" x=\"63.623047\"/>\n       <use xlink:href=\"#DejaVuSans-35\" x=\"95.410156\"/>\n      </g>\n     </g>\n    </g>\n    <g id=\"ytick_4\">\n     <g id=\"line2d_10\">\n      <g>\n       <use xlink:href=\"#mebeb18cc32\" x=\"43.78125\" y=\"54.842909\" style=\"stroke: #000000; stroke-width: 0.8\"/>\n      </g>\n     </g>\n     <g id=\"text_11\">\n      <!-- 2.0 -->\n      <g transform=\"translate(20.878125 58.642128)scale(0.1 -0.1)\">\n       <use xlink:href=\"#DejaVuSans-32\"/>\n       <use xlink:href=\"#DejaVuSans-2e\" x=\"63.623047\"/>\n       <use xlink:href=\"#DejaVuSans-30\" x=\"95.410156\"/>\n      </g>\n     </g>\n    </g>\n    <g id=\"text_12\">\n     <!-- Return -->\n     <g transform=\"translate(14.798438 156.847406)rotate(-90)scale(0.1 -0.1)\">\n      <defs>\n       <path id=\"DejaVuSans-52\" d=\"M 2841 2188 \nQ 3044 2119 3236 1894 \nQ 3428 1669 3622 1275 \nL 4263 0 \nL 3584 0 \nL 2988 1197 \nQ 2756 1666 2539 1819 \nQ 2322 1972 1947 1972 \nL 1259 1972 \nL 1259 0 \nL 628 0 \nL 628 4666 \nL 2053 4666 \nQ 2853 4666 3247 4331 \nQ 3641 3997 3641 3322 \nQ 3641 2881 3436 2590 \nQ 3231 2300 2841 2188 \nz\nM 1259 4147 \nL 1259 2491 \nL 2053 2491 \nQ 2509 2491 2742 2702 \nQ 2975 2913 2975 3322 \nQ 2975 3731 2742 3939 \nQ 2509 4147 2053 4147 \nL 1259 4147 \nz\n\" transform=\"scale(0.015625)\"/>\n       <path id=\"DejaVuSans-75\" d=\"M 544 1381 \nL 544 3500 \nL 1119 3500 \nL 1119 1403 \nQ 1119 906 1312 657 \nQ 1506 409 1894 409 \nQ 2359 409 2629 706 \nQ 2900 1003 2900 1516 \nL 2900 3500 \nL 3475 3500 \nL 3475 0 \nL 2900 0 \nL 2900 538 \nQ 2691 219 2414 64 \nQ 2138 -91 1772 -91 \nQ 1169 -91 856 284 \nQ 544 659 544 1381 \nz\nM 1991 3584 \nL 1991 3584 \nz\n\" transform=\"scale(0.015625)\"/>\n      </defs>\n      <use xlink:href=\"#DejaVuSans-52\"/>\n      <use xlink:href=\"#DejaVuSans-65\" x=\"64.982422\"/>\n      <use xlink:href=\"#DejaVuSans-74\" x=\"126.505859\"/>\n      <use xlink:href=\"#DejaVuSans-75\" x=\"165.714844\"/>\n      <use xlink:href=\"#DejaVuSans-72\" x=\"229.09375\"/>\n      <use xlink:href=\"#DejaVuSans-6e\" x=\"268.457031\"/>\n     </g>\n    </g>\n   </g>\n   <g id=\"line2d_11\">\n    <path d=\"M 301.625342 19.296 \nL 301.625342 19.296 \nL 301.625342 19.296 \nL 301.625342 19.296 \nL 301.625342 19.296 \nL 301.625342 19.296 \nL 301.625342 19.296 \nL 301.625342 19.296 \nL 301.625342 19.296 \nL 301.625342 19.296 \nL 301.625342 19.296 \nL 301.625342 19.296 \nL 301.625342 19.296 \nL 301.625342 19.296 \nL 301.625342 19.296 \nL 288.843079 23.045855 \nL 275.845204 27.086922 \nL 265.054219 30.68434 \nL 256.151678 33.886816 \nL 242.325669 39.259313 \nL 227.650596 45.209689 \nL 213.348853 51.300876 \nL 197.852038 58.168647 \nL 182.889245 64.978672 \nL 169.970615 71.041059 \nL 158.87818 76.437887 \nL 149.410895 81.242225 \nL 141.382274 85.519119 \nL 134.618868 89.326475 \nL 128.959539 92.71584 \nL 124.255371 95.733104 \nL 120.369971 98.419118 \nL 117.179891 100.810249 \nL 114.173128 103.279528 \nL 108.984751 107.827107 \nL 103.90432 112.551345 \nL 99.562541 116.833673 \nL 95.944237 120.645865 \nL 92.904656 124.090977 \nL 87.464207 130.614254 \nL 82.815708 136.421374 \nL 78.86901 141.59096 \nL 75.540284 146.193004 \nL 72.75161 150.289812 \nL 70.430892 153.936853 \nL 68.511974 157.183504 \nL 66.934843 160.073721 \nL 65.645783 162.646636 \nL 64.597403 164.937084 \nL 63.748487 166.976075 \nL 63.063681 168.791216 \nL 62.513036 170.407082 \nL 62.071466 171.84555 \nL 61.536235 173.790989 \nL 61.054521 175.723789 \nL 60.696939 177.312256 \nL 60.556168 178.013263 \nL 60.444256 178.637311 \nL 60.355344 179.192848 \nL 60.284741 179.687395 \nL 60.2287 180.127648 \nL 60.184232 180.519568 \nL 60.148956 180.868462 \nL 60.120979 181.179052 \nL 60.098793 181.455544 \nL 60.081202 181.701681 \nL 60.067256 181.920796 \nL 60.0562 182.115856 \nL 60.047437 182.2895 \nL 60.040491 182.444082 \nL 60.034985 182.581693 \nL 60.030621 182.704196 \nL 60.027163 182.81325 \nL 60.024422 182.910331 \nL 60.02225 182.996755 \nL 60.020528 183.07369 \nL 60.019163 183.14218 \nL 60.018082 183.20315 \nL 60.017225 183.257426 \nL 60.016546 183.305744 \nL 60.016008 183.348757 \nL 60.015581 183.387048 \nL 60.015243 183.421135 \nL 60.014976 183.45148 \nL 60.014763 183.478494 \nL 60.014595 183.502542 \nL 60.014462 183.523949 \nL 60.014356 183.543007 \nL 60.014272 183.559972 \nL 60.014206 183.575075 \nL 60.014153 183.58852 \nL 60.014112 183.600488 \nL 60.014079 183.611143 \nL 60.014052 183.620628 \nL 60.014032 183.629072 \nL 60.014015 183.636588 \nL 60.014002 183.64328 \nL 60.013992 183.649237 \nL 60.013984 183.65454 \nL 60.013977 183.65926 \n\" clip-path=\"url(#p49eb404cc6)\" style=\"fill: none; stroke: #008000; stroke-width: 1.5; stroke-linecap: square\"/>\n   </g>\n   <g id=\"line2d_12\">\n    <defs>\n     <path id=\"m096014a004\" d=\"M -3 3 \nL 3 3 \nL 3 -3 \nL -3 -3 \nz\n\" style=\"stroke: #0000ff; stroke-linejoin: miter\"/>\n    </defs>\n    <g clip-path=\"url(#p49eb404cc6)\">\n     <use xlink:href=\"#m096014a004\" x=\"128.959539\" y=\"92.71584\" style=\"fill: #0000ff; stroke: #0000ff; stroke-linejoin: miter\"/>\n    </g>\n   </g>\n   <g id=\"line2d_13\">\n    <g clip-path=\"url(#p49eb404cc6)\">\n     <use xlink:href=\"#m096014a004\" x=\"82.815708\" y=\"136.421374\" style=\"fill: #0000ff; stroke: #0000ff; stroke-linejoin: miter\"/>\n    </g>\n   </g>\n   <g id=\"line2d_14\">\n    <defs>\n     <path id=\"m217beb68f7\" d=\"M 0 3 \nC 0.795609 3 1.55874 2.683901 2.12132 2.12132 \nC 2.683901 1.55874 3 0.795609 3 0 \nC 3 -0.795609 2.683901 -1.55874 2.12132 -2.12132 \nC 1.55874 -2.683901 0.795609 -3 0 -3 \nC -0.795609 -3 -1.55874 -2.683901 -2.12132 -2.12132 \nC -2.683901 -1.55874 -3 -0.795609 -3 0 \nC -3 0.795609 -2.683901 1.55874 -2.12132 2.12132 \nC -1.55874 2.683901 -0.795609 3 0 3 \nz\n\" style=\"stroke: #ff0000\"/>\n    </defs>\n    <g clip-path=\"url(#p49eb404cc6)\">\n     <use xlink:href=\"#m217beb68f7\" x=\"336.355983\" y=\"99.126981\" style=\"fill: #ff0000; stroke: #ff0000\"/>\n    </g>\n   </g>\n   <g id=\"line2d_15\">\n    <g clip-path=\"url(#p49eb404cc6)\">\n     <use xlink:href=\"#m217beb68f7\" x=\"367.658085\" y=\"218.496098\" style=\"fill: #ff0000; stroke: #ff0000\"/>\n    </g>\n   </g>\n   <g id=\"line2d_16\">\n    <g clip-path=\"url(#p49eb404cc6)\">\n     <use xlink:href=\"#m217beb68f7\" x=\"236.539939\" y=\"228.349481\" style=\"fill: #ff0000; stroke: #ff0000\"/>\n    </g>\n   </g>\n   <g id=\"line2d_17\">\n    <g clip-path=\"url(#p49eb404cc6)\">\n     <use xlink:href=\"#m217beb68f7\" x=\"286.567595\" y=\"164.126066\" style=\"fill: #ff0000; stroke: #ff0000\"/>\n    </g>\n   </g>\n   <g id=\"line2d_18\">\n    <g clip-path=\"url(#p49eb404cc6)\">\n     <use xlink:href=\"#m217beb68f7\" x=\"249.238992\" y=\"188.594407\" style=\"fill: #ff0000; stroke: #ff0000\"/>\n    </g>\n   </g>\n   <g id=\"line2d_19\">\n    <g clip-path=\"url(#p49eb404cc6)\">\n     <use xlink:href=\"#m217beb68f7\" x=\"301.625342\" y=\"19.296\" style=\"fill: #ff0000; stroke: #ff0000\"/>\n    </g>\n   </g>\n   <g id=\"line2d_20\">\n    <g clip-path=\"url(#p49eb404cc6)\">\n     <use xlink:href=\"#m217beb68f7\" x=\"253.78807\" y=\"84.925792\" style=\"fill: #ff0000; stroke: #ff0000\"/>\n    </g>\n   </g>\n   <g id=\"line2d_21\">\n    <g clip-path=\"url(#p49eb404cc6)\">\n     <use xlink:href=\"#m217beb68f7\" x=\"384.668523\" y=\"200.878117\" style=\"fill: #ff0000; stroke: #ff0000\"/>\n    </g>\n   </g>\n   <g id=\"line2d_22\">\n    <g clip-path=\"url(#p49eb404cc6)\">\n     <use xlink:href=\"#m217beb68f7\" x=\"334.99285\" y=\"253.003098\" style=\"fill: #ff0000; stroke: #ff0000\"/>\n    </g>\n   </g>\n   <g id=\"line2d_23\">\n    <g clip-path=\"url(#p49eb404cc6)\">\n     <use xlink:href=\"#m217beb68f7\" x=\"302.900379\" y=\"261.216\" style=\"fill: #ff0000; stroke: #ff0000\"/>\n    </g>\n   </g>\n   <g id=\"patch_3\">\n    <path d=\"M 43.78125 273.312 \nL 43.78125 7.2 \n\" style=\"fill: none; stroke: #000000; stroke-width: 0.8; stroke-linejoin: miter; stroke-linecap: square\"/>\n   </g>\n   <g id=\"patch_4\">\n    <path d=\"M 400.90125 273.312 \nL 400.90125 7.2 \n\" style=\"fill: none; stroke: #000000; stroke-width: 0.8; stroke-linejoin: miter; stroke-linecap: square\"/>\n   </g>\n   <g id=\"patch_5\">\n    <path d=\"M 43.78125 273.312 \nL 400.90125 273.312 \n\" style=\"fill: none; stroke: #000000; stroke-width: 0.8; stroke-linejoin: miter; stroke-linecap: square\"/>\n   </g>\n   <g id=\"patch_6\">\n    <path d=\"M 43.78125 7.2 \nL 400.90125 7.2 \n\" style=\"fill: none; stroke: #000000; stroke-width: 0.8; stroke-linejoin: miter; stroke-linecap: square\"/>\n   </g>\n   <g id=\"text_13\">\n    <!-- $\\gamma = 0.29$ -->\n    <g transform=\"translate(137.729555 96.252392)scale(0.1 -0.1)\">\n     <defs>\n      <path id=\"DejaVuSans-Oblique-3b3\" d=\"M 1491 2950 \nL 1838 788 \nL 3456 3500 \nL 4066 3500 \nL 1972 0 \nL 1713 -1331 \nL 1138 -1331 \nL 1397 0 \nL 988 2613 \nQ 925 3006 628 3006 \nL 475 3006 \nL 569 3500 \nL 788 3500 \nQ 1403 3500 1491 2950 \nz\n\" transform=\"scale(0.015625)\"/>\n      <path id=\"DejaVuSans-3d\" d=\"M 678 2906 \nL 4684 2906 \nL 4684 2381 \nL 678 2381 \nL 678 2906 \nz\nM 678 1631 \nL 4684 1631 \nL 4684 1100 \nL 678 1100 \nL 678 1631 \nz\n\" transform=\"scale(0.015625)\"/>\n      <path id=\"DejaVuSans-39\" d=\"M 703 97 \nL 703 672 \nQ 941 559 1184 500 \nQ 1428 441 1663 441 \nQ 2288 441 2617 861 \nQ 2947 1281 2994 2138 \nQ 2813 1869 2534 1725 \nQ 2256 1581 1919 1581 \nQ 1219 1581 811 2004 \nQ 403 2428 403 3163 \nQ 403 3881 828 4315 \nQ 1253 4750 1959 4750 \nQ 2769 4750 3195 4129 \nQ 3622 3509 3622 2328 \nQ 3622 1225 3098 567 \nQ 2575 -91 1691 -91 \nQ 1453 -91 1209 -44 \nQ 966 3 703 97 \nz\nM 1959 2075 \nQ 2384 2075 2632 2365 \nQ 2881 2656 2881 3163 \nQ 2881 3666 2632 3958 \nQ 2384 4250 1959 4250 \nQ 1534 4250 1286 3958 \nQ 1038 3666 1038 3163 \nQ 1038 2656 1286 2365 \nQ 1534 2075 1959 2075 \nz\n\" transform=\"scale(0.015625)\"/>\n     </defs>\n     <use xlink:href=\"#DejaVuSans-Oblique-3b3\" transform=\"translate(0 0.78125)\"/>\n     <use xlink:href=\"#DejaVuSans-3d\" transform=\"translate(78.662109 0.78125)\"/>\n     <use xlink:href=\"#DejaVuSans-30\" transform=\"translate(181.933594 0.78125)\"/>\n     <use xlink:href=\"#DejaVuSans-2e\" transform=\"translate(245.556641 0.78125)\"/>\n     <use xlink:href=\"#DejaVuSans-32\" transform=\"translate(271.84375 0.78125)\"/>\n     <use xlink:href=\"#DejaVuSans-39\" transform=\"translate(333.716797 0.78125)\"/>\n    </g>\n   </g>\n   <g id=\"text_14\">\n    <!-- $\\gamma = 1.05$ -->\n    <g transform=\"translate(91.585724 139.957926)scale(0.1 -0.1)\">\n     <use xlink:href=\"#DejaVuSans-Oblique-3b3\" transform=\"translate(0 0.78125)\"/>\n     <use xlink:href=\"#DejaVuSans-3d\" transform=\"translate(78.662109 0.78125)\"/>\n     <use xlink:href=\"#DejaVuSans-31\" transform=\"translate(181.933594 0.78125)\"/>\n     <use xlink:href=\"#DejaVuSans-2e\" transform=\"translate(245.556641 0.78125)\"/>\n     <use xlink:href=\"#DejaVuSans-30\" transform=\"translate(277.34375 0.78125)\"/>\n     <use xlink:href=\"#DejaVuSans-35\" transform=\"translate(340.966797 0.78125)\"/>\n    </g>\n   </g>\n  </g>\n </g>\n <defs>\n  <clipPath id=\"p49eb404cc6\">\n   <rect x=\"43.78125\" y=\"7.2\" width=\"357.12\" height=\"266.112\"/>\n  </clipPath>\n </defs>\n</svg>\n"
     },
     "metadata": {},
     "output_type": "display_data"
    }
   ],
   "source": [
    "# Plot long only trade-off curve.\n",
    "import matplotlib.pyplot as plt\n",
    "\n",
    "%matplotlib inline\n",
    "%config InlineBackend.figure_format = 'svg'\n",
    "\n",
    "markers_on = [29, 40]\n",
    "fig = plt.figure()\n",
    "ax = fig.add_subplot(111)\n",
    "plt.plot(risk_data, ret_data, \"g-\")\n",
    "for marker in markers_on:\n",
    "    plt.plot(risk_data[marker], ret_data[marker], \"bs\")\n",
    "    ax.annotate(\n",
    "        r\"$\\gamma = %.2f$\" % gamma_vals[marker],\n",
    "        xy=(risk_data[marker] + 0.08, ret_data[marker] - 0.03),\n",
    "    )\n",
    "for i in range(n):\n",
    "    plt.plot(cp.sqrt(Sigma[i, i]).value, mu[i], \"ro\")\n",
    "plt.xlabel(\"Standard deviation\")\n",
    "plt.ylabel(\"Return\")\n",
    "plt.show()"
   ],
   "metadata": {
    "collapsed": false,
    "pycharm": {
     "name": "#%%\n"
    }
   }
  },
  {
   "cell_type": "markdown",
   "source": [
    "We plot below the return distributions for the two risk aversion values marked on the trade-off curve.\n",
    "Notice that the probability of a loss is near 0 for the low risk value and far above 0 for the high risk value."
   ],
   "metadata": {
    "collapsed": false,
    "pycharm": {
     "name": "#%% md\n"
    }
   }
  },
  {
   "cell_type": "code",
   "execution_count": 42,
   "outputs": [
    {
     "data": {
      "text/plain": "<Figure size 640x480 with 1 Axes>",
      "image/svg+xml": "<?xml version=\"1.0\" encoding=\"utf-8\" standalone=\"no\"?>\n<!DOCTYPE svg PUBLIC \"-//W3C//DTD SVG 1.1//EN\"\n  \"http://www.w3.org/Graphics/SVG/1.1/DTD/svg11.dtd\">\n<svg xmlns:xlink=\"http://www.w3.org/1999/xlink\" width=\"408.10125pt\" height=\"310.86825pt\" viewBox=\"0 0 408.10125 310.86825\" xmlns=\"http://www.w3.org/2000/svg\" version=\"1.1\">\n <metadata>\n  <rdf:RDF xmlns:dc=\"http://purl.org/dc/elements/1.1/\" xmlns:cc=\"http://creativecommons.org/ns#\" xmlns:rdf=\"http://www.w3.org/1999/02/22-rdf-syntax-ns#\">\n   <cc:Work>\n    <dc:type rdf:resource=\"http://purl.org/dc/dcmitype/StillImage\"/>\n    <dc:date>2022-09-03T12:09:03.744879</dc:date>\n    <dc:format>image/svg+xml</dc:format>\n    <dc:creator>\n     <cc:Agent>\n      <dc:title>Matplotlib v3.5.3, https://matplotlib.org/</dc:title>\n     </cc:Agent>\n    </dc:creator>\n   </cc:Work>\n  </rdf:RDF>\n </metadata>\n <defs>\n  <style type=\"text/css\">*{stroke-linejoin: round; stroke-linecap: butt}</style>\n </defs>\n <g id=\"figure_1\">\n  <g id=\"patch_1\">\n   <path d=\"M 0 310.86825 \nL 408.10125 310.86825 \nL 408.10125 0 \nL 0 0 \nz\n\" style=\"fill: #ffffff\"/>\n  </g>\n  <g id=\"axes_1\">\n   <g id=\"patch_2\">\n    <path d=\"M 43.78125 273.312 \nL 400.90125 273.312 \nL 400.90125 7.2 \nL 43.78125 7.2 \nz\n\" style=\"fill: #ffffff\"/>\n   </g>\n   <g id=\"matplotlib.axis_1\">\n    <g id=\"xtick_1\">\n     <g id=\"line2d_1\">\n      <defs>\n       <path id=\"m3499943055\" d=\"M 0 0 \nL 0 3.5 \n\" style=\"stroke: #000000; stroke-width: 0.8\"/>\n      </defs>\n      <g>\n       <use xlink:href=\"#m3499943055\" x=\"60.013977\" y=\"273.312\" style=\"stroke: #000000; stroke-width: 0.8\"/>\n      </g>\n     </g>\n     <g id=\"text_1\">\n      <!-- −2 -->\n      <g transform=\"translate(52.642884 287.910437)scale(0.1 -0.1)\">\n       <defs>\n        <path id=\"DejaVuSans-2212\" d=\"M 678 2272 \nL 4684 2272 \nL 4684 1741 \nL 678 1741 \nL 678 2272 \nz\n\" transform=\"scale(0.015625)\"/>\n        <path id=\"DejaVuSans-32\" d=\"M 1228 531 \nL 3431 531 \nL 3431 0 \nL 469 0 \nL 469 531 \nQ 828 903 1448 1529 \nQ 2069 2156 2228 2338 \nQ 2531 2678 2651 2914 \nQ 2772 3150 2772 3378 \nQ 2772 3750 2511 3984 \nQ 2250 4219 1831 4219 \nQ 1534 4219 1204 4116 \nQ 875 4013 500 3803 \nL 500 4441 \nQ 881 4594 1212 4672 \nQ 1544 4750 1819 4750 \nQ 2544 4750 2975 4387 \nQ 3406 4025 3406 3419 \nQ 3406 3131 3298 2873 \nQ 3191 2616 2906 2266 \nQ 2828 2175 2409 1742 \nQ 1991 1309 1228 531 \nz\n\" transform=\"scale(0.015625)\"/>\n       </defs>\n       <use xlink:href=\"#DejaVuSans-2212\"/>\n       <use xlink:href=\"#DejaVuSans-32\" x=\"83.789062\"/>\n      </g>\n     </g>\n    </g>\n    <g id=\"xtick_2\">\n     <g id=\"line2d_2\">\n      <g>\n       <use xlink:href=\"#m3499943055\" x=\"106.393198\" y=\"273.312\" style=\"stroke: #000000; stroke-width: 0.8\"/>\n      </g>\n     </g>\n     <g id=\"text_2\">\n      <!-- −1 -->\n      <g transform=\"translate(99.022104 287.910437)scale(0.1 -0.1)\">\n       <defs>\n        <path id=\"DejaVuSans-31\" d=\"M 794 531 \nL 1825 531 \nL 1825 4091 \nL 703 3866 \nL 703 4441 \nL 1819 4666 \nL 2450 4666 \nL 2450 531 \nL 3481 531 \nL 3481 0 \nL 794 0 \nL 794 531 \nz\n\" transform=\"scale(0.015625)\"/>\n       </defs>\n       <use xlink:href=\"#DejaVuSans-2212\"/>\n       <use xlink:href=\"#DejaVuSans-31\" x=\"83.789062\"/>\n      </g>\n     </g>\n    </g>\n    <g id=\"xtick_3\">\n     <g id=\"line2d_3\">\n      <g>\n       <use xlink:href=\"#m3499943055\" x=\"152.772419\" y=\"273.312\" style=\"stroke: #000000; stroke-width: 0.8\"/>\n      </g>\n     </g>\n     <g id=\"text_3\">\n      <!-- 0 -->\n      <g transform=\"translate(149.591169 287.910437)scale(0.1 -0.1)\">\n       <defs>\n        <path id=\"DejaVuSans-30\" d=\"M 2034 4250 \nQ 1547 4250 1301 3770 \nQ 1056 3291 1056 2328 \nQ 1056 1369 1301 889 \nQ 1547 409 2034 409 \nQ 2525 409 2770 889 \nQ 3016 1369 3016 2328 \nQ 3016 3291 2770 3770 \nQ 2525 4250 2034 4250 \nz\nM 2034 4750 \nQ 2819 4750 3233 4129 \nQ 3647 3509 3647 2328 \nQ 3647 1150 3233 529 \nQ 2819 -91 2034 -91 \nQ 1250 -91 836 529 \nQ 422 1150 422 2328 \nQ 422 3509 836 4129 \nQ 1250 4750 2034 4750 \nz\n\" transform=\"scale(0.015625)\"/>\n       </defs>\n       <use xlink:href=\"#DejaVuSans-30\"/>\n      </g>\n     </g>\n    </g>\n    <g id=\"xtick_4\">\n     <g id=\"line2d_4\">\n      <g>\n       <use xlink:href=\"#m3499943055\" x=\"199.15164\" y=\"273.312\" style=\"stroke: #000000; stroke-width: 0.8\"/>\n      </g>\n     </g>\n     <g id=\"text_4\">\n      <!-- 1 -->\n      <g transform=\"translate(195.97039 287.910437)scale(0.1 -0.1)\">\n       <use xlink:href=\"#DejaVuSans-31\"/>\n      </g>\n     </g>\n    </g>\n    <g id=\"xtick_5\">\n     <g id=\"line2d_5\">\n      <g>\n       <use xlink:href=\"#m3499943055\" x=\"245.53086\" y=\"273.312\" style=\"stroke: #000000; stroke-width: 0.8\"/>\n      </g>\n     </g>\n     <g id=\"text_5\">\n      <!-- 2 -->\n      <g transform=\"translate(242.34961 287.910437)scale(0.1 -0.1)\">\n       <use xlink:href=\"#DejaVuSans-32\"/>\n      </g>\n     </g>\n    </g>\n    <g id=\"xtick_6\">\n     <g id=\"line2d_6\">\n      <g>\n       <use xlink:href=\"#m3499943055\" x=\"291.910081\" y=\"273.312\" style=\"stroke: #000000; stroke-width: 0.8\"/>\n      </g>\n     </g>\n     <g id=\"text_6\">\n      <!-- 3 -->\n      <g transform=\"translate(288.728831 287.910437)scale(0.1 -0.1)\">\n       <defs>\n        <path id=\"DejaVuSans-33\" d=\"M 2597 2516 \nQ 3050 2419 3304 2112 \nQ 3559 1806 3559 1356 \nQ 3559 666 3084 287 \nQ 2609 -91 1734 -91 \nQ 1441 -91 1130 -33 \nQ 819 25 488 141 \nL 488 750 \nQ 750 597 1062 519 \nQ 1375 441 1716 441 \nQ 2309 441 2620 675 \nQ 2931 909 2931 1356 \nQ 2931 1769 2642 2001 \nQ 2353 2234 1838 2234 \nL 1294 2234 \nL 1294 2753 \nL 1863 2753 \nQ 2328 2753 2575 2939 \nQ 2822 3125 2822 3475 \nQ 2822 3834 2567 4026 \nQ 2313 4219 1838 4219 \nQ 1578 4219 1281 4162 \nQ 984 4106 628 3988 \nL 628 4550 \nQ 988 4650 1302 4700 \nQ 1616 4750 1894 4750 \nQ 2613 4750 3031 4423 \nQ 3450 4097 3450 3541 \nQ 3450 3153 3228 2886 \nQ 3006 2619 2597 2516 \nz\n\" transform=\"scale(0.015625)\"/>\n       </defs>\n       <use xlink:href=\"#DejaVuSans-33\"/>\n      </g>\n     </g>\n    </g>\n    <g id=\"xtick_7\">\n     <g id=\"line2d_7\">\n      <g>\n       <use xlink:href=\"#m3499943055\" x=\"338.289302\" y=\"273.312\" style=\"stroke: #000000; stroke-width: 0.8\"/>\n      </g>\n     </g>\n     <g id=\"text_7\">\n      <!-- 4 -->\n      <g transform=\"translate(335.108052 287.910437)scale(0.1 -0.1)\">\n       <defs>\n        <path id=\"DejaVuSans-34\" d=\"M 2419 4116 \nL 825 1625 \nL 2419 1625 \nL 2419 4116 \nz\nM 2253 4666 \nL 3047 4666 \nL 3047 1625 \nL 3713 1625 \nL 3713 1100 \nL 3047 1100 \nL 3047 0 \nL 2419 0 \nL 2419 1100 \nL 313 1100 \nL 313 1709 \nL 2253 4666 \nz\n\" transform=\"scale(0.015625)\"/>\n       </defs>\n       <use xlink:href=\"#DejaVuSans-34\"/>\n      </g>\n     </g>\n    </g>\n    <g id=\"xtick_8\">\n     <g id=\"line2d_8\">\n      <g>\n       <use xlink:href=\"#m3499943055\" x=\"384.668523\" y=\"273.312\" style=\"stroke: #000000; stroke-width: 0.8\"/>\n      </g>\n     </g>\n     <g id=\"text_8\">\n      <!-- 5 -->\n      <g transform=\"translate(381.487273 287.910437)scale(0.1 -0.1)\">\n       <defs>\n        <path id=\"DejaVuSans-35\" d=\"M 691 4666 \nL 3169 4666 \nL 3169 4134 \nL 1269 4134 \nL 1269 2991 \nQ 1406 3038 1543 3061 \nQ 1681 3084 1819 3084 \nQ 2600 3084 3056 2656 \nQ 3513 2228 3513 1497 \nQ 3513 744 3044 326 \nQ 2575 -91 1722 -91 \nQ 1428 -91 1123 -41 \nQ 819 9 494 109 \nL 494 744 \nQ 775 591 1075 516 \nQ 1375 441 1709 441 \nQ 2250 441 2565 725 \nQ 2881 1009 2881 1497 \nQ 2881 1984 2565 2268 \nQ 2250 2553 1709 2553 \nQ 1456 2553 1204 2497 \nQ 953 2441 691 2322 \nL 691 4666 \nz\n\" transform=\"scale(0.015625)\"/>\n       </defs>\n       <use xlink:href=\"#DejaVuSans-35\"/>\n      </g>\n     </g>\n    </g>\n    <g id=\"text_9\">\n     <!-- Return -->\n     <g transform=\"translate(205.749844 301.588562)scale(0.1 -0.1)\">\n      <defs>\n       <path id=\"DejaVuSans-52\" d=\"M 2841 2188 \nQ 3044 2119 3236 1894 \nQ 3428 1669 3622 1275 \nL 4263 0 \nL 3584 0 \nL 2988 1197 \nQ 2756 1666 2539 1819 \nQ 2322 1972 1947 1972 \nL 1259 1972 \nL 1259 0 \nL 628 0 \nL 628 4666 \nL 2053 4666 \nQ 2853 4666 3247 4331 \nQ 3641 3997 3641 3322 \nQ 3641 2881 3436 2590 \nQ 3231 2300 2841 2188 \nz\nM 1259 4147 \nL 1259 2491 \nL 2053 2491 \nQ 2509 2491 2742 2702 \nQ 2975 2913 2975 3322 \nQ 2975 3731 2742 3939 \nQ 2509 4147 2053 4147 \nL 1259 4147 \nz\n\" transform=\"scale(0.015625)\"/>\n       <path id=\"DejaVuSans-65\" d=\"M 3597 1894 \nL 3597 1613 \nL 953 1613 \nQ 991 1019 1311 708 \nQ 1631 397 2203 397 \nQ 2534 397 2845 478 \nQ 3156 559 3463 722 \nL 3463 178 \nQ 3153 47 2828 -22 \nQ 2503 -91 2169 -91 \nQ 1331 -91 842 396 \nQ 353 884 353 1716 \nQ 353 2575 817 3079 \nQ 1281 3584 2069 3584 \nQ 2775 3584 3186 3129 \nQ 3597 2675 3597 1894 \nz\nM 3022 2063 \nQ 3016 2534 2758 2815 \nQ 2500 3097 2075 3097 \nQ 1594 3097 1305 2825 \nQ 1016 2553 972 2059 \nL 3022 2063 \nz\n\" transform=\"scale(0.015625)\"/>\n       <path id=\"DejaVuSans-74\" d=\"M 1172 4494 \nL 1172 3500 \nL 2356 3500 \nL 2356 3053 \nL 1172 3053 \nL 1172 1153 \nQ 1172 725 1289 603 \nQ 1406 481 1766 481 \nL 2356 481 \nL 2356 0 \nL 1766 0 \nQ 1100 0 847 248 \nQ 594 497 594 1153 \nL 594 3053 \nL 172 3053 \nL 172 3500 \nL 594 3500 \nL 594 4494 \nL 1172 4494 \nz\n\" transform=\"scale(0.015625)\"/>\n       <path id=\"DejaVuSans-75\" d=\"M 544 1381 \nL 544 3500 \nL 1119 3500 \nL 1119 1403 \nQ 1119 906 1312 657 \nQ 1506 409 1894 409 \nQ 2359 409 2629 706 \nQ 2900 1003 2900 1516 \nL 2900 3500 \nL 3475 3500 \nL 3475 0 \nL 2900 0 \nL 2900 538 \nQ 2691 219 2414 64 \nQ 2138 -91 1772 -91 \nQ 1169 -91 856 284 \nQ 544 659 544 1381 \nz\nM 1991 3584 \nL 1991 3584 \nz\n\" transform=\"scale(0.015625)\"/>\n       <path id=\"DejaVuSans-72\" d=\"M 2631 2963 \nQ 2534 3019 2420 3045 \nQ 2306 3072 2169 3072 \nQ 1681 3072 1420 2755 \nQ 1159 2438 1159 1844 \nL 1159 0 \nL 581 0 \nL 581 3500 \nL 1159 3500 \nL 1159 2956 \nQ 1341 3275 1631 3429 \nQ 1922 3584 2338 3584 \nQ 2397 3584 2469 3576 \nQ 2541 3569 2628 3553 \nL 2631 2963 \nz\n\" transform=\"scale(0.015625)\"/>\n       <path id=\"DejaVuSans-6e\" d=\"M 3513 2113 \nL 3513 0 \nL 2938 0 \nL 2938 2094 \nQ 2938 2591 2744 2837 \nQ 2550 3084 2163 3084 \nQ 1697 3084 1428 2787 \nQ 1159 2491 1159 1978 \nL 1159 0 \nL 581 0 \nL 581 3500 \nL 1159 3500 \nL 1159 2956 \nQ 1366 3272 1645 3428 \nQ 1925 3584 2291 3584 \nQ 2894 3584 3203 3211 \nQ 3513 2838 3513 2113 \nz\n\" transform=\"scale(0.015625)\"/>\n      </defs>\n      <use xlink:href=\"#DejaVuSans-52\"/>\n      <use xlink:href=\"#DejaVuSans-65\" x=\"64.982422\"/>\n      <use xlink:href=\"#DejaVuSans-74\" x=\"126.505859\"/>\n      <use xlink:href=\"#DejaVuSans-75\" x=\"165.714844\"/>\n      <use xlink:href=\"#DejaVuSans-72\" x=\"229.09375\"/>\n      <use xlink:href=\"#DejaVuSans-6e\" x=\"268.457031\"/>\n     </g>\n    </g>\n   </g>\n   <g id=\"matplotlib.axis_2\">\n    <g id=\"ytick_1\">\n     <g id=\"line2d_9\">\n      <defs>\n       <path id=\"m8382ab38e0\" d=\"M 0 0 \nL -3.5 0 \n\" style=\"stroke: #000000; stroke-width: 0.8\"/>\n      </defs>\n      <g>\n       <use xlink:href=\"#m8382ab38e0\" x=\"43.78125\" y=\"261.216\" style=\"stroke: #000000; stroke-width: 0.8\"/>\n      </g>\n     </g>\n     <g id=\"text_10\">\n      <!-- 0.0 -->\n      <g transform=\"translate(20.878125 265.015219)scale(0.1 -0.1)\">\n       <defs>\n        <path id=\"DejaVuSans-2e\" d=\"M 684 794 \nL 1344 794 \nL 1344 0 \nL 684 0 \nL 684 794 \nz\n\" transform=\"scale(0.015625)\"/>\n       </defs>\n       <use xlink:href=\"#DejaVuSans-30\"/>\n       <use xlink:href=\"#DejaVuSans-2e\" x=\"63.623047\"/>\n       <use xlink:href=\"#DejaVuSans-30\" x=\"95.410156\"/>\n      </g>\n     </g>\n    </g>\n    <g id=\"ytick_2\">\n     <g id=\"line2d_10\">\n      <g>\n       <use xlink:href=\"#m8382ab38e0\" x=\"43.78125\" y=\"222.164426\" style=\"stroke: #000000; stroke-width: 0.8\"/>\n      </g>\n     </g>\n     <g id=\"text_11\">\n      <!-- 0.2 -->\n      <g transform=\"translate(20.878125 225.963645)scale(0.1 -0.1)\">\n       <use xlink:href=\"#DejaVuSans-30\"/>\n       <use xlink:href=\"#DejaVuSans-2e\" x=\"63.623047\"/>\n       <use xlink:href=\"#DejaVuSans-32\" x=\"95.410156\"/>\n      </g>\n     </g>\n    </g>\n    <g id=\"ytick_3\">\n     <g id=\"line2d_11\">\n      <g>\n       <use xlink:href=\"#m8382ab38e0\" x=\"43.78125\" y=\"183.112853\" style=\"stroke: #000000; stroke-width: 0.8\"/>\n      </g>\n     </g>\n     <g id=\"text_12\">\n      <!-- 0.4 -->\n      <g transform=\"translate(20.878125 186.912072)scale(0.1 -0.1)\">\n       <use xlink:href=\"#DejaVuSans-30\"/>\n       <use xlink:href=\"#DejaVuSans-2e\" x=\"63.623047\"/>\n       <use xlink:href=\"#DejaVuSans-34\" x=\"95.410156\"/>\n      </g>\n     </g>\n    </g>\n    <g id=\"ytick_4\">\n     <g id=\"line2d_12\">\n      <g>\n       <use xlink:href=\"#m8382ab38e0\" x=\"43.78125\" y=\"144.061279\" style=\"stroke: #000000; stroke-width: 0.8\"/>\n      </g>\n     </g>\n     <g id=\"text_13\">\n      <!-- 0.6 -->\n      <g transform=\"translate(20.878125 147.860498)scale(0.1 -0.1)\">\n       <defs>\n        <path id=\"DejaVuSans-36\" d=\"M 2113 2584 \nQ 1688 2584 1439 2293 \nQ 1191 2003 1191 1497 \nQ 1191 994 1439 701 \nQ 1688 409 2113 409 \nQ 2538 409 2786 701 \nQ 3034 994 3034 1497 \nQ 3034 2003 2786 2293 \nQ 2538 2584 2113 2584 \nz\nM 3366 4563 \nL 3366 3988 \nQ 3128 4100 2886 4159 \nQ 2644 4219 2406 4219 \nQ 1781 4219 1451 3797 \nQ 1122 3375 1075 2522 \nQ 1259 2794 1537 2939 \nQ 1816 3084 2150 3084 \nQ 2853 3084 3261 2657 \nQ 3669 2231 3669 1497 \nQ 3669 778 3244 343 \nQ 2819 -91 2113 -91 \nQ 1303 -91 875 529 \nQ 447 1150 447 2328 \nQ 447 3434 972 4092 \nQ 1497 4750 2381 4750 \nQ 2619 4750 2861 4703 \nQ 3103 4656 3366 4563 \nz\n\" transform=\"scale(0.015625)\"/>\n       </defs>\n       <use xlink:href=\"#DejaVuSans-30\"/>\n       <use xlink:href=\"#DejaVuSans-2e\" x=\"63.623047\"/>\n       <use xlink:href=\"#DejaVuSans-36\" x=\"95.410156\"/>\n      </g>\n     </g>\n    </g>\n    <g id=\"ytick_5\">\n     <g id=\"line2d_13\">\n      <g>\n       <use xlink:href=\"#m8382ab38e0\" x=\"43.78125\" y=\"105.009706\" style=\"stroke: #000000; stroke-width: 0.8\"/>\n      </g>\n     </g>\n     <g id=\"text_14\">\n      <!-- 0.8 -->\n      <g transform=\"translate(20.878125 108.808925)scale(0.1 -0.1)\">\n       <defs>\n        <path id=\"DejaVuSans-38\" d=\"M 2034 2216 \nQ 1584 2216 1326 1975 \nQ 1069 1734 1069 1313 \nQ 1069 891 1326 650 \nQ 1584 409 2034 409 \nQ 2484 409 2743 651 \nQ 3003 894 3003 1313 \nQ 3003 1734 2745 1975 \nQ 2488 2216 2034 2216 \nz\nM 1403 2484 \nQ 997 2584 770 2862 \nQ 544 3141 544 3541 \nQ 544 4100 942 4425 \nQ 1341 4750 2034 4750 \nQ 2731 4750 3128 4425 \nQ 3525 4100 3525 3541 \nQ 3525 3141 3298 2862 \nQ 3072 2584 2669 2484 \nQ 3125 2378 3379 2068 \nQ 3634 1759 3634 1313 \nQ 3634 634 3220 271 \nQ 2806 -91 2034 -91 \nQ 1263 -91 848 271 \nQ 434 634 434 1313 \nQ 434 1759 690 2068 \nQ 947 2378 1403 2484 \nz\nM 1172 3481 \nQ 1172 3119 1398 2916 \nQ 1625 2713 2034 2713 \nQ 2441 2713 2670 2916 \nQ 2900 3119 2900 3481 \nQ 2900 3844 2670 4047 \nQ 2441 4250 2034 4250 \nQ 1625 4250 1398 4047 \nQ 1172 3844 1172 3481 \nz\n\" transform=\"scale(0.015625)\"/>\n       </defs>\n       <use xlink:href=\"#DejaVuSans-30\"/>\n       <use xlink:href=\"#DejaVuSans-2e\" x=\"63.623047\"/>\n       <use xlink:href=\"#DejaVuSans-38\" x=\"95.410156\"/>\n      </g>\n     </g>\n    </g>\n    <g id=\"ytick_6\">\n     <g id=\"line2d_14\">\n      <g>\n       <use xlink:href=\"#m8382ab38e0\" x=\"43.78125\" y=\"65.958132\" style=\"stroke: #000000; stroke-width: 0.8\"/>\n      </g>\n     </g>\n     <g id=\"text_15\">\n      <!-- 1.0 -->\n      <g transform=\"translate(20.878125 69.757351)scale(0.1 -0.1)\">\n       <use xlink:href=\"#DejaVuSans-31\"/>\n       <use xlink:href=\"#DejaVuSans-2e\" x=\"63.623047\"/>\n       <use xlink:href=\"#DejaVuSans-30\" x=\"95.410156\"/>\n      </g>\n     </g>\n    </g>\n    <g id=\"ytick_7\">\n     <g id=\"line2d_15\">\n      <g>\n       <use xlink:href=\"#m8382ab38e0\" x=\"43.78125\" y=\"26.906559\" style=\"stroke: #000000; stroke-width: 0.8\"/>\n      </g>\n     </g>\n     <g id=\"text_16\">\n      <!-- 1.2 -->\n      <g transform=\"translate(20.878125 30.705777)scale(0.1 -0.1)\">\n       <use xlink:href=\"#DejaVuSans-31\"/>\n       <use xlink:href=\"#DejaVuSans-2e\" x=\"63.623047\"/>\n       <use xlink:href=\"#DejaVuSans-32\" x=\"95.410156\"/>\n      </g>\n     </g>\n    </g>\n    <g id=\"text_17\">\n     <!-- Density -->\n     <g transform=\"translate(14.798438 159.264594)rotate(-90)scale(0.1 -0.1)\">\n      <defs>\n       <path id=\"DejaVuSans-44\" d=\"M 1259 4147 \nL 1259 519 \nL 2022 519 \nQ 2988 519 3436 956 \nQ 3884 1394 3884 2338 \nQ 3884 3275 3436 3711 \nQ 2988 4147 2022 4147 \nL 1259 4147 \nz\nM 628 4666 \nL 1925 4666 \nQ 3281 4666 3915 4102 \nQ 4550 3538 4550 2338 \nQ 4550 1131 3912 565 \nQ 3275 0 1925 0 \nL 628 0 \nL 628 4666 \nz\n\" transform=\"scale(0.015625)\"/>\n       <path id=\"DejaVuSans-73\" d=\"M 2834 3397 \nL 2834 2853 \nQ 2591 2978 2328 3040 \nQ 2066 3103 1784 3103 \nQ 1356 3103 1142 2972 \nQ 928 2841 928 2578 \nQ 928 2378 1081 2264 \nQ 1234 2150 1697 2047 \nL 1894 2003 \nQ 2506 1872 2764 1633 \nQ 3022 1394 3022 966 \nQ 3022 478 2636 193 \nQ 2250 -91 1575 -91 \nQ 1294 -91 989 -36 \nQ 684 19 347 128 \nL 347 722 \nQ 666 556 975 473 \nQ 1284 391 1588 391 \nQ 1994 391 2212 530 \nQ 2431 669 2431 922 \nQ 2431 1156 2273 1281 \nQ 2116 1406 1581 1522 \nL 1381 1569 \nQ 847 1681 609 1914 \nQ 372 2147 372 2553 \nQ 372 3047 722 3315 \nQ 1072 3584 1716 3584 \nQ 2034 3584 2315 3537 \nQ 2597 3491 2834 3397 \nz\n\" transform=\"scale(0.015625)\"/>\n       <path id=\"DejaVuSans-69\" d=\"M 603 3500 \nL 1178 3500 \nL 1178 0 \nL 603 0 \nL 603 3500 \nz\nM 603 4863 \nL 1178 4863 \nL 1178 4134 \nL 603 4134 \nL 603 4863 \nz\n\" transform=\"scale(0.015625)\"/>\n       <path id=\"DejaVuSans-79\" d=\"M 2059 -325 \nQ 1816 -950 1584 -1140 \nQ 1353 -1331 966 -1331 \nL 506 -1331 \nL 506 -850 \nL 844 -850 \nQ 1081 -850 1212 -737 \nQ 1344 -625 1503 -206 \nL 1606 56 \nL 191 3500 \nL 800 3500 \nL 1894 763 \nL 2988 3500 \nL 3597 3500 \nL 2059 -325 \nz\n\" transform=\"scale(0.015625)\"/>\n      </defs>\n      <use xlink:href=\"#DejaVuSans-44\"/>\n      <use xlink:href=\"#DejaVuSans-65\" x=\"77.001953\"/>\n      <use xlink:href=\"#DejaVuSans-6e\" x=\"138.525391\"/>\n      <use xlink:href=\"#DejaVuSans-73\" x=\"201.904297\"/>\n      <use xlink:href=\"#DejaVuSans-69\" x=\"254.003906\"/>\n      <use xlink:href=\"#DejaVuSans-74\" x=\"281.787109\"/>\n      <use xlink:href=\"#DejaVuSans-79\" x=\"320.996094\"/>\n     </g>\n    </g>\n   </g>\n   <g id=\"line2d_16\">\n    <path d=\"M 60.013977 261.149594 \nL 78.212831 260.937953 \nL 89.262135 260.60292 \nL 97.711602 260.137828 \nL 104.861152 259.524225 \nL 111.035763 258.769116 \nL 116.560415 257.864987 \nL 121.435107 256.847725 \nL 125.984821 255.67954 \nL 130.209555 254.378752 \nL 134.434288 252.845446 \nL 138.334043 251.204114 \nL 142.233797 249.329337 \nL 146.133551 247.207669 \nL 150.033306 244.829162 \nL 153.93306 242.1883 \nL 157.832814 239.284931 \nL 162.057548 235.8506 \nL 166.282282 232.132452 \nL 170.831995 227.84267 \nL 176.031668 222.639307 \nL 183.181217 215.136539 \nL 195.20546 202.477233 \nL 200.080153 197.690634 \nL 203.979907 194.143391 \nL 207.554682 191.175358 \nL 210.804477 188.755839 \nL 213.729293 186.834818 \nL 216.654108 185.180408 \nL 219.253945 183.949755 \nL 221.853781 182.957303 \nL 224.453617 182.212677 \nL 227.053453 181.723155 \nL 229.32831 181.507931 \nL 231.603166 181.493366 \nL 233.878023 181.679569 \nL 236.15288 182.065135 \nL 238.752716 182.746107 \nL 241.352552 183.676966 \nL 243.952388 184.848663 \nL 246.552225 186.249912 \nL 249.47704 188.084022 \nL 252.401856 190.169961 \nL 255.651651 192.753416 \nL 259.226426 195.876287 \nL 263.45116 199.878112 \nL 268.650832 205.141916 \nL 276.77532 213.745354 \nL 285.874747 223.299536 \nL 291.399399 228.780137 \nL 296.274092 233.301035 \nL 300.498826 236.934598 \nL 304.72356 240.278049 \nL 308.623314 243.094587 \nL 312.523068 245.648018 \nL 316.422822 247.940377 \nL 320.322577 249.978754 \nL 324.222331 251.774365 \nL 328.447065 253.462417 \nL 332.671799 254.903791 \nL 337.221512 256.206823 \nL 341.771225 257.280755 \nL 346.645918 258.211088 \nL 352.17057 259.033293 \nL 358.345181 259.715681 \nL 365.494731 260.266299 \nL 373.944198 260.680279 \nL 384.668523 260.969626 \nL 384.668523 260.969626 \n\" clip-path=\"url(#p0b94143f5c)\" style=\"fill: none; stroke: #1f77b4; stroke-width: 1.5; stroke-linecap: square\"/>\n   </g>\n   <g id=\"line2d_17\">\n    <path d=\"M 60.013977 261.216 \nL 154.583019 261.113386 \nL 159.132732 260.890552 \nL 162.382528 260.514778 \nL 164.657384 260.049244 \nL 166.607261 259.443875 \nL 168.232159 258.738004 \nL 169.857057 257.791751 \nL 171.481954 256.539851 \nL 172.781872 255.266988 \nL 174.081791 253.704776 \nL 175.381709 251.803912 \nL 176.681627 249.511021 \nL 177.981545 246.769433 \nL 179.281463 243.520288 \nL 180.581381 239.703998 \nL 181.881299 235.262078 \nL 183.181217 230.139325 \nL 184.806115 222.703959 \nL 186.431012 214.051315 \nL 188.05591 204.134451 \nL 189.680808 192.945518 \nL 191.630685 177.899556 \nL 193.905542 158.346393 \nL 196.830357 130.840915 \nL 203.004968 71.660113 \nL 204.954845 55.322913 \nL 206.579743 43.491943 \nL 207.879661 35.472011 \nL 209.179579 28.923412 \nL 210.154518 25.064749 \nL 211.129456 22.163012 \nL 211.779415 20.778719 \nL 212.429374 19.844057 \nL 213.079334 19.36432 \nL 213.404313 19.296 \nL 213.729293 19.342229 \nL 214.379252 19.777909 \nL 215.029211 20.668889 \nL 215.67917 22.010121 \nL 216.329129 23.794034 \nL 217.304067 27.277344 \nL 218.279006 31.689882 \nL 219.578924 38.92273 \nL 220.878842 47.552716 \nL 222.50374 60.025743 \nL 224.453617 76.938421 \nL 227.378433 104.761332 \nL 232.903085 157.781094 \nL 235.177941 177.388128 \nL 237.127818 192.488794 \nL 239.077696 205.821705 \nL 240.702593 215.532828 \nL 242.327491 223.9849 \nL 243.952388 231.230321 \nL 245.577286 237.349963 \nL 246.877204 241.502147 \nL 248.177122 245.054856 \nL 249.47704 248.067323 \nL 250.776958 250.59901 \nL 252.076877 252.707948 \nL 253.376795 254.449436 \nL 254.676713 255.875085 \nL 256.30161 257.284597 \nL 257.926508 258.356185 \nL 259.551406 259.160173 \nL 261.501283 259.853996 \nL 263.776139 260.391462 \nL 266.375976 260.764388 \nL 269.95075 261.028161 \nL 275.475402 261.172744 \nL 288.474583 261.215204 \nL 384.668523 261.216 \nL 384.668523 261.216 \n\" clip-path=\"url(#p0b94143f5c)\" style=\"fill: none; stroke: #ff7f0e; stroke-width: 1.5; stroke-linecap: square\"/>\n   </g>\n   <g id=\"patch_3\">\n    <path d=\"M 43.78125 273.312 \nL 43.78125 7.2 \n\" style=\"fill: none; stroke: #000000; stroke-width: 0.8; stroke-linejoin: miter; stroke-linecap: square\"/>\n   </g>\n   <g id=\"patch_4\">\n    <path d=\"M 400.90125 273.312 \nL 400.90125 7.2 \n\" style=\"fill: none; stroke: #000000; stroke-width: 0.8; stroke-linejoin: miter; stroke-linecap: square\"/>\n   </g>\n   <g id=\"patch_5\">\n    <path d=\"M 43.78125 273.312 \nL 400.90125 273.312 \n\" style=\"fill: none; stroke: #000000; stroke-width: 0.8; stroke-linejoin: miter; stroke-linecap: square\"/>\n   </g>\n   <g id=\"patch_6\">\n    <path d=\"M 43.78125 7.2 \nL 400.90125 7.2 \n\" style=\"fill: none; stroke: #000000; stroke-width: 0.8; stroke-linejoin: miter; stroke-linecap: square\"/>\n   </g>\n   <g id=\"legend_1\">\n    <g id=\"patch_7\">\n     <path d=\"M 321.40125 44.596875 \nL 393.90125 44.596875 \nQ 395.90125 44.596875 395.90125 42.596875 \nL 395.90125 14.2 \nQ 395.90125 12.2 393.90125 12.2 \nL 321.40125 12.2 \nQ 319.40125 12.2 319.40125 14.2 \nL 319.40125 42.596875 \nQ 319.40125 44.596875 321.40125 44.596875 \nz\n\" style=\"fill: #ffffff; opacity: 0.8; stroke: #cccccc; stroke-linejoin: miter\"/>\n    </g>\n    <g id=\"line2d_18\">\n     <path d=\"M 323.40125 20.298437 \nL 333.40125 20.298437 \nL 343.40125 20.298437 \n\" style=\"fill: none; stroke: #1f77b4; stroke-width: 1.5; stroke-linecap: square\"/>\n    </g>\n    <g id=\"text_18\">\n     <!-- $\\gamma = 0.29$ -->\n     <g transform=\"translate(351.40125 23.798437)scale(0.1 -0.1)\">\n      <defs>\n       <path id=\"DejaVuSans-Oblique-3b3\" d=\"M 1491 2950 \nL 1838 788 \nL 3456 3500 \nL 4066 3500 \nL 1972 0 \nL 1713 -1331 \nL 1138 -1331 \nL 1397 0 \nL 988 2613 \nQ 925 3006 628 3006 \nL 475 3006 \nL 569 3500 \nL 788 3500 \nQ 1403 3500 1491 2950 \nz\n\" transform=\"scale(0.015625)\"/>\n       <path id=\"DejaVuSans-3d\" d=\"M 678 2906 \nL 4684 2906 \nL 4684 2381 \nL 678 2381 \nL 678 2906 \nz\nM 678 1631 \nL 4684 1631 \nL 4684 1100 \nL 678 1100 \nL 678 1631 \nz\n\" transform=\"scale(0.015625)\"/>\n       <path id=\"DejaVuSans-39\" d=\"M 703 97 \nL 703 672 \nQ 941 559 1184 500 \nQ 1428 441 1663 441 \nQ 2288 441 2617 861 \nQ 2947 1281 2994 2138 \nQ 2813 1869 2534 1725 \nQ 2256 1581 1919 1581 \nQ 1219 1581 811 2004 \nQ 403 2428 403 3163 \nQ 403 3881 828 4315 \nQ 1253 4750 1959 4750 \nQ 2769 4750 3195 4129 \nQ 3622 3509 3622 2328 \nQ 3622 1225 3098 567 \nQ 2575 -91 1691 -91 \nQ 1453 -91 1209 -44 \nQ 966 3 703 97 \nz\nM 1959 2075 \nQ 2384 2075 2632 2365 \nQ 2881 2656 2881 3163 \nQ 2881 3666 2632 3958 \nQ 2384 4250 1959 4250 \nQ 1534 4250 1286 3958 \nQ 1038 3666 1038 3163 \nQ 1038 2656 1286 2365 \nQ 1534 2075 1959 2075 \nz\n\" transform=\"scale(0.015625)\"/>\n      </defs>\n      <use xlink:href=\"#DejaVuSans-Oblique-3b3\" transform=\"translate(0 0.78125)\"/>\n      <use xlink:href=\"#DejaVuSans-3d\" transform=\"translate(78.662109 0.78125)\"/>\n      <use xlink:href=\"#DejaVuSans-30\" transform=\"translate(181.933594 0.78125)\"/>\n      <use xlink:href=\"#DejaVuSans-2e\" transform=\"translate(245.556641 0.78125)\"/>\n      <use xlink:href=\"#DejaVuSans-32\" transform=\"translate(271.84375 0.78125)\"/>\n      <use xlink:href=\"#DejaVuSans-39\" transform=\"translate(333.716797 0.78125)\"/>\n     </g>\n    </g>\n    <g id=\"line2d_19\">\n     <path d=\"M 323.40125 34.996875 \nL 333.40125 34.996875 \nL 343.40125 34.996875 \n\" style=\"fill: none; stroke: #ff7f0e; stroke-width: 1.5; stroke-linecap: square\"/>\n    </g>\n    <g id=\"text_19\">\n     <!-- $\\gamma = 1.05$ -->\n     <g transform=\"translate(351.40125 38.496875)scale(0.1 -0.1)\">\n      <use xlink:href=\"#DejaVuSans-Oblique-3b3\" transform=\"translate(0 0.78125)\"/>\n      <use xlink:href=\"#DejaVuSans-3d\" transform=\"translate(78.662109 0.78125)\"/>\n      <use xlink:href=\"#DejaVuSans-31\" transform=\"translate(181.933594 0.78125)\"/>\n      <use xlink:href=\"#DejaVuSans-2e\" transform=\"translate(245.556641 0.78125)\"/>\n      <use xlink:href=\"#DejaVuSans-30\" transform=\"translate(277.34375 0.78125)\"/>\n      <use xlink:href=\"#DejaVuSans-35\" transform=\"translate(340.966797 0.78125)\"/>\n     </g>\n    </g>\n   </g>\n  </g>\n </g>\n <defs>\n  <clipPath id=\"p0b94143f5c\">\n   <rect x=\"43.78125\" y=\"7.2\" width=\"357.12\" height=\"266.112\"/>\n  </clipPath>\n </defs>\n</svg>\n"
     },
     "metadata": {},
     "output_type": "display_data"
    }
   ],
   "source": [
    "# Plot return distributions for two points on the trade-off curve.\n",
    "import scipy.stats as spstats\n",
    "\n",
    "\n",
    "plt.figure()\n",
    "for midx, idx in enumerate(markers_on):\n",
    "    gamma.value = gamma_vals[idx]\n",
    "    prob.solve()\n",
    "    x = np.linspace(-2, 5, 1000)\n",
    "    plt.plot(\n",
    "        x,\n",
    "        spstats.norm.pdf(x, ret.value, risk.value),\n",
    "        label=r\"$\\gamma = %.2f$\" % gamma.value,\n",
    "    )\n",
    "\n",
    "plt.xlabel(\"Return\")\n",
    "plt.ylabel(\"Density\")\n",
    "plt.legend(loc=\"upper right\")\n",
    "plt.show()"
   ],
   "metadata": {
    "collapsed": false,
    "pycharm": {
     "name": "#%%\n"
    }
   }
  },
  {
   "cell_type": "markdown",
   "source": [
    "### Portfolio constraints\n",
    "\n",
    "There are many other possible portfolio constraints besides the long only constraint. With no constraint (${\\cal W} = {\\bf R}^n$), the optimization problem has a simple analytical solution. We will look in detail at a *leverage limit*, or the constraint that $\\|w \\|_1 \\leq L^\\mathrm{max}$.\n",
    "\n",
    "\n",
    "Another interesting constraint is the *market neutral* constraint $m^T \\Sigma w =0$, where $m_i$ is the capitalization of asset $i$.\n",
    "$M = m^Tr$ is the *market return*, and $m^T \\Sigma w = {\\bf cov}(M,R)$.\n",
    "The market neutral constraint ensures that the portfolio return is uncorrelated with the market return."
   ],
   "metadata": {
    "collapsed": false,
    "pycharm": {
     "name": "#%% md\n"
    }
   }
  },
  {
   "cell_type": "markdown",
   "source": [
    "### Example\n",
    "\n",
    "In the following code we compute and plot optimal risk-return trade-off curves for leverage limits of 1, 2, and 4.\n",
    "Notice that more leverage increases returns and allows greater risk."
   ],
   "metadata": {
    "collapsed": false,
    "pycharm": {
     "name": "#%% md\n"
    }
   }
  },
  {
   "cell_type": "code",
   "execution_count": 43,
   "outputs": [],
   "source": [
    "# Portfolio optimization with leverage limit.\n",
    "Lmax = cp.Parameter()\n",
    "prob = cp.Problem(\n",
    "    cp.Maximize(ret - gamma * risk), [cp.sum(w) == 1, cp.norm(w, 1) <= Lmax]\n",
    ")"
   ],
   "metadata": {
    "collapsed": false,
    "pycharm": {
     "name": "#%%\n"
    }
   }
  },
  {
   "cell_type": "code",
   "execution_count": 44,
   "outputs": [],
   "source": [
    "# Compute trade-off curve for each leverage limit.\n",
    "L_vals = [1, 2, 4]\n",
    "SAMPLES = 100\n",
    "risk_data = np.zeros((len(L_vals), SAMPLES))\n",
    "ret_data = np.zeros((len(L_vals), SAMPLES))\n",
    "gamma_vals = np.logspace(-2, 3, num=SAMPLES)\n",
    "w_vals = []\n",
    "for k, L_val in enumerate(L_vals):\n",
    "    for i in range(SAMPLES):\n",
    "        Lmax.value = L_val\n",
    "        gamma.value = gamma_vals[i]\n",
    "        prob.solve(solver=cp.SCS)\n",
    "        risk_data[k, i] = cp.sqrt(risk).value\n",
    "        ret_data[k, i] = ret.value"
   ],
   "metadata": {
    "collapsed": false,
    "pycharm": {
     "name": "#%%\n"
    }
   }
  },
  {
   "cell_type": "code",
   "execution_count": 45,
   "outputs": [
    {
     "data": {
      "text/plain": "<Figure size 640x480 with 1 Axes>",
      "image/svg+xml": "<?xml version=\"1.0\" encoding=\"utf-8\" standalone=\"no\"?>\n<!DOCTYPE svg PUBLIC \"-//W3C//DTD SVG 1.1//EN\"\n  \"http://www.w3.org/Graphics/SVG/1.1/DTD/svg11.dtd\">\n<svg xmlns:xlink=\"http://www.w3.org/1999/xlink\" width=\"398.560625pt\" height=\"310.86825pt\" viewBox=\"0 0 398.560625 310.86825\" xmlns=\"http://www.w3.org/2000/svg\" version=\"1.1\">\n <metadata>\n  <rdf:RDF xmlns:dc=\"http://purl.org/dc/elements/1.1/\" xmlns:cc=\"http://creativecommons.org/ns#\" xmlns:rdf=\"http://www.w3.org/1999/02/22-rdf-syntax-ns#\">\n   <cc:Work>\n    <dc:type rdf:resource=\"http://purl.org/dc/dcmitype/StillImage\"/>\n    <dc:date>2022-09-03T12:09:04.130823</dc:date>\n    <dc:format>image/svg+xml</dc:format>\n    <dc:creator>\n     <cc:Agent>\n      <dc:title>Matplotlib v3.5.3, https://matplotlib.org/</dc:title>\n     </cc:Agent>\n    </dc:creator>\n   </cc:Work>\n  </rdf:RDF>\n </metadata>\n <defs>\n  <style type=\"text/css\">*{stroke-linejoin: round; stroke-linecap: butt}</style>\n </defs>\n <g id=\"figure_1\">\n  <g id=\"patch_1\">\n   <path d=\"M 0 310.86825 \nL 398.560625 310.86825 \nL 398.560625 0 \nL 0 0 \nz\n\" style=\"fill: #ffffff\"/>\n  </g>\n  <g id=\"axes_1\">\n   <g id=\"patch_2\">\n    <path d=\"M 34.240625 273.312 \nL 391.360625 273.312 \nL 391.360625 7.2 \nL 34.240625 7.2 \nz\n\" style=\"fill: #ffffff\"/>\n   </g>\n   <g id=\"matplotlib.axis_1\">\n    <g id=\"xtick_1\">\n     <g id=\"line2d_1\">\n      <defs>\n       <path id=\"m0a86b5c451\" d=\"M 0 0 \nL 0 3.5 \n\" style=\"stroke: #000000; stroke-width: 0.8\"/>\n      </defs>\n      <g>\n       <use xlink:href=\"#m0a86b5c451\" x=\"34.632156\" y=\"273.312\" style=\"stroke: #000000; stroke-width: 0.8\"/>\n      </g>\n     </g>\n     <g id=\"text_1\">\n      <!-- 0 -->\n      <g transform=\"translate(31.450906 287.910437)scale(0.1 -0.1)\">\n       <defs>\n        <path id=\"DejaVuSans-30\" d=\"M 2034 4250 \nQ 1547 4250 1301 3770 \nQ 1056 3291 1056 2328 \nQ 1056 1369 1301 889 \nQ 1547 409 2034 409 \nQ 2525 409 2770 889 \nQ 3016 1369 3016 2328 \nQ 3016 3291 2770 3770 \nQ 2525 4250 2034 4250 \nz\nM 2034 4750 \nQ 2819 4750 3233 4129 \nQ 3647 3509 3647 2328 \nQ 3647 1150 3233 529 \nQ 2819 -91 2034 -91 \nQ 1250 -91 836 529 \nQ 422 1150 422 2328 \nQ 422 3509 836 4129 \nQ 1250 4750 2034 4750 \nz\n\" transform=\"scale(0.015625)\"/>\n       </defs>\n       <use xlink:href=\"#DejaVuSans-30\"/>\n      </g>\n     </g>\n    </g>\n    <g id=\"xtick_2\">\n     <g id=\"line2d_2\">\n      <g>\n       <use xlink:href=\"#m0a86b5c451\" x=\"80.396341\" y=\"273.312\" style=\"stroke: #000000; stroke-width: 0.8\"/>\n      </g>\n     </g>\n     <g id=\"text_2\">\n      <!-- 1 -->\n      <g transform=\"translate(77.215091 287.910437)scale(0.1 -0.1)\">\n       <defs>\n        <path id=\"DejaVuSans-31\" d=\"M 794 531 \nL 1825 531 \nL 1825 4091 \nL 703 3866 \nL 703 4441 \nL 1819 4666 \nL 2450 4666 \nL 2450 531 \nL 3481 531 \nL 3481 0 \nL 794 0 \nL 794 531 \nz\n\" transform=\"scale(0.015625)\"/>\n       </defs>\n       <use xlink:href=\"#DejaVuSans-31\"/>\n      </g>\n     </g>\n    </g>\n    <g id=\"xtick_3\">\n     <g id=\"line2d_3\">\n      <g>\n       <use xlink:href=\"#m0a86b5c451\" x=\"126.160526\" y=\"273.312\" style=\"stroke: #000000; stroke-width: 0.8\"/>\n      </g>\n     </g>\n     <g id=\"text_3\">\n      <!-- 2 -->\n      <g transform=\"translate(122.979276 287.910437)scale(0.1 -0.1)\">\n       <defs>\n        <path id=\"DejaVuSans-32\" d=\"M 1228 531 \nL 3431 531 \nL 3431 0 \nL 469 0 \nL 469 531 \nQ 828 903 1448 1529 \nQ 2069 2156 2228 2338 \nQ 2531 2678 2651 2914 \nQ 2772 3150 2772 3378 \nQ 2772 3750 2511 3984 \nQ 2250 4219 1831 4219 \nQ 1534 4219 1204 4116 \nQ 875 4013 500 3803 \nL 500 4441 \nQ 881 4594 1212 4672 \nQ 1544 4750 1819 4750 \nQ 2544 4750 2975 4387 \nQ 3406 4025 3406 3419 \nQ 3406 3131 3298 2873 \nQ 3191 2616 2906 2266 \nQ 2828 2175 2409 1742 \nQ 1991 1309 1228 531 \nz\n\" transform=\"scale(0.015625)\"/>\n       </defs>\n       <use xlink:href=\"#DejaVuSans-32\"/>\n      </g>\n     </g>\n    </g>\n    <g id=\"xtick_4\">\n     <g id=\"line2d_4\">\n      <g>\n       <use xlink:href=\"#m0a86b5c451\" x=\"171.924711\" y=\"273.312\" style=\"stroke: #000000; stroke-width: 0.8\"/>\n      </g>\n     </g>\n     <g id=\"text_4\">\n      <!-- 3 -->\n      <g transform=\"translate(168.743461 287.910437)scale(0.1 -0.1)\">\n       <defs>\n        <path id=\"DejaVuSans-33\" d=\"M 2597 2516 \nQ 3050 2419 3304 2112 \nQ 3559 1806 3559 1356 \nQ 3559 666 3084 287 \nQ 2609 -91 1734 -91 \nQ 1441 -91 1130 -33 \nQ 819 25 488 141 \nL 488 750 \nQ 750 597 1062 519 \nQ 1375 441 1716 441 \nQ 2309 441 2620 675 \nQ 2931 909 2931 1356 \nQ 2931 1769 2642 2001 \nQ 2353 2234 1838 2234 \nL 1294 2234 \nL 1294 2753 \nL 1863 2753 \nQ 2328 2753 2575 2939 \nQ 2822 3125 2822 3475 \nQ 2822 3834 2567 4026 \nQ 2313 4219 1838 4219 \nQ 1578 4219 1281 4162 \nQ 984 4106 628 3988 \nL 628 4550 \nQ 988 4650 1302 4700 \nQ 1616 4750 1894 4750 \nQ 2613 4750 3031 4423 \nQ 3450 4097 3450 3541 \nQ 3450 3153 3228 2886 \nQ 3006 2619 2597 2516 \nz\n\" transform=\"scale(0.015625)\"/>\n       </defs>\n       <use xlink:href=\"#DejaVuSans-33\"/>\n      </g>\n     </g>\n    </g>\n    <g id=\"xtick_5\">\n     <g id=\"line2d_5\">\n      <g>\n       <use xlink:href=\"#m0a86b5c451\" x=\"217.688896\" y=\"273.312\" style=\"stroke: #000000; stroke-width: 0.8\"/>\n      </g>\n     </g>\n     <g id=\"text_5\">\n      <!-- 4 -->\n      <g transform=\"translate(214.507646 287.910437)scale(0.1 -0.1)\">\n       <defs>\n        <path id=\"DejaVuSans-34\" d=\"M 2419 4116 \nL 825 1625 \nL 2419 1625 \nL 2419 4116 \nz\nM 2253 4666 \nL 3047 4666 \nL 3047 1625 \nL 3713 1625 \nL 3713 1100 \nL 3047 1100 \nL 3047 0 \nL 2419 0 \nL 2419 1100 \nL 313 1100 \nL 313 1709 \nL 2253 4666 \nz\n\" transform=\"scale(0.015625)\"/>\n       </defs>\n       <use xlink:href=\"#DejaVuSans-34\"/>\n      </g>\n     </g>\n    </g>\n    <g id=\"xtick_6\">\n     <g id=\"line2d_6\">\n      <g>\n       <use xlink:href=\"#m0a86b5c451\" x=\"263.453081\" y=\"273.312\" style=\"stroke: #000000; stroke-width: 0.8\"/>\n      </g>\n     </g>\n     <g id=\"text_6\">\n      <!-- 5 -->\n      <g transform=\"translate(260.271831 287.910437)scale(0.1 -0.1)\">\n       <defs>\n        <path id=\"DejaVuSans-35\" d=\"M 691 4666 \nL 3169 4666 \nL 3169 4134 \nL 1269 4134 \nL 1269 2991 \nQ 1406 3038 1543 3061 \nQ 1681 3084 1819 3084 \nQ 2600 3084 3056 2656 \nQ 3513 2228 3513 1497 \nQ 3513 744 3044 326 \nQ 2575 -91 1722 -91 \nQ 1428 -91 1123 -41 \nQ 819 9 494 109 \nL 494 744 \nQ 775 591 1075 516 \nQ 1375 441 1709 441 \nQ 2250 441 2565 725 \nQ 2881 1009 2881 1497 \nQ 2881 1984 2565 2268 \nQ 2250 2553 1709 2553 \nQ 1456 2553 1204 2497 \nQ 953 2441 691 2322 \nL 691 4666 \nz\n\" transform=\"scale(0.015625)\"/>\n       </defs>\n       <use xlink:href=\"#DejaVuSans-35\"/>\n      </g>\n     </g>\n    </g>\n    <g id=\"xtick_7\">\n     <g id=\"line2d_7\">\n      <g>\n       <use xlink:href=\"#m0a86b5c451\" x=\"309.217266\" y=\"273.312\" style=\"stroke: #000000; stroke-width: 0.8\"/>\n      </g>\n     </g>\n     <g id=\"text_7\">\n      <!-- 6 -->\n      <g transform=\"translate(306.036016 287.910437)scale(0.1 -0.1)\">\n       <defs>\n        <path id=\"DejaVuSans-36\" d=\"M 2113 2584 \nQ 1688 2584 1439 2293 \nQ 1191 2003 1191 1497 \nQ 1191 994 1439 701 \nQ 1688 409 2113 409 \nQ 2538 409 2786 701 \nQ 3034 994 3034 1497 \nQ 3034 2003 2786 2293 \nQ 2538 2584 2113 2584 \nz\nM 3366 4563 \nL 3366 3988 \nQ 3128 4100 2886 4159 \nQ 2644 4219 2406 4219 \nQ 1781 4219 1451 3797 \nQ 1122 3375 1075 2522 \nQ 1259 2794 1537 2939 \nQ 1816 3084 2150 3084 \nQ 2853 3084 3261 2657 \nQ 3669 2231 3669 1497 \nQ 3669 778 3244 343 \nQ 2819 -91 2113 -91 \nQ 1303 -91 875 529 \nQ 447 1150 447 2328 \nQ 447 3434 972 4092 \nQ 1497 4750 2381 4750 \nQ 2619 4750 2861 4703 \nQ 3103 4656 3366 4563 \nz\n\" transform=\"scale(0.015625)\"/>\n       </defs>\n       <use xlink:href=\"#DejaVuSans-36\"/>\n      </g>\n     </g>\n    </g>\n    <g id=\"xtick_8\">\n     <g id=\"line2d_8\">\n      <g>\n       <use xlink:href=\"#m0a86b5c451\" x=\"354.981451\" y=\"273.312\" style=\"stroke: #000000; stroke-width: 0.8\"/>\n      </g>\n     </g>\n     <g id=\"text_8\">\n      <!-- 7 -->\n      <g transform=\"translate(351.800201 287.910437)scale(0.1 -0.1)\">\n       <defs>\n        <path id=\"DejaVuSans-37\" d=\"M 525 4666 \nL 3525 4666 \nL 3525 4397 \nL 1831 0 \nL 1172 0 \nL 2766 4134 \nL 525 4134 \nL 525 4666 \nz\n\" transform=\"scale(0.015625)\"/>\n       </defs>\n       <use xlink:href=\"#DejaVuSans-37\"/>\n      </g>\n     </g>\n    </g>\n    <g id=\"text_9\">\n     <!-- Standard deviation -->\n     <g transform=\"translate(165.223281 301.588562)scale(0.1 -0.1)\">\n      <defs>\n       <path id=\"DejaVuSans-53\" d=\"M 3425 4513 \nL 3425 3897 \nQ 3066 4069 2747 4153 \nQ 2428 4238 2131 4238 \nQ 1616 4238 1336 4038 \nQ 1056 3838 1056 3469 \nQ 1056 3159 1242 3001 \nQ 1428 2844 1947 2747 \nL 2328 2669 \nQ 3034 2534 3370 2195 \nQ 3706 1856 3706 1288 \nQ 3706 609 3251 259 \nQ 2797 -91 1919 -91 \nQ 1588 -91 1214 -16 \nQ 841 59 441 206 \nL 441 856 \nQ 825 641 1194 531 \nQ 1563 422 1919 422 \nQ 2459 422 2753 634 \nQ 3047 847 3047 1241 \nQ 3047 1584 2836 1778 \nQ 2625 1972 2144 2069 \nL 1759 2144 \nQ 1053 2284 737 2584 \nQ 422 2884 422 3419 \nQ 422 4038 858 4394 \nQ 1294 4750 2059 4750 \nQ 2388 4750 2728 4690 \nQ 3069 4631 3425 4513 \nz\n\" transform=\"scale(0.015625)\"/>\n       <path id=\"DejaVuSans-74\" d=\"M 1172 4494 \nL 1172 3500 \nL 2356 3500 \nL 2356 3053 \nL 1172 3053 \nL 1172 1153 \nQ 1172 725 1289 603 \nQ 1406 481 1766 481 \nL 2356 481 \nL 2356 0 \nL 1766 0 \nQ 1100 0 847 248 \nQ 594 497 594 1153 \nL 594 3053 \nL 172 3053 \nL 172 3500 \nL 594 3500 \nL 594 4494 \nL 1172 4494 \nz\n\" transform=\"scale(0.015625)\"/>\n       <path id=\"DejaVuSans-61\" d=\"M 2194 1759 \nQ 1497 1759 1228 1600 \nQ 959 1441 959 1056 \nQ 959 750 1161 570 \nQ 1363 391 1709 391 \nQ 2188 391 2477 730 \nQ 2766 1069 2766 1631 \nL 2766 1759 \nL 2194 1759 \nz\nM 3341 1997 \nL 3341 0 \nL 2766 0 \nL 2766 531 \nQ 2569 213 2275 61 \nQ 1981 -91 1556 -91 \nQ 1019 -91 701 211 \nQ 384 513 384 1019 \nQ 384 1609 779 1909 \nQ 1175 2209 1959 2209 \nL 2766 2209 \nL 2766 2266 \nQ 2766 2663 2505 2880 \nQ 2244 3097 1772 3097 \nQ 1472 3097 1187 3025 \nQ 903 2953 641 2809 \nL 641 3341 \nQ 956 3463 1253 3523 \nQ 1550 3584 1831 3584 \nQ 2591 3584 2966 3190 \nQ 3341 2797 3341 1997 \nz\n\" transform=\"scale(0.015625)\"/>\n       <path id=\"DejaVuSans-6e\" d=\"M 3513 2113 \nL 3513 0 \nL 2938 0 \nL 2938 2094 \nQ 2938 2591 2744 2837 \nQ 2550 3084 2163 3084 \nQ 1697 3084 1428 2787 \nQ 1159 2491 1159 1978 \nL 1159 0 \nL 581 0 \nL 581 3500 \nL 1159 3500 \nL 1159 2956 \nQ 1366 3272 1645 3428 \nQ 1925 3584 2291 3584 \nQ 2894 3584 3203 3211 \nQ 3513 2838 3513 2113 \nz\n\" transform=\"scale(0.015625)\"/>\n       <path id=\"DejaVuSans-64\" d=\"M 2906 2969 \nL 2906 4863 \nL 3481 4863 \nL 3481 0 \nL 2906 0 \nL 2906 525 \nQ 2725 213 2448 61 \nQ 2172 -91 1784 -91 \nQ 1150 -91 751 415 \nQ 353 922 353 1747 \nQ 353 2572 751 3078 \nQ 1150 3584 1784 3584 \nQ 2172 3584 2448 3432 \nQ 2725 3281 2906 2969 \nz\nM 947 1747 \nQ 947 1113 1208 752 \nQ 1469 391 1925 391 \nQ 2381 391 2643 752 \nQ 2906 1113 2906 1747 \nQ 2906 2381 2643 2742 \nQ 2381 3103 1925 3103 \nQ 1469 3103 1208 2742 \nQ 947 2381 947 1747 \nz\n\" transform=\"scale(0.015625)\"/>\n       <path id=\"DejaVuSans-72\" d=\"M 2631 2963 \nQ 2534 3019 2420 3045 \nQ 2306 3072 2169 3072 \nQ 1681 3072 1420 2755 \nQ 1159 2438 1159 1844 \nL 1159 0 \nL 581 0 \nL 581 3500 \nL 1159 3500 \nL 1159 2956 \nQ 1341 3275 1631 3429 \nQ 1922 3584 2338 3584 \nQ 2397 3584 2469 3576 \nQ 2541 3569 2628 3553 \nL 2631 2963 \nz\n\" transform=\"scale(0.015625)\"/>\n       <path id=\"DejaVuSans-20\" transform=\"scale(0.015625)\"/>\n       <path id=\"DejaVuSans-65\" d=\"M 3597 1894 \nL 3597 1613 \nL 953 1613 \nQ 991 1019 1311 708 \nQ 1631 397 2203 397 \nQ 2534 397 2845 478 \nQ 3156 559 3463 722 \nL 3463 178 \nQ 3153 47 2828 -22 \nQ 2503 -91 2169 -91 \nQ 1331 -91 842 396 \nQ 353 884 353 1716 \nQ 353 2575 817 3079 \nQ 1281 3584 2069 3584 \nQ 2775 3584 3186 3129 \nQ 3597 2675 3597 1894 \nz\nM 3022 2063 \nQ 3016 2534 2758 2815 \nQ 2500 3097 2075 3097 \nQ 1594 3097 1305 2825 \nQ 1016 2553 972 2059 \nL 3022 2063 \nz\n\" transform=\"scale(0.015625)\"/>\n       <path id=\"DejaVuSans-76\" d=\"M 191 3500 \nL 800 3500 \nL 1894 563 \nL 2988 3500 \nL 3597 3500 \nL 2284 0 \nL 1503 0 \nL 191 3500 \nz\n\" transform=\"scale(0.015625)\"/>\n       <path id=\"DejaVuSans-69\" d=\"M 603 3500 \nL 1178 3500 \nL 1178 0 \nL 603 0 \nL 603 3500 \nz\nM 603 4863 \nL 1178 4863 \nL 1178 4134 \nL 603 4134 \nL 603 4863 \nz\n\" transform=\"scale(0.015625)\"/>\n       <path id=\"DejaVuSans-6f\" d=\"M 1959 3097 \nQ 1497 3097 1228 2736 \nQ 959 2375 959 1747 \nQ 959 1119 1226 758 \nQ 1494 397 1959 397 \nQ 2419 397 2687 759 \nQ 2956 1122 2956 1747 \nQ 2956 2369 2687 2733 \nQ 2419 3097 1959 3097 \nz\nM 1959 3584 \nQ 2709 3584 3137 3096 \nQ 3566 2609 3566 1747 \nQ 3566 888 3137 398 \nQ 2709 -91 1959 -91 \nQ 1206 -91 779 398 \nQ 353 888 353 1747 \nQ 353 2609 779 3096 \nQ 1206 3584 1959 3584 \nz\n\" transform=\"scale(0.015625)\"/>\n      </defs>\n      <use xlink:href=\"#DejaVuSans-53\"/>\n      <use xlink:href=\"#DejaVuSans-74\" x=\"63.476562\"/>\n      <use xlink:href=\"#DejaVuSans-61\" x=\"102.685547\"/>\n      <use xlink:href=\"#DejaVuSans-6e\" x=\"163.964844\"/>\n      <use xlink:href=\"#DejaVuSans-64\" x=\"227.34375\"/>\n      <use xlink:href=\"#DejaVuSans-61\" x=\"290.820312\"/>\n      <use xlink:href=\"#DejaVuSans-72\" x=\"352.099609\"/>\n      <use xlink:href=\"#DejaVuSans-64\" x=\"391.462891\"/>\n      <use xlink:href=\"#DejaVuSans-20\" x=\"454.939453\"/>\n      <use xlink:href=\"#DejaVuSans-64\" x=\"486.726562\"/>\n      <use xlink:href=\"#DejaVuSans-65\" x=\"550.203125\"/>\n      <use xlink:href=\"#DejaVuSans-76\" x=\"611.726562\"/>\n      <use xlink:href=\"#DejaVuSans-69\" x=\"670.90625\"/>\n      <use xlink:href=\"#DejaVuSans-61\" x=\"698.689453\"/>\n      <use xlink:href=\"#DejaVuSans-74\" x=\"759.96875\"/>\n      <use xlink:href=\"#DejaVuSans-69\" x=\"799.177734\"/>\n      <use xlink:href=\"#DejaVuSans-6f\" x=\"826.960938\"/>\n      <use xlink:href=\"#DejaVuSans-6e\" x=\"888.142578\"/>\n     </g>\n    </g>\n   </g>\n   <g id=\"matplotlib.axis_2\">\n    <g id=\"ytick_1\">\n     <g id=\"line2d_9\">\n      <defs>\n       <path id=\"mef808fc23b\" d=\"M 0 0 \nL -3.5 0 \n\" style=\"stroke: #000000; stroke-width: 0.8\"/>\n      </defs>\n      <g>\n       <use xlink:href=\"#mef808fc23b\" x=\"34.240625\" y=\"253.565572\" style=\"stroke: #000000; stroke-width: 0.8\"/>\n      </g>\n     </g>\n     <g id=\"text_10\">\n      <!-- 1 -->\n      <g transform=\"translate(20.878125 257.36479)scale(0.1 -0.1)\">\n       <use xlink:href=\"#DejaVuSans-31\"/>\n      </g>\n     </g>\n    </g>\n    <g id=\"ytick_2\">\n     <g id=\"line2d_10\">\n      <g>\n       <use xlink:href=\"#mef808fc23b\" x=\"34.240625\" y=\"199.192889\" style=\"stroke: #000000; stroke-width: 0.8\"/>\n      </g>\n     </g>\n     <g id=\"text_11\">\n      <!-- 2 -->\n      <g transform=\"translate(20.878125 202.992108)scale(0.1 -0.1)\">\n       <use xlink:href=\"#DejaVuSans-32\"/>\n      </g>\n     </g>\n    </g>\n    <g id=\"ytick_3\">\n     <g id=\"line2d_11\">\n      <g>\n       <use xlink:href=\"#mef808fc23b\" x=\"34.240625\" y=\"144.820206\" style=\"stroke: #000000; stroke-width: 0.8\"/>\n      </g>\n     </g>\n     <g id=\"text_12\">\n      <!-- 3 -->\n      <g transform=\"translate(20.878125 148.619425)scale(0.1 -0.1)\">\n       <use xlink:href=\"#DejaVuSans-33\"/>\n      </g>\n     </g>\n    </g>\n    <g id=\"ytick_4\">\n     <g id=\"line2d_12\">\n      <g>\n       <use xlink:href=\"#mef808fc23b\" x=\"34.240625\" y=\"90.447523\" style=\"stroke: #000000; stroke-width: 0.8\"/>\n      </g>\n     </g>\n     <g id=\"text_13\">\n      <!-- 4 -->\n      <g transform=\"translate(20.878125 94.246742)scale(0.1 -0.1)\">\n       <use xlink:href=\"#DejaVuSans-34\"/>\n      </g>\n     </g>\n    </g>\n    <g id=\"ytick_5\">\n     <g id=\"line2d_13\">\n      <g>\n       <use xlink:href=\"#mef808fc23b\" x=\"34.240625\" y=\"36.074841\" style=\"stroke: #000000; stroke-width: 0.8\"/>\n      </g>\n     </g>\n     <g id=\"text_14\">\n      <!-- 5 -->\n      <g transform=\"translate(20.878125 39.874059)scale(0.1 -0.1)\">\n       <use xlink:href=\"#DejaVuSans-35\"/>\n      </g>\n     </g>\n    </g>\n    <g id=\"text_15\">\n     <!-- Return -->\n     <g transform=\"translate(14.798438 156.847406)rotate(-90)scale(0.1 -0.1)\">\n      <defs>\n       <path id=\"DejaVuSans-52\" d=\"M 2841 2188 \nQ 3044 2119 3236 1894 \nQ 3428 1669 3622 1275 \nL 4263 0 \nL 3584 0 \nL 2988 1197 \nQ 2756 1666 2539 1819 \nQ 2322 1972 1947 1972 \nL 1259 1972 \nL 1259 0 \nL 628 0 \nL 628 4666 \nL 2053 4666 \nQ 2853 4666 3247 4331 \nQ 3641 3997 3641 3322 \nQ 3641 2881 3436 2590 \nQ 3231 2300 2841 2188 \nz\nM 1259 4147 \nL 1259 2491 \nL 2053 2491 \nQ 2509 2491 2742 2702 \nQ 2975 2913 2975 3322 \nQ 2975 3731 2742 3939 \nQ 2509 4147 2053 4147 \nL 1259 4147 \nz\n\" transform=\"scale(0.015625)\"/>\n       <path id=\"DejaVuSans-75\" d=\"M 544 1381 \nL 544 3500 \nL 1119 3500 \nL 1119 1403 \nQ 1119 906 1312 657 \nQ 1506 409 1894 409 \nQ 2359 409 2629 706 \nQ 2900 1003 2900 1516 \nL 2900 3500 \nL 3475 3500 \nL 3475 0 \nL 2900 0 \nL 2900 538 \nQ 2691 219 2414 64 \nQ 2138 -91 1772 -91 \nQ 1169 -91 856 284 \nQ 544 659 544 1381 \nz\nM 1991 3584 \nL 1991 3584 \nz\n\" transform=\"scale(0.015625)\"/>\n      </defs>\n      <use xlink:href=\"#DejaVuSans-52\"/>\n      <use xlink:href=\"#DejaVuSans-65\" x=\"64.982422\"/>\n      <use xlink:href=\"#DejaVuSans-74\" x=\"126.505859\"/>\n      <use xlink:href=\"#DejaVuSans-75\" x=\"165.714844\"/>\n      <use xlink:href=\"#DejaVuSans-72\" x=\"229.09375\"/>\n      <use xlink:href=\"#DejaVuSans-6e\" x=\"268.457031\"/>\n     </g>\n    </g>\n   </g>\n   <g id=\"line2d_14\">\n    <path d=\"M 151.946189 182.796873 \nL 151.948085 182.796172 \nL 151.945127 182.797425 \nL 151.945037 182.797462 \nL 151.944602 182.797637 \nL 151.943011 182.798287 \nL 151.938303 182.800253 \nL 151.944136 182.797842 \nL 151.941504 182.798996 \nL 151.943807 182.798013 \nL 151.939458 182.799511 \nL 151.945129 182.797424 \nL 151.945135 182.797421 \nL 151.944768 182.797518 \nL 151.943761 182.797798 \nL 146.608993 184.526909 \nL 141.182435 186.390702 \nL 136.677148 188.049875 \nL 132.95994 189.526852 \nL 127.189818 192.00515 \nL 121.06353 194.749646 \nL 115.093209 197.559062 \nL 108.623857 200.726501 \nL 102.377439 203.867168 \nL 96.98436 206.663095 \nL 92.353831 209.153187 \nL 88.401604 211.369064 \nL 85.049962 213.341677 \nL 82.226487 215.097671 \nL 79.863891 216.660722 \nL 77.90004 218.052187 \nL 76.277968 219.290768 \nL 74.946235 220.393733 \nL 73.691258 221.533524 \nL 71.525311 223.631029 \nL 69.404166 225.810323 \nL 67.591546 227.785573 \nL 66.08073 229.544209 \nL 64.812562 231.132401 \nL 62.541016 234.141708 \nL 60.600759 236.819683 \nL 58.953302 239.203883 \nL 57.563828 241.326255 \nL 56.399801 243.215572 \nL 55.430593 244.898454 \nL 54.629519 246.395926 \nL 53.971127 247.728997 \nL 53.432996 248.915715 \nL 52.995321 249.972017 \nL 52.640984 250.911827 \nL 52.355273 251.749013 \nL 52.12519 252.495068 \nL 51.940834 253.158562 \nL 51.71733 254.056084 \nL 51.516268 254.947634 \nL 51.367052 255.680005 \nL 51.308276 256.003392 \nL 51.261531 256.291407 \nL 51.224413 256.547678 \nL 51.194928 256.775904 \nL 51.171531 256.979023 \nL 51.153005 257.159463 \nL 51.138241 257.320837 \nL 51.126625 257.463325 \nL 51.117332 257.591303 \nL 51.109964 257.705289 \nL 51.104125 257.806757 \nL 51.099566 257.895666 \nL 51.095901 257.975924 \nL 51.093007 258.047124 \nL 51.090707 258.110655 \nL 51.088887 258.167116 \nL 51.087444 258.217429 \nL 51.086299 258.262289 \nL 51.085393 258.302095 \nL 51.084671 258.33779 \nL 51.084106 258.369121 \nL 51.083655 258.397341 \nL 51.083298 258.422226 \nL 51.083015 258.444602 \nL 51.08279 258.4645 \nL 51.082613 258.481959 \nL 51.082471 258.497991 \nL 51.08236 258.511726 \nL 51.082272 258.524383 \nL 51.082201 258.535174 \nL 51.082145 258.545183 \nL 51.082102 258.554117 \nL 51.082066 258.561663 \nL 51.082039 258.568715 \nL 51.082017 258.57502 \nL 51.082 258.580464 \nL 51.081986 258.585465 \nL 51.081971 258.589469 \nL 51.081966 258.593637 \nL 51.081959 258.597002 \nL 51.081956 258.600468 \nL 51.081949 258.602838 \nL 51.081947 258.605325 \nL 51.081973 258.605895 \n\" clip-path=\"url(#p3697748dd5)\" style=\"fill: none; stroke: #1f77b4; stroke-width: 1.5; stroke-linecap: square\"/>\n   </g>\n   <g id=\"line2d_15\">\n    <path d=\"M 228.273548 127.655443 \nL 227.529374 127.734466 \nL 226.937281 127.804958 \nL 226.465339 127.868391 \nL 226.085779 127.92714 \nL 225.795984 127.973461 \nL 223.265637 128.460817 \nL 218.380972 129.465664 \nL 214.409992 130.363398 \nL 211.212132 131.155087 \nL 208.636219 131.860071 \nL 203.148519 133.555463 \nL 192.253677 137.063452 \nL 183.053761 140.18465 \nL 175.334138 142.96649 \nL 168.905555 145.43798 \nL 163.581531 147.640843 \nL 159.012449 149.689556 \nL 151.189253 153.428272 \nL 144.594904 156.756528 \nL 139.073691 159.719389 \nL 132.630912 163.412843 \nL 125.877436 167.451624 \nL 118.768233 171.875102 \nL 112.919783 175.654159 \nL 108.538048 178.639625 \nL 103.060304 182.566651 \nL 98.235451 186.165309 \nL 94.134612 189.368887 \nL 90.67203 192.220761 \nL 87.767973 194.759543 \nL 85.50189 196.87535 \nL 82.419539 199.955315 \nL 79.700221 202.821383 \nL 77.422623 205.372817 \nL 75.527659 207.644171 \nL 73.71223 209.989401 \nL 71.965765 212.40328 \nL 70.423002 214.693588 \nL 68.543765 217.721209 \nL 65.671427 222.500512 \nL 63.190568 226.755311 \nL 61.059784 230.542718 \nL 59.240455 233.914333 \nL 57.697023 236.915643 \nL 56.39574 239.588534 \nL 55.306813 241.967134 \nL 54.401344 244.084468 \nL 53.652729 245.970503 \nL 53.038158 247.648701 \nL 52.536143 249.142662 \nL 52.128077 250.472614 \nL 51.797803 251.656559 \nL 51.531483 252.710525 \nL 51.317411 253.648781 \nL 51.145791 254.484037 \nL 51.008534 255.227446 \nL 50.898918 255.889358 \nL 50.811521 256.478601 \nL 50.741924 257.003155 \nL 50.686555 257.47012 \nL 50.64254 257.88582 \nL 50.607573 258.255883 \nL 50.579807 258.585319 \nL 50.557769 258.878588 \nL 50.540283 259.139661 \nL 50.526411 259.372073 \nL 50.51541 259.57897 \nL 50.506686 259.763155 \nL 50.499769 259.927119 \nL 50.494285 260.073084 \nL 50.489938 260.203025 \nL 50.486492 260.318703 \nL 50.483761 260.421682 \nL 50.481592 260.513527 \nL 50.47988 260.595003 \nL 50.47852 260.667654 \nL 50.477443 260.732315 \nL 50.476588 260.7899 \nL 50.475911 260.841166 \nL 50.475375 260.886808 \nL 50.47495 260.927442 \nL 50.474613 260.96362 \nL 50.474346 260.995832 \nL 50.474134 261.02451 \nL 50.473966 261.050046 \nL 50.473833 261.072782 \nL 50.473728 261.093027 \nL 50.473645 261.111053 \nL 50.47358 261.126782 \nL 50.473528 261.141038 \nL 50.473486 261.153727 \nL 50.473453 261.165034 \nL 50.473427 261.175119 \nL 50.473406 261.184305 \nL 50.47339 261.191985 \nL 50.473377 261.199072 \nL 50.473367 261.205497 \nL 50.473359 261.21103 \nL 50.473352 261.216 \n\" clip-path=\"url(#p3697748dd5)\" style=\"fill: none; stroke: #ff7f0e; stroke-width: 1.5; stroke-linecap: square\"/>\n   </g>\n   <g id=\"line2d_16\">\n    <path d=\"M 375.127898 19.296 \nL 364.177404 21.308745 \nL 355.22397 23.109081 \nL 347.959815 24.700958 \nL 342.070053 26.12707 \nL 337.329563 27.39022 \nL 333.50896 28.522268 \nL 319.871356 32.984867 \nL 303.616914 38.570915 \nL 289.999926 43.546461 \nL 278.672894 47.969342 \nL 269.303605 51.913605 \nL 261.612493 55.414932 \nL 248.583691 61.803072 \nL 237.105561 67.759157 \nL 227.529789 73.053827 \nL 219.586758 77.771543 \nL 207.482581 85.494765 \nL 191.281831 96.083537 \nL 177.141659 105.508807 \nL 164.848884 113.900404 \nL 154.209142 121.371545 \nL 145.054077 128.022302 \nL 137.220236 133.941703 \nL 130.558713 139.211944 \nL 124.931196 143.903596 \nL 119.599953 148.619024 \nL 115.418575 152.532901 \nL 111.967819 155.995416 \nL 109.119693 159.077825 \nL 104.722221 164.18794 \nL 100.739806 169.067109 \nL 97.401177 173.414682 \nL 94.623547 177.284958 \nL 90.553622 183.387689 \nL 84.935859 191.93459 \nL 79.990662 199.5456 \nL 75.651016 206.320108 \nL 71.854275 212.35084 \nL 68.544939 217.71928 \nL 65.672797 222.4982 \nL 63.191042 226.754483 \nL 61.059503 230.543228 \nL 59.240054 233.915093 \nL 57.696454 236.916779 \nL 56.395556 239.588924 \nL 55.306559 241.967708 \nL 54.400985 244.085338 \nL 53.652736 245.970484 \nL 53.038169 247.648669 \nL 52.536158 249.142615 \nL 52.128276 250.471933 \nL 51.797809 251.656533 \nL 51.531491 252.710491 \nL 51.317419 253.648742 \nL 51.1458 254.483989 \nL 51.008518 255.22754 \nL 50.898901 255.889461 \nL 50.811518 256.47862 \nL 50.741921 257.003176 \nL 50.686552 257.470145 \nL 50.642537 257.885848 \nL 50.60757 258.255915 \nL 50.579804 258.585355 \nL 50.557766 258.878629 \nL 50.54028 259.139707 \nL 50.526409 259.372125 \nL 50.515407 259.579028 \nL 50.506683 259.763218 \nL 50.499763 259.92728 \nL 50.494281 260.073201 \nL 50.489934 260.203152 \nL 50.486489 260.31881 \nL 50.483758 260.421796 \nL 50.481594 260.513478 \nL 50.479878 260.595101 \nL 50.478518 260.667769 \nL 50.47744 260.732467 \nL 50.476586 260.790069 \nL 50.475912 260.841156 \nL 50.475375 260.886767 \nL 50.47495 260.927398 \nL 50.474613 260.963571 \nL 50.474346 260.995781 \nL 50.474134 261.024466 \nL 50.473967 261.050013 \nL 50.473835 261.072477 \nL 50.47373 261.092691 \nL 50.473646 261.110686 \nL 50.47358 261.126705 \nL 50.473528 261.140966 \nL 50.473486 261.153661 \nL 50.473453 261.164963 \nL 50.473427 261.175025 \nL 50.473407 261.183978 \nL 50.47339 261.19195 \nL 50.473377 261.199046 \nL 50.473367 261.205362 \nL 50.473359 261.210984 \nL 50.473352 261.215988 \n\" clip-path=\"url(#p3697748dd5)\" style=\"fill: none; stroke: #2ca02c; stroke-width: 1.5; stroke-linecap: square\"/>\n   </g>\n   <g id=\"patch_3\">\n    <path d=\"M 34.240625 273.312 \nL 34.240625 7.2 \n\" style=\"fill: none; stroke: #000000; stroke-width: 0.8; stroke-linejoin: miter; stroke-linecap: square\"/>\n   </g>\n   <g id=\"patch_4\">\n    <path d=\"M 391.360625 273.312 \nL 391.360625 7.2 \n\" style=\"fill: none; stroke: #000000; stroke-width: 0.8; stroke-linejoin: miter; stroke-linecap: square\"/>\n   </g>\n   <g id=\"patch_5\">\n    <path d=\"M 34.240625 273.312 \nL 391.360625 273.312 \n\" style=\"fill: none; stroke: #000000; stroke-width: 0.8; stroke-linejoin: miter; stroke-linecap: square\"/>\n   </g>\n   <g id=\"patch_6\">\n    <path d=\"M 34.240625 7.2 \nL 391.360625 7.2 \n\" style=\"fill: none; stroke: #000000; stroke-width: 0.8; stroke-linejoin: miter; stroke-linecap: square\"/>\n   </g>\n   <g id=\"legend_1\">\n    <g id=\"patch_7\">\n     <path d=\"M 309.460625 268.312 \nL 384.360625 268.312 \nQ 386.360625 268.312 386.360625 266.312 \nL 386.360625 223.277625 \nQ 386.360625 221.277625 384.360625 221.277625 \nL 309.460625 221.277625 \nQ 307.460625 221.277625 307.460625 223.277625 \nL 307.460625 266.312 \nQ 307.460625 268.312 309.460625 268.312 \nz\n\" style=\"fill: #ffffff; opacity: 0.8; stroke: #cccccc; stroke-linejoin: miter\"/>\n    </g>\n    <g id=\"line2d_17\">\n     <path d=\"M 311.460625 229.376062 \nL 321.460625 229.376062 \nL 331.460625 229.376062 \n\" style=\"fill: none; stroke: #1f77b4; stroke-width: 1.5; stroke-linecap: square\"/>\n    </g>\n    <g id=\"text_16\">\n     <!-- $L^{\\max}$ = 1 -->\n     <g transform=\"translate(339.460625 232.876062)scale(0.1 -0.1)\">\n      <defs>\n       <path id=\"DejaVuSans-Oblique-4c\" d=\"M 1075 4666 \nL 1709 4666 \nL 909 525 \nL 3181 525 \nL 3078 0 \nL 172 0 \nL 1075 4666 \nz\n\" transform=\"scale(0.015625)\"/>\n       <path id=\"DejaVuSans-6d\" d=\"M 3328 2828 \nQ 3544 3216 3844 3400 \nQ 4144 3584 4550 3584 \nQ 5097 3584 5394 3201 \nQ 5691 2819 5691 2113 \nL 5691 0 \nL 5113 0 \nL 5113 2094 \nQ 5113 2597 4934 2840 \nQ 4756 3084 4391 3084 \nQ 3944 3084 3684 2787 \nQ 3425 2491 3425 1978 \nL 3425 0 \nL 2847 0 \nL 2847 2094 \nQ 2847 2600 2669 2842 \nQ 2491 3084 2119 3084 \nQ 1678 3084 1418 2786 \nQ 1159 2488 1159 1978 \nL 1159 0 \nL 581 0 \nL 581 3500 \nL 1159 3500 \nL 1159 2956 \nQ 1356 3278 1631 3431 \nQ 1906 3584 2284 3584 \nQ 2666 3584 2933 3390 \nQ 3200 3197 3328 2828 \nz\n\" transform=\"scale(0.015625)\"/>\n       <path id=\"DejaVuSans-78\" d=\"M 3513 3500 \nL 2247 1797 \nL 3578 0 \nL 2900 0 \nL 1881 1375 \nL 863 0 \nL 184 0 \nL 1544 1831 \nL 300 3500 \nL 978 3500 \nL 1906 2253 \nL 2834 3500 \nL 3513 3500 \nz\n\" transform=\"scale(0.015625)\"/>\n       <path id=\"DejaVuSans-3d\" d=\"M 678 2906 \nL 4684 2906 \nL 4684 2381 \nL 678 2381 \nL 678 2906 \nz\nM 678 1631 \nL 4684 1631 \nL 4684 1100 \nL 678 1100 \nL 678 1631 \nz\n\" transform=\"scale(0.015625)\"/>\n      </defs>\n      <use xlink:href=\"#DejaVuSans-Oblique-4c\" transform=\"translate(0 0.51875)\"/>\n      <use xlink:href=\"#DejaVuSans-6d\" transform=\"translate(62.729661 38.8)scale(0.7)\"/>\n      <use xlink:href=\"#DejaVuSans-61\" transform=\"translate(130.918138 38.8)scale(0.7)\"/>\n      <use xlink:href=\"#DejaVuSans-78\" transform=\"translate(173.813646 38.8)scale(0.7)\"/>\n      <use xlink:href=\"#DejaVuSans-20\" transform=\"translate(217.973802 0.51875)\"/>\n      <use xlink:href=\"#DejaVuSans-3d\" transform=\"translate(249.760911 0.51875)\"/>\n      <use xlink:href=\"#DejaVuSans-20\" transform=\"translate(333.549974 0.51875)\"/>\n      <use xlink:href=\"#DejaVuSans-31\" transform=\"translate(365.337083 0.51875)\"/>\n     </g>\n    </g>\n    <g id=\"line2d_18\">\n     <path d=\"M 311.460625 244.054187 \nL 321.460625 244.054187 \nL 331.460625 244.054187 \n\" style=\"fill: none; stroke: #ff7f0e; stroke-width: 1.5; stroke-linecap: square\"/>\n    </g>\n    <g id=\"text_17\">\n     <!-- $L^{\\max}$ = 2 -->\n     <g transform=\"translate(339.460625 247.554187)scale(0.1 -0.1)\">\n      <use xlink:href=\"#DejaVuSans-Oblique-4c\" transform=\"translate(0 0.51875)\"/>\n      <use xlink:href=\"#DejaVuSans-6d\" transform=\"translate(62.729661 38.8)scale(0.7)\"/>\n      <use xlink:href=\"#DejaVuSans-61\" transform=\"translate(130.918138 38.8)scale(0.7)\"/>\n      <use xlink:href=\"#DejaVuSans-78\" transform=\"translate(173.813646 38.8)scale(0.7)\"/>\n      <use xlink:href=\"#DejaVuSans-20\" transform=\"translate(217.973802 0.51875)\"/>\n      <use xlink:href=\"#DejaVuSans-3d\" transform=\"translate(249.760911 0.51875)\"/>\n      <use xlink:href=\"#DejaVuSans-20\" transform=\"translate(333.549974 0.51875)\"/>\n      <use xlink:href=\"#DejaVuSans-32\" transform=\"translate(365.337083 0.51875)\"/>\n     </g>\n    </g>\n    <g id=\"line2d_19\">\n     <path d=\"M 311.460625 258.732312 \nL 321.460625 258.732312 \nL 331.460625 258.732312 \n\" style=\"fill: none; stroke: #2ca02c; stroke-width: 1.5; stroke-linecap: square\"/>\n    </g>\n    <g id=\"text_18\">\n     <!-- $L^{\\max}$ = 4 -->\n     <g transform=\"translate(339.460625 262.232312)scale(0.1 -0.1)\">\n      <use xlink:href=\"#DejaVuSans-Oblique-4c\" transform=\"translate(0 0.51875)\"/>\n      <use xlink:href=\"#DejaVuSans-6d\" transform=\"translate(62.729661 38.8)scale(0.7)\"/>\n      <use xlink:href=\"#DejaVuSans-61\" transform=\"translate(130.918138 38.8)scale(0.7)\"/>\n      <use xlink:href=\"#DejaVuSans-78\" transform=\"translate(173.813646 38.8)scale(0.7)\"/>\n      <use xlink:href=\"#DejaVuSans-20\" transform=\"translate(217.973802 0.51875)\"/>\n      <use xlink:href=\"#DejaVuSans-3d\" transform=\"translate(249.760911 0.51875)\"/>\n      <use xlink:href=\"#DejaVuSans-20\" transform=\"translate(333.549974 0.51875)\"/>\n      <use xlink:href=\"#DejaVuSans-34\" transform=\"translate(365.337083 0.51875)\"/>\n     </g>\n    </g>\n   </g>\n  </g>\n </g>\n <defs>\n  <clipPath id=\"p3697748dd5\">\n   <rect x=\"34.240625\" y=\"7.2\" width=\"357.12\" height=\"266.112\"/>\n  </clipPath>\n </defs>\n</svg>\n"
     },
     "metadata": {},
     "output_type": "display_data"
    }
   ],
   "source": [
    "# Plot trade-off curves for each leverage limit.\n",
    "for idx, L_val in enumerate(L_vals):\n",
    "    plt.plot(risk_data[idx, :], ret_data[idx, :], label=r\"$L^{\\max}$ = %d\" % L_val)\n",
    "for w_val in w_vals:\n",
    "    w.value = w_val\n",
    "    plt.plot(cp.sqrt(risk).value, ret.value, \"bs\")\n",
    "plt.xlabel(\"Standard deviation\")\n",
    "plt.ylabel(\"Return\")\n",
    "plt.legend(loc=\"lower right\")\n",
    "plt.show()"
   ],
   "metadata": {
    "collapsed": false,
    "pycharm": {
     "name": "#%%\n"
    }
   }
  },
  {
   "cell_type": "markdown",
   "source": [
    "We next examine the points on each trade-off curve where $w^T\\Sigma w = 2$.\n",
    "We plot the amount of each asset held in each portfolio as bar graphs. (Negative holdings indicate a short position.)\n",
    "Notice that some assets are held in a long position for the low leverage portfolio but in a short position in the higher leverage portfolios. "
   ],
   "metadata": {
    "collapsed": false,
    "pycharm": {
     "name": "#%% md\n"
    }
   }
  },
  {
   "cell_type": "code",
   "execution_count": 46,
   "outputs": [],
   "source": [
    "# Portfolio optimization with a leverage limit and a bound on risk.\n",
    "prob = cp.Problem(cp.Maximize(ret), [cp.sum(w) == 1, cp.norm(w, 1) <= Lmax, risk <= 2])"
   ],
   "metadata": {
    "collapsed": false,
    "pycharm": {
     "name": "#%%\n"
    }
   }
  },
  {
   "cell_type": "code",
   "execution_count": 47,
   "outputs": [],
   "source": [
    "# Compute solution for different leverage limits.\n",
    "for k, L_val in enumerate(L_vals):\n",
    "    Lmax.value = L_val\n",
    "    prob.solve()\n",
    "    w_vals.append(w.value)"
   ],
   "metadata": {
    "collapsed": false,
    "pycharm": {
     "name": "#%%\n"
    }
   }
  },
  {
   "cell_type": "code",
   "execution_count": 48,
   "outputs": [
    {
     "data": {
      "text/plain": "<Figure size 640x480 with 1 Axes>",
      "image/svg+xml": "<?xml version=\"1.0\" encoding=\"utf-8\" standalone=\"no\"?>\n<!DOCTYPE svg PUBLIC \"-//W3C//DTD SVG 1.1//EN\"\n  \"http://www.w3.org/Graphics/SVG/1.1/DTD/svg11.dtd\">\n<svg xmlns:xlink=\"http://www.w3.org/1999/xlink\" width=\"422.287812pt\" height=\"316.675125pt\" viewBox=\"0 0 422.287812 316.675125\" xmlns=\"http://www.w3.org/2000/svg\" version=\"1.1\">\n <metadata>\n  <rdf:RDF xmlns:dc=\"http://purl.org/dc/elements/1.1/\" xmlns:cc=\"http://creativecommons.org/ns#\" xmlns:rdf=\"http://www.w3.org/1999/02/22-rdf-syntax-ns#\">\n   <cc:Work>\n    <dc:type rdf:resource=\"http://purl.org/dc/dcmitype/StillImage\"/>\n    <dc:date>2022-09-03T12:09:04.221535</dc:date>\n    <dc:format>image/svg+xml</dc:format>\n    <dc:creator>\n     <cc:Agent>\n      <dc:title>Matplotlib v3.5.3, https://matplotlib.org/</dc:title>\n     </cc:Agent>\n    </dc:creator>\n   </cc:Work>\n  </rdf:RDF>\n </metadata>\n <defs>\n  <style type=\"text/css\">*{stroke-linejoin: round; stroke-linecap: butt}</style>\n </defs>\n <g id=\"figure_1\">\n  <g id=\"patch_1\">\n   <path d=\"M 0 316.675125 \nL 422.287812 316.675125 \nL 422.287812 0 \nL 0 0 \nz\n\" style=\"fill: #ffffff\"/>\n  </g>\n  <g id=\"axes_1\">\n   <g id=\"patch_2\">\n    <path d=\"M 57.967813 273.312 \nL 415.087813 273.312 \nL 415.087813 7.2 \nL 57.967813 7.2 \nz\n\" style=\"fill: #ffffff\"/>\n   </g>\n   <g id=\"patch_3\">\n    <path d=\"M 53.389351 189.316391 \nL 62.546274 189.316391 \nL 62.546274 189.316391 \nL 53.389351 189.316391 \nz\n\" clip-path=\"url(#pe9ea828723)\" style=\"fill: #0000ff\"/>\n   </g>\n   <g id=\"patch_4\">\n    <path d=\"M 90.017043 189.316391 \nL 99.173966 189.316391 \nL 99.173966 189.316391 \nL 90.017043 189.316391 \nz\n\" clip-path=\"url(#pe9ea828723)\" style=\"fill: #0000ff\"/>\n   </g>\n   <g id=\"patch_5\">\n    <path d=\"M 126.644736 189.316391 \nL 135.801659 189.316391 \nL 135.801659 189.316391 \nL 126.644736 189.316391 \nz\n\" clip-path=\"url(#pe9ea828723)\" style=\"fill: #0000ff\"/>\n   </g>\n   <g id=\"patch_6\">\n    <path d=\"M 163.272428 189.316391 \nL 172.429351 189.316391 \nL 172.429351 189.316391 \nL 163.272428 189.316391 \nz\n\" clip-path=\"url(#pe9ea828723)\" style=\"fill: #0000ff\"/>\n   </g>\n   <g id=\"patch_7\">\n    <path d=\"M 199.90012 189.316391 \nL 209.057043 189.316391 \nL 209.057043 189.316391 \nL 199.90012 189.316391 \nz\n\" clip-path=\"url(#pe9ea828723)\" style=\"fill: #0000ff\"/>\n   </g>\n   <g id=\"patch_8\">\n    <path d=\"M 236.527813 189.316391 \nL 245.684736 189.316391 \nL 245.684736 175.804406 \nL 236.527813 175.804406 \nz\n\" clip-path=\"url(#pe9ea828723)\" style=\"fill: #0000ff\"/>\n   </g>\n   <g id=\"patch_9\">\n    <path d=\"M 273.155505 189.316391 \nL 282.312428 189.316391 \nL 282.312428 160.853988 \nL 273.155505 160.853988 \nz\n\" clip-path=\"url(#pe9ea828723)\" style=\"fill: #0000ff\"/>\n   </g>\n   <g id=\"patch_10\">\n    <path d=\"M 309.783197 189.316391 \nL 318.94012 189.316391 \nL 318.94012 184.883427 \nL 309.783197 184.883427 \nz\n\" clip-path=\"url(#pe9ea828723)\" style=\"fill: #0000ff\"/>\n   </g>\n   <g id=\"patch_11\">\n    <path d=\"M 346.410889 189.316391 \nL 355.567813 189.316391 \nL 355.567813 159.279891 \nL 346.410889 159.279891 \nz\n\" clip-path=\"url(#pe9ea828723)\" style=\"fill: #0000ff\"/>\n   </g>\n   <g id=\"patch_12\">\n    <path d=\"M 383.038582 189.316391 \nL 392.195505 189.316391 \nL 392.195505 87.707352 \nL 383.038582 87.707352 \nz\n\" clip-path=\"url(#pe9ea828723)\" style=\"fill: #0000ff\"/>\n   </g>\n   <g id=\"patch_13\">\n    <path d=\"M 62.546274 189.316391 \nL 71.703197 189.316391 \nL 71.703197 200.424891 \nL 62.546274 200.424891 \nz\n\" clip-path=\"url(#pe9ea828723)\" style=\"fill: #008000\"/>\n   </g>\n   <g id=\"patch_14\">\n    <path d=\"M 99.173966 189.316391 \nL 108.330889 189.316391 \nL 108.330889 189.316392 \nL 99.173966 189.316392 \nz\n\" clip-path=\"url(#pe9ea828723)\" style=\"fill: #008000\"/>\n   </g>\n   <g id=\"patch_15\">\n    <path d=\"M 135.801659 189.316391 \nL 144.958582 189.316391 \nL 144.958582 189.316392 \nL 135.801659 189.316392 \nz\n\" clip-path=\"url(#pe9ea828723)\" style=\"fill: #008000\"/>\n   </g>\n   <g id=\"patch_16\">\n    <path d=\"M 172.429351 189.316391 \nL 181.586274 189.316391 \nL 181.586274 244.496068 \nL 172.429351 244.496068 \nz\n\" clip-path=\"url(#pe9ea828723)\" style=\"fill: #008000\"/>\n   </g>\n   <g id=\"patch_17\">\n    <path d=\"M 209.057043 189.316391 \nL 218.213966 189.316391 \nL 218.213966 203.001171 \nL 209.057043 203.001171 \nz\n\" clip-path=\"url(#pe9ea828723)\" style=\"fill: #008000\"/>\n   </g>\n   <g id=\"patch_18\">\n    <path d=\"M 245.684736 189.316391 \nL 254.841659 189.316391 \nL 254.841659 148.438046 \nL 245.684736 148.438046 \nz\n\" clip-path=\"url(#pe9ea828723)\" style=\"fill: #008000\"/>\n   </g>\n   <g id=\"patch_19\">\n    <path d=\"M 282.312428 189.316391 \nL 291.469351 189.316391 \nL 291.469351 134.199566 \nL 282.312428 134.199566 \nz\n\" clip-path=\"url(#pe9ea828723)\" style=\"fill: #008000\"/>\n   </g>\n   <g id=\"patch_20\">\n    <path d=\"M 318.94012 189.316391 \nL 328.097043 189.316391 \nL 328.097043 198.369883 \nL 318.94012 198.369883 \nz\n\" clip-path=\"url(#pe9ea828723)\" style=\"fill: #008000\"/>\n   </g>\n   <g id=\"patch_21\">\n    <path d=\"M 355.567813 189.316391 \nL 364.724736 189.316391 \nL 364.724736 144.266424 \nL 355.567813 144.266424 \nz\n\" clip-path=\"url(#pe9ea828723)\" style=\"fill: #008000\"/>\n   </g>\n   <g id=\"patch_22\">\n    <path d=\"M 392.195505 189.316391 \nL 401.352428 189.316391 \nL 401.352428 63.28219 \nL 392.195505 63.28219 \nz\n\" clip-path=\"url(#pe9ea828723)\" style=\"fill: #008000\"/>\n   </g>\n   <g id=\"patch_23\">\n    <path d=\"M 71.703197 189.316391 \nL 80.86012 189.316391 \nL 80.86012 206.732437 \nL 71.703197 206.732437 \nz\n\" clip-path=\"url(#pe9ea828723)\" style=\"fill: #ff0000\"/>\n   </g>\n   <g id=\"patch_24\">\n    <path d=\"M 108.330889 189.316391 \nL 117.487813 189.316391 \nL 117.487813 169.95072 \nL 108.330889 169.95072 \nz\n\" clip-path=\"url(#pe9ea828723)\" style=\"fill: #ff0000\"/>\n   </g>\n   <g id=\"patch_25\">\n    <path d=\"M 144.958582 189.316391 \nL 154.115505 189.316391 \nL 154.115505 239.894703 \nL 144.958582 239.894703 \nz\n\" clip-path=\"url(#pe9ea828723)\" style=\"fill: #ff0000\"/>\n   </g>\n   <g id=\"patch_26\">\n    <path d=\"M 181.586274 189.316391 \nL 190.743197 189.316391 \nL 190.743197 261.216 \nL 181.586274 261.216 \nz\n\" clip-path=\"url(#pe9ea828723)\" style=\"fill: #ff0000\"/>\n   </g>\n   <g id=\"patch_27\">\n    <path d=\"M 218.213966 189.316391 \nL 227.370889 189.316391 \nL 227.370889 247.764124 \nL 218.213966 247.764124 \nz\n\" clip-path=\"url(#pe9ea828723)\" style=\"fill: #ff0000\"/>\n   </g>\n   <g id=\"patch_28\">\n    <path d=\"M 254.841659 189.316391 \nL 263.998582 189.316391 \nL 263.998582 73.334535 \nL 254.841659 73.334535 \nz\n\" clip-path=\"url(#pe9ea828723)\" style=\"fill: #ff0000\"/>\n   </g>\n   <g id=\"patch_29\">\n    <path d=\"M 291.469351 189.316391 \nL 300.626274 189.316391 \nL 300.626274 97.654817 \nL 291.469351 97.654817 \nz\n\" clip-path=\"url(#pe9ea828723)\" style=\"fill: #ff0000\"/>\n   </g>\n   <g id=\"patch_30\">\n    <path d=\"M 328.097043 189.316391 \nL 337.253966 189.316391 \nL 337.253966 258.05403 \nL 328.097043 258.05403 \nz\n\" clip-path=\"url(#pe9ea828723)\" style=\"fill: #ff0000\"/>\n   </g>\n   <g id=\"patch_31\">\n    <path d=\"M 364.724736 189.316391 \nL 373.881659 189.316391 \nL 373.881659 141.213656 \nL 364.724736 141.213656 \nz\n\" clip-path=\"url(#pe9ea828723)\" style=\"fill: #ff0000\"/>\n   </g>\n   <g id=\"patch_32\">\n    <path d=\"M 401.352428 189.316391 \nL 410.509351 189.316391 \nL 410.509351 19.296 \nL 401.352428 19.296 \nz\n\" clip-path=\"url(#pe9ea828723)\" style=\"fill: #ff0000\"/>\n   </g>\n   <g id=\"matplotlib.axis_1\">\n    <g id=\"xtick_1\">\n     <g id=\"line2d_1\">\n      <defs>\n       <path id=\"m0093944aac\" d=\"M 0 0 \nL 0 3.5 \n\" style=\"stroke: #000000; stroke-width: 0.8\"/>\n      </defs>\n      <g>\n       <use xlink:href=\"#m0093944aac\" x=\"71.703197\" y=\"273.312\" style=\"stroke: #000000; stroke-width: 0.8\"/>\n      </g>\n     </g>\n     <g id=\"text_1\">\n      <!-- 1 -->\n      <g transform=\"translate(68.521947 287.910437)scale(0.1 -0.1)\">\n       <defs>\n        <path id=\"DejaVuSans-31\" d=\"M 794 531 \nL 1825 531 \nL 1825 4091 \nL 703 3866 \nL 703 4441 \nL 1819 4666 \nL 2450 4666 \nL 2450 531 \nL 3481 531 \nL 3481 0 \nL 794 0 \nL 794 531 \nz\n\" transform=\"scale(0.015625)\"/>\n       </defs>\n       <use xlink:href=\"#DejaVuSans-31\"/>\n      </g>\n     </g>\n    </g>\n    <g id=\"xtick_2\">\n     <g id=\"line2d_2\">\n      <g>\n       <use xlink:href=\"#m0093944aac\" x=\"108.330889\" y=\"273.312\" style=\"stroke: #000000; stroke-width: 0.8\"/>\n      </g>\n     </g>\n     <g id=\"text_2\">\n      <!-- 2 -->\n      <g transform=\"translate(105.149639 287.910437)scale(0.1 -0.1)\">\n       <defs>\n        <path id=\"DejaVuSans-32\" d=\"M 1228 531 \nL 3431 531 \nL 3431 0 \nL 469 0 \nL 469 531 \nQ 828 903 1448 1529 \nQ 2069 2156 2228 2338 \nQ 2531 2678 2651 2914 \nQ 2772 3150 2772 3378 \nQ 2772 3750 2511 3984 \nQ 2250 4219 1831 4219 \nQ 1534 4219 1204 4116 \nQ 875 4013 500 3803 \nL 500 4441 \nQ 881 4594 1212 4672 \nQ 1544 4750 1819 4750 \nQ 2544 4750 2975 4387 \nQ 3406 4025 3406 3419 \nQ 3406 3131 3298 2873 \nQ 3191 2616 2906 2266 \nQ 2828 2175 2409 1742 \nQ 1991 1309 1228 531 \nz\n\" transform=\"scale(0.015625)\"/>\n       </defs>\n       <use xlink:href=\"#DejaVuSans-32\"/>\n      </g>\n     </g>\n    </g>\n    <g id=\"xtick_3\">\n     <g id=\"line2d_3\">\n      <g>\n       <use xlink:href=\"#m0093944aac\" x=\"144.958582\" y=\"273.312\" style=\"stroke: #000000; stroke-width: 0.8\"/>\n      </g>\n     </g>\n     <g id=\"text_3\">\n      <!-- 3 -->\n      <g transform=\"translate(141.777332 287.910437)scale(0.1 -0.1)\">\n       <defs>\n        <path id=\"DejaVuSans-33\" d=\"M 2597 2516 \nQ 3050 2419 3304 2112 \nQ 3559 1806 3559 1356 \nQ 3559 666 3084 287 \nQ 2609 -91 1734 -91 \nQ 1441 -91 1130 -33 \nQ 819 25 488 141 \nL 488 750 \nQ 750 597 1062 519 \nQ 1375 441 1716 441 \nQ 2309 441 2620 675 \nQ 2931 909 2931 1356 \nQ 2931 1769 2642 2001 \nQ 2353 2234 1838 2234 \nL 1294 2234 \nL 1294 2753 \nL 1863 2753 \nQ 2328 2753 2575 2939 \nQ 2822 3125 2822 3475 \nQ 2822 3834 2567 4026 \nQ 2313 4219 1838 4219 \nQ 1578 4219 1281 4162 \nQ 984 4106 628 3988 \nL 628 4550 \nQ 988 4650 1302 4700 \nQ 1616 4750 1894 4750 \nQ 2613 4750 3031 4423 \nQ 3450 4097 3450 3541 \nQ 3450 3153 3228 2886 \nQ 3006 2619 2597 2516 \nz\n\" transform=\"scale(0.015625)\"/>\n       </defs>\n       <use xlink:href=\"#DejaVuSans-33\"/>\n      </g>\n     </g>\n    </g>\n    <g id=\"xtick_4\">\n     <g id=\"line2d_4\">\n      <g>\n       <use xlink:href=\"#m0093944aac\" x=\"181.586274\" y=\"273.312\" style=\"stroke: #000000; stroke-width: 0.8\"/>\n      </g>\n     </g>\n     <g id=\"text_4\">\n      <!-- 4 -->\n      <g transform=\"translate(178.405024 287.910437)scale(0.1 -0.1)\">\n       <defs>\n        <path id=\"DejaVuSans-34\" d=\"M 2419 4116 \nL 825 1625 \nL 2419 1625 \nL 2419 4116 \nz\nM 2253 4666 \nL 3047 4666 \nL 3047 1625 \nL 3713 1625 \nL 3713 1100 \nL 3047 1100 \nL 3047 0 \nL 2419 0 \nL 2419 1100 \nL 313 1100 \nL 313 1709 \nL 2253 4666 \nz\n\" transform=\"scale(0.015625)\"/>\n       </defs>\n       <use xlink:href=\"#DejaVuSans-34\"/>\n      </g>\n     </g>\n    </g>\n    <g id=\"xtick_5\">\n     <g id=\"line2d_5\">\n      <g>\n       <use xlink:href=\"#m0093944aac\" x=\"218.213966\" y=\"273.312\" style=\"stroke: #000000; stroke-width: 0.8\"/>\n      </g>\n     </g>\n     <g id=\"text_5\">\n      <!-- 5 -->\n      <g transform=\"translate(215.032716 287.910437)scale(0.1 -0.1)\">\n       <defs>\n        <path id=\"DejaVuSans-35\" d=\"M 691 4666 \nL 3169 4666 \nL 3169 4134 \nL 1269 4134 \nL 1269 2991 \nQ 1406 3038 1543 3061 \nQ 1681 3084 1819 3084 \nQ 2600 3084 3056 2656 \nQ 3513 2228 3513 1497 \nQ 3513 744 3044 326 \nQ 2575 -91 1722 -91 \nQ 1428 -91 1123 -41 \nQ 819 9 494 109 \nL 494 744 \nQ 775 591 1075 516 \nQ 1375 441 1709 441 \nQ 2250 441 2565 725 \nQ 2881 1009 2881 1497 \nQ 2881 1984 2565 2268 \nQ 2250 2553 1709 2553 \nQ 1456 2553 1204 2497 \nQ 953 2441 691 2322 \nL 691 4666 \nz\n\" transform=\"scale(0.015625)\"/>\n       </defs>\n       <use xlink:href=\"#DejaVuSans-35\"/>\n      </g>\n     </g>\n    </g>\n    <g id=\"xtick_6\">\n     <g id=\"line2d_6\">\n      <g>\n       <use xlink:href=\"#m0093944aac\" x=\"254.841659\" y=\"273.312\" style=\"stroke: #000000; stroke-width: 0.8\"/>\n      </g>\n     </g>\n     <g id=\"text_6\">\n      <!-- 6 -->\n      <g transform=\"translate(251.660409 287.910437)scale(0.1 -0.1)\">\n       <defs>\n        <path id=\"DejaVuSans-36\" d=\"M 2113 2584 \nQ 1688 2584 1439 2293 \nQ 1191 2003 1191 1497 \nQ 1191 994 1439 701 \nQ 1688 409 2113 409 \nQ 2538 409 2786 701 \nQ 3034 994 3034 1497 \nQ 3034 2003 2786 2293 \nQ 2538 2584 2113 2584 \nz\nM 3366 4563 \nL 3366 3988 \nQ 3128 4100 2886 4159 \nQ 2644 4219 2406 4219 \nQ 1781 4219 1451 3797 \nQ 1122 3375 1075 2522 \nQ 1259 2794 1537 2939 \nQ 1816 3084 2150 3084 \nQ 2853 3084 3261 2657 \nQ 3669 2231 3669 1497 \nQ 3669 778 3244 343 \nQ 2819 -91 2113 -91 \nQ 1303 -91 875 529 \nQ 447 1150 447 2328 \nQ 447 3434 972 4092 \nQ 1497 4750 2381 4750 \nQ 2619 4750 2861 4703 \nQ 3103 4656 3366 4563 \nz\n\" transform=\"scale(0.015625)\"/>\n       </defs>\n       <use xlink:href=\"#DejaVuSans-36\"/>\n      </g>\n     </g>\n    </g>\n    <g id=\"xtick_7\">\n     <g id=\"line2d_7\">\n      <g>\n       <use xlink:href=\"#m0093944aac\" x=\"291.469351\" y=\"273.312\" style=\"stroke: #000000; stroke-width: 0.8\"/>\n      </g>\n     </g>\n     <g id=\"text_7\">\n      <!-- 7 -->\n      <g transform=\"translate(288.288101 287.910437)scale(0.1 -0.1)\">\n       <defs>\n        <path id=\"DejaVuSans-37\" d=\"M 525 4666 \nL 3525 4666 \nL 3525 4397 \nL 1831 0 \nL 1172 0 \nL 2766 4134 \nL 525 4134 \nL 525 4666 \nz\n\" transform=\"scale(0.015625)\"/>\n       </defs>\n       <use xlink:href=\"#DejaVuSans-37\"/>\n      </g>\n     </g>\n    </g>\n    <g id=\"xtick_8\">\n     <g id=\"line2d_8\">\n      <g>\n       <use xlink:href=\"#m0093944aac\" x=\"328.097043\" y=\"273.312\" style=\"stroke: #000000; stroke-width: 0.8\"/>\n      </g>\n     </g>\n     <g id=\"text_8\">\n      <!-- 8 -->\n      <g transform=\"translate(324.915793 287.910437)scale(0.1 -0.1)\">\n       <defs>\n        <path id=\"DejaVuSans-38\" d=\"M 2034 2216 \nQ 1584 2216 1326 1975 \nQ 1069 1734 1069 1313 \nQ 1069 891 1326 650 \nQ 1584 409 2034 409 \nQ 2484 409 2743 651 \nQ 3003 894 3003 1313 \nQ 3003 1734 2745 1975 \nQ 2488 2216 2034 2216 \nz\nM 1403 2484 \nQ 997 2584 770 2862 \nQ 544 3141 544 3541 \nQ 544 4100 942 4425 \nQ 1341 4750 2034 4750 \nQ 2731 4750 3128 4425 \nQ 3525 4100 3525 3541 \nQ 3525 3141 3298 2862 \nQ 3072 2584 2669 2484 \nQ 3125 2378 3379 2068 \nQ 3634 1759 3634 1313 \nQ 3634 634 3220 271 \nQ 2806 -91 2034 -91 \nQ 1263 -91 848 271 \nQ 434 634 434 1313 \nQ 434 1759 690 2068 \nQ 947 2378 1403 2484 \nz\nM 1172 3481 \nQ 1172 3119 1398 2916 \nQ 1625 2713 2034 2713 \nQ 2441 2713 2670 2916 \nQ 2900 3119 2900 3481 \nQ 2900 3844 2670 4047 \nQ 2441 4250 2034 4250 \nQ 1625 4250 1398 4047 \nQ 1172 3844 1172 3481 \nz\n\" transform=\"scale(0.015625)\"/>\n       </defs>\n       <use xlink:href=\"#DejaVuSans-38\"/>\n      </g>\n     </g>\n    </g>\n    <g id=\"xtick_9\">\n     <g id=\"line2d_9\">\n      <g>\n       <use xlink:href=\"#m0093944aac\" x=\"364.724736\" y=\"273.312\" style=\"stroke: #000000; stroke-width: 0.8\"/>\n      </g>\n     </g>\n     <g id=\"text_9\">\n      <!-- 9 -->\n      <g transform=\"translate(361.543486 287.910437)scale(0.1 -0.1)\">\n       <defs>\n        <path id=\"DejaVuSans-39\" d=\"M 703 97 \nL 703 672 \nQ 941 559 1184 500 \nQ 1428 441 1663 441 \nQ 2288 441 2617 861 \nQ 2947 1281 2994 2138 \nQ 2813 1869 2534 1725 \nQ 2256 1581 1919 1581 \nQ 1219 1581 811 2004 \nQ 403 2428 403 3163 \nQ 403 3881 828 4315 \nQ 1253 4750 1959 4750 \nQ 2769 4750 3195 4129 \nQ 3622 3509 3622 2328 \nQ 3622 1225 3098 567 \nQ 2575 -91 1691 -91 \nQ 1453 -91 1209 -44 \nQ 966 3 703 97 \nz\nM 1959 2075 \nQ 2384 2075 2632 2365 \nQ 2881 2656 2881 3163 \nQ 2881 3666 2632 3958 \nQ 2384 4250 1959 4250 \nQ 1534 4250 1286 3958 \nQ 1038 3666 1038 3163 \nQ 1038 2656 1286 2365 \nQ 1534 2075 1959 2075 \nz\n\" transform=\"scale(0.015625)\"/>\n       </defs>\n       <use xlink:href=\"#DejaVuSans-39\"/>\n      </g>\n     </g>\n    </g>\n    <g id=\"xtick_10\">\n     <g id=\"line2d_10\">\n      <g>\n       <use xlink:href=\"#m0093944aac\" x=\"401.352428\" y=\"273.312\" style=\"stroke: #000000; stroke-width: 0.8\"/>\n      </g>\n     </g>\n     <g id=\"text_10\">\n      <!-- 10 -->\n      <g transform=\"translate(394.989928 287.910437)scale(0.1 -0.1)\">\n       <defs>\n        <path id=\"DejaVuSans-30\" d=\"M 2034 4250 \nQ 1547 4250 1301 3770 \nQ 1056 3291 1056 2328 \nQ 1056 1369 1301 889 \nQ 1547 409 2034 409 \nQ 2525 409 2770 889 \nQ 3016 1369 3016 2328 \nQ 3016 3291 2770 3770 \nQ 2525 4250 2034 4250 \nz\nM 2034 4750 \nQ 2819 4750 3233 4129 \nQ 3647 3509 3647 2328 \nQ 3647 1150 3233 529 \nQ 2819 -91 2034 -91 \nQ 1250 -91 836 529 \nQ 422 1150 422 2328 \nQ 422 3509 836 4129 \nQ 1250 4750 2034 4750 \nz\n\" transform=\"scale(0.015625)\"/>\n       </defs>\n       <use xlink:href=\"#DejaVuSans-31\"/>\n       <use xlink:href=\"#DejaVuSans-30\" x=\"63.623047\"/>\n      </g>\n     </g>\n    </g>\n    <g id=\"text_11\">\n     <!-- $i$ -->\n     <g transform=\"translate(234.287813 306.147625)scale(0.16 -0.16)\">\n      <defs>\n       <path id=\"DejaVuSans-Oblique-69\" d=\"M 1172 4863 \nL 1747 4863 \nL 1606 4134 \nL 1031 4134 \nL 1172 4863 \nz\nM 909 3500 \nL 1484 3500 \nL 800 0 \nL 225 0 \nL 909 3500 \nz\n\" transform=\"scale(0.015625)\"/>\n      </defs>\n      <use xlink:href=\"#DejaVuSans-Oblique-69\" transform=\"translate(0 0.015625)\"/>\n     </g>\n    </g>\n   </g>\n   <g id=\"matplotlib.axis_2\">\n    <g id=\"ytick_1\">\n     <g id=\"line2d_11\">\n      <defs>\n       <path id=\"mb89de5bb62\" d=\"M 0 0 \nL -3.5 0 \n\" style=\"stroke: #000000; stroke-width: 0.8\"/>\n      </defs>\n      <g>\n       <use xlink:href=\"#mb89de5bb62\" x=\"57.967813\" y=\"260.537549\" style=\"stroke: #000000; stroke-width: 0.8\"/>\n      </g>\n     </g>\n     <g id=\"text_12\">\n      <!-- −0.4 -->\n      <g transform=\"translate(26.685 264.336768)scale(0.1 -0.1)\">\n       <defs>\n        <path id=\"DejaVuSans-2212\" d=\"M 678 2272 \nL 4684 2272 \nL 4684 1741 \nL 678 1741 \nL 678 2272 \nz\n\" transform=\"scale(0.015625)\"/>\n        <path id=\"DejaVuSans-2e\" d=\"M 684 794 \nL 1344 794 \nL 1344 0 \nL 684 0 \nL 684 794 \nz\n\" transform=\"scale(0.015625)\"/>\n       </defs>\n       <use xlink:href=\"#DejaVuSans-2212\"/>\n       <use xlink:href=\"#DejaVuSans-30\" x=\"83.789062\"/>\n       <use xlink:href=\"#DejaVuSans-2e\" x=\"147.412109\"/>\n       <use xlink:href=\"#DejaVuSans-34\" x=\"179.199219\"/>\n      </g>\n     </g>\n    </g>\n    <g id=\"ytick_2\">\n     <g id=\"line2d_12\">\n      <g>\n       <use xlink:href=\"#mb89de5bb62\" x=\"57.967813\" y=\"224.92697\" style=\"stroke: #000000; stroke-width: 0.8\"/>\n      </g>\n     </g>\n     <g id=\"text_13\">\n      <!-- −0.2 -->\n      <g transform=\"translate(26.685 228.726189)scale(0.1 -0.1)\">\n       <use xlink:href=\"#DejaVuSans-2212\"/>\n       <use xlink:href=\"#DejaVuSans-30\" x=\"83.789062\"/>\n       <use xlink:href=\"#DejaVuSans-2e\" x=\"147.412109\"/>\n       <use xlink:href=\"#DejaVuSans-32\" x=\"179.199219\"/>\n      </g>\n     </g>\n    </g>\n    <g id=\"ytick_3\">\n     <g id=\"line2d_13\">\n      <g>\n       <use xlink:href=\"#mb89de5bb62\" x=\"57.967813\" y=\"189.316391\" style=\"stroke: #000000; stroke-width: 0.8\"/>\n      </g>\n     </g>\n     <g id=\"text_14\">\n      <!-- 0.0 -->\n      <g transform=\"translate(35.064687 193.11561)scale(0.1 -0.1)\">\n       <use xlink:href=\"#DejaVuSans-30\"/>\n       <use xlink:href=\"#DejaVuSans-2e\" x=\"63.623047\"/>\n       <use xlink:href=\"#DejaVuSans-30\" x=\"95.410156\"/>\n      </g>\n     </g>\n    </g>\n    <g id=\"ytick_4\">\n     <g id=\"line2d_14\">\n      <g>\n       <use xlink:href=\"#mb89de5bb62\" x=\"57.967813\" y=\"153.705813\" style=\"stroke: #000000; stroke-width: 0.8\"/>\n      </g>\n     </g>\n     <g id=\"text_15\">\n      <!-- 0.2 -->\n      <g transform=\"translate(35.064687 157.505032)scale(0.1 -0.1)\">\n       <use xlink:href=\"#DejaVuSans-30\"/>\n       <use xlink:href=\"#DejaVuSans-2e\" x=\"63.623047\"/>\n       <use xlink:href=\"#DejaVuSans-32\" x=\"95.410156\"/>\n      </g>\n     </g>\n    </g>\n    <g id=\"ytick_5\">\n     <g id=\"line2d_15\">\n      <g>\n       <use xlink:href=\"#mb89de5bb62\" x=\"57.967813\" y=\"118.095234\" style=\"stroke: #000000; stroke-width: 0.8\"/>\n      </g>\n     </g>\n     <g id=\"text_16\">\n      <!-- 0.4 -->\n      <g transform=\"translate(35.064687 121.894453)scale(0.1 -0.1)\">\n       <use xlink:href=\"#DejaVuSans-30\"/>\n       <use xlink:href=\"#DejaVuSans-2e\" x=\"63.623047\"/>\n       <use xlink:href=\"#DejaVuSans-34\" x=\"95.410156\"/>\n      </g>\n     </g>\n    </g>\n    <g id=\"ytick_6\">\n     <g id=\"line2d_16\">\n      <g>\n       <use xlink:href=\"#mb89de5bb62\" x=\"57.967813\" y=\"82.484655\" style=\"stroke: #000000; stroke-width: 0.8\"/>\n      </g>\n     </g>\n     <g id=\"text_17\">\n      <!-- 0.6 -->\n      <g transform=\"translate(35.064687 86.283874)scale(0.1 -0.1)\">\n       <use xlink:href=\"#DejaVuSans-30\"/>\n       <use xlink:href=\"#DejaVuSans-2e\" x=\"63.623047\"/>\n       <use xlink:href=\"#DejaVuSans-36\" x=\"95.410156\"/>\n      </g>\n     </g>\n    </g>\n    <g id=\"ytick_7\">\n     <g id=\"line2d_17\">\n      <g>\n       <use xlink:href=\"#mb89de5bb62\" x=\"57.967813\" y=\"46.874077\" style=\"stroke: #000000; stroke-width: 0.8\"/>\n      </g>\n     </g>\n     <g id=\"text_18\">\n      <!-- 0.8 -->\n      <g transform=\"translate(35.064687 50.673295)scale(0.1 -0.1)\">\n       <use xlink:href=\"#DejaVuSans-30\"/>\n       <use xlink:href=\"#DejaVuSans-2e\" x=\"63.623047\"/>\n       <use xlink:href=\"#DejaVuSans-38\" x=\"95.410156\"/>\n      </g>\n     </g>\n    </g>\n    <g id=\"ytick_8\">\n     <g id=\"line2d_18\">\n      <g>\n       <use xlink:href=\"#mb89de5bb62\" x=\"57.967813\" y=\"11.263498\" style=\"stroke: #000000; stroke-width: 0.8\"/>\n      </g>\n     </g>\n     <g id=\"text_19\">\n      <!-- 1.0 -->\n      <g transform=\"translate(35.064687 15.062717)scale(0.1 -0.1)\">\n       <use xlink:href=\"#DejaVuSans-31\"/>\n       <use xlink:href=\"#DejaVuSans-2e\" x=\"63.623047\"/>\n       <use xlink:href=\"#DejaVuSans-30\" x=\"95.410156\"/>\n      </g>\n     </g>\n    </g>\n    <g id=\"text_20\">\n     <!-- $w_i$ -->\n     <g transform=\"translate(19.3575 148.576)rotate(-90)scale(0.16 -0.16)\">\n      <defs>\n       <path id=\"DejaVuSans-Oblique-77\" d=\"M 544 3500 \nL 1113 3500 \nL 1259 684 \nL 2566 3500 \nL 3231 3500 \nL 3425 684 \nL 4666 3500 \nL 5241 3500 \nL 3641 0 \nL 2969 0 \nL 2797 2900 \nL 1459 0 \nL 781 0 \nL 544 3500 \nz\n\" transform=\"scale(0.015625)\"/>\n      </defs>\n      <use xlink:href=\"#DejaVuSans-Oblique-77\" transform=\"translate(0 0.3125)\"/>\n      <use xlink:href=\"#DejaVuSans-Oblique-69\" transform=\"translate(81.787109 -16.09375)scale(0.7)\"/>\n     </g>\n    </g>\n   </g>\n   <g id=\"patch_33\">\n    <path d=\"M 57.967813 273.312 \nL 57.967813 7.2 \n\" style=\"fill: none; stroke: #000000; stroke-width: 0.8; stroke-linejoin: miter; stroke-linecap: square\"/>\n   </g>\n   <g id=\"patch_34\">\n    <path d=\"M 415.087813 273.312 \nL 415.087813 7.2 \n\" style=\"fill: none; stroke: #000000; stroke-width: 0.8; stroke-linejoin: miter; stroke-linecap: square\"/>\n   </g>\n   <g id=\"patch_35\">\n    <path d=\"M 57.967813 273.312 \nL 415.087813 273.312 \n\" style=\"fill: none; stroke: #000000; stroke-width: 0.8; stroke-linejoin: miter; stroke-linecap: square\"/>\n   </g>\n   <g id=\"patch_36\">\n    <path d=\"M 57.967813 7.2 \nL 415.087813 7.2 \n\" style=\"fill: none; stroke: #000000; stroke-width: 0.8; stroke-linejoin: miter; stroke-linecap: square\"/>\n   </g>\n  </g>\n </g>\n <defs>\n  <clipPath id=\"pe9ea828723\">\n   <rect x=\"57.967813\" y=\"7.2\" width=\"357.12\" height=\"266.112\"/>\n  </clipPath>\n </defs>\n</svg>\n"
     },
     "metadata": {},
     "output_type": "display_data"
    }
   ],
   "source": [
    "# Plot bar graph of holdings for different leverage limits.\n",
    "colors = [\"b\", \"g\", \"r\"]\n",
    "indices = np.argsort(mu.flatten())\n",
    "for idx, L_val in enumerate(L_vals):\n",
    "    plt.bar(\n",
    "        np.arange(1, n + 1) + 0.25 * idx - 0.375,\n",
    "        w_vals[idx][indices],\n",
    "        color=colors[idx],\n",
    "        label=r\"$L^{\\max}$ = %d\" % L_val,\n",
    "        width=0.25,\n",
    "    )\n",
    "plt.ylabel(r\"$w_i$\", fontsize=16)\n",
    "plt.xlabel(r\"$i$\", fontsize=16)\n",
    "plt.xlim([1 - 0.375, 10 + 0.375])\n",
    "plt.xticks(np.arange(1, n + 1))\n",
    "plt.show()"
   ],
   "metadata": {
    "collapsed": false,
    "pycharm": {
     "name": "#%%\n"
    }
   }
  },
  {
   "cell_type": "markdown",
   "source": [
    "### Variations\n",
    "\n",
    "There are many more variations of classical portfolio optimization. We might require that $\\mu^T w \\geq R^\\mathrm{min}$ and minimize $w^T \\Sigma w$ or $\\|\\Sigma ^{1/2} w\\|_2$.\n",
    "We could include the (broker) cost of short positions as the penalty $s^T (w)_-$ for some $s \\geq 0$.\n",
    "We could include transaction costs (from a previous portfolio $w^\\mathrm{prev}$) as the penalty\n",
    "\n",
    "$$\n",
    "\\kappa ^T |w-w^\\mathrm{prev}|^\\eta, \\quad\n",
    "\\kappa \\geq 0.\n",
    "$$\n",
    "\n",
    "\n",
    "Common values of $\\eta$ are $\\eta =1, ~ 3/2, ~2$.\n"
   ],
   "metadata": {
    "collapsed": false,
    "pycharm": {
     "name": "#%% md\n"
    }
   }
  },
  {
   "cell_type": "markdown",
   "source": [
    "### Factor covariance model\n",
    "\n",
    "A particularly common and useful variation is to model the covariance matrix $\\Sigma$ as a factor model\n",
    "\n",
    "$$\n",
    "\\Sigma  =  F \\tilde \\Sigma F^T + D,\n",
    "$$\n",
    "\n",
    "where  $F \\in {\\bf R}^{n \\times k}$, $k \\ll n$ is the *factor loading matrix*. $k$ is the number of factors (or sectors) (typically 10s). $F_{ij}$ is the loading of asset $i$ to factor $j$.\n",
    "$D$ is a diagonal matrix; $D_{ii}>0$ is the *idiosyncratic risk*. $\\tilde \\Sigma > 0$ is the *factor covariance matrix*.\n",
    "\n",
    "$F^Tw \\in {\\bf R}^k$ gives the portfolio *factor exposures*. A portfolio is *factor $j$ neutral* if $(F^Tw)_j=0$.\n"
   ],
   "metadata": {
    "collapsed": false,
    "pycharm": {
     "name": "#%% md\n"
    }
   }
  },
  {
   "cell_type": "markdown",
   "source": [
    "### Portfolio optimization with factor covariance model\n",
    "\n",
    "Using the factor covariance model, we frame the portfolio optimization problem as \n",
    "\n",
    "\\begin{array}{ll} \\mbox{maximize} & \\mu^T w - \\gamma \\left(f^T \\tilde \\Sigma f  + w^TDw \\right) \\\\\n",
    "\\mbox{subject to} & {\\bf 1}^T w = 1, \\quad f=F^Tw\\\\\n",
    "& w \\in {\\cal W}, \\quad f \\in {\\cal F},\n",
    "\\end{array}\n",
    "\n",
    "where the variables are the allocations $w \\in {\\bf R}^n$ and factor exposures $f\\in {\\bf R}^k$ and $\\cal F$ gives the factor exposure constraints.\n",
    "\n",
    "Using the factor covariance model in the optimization problem has a computational advantage. The solve time is $O(nk^2)$ versus $O(n^3)$ for the standard problem."
   ],
   "metadata": {
    "collapsed": false,
    "pycharm": {
     "name": "#%% md\n"
    }
   }
  },
  {
   "cell_type": "markdown",
   "source": [
    "### Example\n",
    "\n",
    "In the following code we generate and solve a portfolio optimization problem with 50 factors and 3000 assets.\n",
    "We set the leverage limit $=2$ and $\\gamma=0.1$.\n",
    "\n",
    "We solve the problem both with the covariance given as a single matrix and as a factor model.\n",
    "Using CVXPY with the OSQP solver running in a single thread, the solve time was 173.30 seconds for the single matrix formulation and 0.85 seconds for the factor model formulation.\n",
    "We collected the timings on a MacBook Air with an Intel Core i7 processor."
   ],
   "metadata": {
    "collapsed": false,
    "pycharm": {
     "name": "#%% md\n"
    }
   }
  },
  {
   "cell_type": "code",
   "execution_count": 49,
   "outputs": [],
   "source": [
    "# Generate data for factor model.\n",
    "n = 1000\n",
    "m = 50\n",
    "np.random.seed(1)\n",
    "mu = np.abs(np.random.randn(n, 1))\n",
    "Sigma_tilde = np.random.randn(m, m)\n",
    "Sigma_tilde = Sigma_tilde.T.dot(Sigma_tilde)\n",
    "D = sp.diags(np.random.uniform(0, 0.9, size=n))\n",
    "F = np.random.randn(n, m)"
   ],
   "metadata": {
    "collapsed": false,
    "pycharm": {
     "name": "#%%\n"
    }
   }
  },
  {
   "cell_type": "code",
   "execution_count": 53,
   "outputs": [
    {
     "name": "stdout",
     "output_type": "stream",
     "text": [
      "===============================================================================\n",
      "                                     CVXPY                                     \n",
      "                                     v1.2.1                                    \n",
      "===============================================================================\n",
      "(CVXPY) Sep 03 12:10:22 PM: Your problem has 1050 variables, 3 constraints, and 2 parameters.\n",
      "(CVXPY) Sep 03 12:10:22 PM: It is compliant with the following grammars: DCP, DQCP\n",
      "(CVXPY) Sep 03 12:10:22 PM: CVXPY will first compile your problem; then, it will invoke a numerical solver to obtain a solution.\n",
      "-------------------------------------------------------------------------------\n",
      "                                  Compilation                                  \n",
      "-------------------------------------------------------------------------------\n",
      "(CVXPY) Sep 03 12:10:22 PM: Compiling problem (target solver=OSQP).\n",
      "(CVXPY) Sep 03 12:10:22 PM: Reduction chain: FlipObjective -> CvxAttr2Constr -> Qp2SymbolicQp -> QpMatrixStuffing -> OSQP\n",
      "(CVXPY) Sep 03 12:10:22 PM: Applying reduction FlipObjective\n",
      "(CVXPY) Sep 03 12:10:22 PM: Applying reduction CvxAttr2Constr\n",
      "(CVXPY) Sep 03 12:10:22 PM: Applying reduction Qp2SymbolicQp\n",
      "(CVXPY) Sep 03 12:10:22 PM: Applying reduction QpMatrixStuffing\n",
      "(CVXPY) Sep 03 12:10:22 PM: Applying reduction OSQP\n",
      "(CVXPY) Sep 03 12:10:22 PM: Finished problem compilation (took 2.089e-02 seconds).\n",
      "(CVXPY) Sep 03 12:10:22 PM: (Subsequent compilations of this problem, using the same arguments, should take less time.)\n",
      "-------------------------------------------------------------------------------\n",
      "                                Numerical solver                               \n",
      "-------------------------------------------------------------------------------\n",
      "(CVXPY) Sep 03 12:10:22 PM: Invoking solver OSQP  to obtain a solution.\n",
      "-----------------------------------------------------------------\n",
      "           OSQP v0.6.2  -  Operator Splitting QP Solver\n",
      "              (c) Bartolomeo Stellato,  Goran Banjac\n",
      "        University of Oxford  -  Stanford University 2021\n",
      "-----------------------------------------------------------------\n",
      "problem:  variables n = 3100, constraints m = 3102\n",
      "          nnz(P) + nnz(A) = 60425\n",
      "settings: linear system solver = qdldl,\n",
      "          eps_abs = 1.0e-05, eps_rel = 1.0e-05,\n",
      "          eps_prim_inf = 1.0e-04, eps_dual_inf = 1.0e-04,\n",
      "          rho = 1.00e-01 (adaptive),\n",
      "          sigma = 1.00e-06, alpha = 1.60, max_iter = 10000\n",
      "          check_termination: on (interval 25),\n",
      "          scaling: on, scaled_termination: off\n",
      "          warm start: on, polish: on, time_limit: off\n",
      "\n",
      "iter   objective    pri res    dua res    rho        time\n",
      "   1  -7.4806e+02   7.97e+00   3.72e+02   1.00e-01   8.16e-03s\n",
      " 200  -3.8552e+00   2.72e-04   2.92e-03   7.01e-01   6.10e-02s\n",
      " 400  -3.8645e+00   3.96e-05   1.75e-04   7.01e-01   1.09e-01s\n",
      " 550  -3.8637e+00   2.69e-05   4.14e-05   7.01e-01   1.45e-01s\n",
      "\n",
      "status:               solved\n",
      "solution polish:      unsuccessful\n",
      "number of iterations: 550\n",
      "optimal objective:    -3.8637\n",
      "run time:             1.51e-01s\n",
      "optimal rho estimate: 6.89e-01\n",
      "\n",
      "-------------------------------------------------------------------------------\n",
      "                                    Summary                                    \n",
      "-------------------------------------------------------------------------------\n",
      "(CVXPY) Sep 03 12:10:22 PM: Problem status: optimal\n",
      "(CVXPY) Sep 03 12:10:22 PM: Optimal value: 3.864e+00\n",
      "(CVXPY) Sep 03 12:10:22 PM: Compilation took 2.089e-02 seconds\n",
      "(CVXPY) Sep 03 12:10:22 PM: Solver (including time spent in interface) took 1.523e-01 seconds\n"
     ]
    },
    {
     "data": {
      "text/plain": "3.8637056753614725"
     },
     "execution_count": 53,
     "metadata": {},
     "output_type": "execute_result"
    }
   ],
   "source": [
    "# Factor model portfolio optimization.\n",
    "w = cp.Variable(n)\n",
    "f = cp.Variable(m)\n",
    "gamma = cp.Parameter(nonneg=True)\n",
    "Lmax = cp.Parameter()\n",
    "ret = mu.T @ w\n",
    "risk = cp.sum_squares(np.transpose(np.linalg.cholesky(Sigma_tilde)) @ f) + cp.sum_squares(np.sqrt(D) @ w)\n",
    "prob_factor = cp.Problem(\n",
    "    cp.Maximize(ret - gamma * risk),\n",
    "    [cp.sum(w) == 1, f == F.T @ w, cp.norm(w, 1) <= Lmax],\n",
    ")\n",
    "\n",
    "# Solve the factor model problem.\n",
    "Lmax.value = 2\n",
    "gamma.value = 0.1\n",
    "prob_factor.solve(verbose=True)"
   ],
   "metadata": {
    "collapsed": false,
    "pycharm": {
     "name": "#%%\n"
    }
   }
  },
  {
   "cell_type": "code",
   "execution_count": 54,
   "outputs": [
    {
     "name": "stdout",
     "output_type": "stream",
     "text": [
      "===============================================================================\n",
      "                                     CVXPY                                     \n",
      "                                     v1.2.1                                    \n",
      "===============================================================================\n",
      "(CVXPY) Sep 03 12:10:39 PM: Your problem has 1000 variables, 2 constraints, and 2 parameters.\n",
      "(CVXPY) Sep 03 12:10:39 PM: It is compliant with the following grammars: DCP, DQCP\n",
      "(CVXPY) Sep 03 12:10:39 PM: CVXPY will first compile your problem; then, it will invoke a numerical solver to obtain a solution.\n",
      "-------------------------------------------------------------------------------\n",
      "                                  Compilation                                  \n",
      "-------------------------------------------------------------------------------\n",
      "(CVXPY) Sep 03 12:10:39 PM: Compiling problem (target solver=OSQP).\n",
      "(CVXPY) Sep 03 12:10:39 PM: Reduction chain: FlipObjective -> CvxAttr2Constr -> Qp2SymbolicQp -> QpMatrixStuffing -> OSQP\n",
      "(CVXPY) Sep 03 12:10:39 PM: Applying reduction FlipObjective\n",
      "(CVXPY) Sep 03 12:10:39 PM: Applying reduction CvxAttr2Constr\n",
      "(CVXPY) Sep 03 12:10:39 PM: Applying reduction Qp2SymbolicQp\n",
      "(CVXPY) Sep 03 12:10:39 PM: Applying reduction QpMatrixStuffing\n",
      "(CVXPY) Sep 03 12:10:39 PM: Applying reduction OSQP\n",
      "(CVXPY) Sep 03 12:10:39 PM: Finished problem compilation (took 1.652e-01 seconds).\n",
      "(CVXPY) Sep 03 12:10:39 PM: (Subsequent compilations of this problem, using the same arguments, should take less time.)\n",
      "-------------------------------------------------------------------------------\n",
      "                                Numerical solver                               \n",
      "-------------------------------------------------------------------------------\n",
      "(CVXPY) Sep 03 12:10:39 PM: Invoking solver OSQP  to obtain a solution.\n",
      "-----------------------------------------------------------------\n",
      "           OSQP v0.6.2  -  Operator Splitting QP Solver\n",
      "              (c) Bartolomeo Stellato,  Goran Banjac\n",
      "        University of Oxford  -  Stanford University 2021\n",
      "-----------------------------------------------------------------\n",
      "problem:  variables n = 3000, constraints m = 3002\n",
      "          nnz(P) + nnz(A) = 508500\n",
      "settings: linear system solver = qdldl,\n",
      "          eps_abs = 1.0e-05, eps_rel = 1.0e-05,\n",
      "          eps_prim_inf = 1.0e-04, eps_dual_inf = 1.0e-04,\n",
      "          rho = 1.00e-01 (adaptive),\n",
      "          sigma = 1.00e-06, alpha = 1.60, max_iter = 100000\n",
      "          check_termination: on (interval 25),\n",
      "          scaling: on, scaled_termination: off\n",
      "          warm start: on, polish: on, time_limit: off\n",
      "\n",
      "iter   objective    pri res    dua res    rho        time\n",
      "   1  -1.6017e+03   2.21e+01   4.44e+02   1.00e-01   1.52e-01s\n",
      " 200  -3.6091e+00   2.51e-03   7.36e-03   7.55e-01   5.00e-01s\n",
      " 400  -3.8615e+00   5.64e-04   7.92e-04   7.55e-01   7.48e-01s\n",
      " 600  -3.8662e+00   1.07e-04   8.68e-05   7.55e-01   9.86e-01s\n",
      " 800  -3.8659e+00   8.50e-05   4.87e-05   7.55e-01   1.22e+00s\n",
      "1000  -3.8657e+00   6.45e-05   3.16e-06   7.55e-01   1.46e+00s\n",
      "1200  -3.8639e+00   3.55e-05   9.13e-06   7.55e-01   1.70e+00s\n",
      "1400  -3.8636e+00   3.10e-05   1.67e-06   7.55e-01   1.94e+00s\n",
      "1475  -3.8636e+00   2.96e-05   1.35e-06   7.55e-01   2.02e+00s\n",
      "\n",
      "status:               solved\n",
      "solution polish:      unsuccessful\n",
      "number of iterations: 1475\n",
      "optimal objective:    -3.8636\n",
      "run time:             2.15e+00s\n",
      "optimal rho estimate: 2.42e+00\n",
      "\n",
      "-------------------------------------------------------------------------------\n",
      "                                    Summary                                    \n",
      "-------------------------------------------------------------------------------\n",
      "(CVXPY) Sep 03 12:10:42 PM: Problem status: optimal\n",
      "(CVXPY) Sep 03 12:10:42 PM: Optimal value: 3.864e+00\n",
      "(CVXPY) Sep 03 12:10:42 PM: Compilation took 1.652e-01 seconds\n",
      "(CVXPY) Sep 03 12:10:42 PM: Solver (including time spent in interface) took 2.158e+00 seconds\n"
     ]
    },
    {
     "data": {
      "text/plain": "3.863598668744041"
     },
     "execution_count": 54,
     "metadata": {},
     "output_type": "execute_result"
    }
   ],
   "source": [
    "#from cvxpy.atoms.affine.wraps import psd_wrap\n",
    "\n",
    "# Standard portfolio optimization with data from factor model.\n",
    "#risk = cp.quad_form(w, psd_wrap(F.dot(Sigma_tilde).dot(F.T) + D))\n",
    "#w_old = w\n",
    "\n",
    "w_full = cp.Variable(n)\n",
    "ret = mu.T @ w_full\n",
    "cov = F.dot(Sigma_tilde).dot(F.T) + D\n",
    "risk = cp.sum_squares(np.transpose(np.linalg.cholesky(cov)) @ w_full)\n",
    "prob = cp.Problem(\n",
    "    cp.Maximize(ret - gamma * risk), [cp.sum(w_full) == 1, cp.norm(w_full, 1) <= Lmax]\n",
    ")\n",
    "\n",
    "# Uncomment to solve the problem.\n",
    "# WARNING: this will take many minutes to run.\n",
    "prob.solve(verbose=True, max_iter=100_000)"
   ],
   "metadata": {
    "collapsed": false,
    "pycharm": {
     "name": "#%%\n"
    }
   }
  },
  {
   "cell_type": "code",
   "execution_count": 55,
   "outputs": [
    {
     "name": "stdout",
     "output_type": "stream",
     "text": [
      "Factor model solve time = 0.150900873\n",
      "Single model solve time = 2.1531082909999997\n"
     ]
    }
   ],
   "source": [
    "print(\"Factor model solve time = {}\".format(prob_factor.solver_stats.solve_time))\n",
    "print(\"Single model solve time = {}\".format(prob.solver_stats.solve_time))"
   ],
   "metadata": {
    "collapsed": false,
    "pycharm": {
     "name": "#%%\n"
    }
   }
  },
  {
   "cell_type": "code",
   "execution_count": 52,
   "outputs": [],
   "source": [],
   "metadata": {
    "collapsed": false,
    "pycharm": {
     "name": "#%%\n"
    }
   }
  }
 ],
 "metadata": {
  "kernelspec": {
   "display_name": "Python 3",
   "language": "python",
   "name": "python3"
  },
  "language_info": {
   "codemirror_mode": {
    "name": "ipython",
    "version": 3
   },
   "file_extension": ".py",
   "mimetype": "text/x-python",
   "name": "python",
   "nbconvert_exporter": "python",
   "pygments_lexer": "ipython3",
   "version": "3.6.7"
  }
 },
 "nbformat": 4,
 "nbformat_minor": 1
}