{
 "cells": [
  {
   "cell_type": "markdown",
   "source": [
    "# DCP analysis in CVXPY"
   ],
   "metadata": {
    "collapsed": false
   }
  },
  {
   "cell_type": "code",
   "execution_count": 1,
   "outputs": [
    {
     "name": "stdout",
     "output_type": "stream",
     "text": [
      "expression curvature = CONVEX\n",
      "expression sign = NONNEGATIVE\n",
      "expression is DCP? True\n"
     ]
    }
   ],
   "source": [
    "import cvxpy as cp\n",
    "\n",
    "\n",
    "x = cp.Variable()\n",
    "y = cp.Variable()\n",
    "expr = cp.quad_over_lin(x - y, 1 - cp.maximum(x, y))\n",
    "print(\"expression curvature =\", expr.curvature)\n",
    "print(\"expression sign =\", expr.sign)\n",
    "print(\"expression is DCP?\", expr.is_dcp())"
   ],
   "metadata": {
    "collapsed": false
   }
  }
 ],
 "metadata": {
  "kernelspec": {
   "display_name": "Python 3",
   "language": "python",
   "name": "python3"
  },
  "language_info": {
   "codemirror_mode": {
    "name": "ipython",
    "version": 3
   },
   "file_extension": ".py",
   "mimetype": "text/x-python",
   "name": "python",
   "nbconvert_exporter": "python",
   "pygments_lexer": "ipython3",
   "version": "3.7.0"
  }
 },
 "nbformat": 4,
 "nbformat_minor": 1
}
