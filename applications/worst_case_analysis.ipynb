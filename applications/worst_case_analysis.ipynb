{
 "cells": [
  {
   "cell_type": "markdown",
   "metadata": {
    "pycharm": {
     "name": "#%% md\n"
    }
   },
   "source": [
    "# Worst-case risk analysis"
   ]
  },
  {
   "cell_type": "markdown",
   "metadata": {
    "pycharm": {
     "name": "#%% md\n"
    }
   },
   "source": [
    "## Covariance uncertainty\n",
    "\n",
    "In this example we do worst-case risk analysis using CVXPY. \n",
    "Our setting is a single period Markowitz portfolio allocation problem.\n",
    "We have a fixed portfolio allocation $w \\in {\\bf R}^n$. The return covariance $\\Sigma$ is not known,\n",
    "but we believe $\\Sigma \\in \\mathcal S$.\n",
    "Here $\\mathcal S$ is a convex set of possible covariance matrices.\n",
    "The risk is $w^T \\Sigma w$, a linear function of $\\Sigma$.\n",
    "\n",
    "We can compute the worst (maximum) risk, over all possible covariance matrices by solving the convex optimization \n",
    "problem\n",
    "\n",
    "$$\n",
    "\\begin{array}{ll} \\mbox{maximize} & w^T\\Sigma w \\\\\n",
    "\\mbox{subject to} & \\Sigma \\in \\mathcal S, \\quad \\Sigma \\succeq 0,\n",
    "\\end{array}\n",
    "$$\n",
    "\n",
    "with variable $\\Sigma$.\n",
    "\n",
    "If the worst-case risk is not too bad, you can worry less.\n",
    "If not, you'll confront your worst nightmare"
   ]
  },
  {
   "cell_type": "markdown",
   "metadata": {
    "pycharm": {
     "name": "#%% md\n"
    }
   },
   "source": [
    "## Example\n",
    "\n",
    "In the following code we solve the portfolio allocation problem\n",
    "\n",
    "$$\n",
    "\\begin{array}{ll} \\mbox{minimize} & w^T\\Sigma_\\mathrm{nom} w \\\\\n",
    "\\mbox{subject to} & {\\bf 1}^Tw = 1, \\quad \\mu^Tw \\geq 0.1, \\quad \\|w\\|_1 \\leq 2, \n",
    "\\end{array}\n",
    "$$\n",
    "\n",
    "and then compute the worst-case risk under the assumption that $\\mathcal S = \\left\\{ \\Sigma^\\mathrm{nom} + \\Delta \\,:\\,\n",
    "|\\Delta_{ii}| =0, \\;\n",
    "|\\Delta_{ij}| \\leq 0.2\n",
    "\\right\\}$.\n",
    "\n",
    "We might expect that $|\\Delta_{ij}| = 0.2$ for all $i \\neq j$. \n",
    "This does not happen however because of the constraint that $\\Sigma^\\mathrm{nom} + \\Delta$ is positive semidefinite."
   ]
  },
  {
   "cell_type": "code",
   "execution_count": 1,
   "metadata": {
    "pycharm": {
     "name": "#%%\n"
    }
   },
   "outputs": [
    {
     "name": "stdout",
     "output_type": "stream",
     "text": [
      "Sigma_nom =\n",
      "[[ 0.58  0.2   0.57 -0.02  0.43]\n",
      " [ 0.2   0.36  0.24  0.    0.38]\n",
      " [ 0.57  0.24  0.57 -0.01  0.47]\n",
      " [-0.02  0.   -0.01  0.05  0.08]\n",
      " [ 0.43  0.38  0.47  0.08  0.92]]\n"
     ]
    }
   ],
   "source": [
    "# Generate data for worst-case risk analysis.\n",
    "import numpy as np\n",
    "\n",
    "np.random.seed(2)\n",
    "n = 5\n",
    "mu = np.abs(np.random.randn(n, 1)) / 15\n",
    "Sigma = np.random.uniform(-0.15, 0.8, size=(n, n))\n",
    "Sigma_nom = Sigma.T.dot(Sigma)\n",
    "print(\"Sigma_nom =\")\n",
    "print(np.round(Sigma_nom, decimals=2))"
   ]
  },
  {
   "cell_type": "code",
   "execution_count": 2,
   "metadata": {
    "pycharm": {
     "name": "#%%\n"
    }
   },
   "outputs": [
    {
     "name": "stdout",
     "output_type": "stream",
     "text": [
      "w =\n",
      "[-0.01  0.13  0.18  0.88 -0.18]\n"
     ]
    }
   ],
   "source": [
    "# Form and solve portfolio optimization problem.\n",
    "# Here we minimize risk while requiring a 0.1 return.\n",
    "import cvxpy as cp\n",
    "\n",
    "\n",
    "w = cp.Variable(n)\n",
    "ret = mu.T @ w\n",
    "risk = cp.quad_form(w, Sigma_nom)\n",
    "prob = cp.Problem(cp.Minimize(risk), [cp.sum(w) == 1, ret >= 0.1, cp.norm(w, 1) <= 2])\n",
    "prob.solve()\n",
    "print(\"w =\")\n",
    "print(np.round(w.value, decimals=2))"
   ]
  },
  {
   "cell_type": "code",
   "execution_count": 3,
   "metadata": {
    "pycharm": {
     "name": "#%%\n"
    }
   },
   "outputs": [
    {
     "name": "stdout",
     "output_type": "stream",
     "text": [
      "standard deviation = 0.1688949223030461\n",
      "worst-case standard deviation = 0.4220180564477053\n",
      "worst-case Delta =\n",
      "[[ 0.    0.04 -0.2  -0.    0.2 ]\n",
      " [ 0.04  0.    0.2   0.09 -0.2 ]\n",
      " [-0.2   0.2   0.    0.12 -0.2 ]\n",
      " [-0.    0.09  0.12  0.   -0.18]\n",
      " [ 0.2  -0.2  -0.2  -0.18  0.  ]]\n"
     ]
    }
   ],
   "source": [
    "# Form and solve worst-case risk analysis problem.\n",
    "Sigma = cp.Variable((n, n), PSD=True)\n",
    "Delta = cp.Variable((n, n), symmetric=True)\n",
    "risk = cp.quad_form(w.value, Sigma)\n",
    "prob = cp.Problem(\n",
    "    cp.Maximize(risk),\n",
    "    [Sigma == Sigma_nom + Delta, cp.diag(Delta) == 0, cp.abs(Delta) <= 0.2],\n",
    ")\n",
    "prob.solve()\n",
    "print(\"standard deviation =\", cp.sqrt(cp.quad_form(w.value, Sigma_nom)).value)\n",
    "print(\"worst-case standard deviation =\", cp.sqrt(risk).value)\n",
    "print(\"worst-case Delta =\")\n",
    "print(np.round(Delta.value, decimals=2))"
   ]
  }
 ],
 "metadata": {
  "kernelspec": {
   "display_name": "Python 3",
   "language": "python",
   "name": "python3"
  },
  "language_info": {
   "codemirror_mode": {
    "name": "ipython",
    "version": 3
   },
   "file_extension": ".py",
   "mimetype": "text/x-python",
   "name": "python",
   "nbconvert_exporter": "python",
   "pygments_lexer": "ipython3",
   "version": "3.7.0"
  }
 },
 "nbformat": 4,
 "nbformat_minor": 1
}
