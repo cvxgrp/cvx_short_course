{
 "cells": [
  {
   "cell_type": "markdown",
   "metadata": {},
   "source": [
    "# Hello, world!\n",
    "\n",
    "[Install CVXPY](https://www.cvxpy.org/install/index.html) and run the code on the [CVXPY landing page](https://www.cvxpy.org/)."
   ]
  },
  {
   "cell_type": "markdown",
   "metadata": {
    "pycharm": {
     "name": "#%% md\n"
    }
   },
   "source": [
    "Solve the following optimization problem using CVXPY:"
   ]
  },
  {
   "cell_type": "markdown",
   "source": [
    "$$\n",
    "\\begin{array}{ll} \\mbox{minimize} & |x| - 2\\sqrt{y}\\\\\n",
    "\\mbox{subject to} & 2 \\geq e^x \\\\\n",
    "& x + y = 5,\n",
    "\\end{array}\n",
    "$$"
   ],
   "metadata": {
    "collapsed": false
   }
  },
  {
   "cell_type": "markdown",
   "source": [
    "where $x,y \\in \\mathbf{R}$ are variables.\n",
    "\n",
    "Find the optimal values of $x$ and $y$."
   ],
   "metadata": {
    "collapsed": false
   }
  },
  {
   "cell_type": "code",
   "execution_count": null,
   "metadata": {
    "collapsed": true,
    "jupyter": {
     "outputs_hidden": true
    },
    "pycharm": {
     "name": "#%%\n"
    }
   },
   "outputs": [],
   "source": [
    "# TODO: your code here."
   ]
  }
 ],
 "metadata": {
  "kernelspec": {
   "display_name": "Python 3 (ipykernel)",
   "language": "python",
   "name": "python3"
  },
  "language_info": {
   "codemirror_mode": {
    "name": "ipython",
    "version": 3
   },
   "file_extension": ".py",
   "mimetype": "text/x-python",
   "name": "python",
   "nbconvert_exporter": "python",
   "pygments_lexer": "ipython3",
   "version": "3.10.6"
  }
 },
 "nbformat": 4,
 "nbformat_minor": 4
}
