{
 "cells": [
  {
   "cell_type": "markdown",
   "metadata": {
    "pycharm": {
     "name": "#%% md\n"
    }
   },
   "source": [
    "# Control"
   ]
  },
  {
   "cell_type": "markdown",
   "metadata": {
    "pycharm": {
     "name": "#%% md\n"
    }
   },
   "source": [
    "Convex optimization can be used to solve many problems that arise in control.\n",
    "In this example we show how to solve such a problem using CVXPY.\n",
    "We have a system with a state $x_t\\in {\\bf R}^n$ that varies over the time steps $t=0,\\ldots,T$, and inputs or actions $u_t\\in {\\bf R}^m$ we can use at each time step to affect the state.\n",
    "For example, $x_t$ might be the position and velocity of a rocket and $u_t$ the output of the rocket's thrusters.\n",
    "We model the evolution of the state as a linear dynamical system, i.e.,"
   ]
  },
  {
   "cell_type": "markdown",
   "source": [
    "$$ x_{t+1} = Ax_t + Bu_t $$"
   ],
   "metadata": {
    "collapsed": false
   }
  },
  {
   "cell_type": "markdown",
   "source": [
    "where $A \\in {\\bf R}^{n\\times n}$ and $B \\in {\\bf R}^{n\\times m}$ are known matrices.\n",
    "\n",
    "Our goal is to find the optimal actions $u_0,\\ldots,u_{T-1}$ by solving the optimization problems"
   ],
   "metadata": {
    "collapsed": false
   }
  },
  {
   "cell_type": "markdown",
   "source": [
    "$$\n",
    "\\begin{array}{ll} \\mbox{minimize} & \\sum_{t=0}^{T-1} \\ell (x_t,u_t) + \\ell_T(x_T)\\\\\n",
    "\\mbox{subject to} & x_{t+1} = Ax_t + Bu_t\\\\%, \\quad t=0, \\ldots, T-1\\\\\n",
    "& (x_t,u_t) \\in \\mathcal C, \\quad x_T\\in \\mathcal C_T,\n",
    "%, \\quad \\quad t=0, \\ldots, T\n",
    "\\end{array}\n",
    "$$"
   ],
   "metadata": {
    "collapsed": false
   }
  },
  {
   "cell_type": "markdown",
   "source": [
    "where $\\ell: {\\bf R}^n \\times {\\bf R}^m\\to {\\bf R}$ is the stage cost, $\\ell_T$ is the terminal cost,\n",
    "$\\mathcal C$ is the state/action constraints, and $\\mathcal C_T$ is the terminal constraint.\n",
    "The optimization problem is convex if the costs and constraints are convex.\n"
   ],
   "metadata": {
    "collapsed": false
   }
  },
  {
   "cell_type": "markdown",
   "metadata": {
    "pycharm": {
     "name": "#%% md\n"
    }
   },
   "source": [
    "## Example\n",
    "\n",
    "In the following code we solve a control problem with $n=8$ states, $m=2$ inputs, and horizon $T=50$.\n",
    "The matrices $A$ and $B$ and the initial state $x_0$ are randomly chosen (with $A\\approx I$).\n",
    "We use the (traditional) stage cost $\\ell(x,u) = \\|x\\|_2^2 + \\|u\\|_2^2$, the input constraint $\\|u_t\\|_\\infty \\leq 1$, and the terminal constraint $x_{T}=0$."
   ]
  },
  {
   "cell_type": "code",
   "execution_count": 1,
   "outputs": [],
   "source": [
    "# Generate data for control problem.\n",
    "import numpy as np\n",
    "\n",
    "np.random.seed(1)\n",
    "n = 8\n",
    "m = 2\n",
    "T = 50\n",
    "alpha = 0.2\n",
    "beta = 3\n",
    "A = np.eye(n) - alpha * np.random.rand(n, n)\n",
    "B = np.random.randn(n, m)\n",
    "x_0 = beta * np.random.randn(n)"
   ],
   "metadata": {
    "collapsed": false,
    "pycharm": {
     "name": "#%%\n"
    },
    "ExecuteTime": {
     "end_time": "2023-06-23T21:04:10.914421043Z",
     "start_time": "2023-06-23T21:04:10.779807238Z"
    }
   }
  },
  {
   "cell_type": "code",
   "execution_count": 2,
   "outputs": [
    {
     "data": {
      "text/plain": "2515.656065442021"
     },
     "execution_count": 2,
     "metadata": {},
     "output_type": "execute_result"
    }
   ],
   "source": [
    "# Form and solve control problem.\n",
    "import cvxpy as cp\n",
    "\n",
    "\n",
    "x = cp.Variable((n, T + 1))\n",
    "u = cp.Variable((m, T))\n",
    "\n",
    "cost = 0\n",
    "constr = []\n",
    "for t in range(T):\n",
    "    cost += cp.sum_squares(x[:, t + 1]) + cp.sum_squares(u[:, t])\n",
    "    constr += [x[:, t + 1] == A @ x[:, t] + B @ u[:, t], cp.norm(u[:, t], \"inf\") <= 1]\n",
    "# sums problem objectives and concatenates constraints.\n",
    "constr += [x[:, T] == 0, x[:, 0] == x_0]\n",
    "problem = cp.Problem(cp.Minimize(cost), constr)\n",
    "problem.solve()"
   ],
   "metadata": {
    "collapsed": false,
    "pycharm": {
     "name": "#%%\n"
    },
    "ExecuteTime": {
     "end_time": "2023-06-23T21:04:11.620175742Z",
     "start_time": "2023-06-23T21:04:10.918185067Z"
    }
   }
  },
  {
   "cell_type": "markdown",
   "source": [
    "We display the results below as a $4$-high stack of plots showing $u_1$, $u_2$, $x_1$, and $x_2$ vs $t$.\n",
    "Notice that $u_t$ is saturated (i.e., $\\|u_t\\|_\\infty = 1$) initially, which shows that the input constraint is meaningful."
   ],
   "metadata": {
    "collapsed": false,
    "pycharm": {
     "name": "#%% md\n"
    }
   }
  },
  {
   "cell_type": "code",
   "execution_count": 3,
   "outputs": [
    {
     "data": {
      "text/plain": "<Figure size 640x480 with 4 Axes>",
      "image/svg+xml": "<?xml version=\"1.0\" encoding=\"utf-8\" standalone=\"no\"?>\n<!DOCTYPE svg PUBLIC \"-//W3C//DTD SVG 1.1//EN\"\n  \"http://www.w3.org/Graphics/SVG/1.1/DTD/svg11.dtd\">\n<svg xmlns:xlink=\"http://www.w3.org/1999/xlink\" width=\"452.137687pt\" height=\"339.000215pt\" viewBox=\"0 0 452.137687 339.000215\" xmlns=\"http://www.w3.org/2000/svg\" version=\"1.1\">\n <metadata>\n  <rdf:RDF xmlns:dc=\"http://purl.org/dc/elements/1.1/\" xmlns:cc=\"http://creativecommons.org/ns#\" xmlns:rdf=\"http://www.w3.org/1999/02/22-rdf-syntax-ns#\">\n   <cc:Work>\n    <dc:type rdf:resource=\"http://purl.org/dc/dcmitype/StillImage\"/>\n    <dc:date>2023-06-23T14:04:12.519323</dc:date>\n    <dc:format>image/svg+xml</dc:format>\n    <dc:creator>\n     <cc:Agent>\n      <dc:title>Matplotlib v3.7.1, https://matplotlib.org/</dc:title>\n     </cc:Agent>\n    </dc:creator>\n   </cc:Work>\n  </rdf:RDF>\n </metadata>\n <defs>\n  <style type=\"text/css\">*{stroke-linejoin: round; stroke-linecap: butt}</style>\n </defs>\n <g id=\"figure_1\">\n  <g id=\"patch_1\">\n   <path d=\"M 0 339.000215 \nL 452.137687 339.000215 \nL 452.137687 0 \nL 0 0 \nz\n\" style=\"fill: #ffffff\"/>\n  </g>\n  <g id=\"axes_1\">\n   <g id=\"patch_2\">\n    <path d=\"M 54.789688 64.584679 \nL 444.937687 64.584679 \nL 444.937687 8.447209 \nL 54.789688 8.447209 \nz\n\" style=\"fill: #ffffff\"/>\n   </g>\n   <g id=\"matplotlib.axis_1\"/>\n   <g id=\"matplotlib.axis_2\">\n    <g id=\"ytick_1\">\n     <g id=\"line2d_1\">\n      <defs>\n       <path id=\"m03a8f5cb0c\" d=\"M 0 0 \nL -3.5 0 \n\" style=\"stroke: #000000; stroke-width: 0.8\"/>\n      </defs>\n      <g>\n       <use xlink:href=\"#m03a8f5cb0c\" x=\"54.789688\" y=\"62.031657\" style=\"stroke: #000000; stroke-width: 0.8\"/>\n      </g>\n     </g>\n     <g id=\"text_1\">\n      <!-- −1 -->\n      <g transform=\"translate(33.0475 65.830875) scale(0.1 -0.1)\">\n       <defs>\n        <path id=\"DejaVuSans-2212\" d=\"M 678 2272 \nL 4684 2272 \nL 4684 1741 \nL 678 1741 \nL 678 2272 \nz\n\" transform=\"scale(0.015625)\"/>\n        <path id=\"DejaVuSans-31\" d=\"M 794 531 \nL 1825 531 \nL 1825 4091 \nL 703 3866 \nL 703 4441 \nL 1819 4666 \nL 2450 4666 \nL 2450 531 \nL 3481 531 \nL 3481 0 \nL 794 0 \nL 794 531 \nz\n\" transform=\"scale(0.015625)\"/>\n       </defs>\n       <use xlink:href=\"#DejaVuSans-2212\"/>\n       <use xlink:href=\"#DejaVuSans-31\" x=\"83.789062\"/>\n      </g>\n     </g>\n    </g>\n    <g id=\"ytick_2\">\n     <g id=\"line2d_2\">\n      <g>\n       <use xlink:href=\"#m03a8f5cb0c\" x=\"54.789688\" y=\"36.515438\" style=\"stroke: #000000; stroke-width: 0.8\"/>\n      </g>\n     </g>\n     <g id=\"text_2\">\n      <!-- 0 -->\n      <g transform=\"translate(41.427188 40.314656) scale(0.1 -0.1)\">\n       <defs>\n        <path id=\"DejaVuSans-30\" d=\"M 2034 4250 \nQ 1547 4250 1301 3770 \nQ 1056 3291 1056 2328 \nQ 1056 1369 1301 889 \nQ 1547 409 2034 409 \nQ 2525 409 2770 889 \nQ 3016 1369 3016 2328 \nQ 3016 3291 2770 3770 \nQ 2525 4250 2034 4250 \nz\nM 2034 4750 \nQ 2819 4750 3233 4129 \nQ 3647 3509 3647 2328 \nQ 3647 1150 3233 529 \nQ 2819 -91 2034 -91 \nQ 1250 -91 836 529 \nQ 422 1150 422 2328 \nQ 422 3509 836 4129 \nQ 1250 4750 2034 4750 \nz\n\" transform=\"scale(0.015625)\"/>\n       </defs>\n       <use xlink:href=\"#DejaVuSans-30\"/>\n      </g>\n     </g>\n    </g>\n    <g id=\"ytick_3\">\n     <g id=\"line2d_3\">\n      <g>\n       <use xlink:href=\"#m03a8f5cb0c\" x=\"54.789688\" y=\"10.999219\" style=\"stroke: #000000; stroke-width: 0.8\"/>\n      </g>\n     </g>\n     <g id=\"text_3\">\n      <!-- 1 -->\n      <g transform=\"translate(41.427188 14.798437) scale(0.1 -0.1)\">\n       <use xlink:href=\"#DejaVuSans-31\"/>\n      </g>\n     </g>\n    </g>\n    <g id=\"text_4\">\n     <!-- $(u_t)_1$ -->\n     <g transform=\"translate(25.72 54.115944) rotate(-90) scale(0.16 -0.16)\">\n      <defs>\n       <path id=\"DejaVuSans-28\" d=\"M 1984 4856 \nQ 1566 4138 1362 3434 \nQ 1159 2731 1159 2009 \nQ 1159 1288 1364 580 \nQ 1569 -128 1984 -844 \nL 1484 -844 \nQ 1016 -109 783 600 \nQ 550 1309 550 2009 \nQ 550 2706 781 3412 \nQ 1013 4119 1484 4856 \nL 1984 4856 \nz\n\" transform=\"scale(0.015625)\"/>\n       <path id=\"DejaVuSans-Oblique-75\" d=\"M 428 1388 \nL 838 3500 \nL 1416 3500 \nL 1006 1409 \nQ 975 1256 961 1147 \nQ 947 1038 947 966 \nQ 947 700 1109 554 \nQ 1272 409 1569 409 \nQ 2031 409 2368 721 \nQ 2706 1034 2809 1563 \nL 3194 3500 \nL 3769 3500 \nL 3091 0 \nL 2516 0 \nL 2631 550 \nQ 2388 244 2052 76 \nQ 1716 -91 1338 -91 \nQ 878 -91 622 161 \nQ 366 413 366 863 \nQ 366 956 381 1097 \nQ 397 1238 428 1388 \nz\n\" transform=\"scale(0.015625)\"/>\n       <path id=\"DejaVuSans-Oblique-74\" d=\"M 2706 3500 \nL 2619 3053 \nL 1472 3053 \nL 1100 1153 \nQ 1081 1047 1072 975 \nQ 1063 903 1063 863 \nQ 1063 663 1183 572 \nQ 1303 481 1569 481 \nL 2150 481 \nL 2053 0 \nL 1503 0 \nQ 991 0 739 200 \nQ 488 400 488 806 \nQ 488 878 497 964 \nQ 506 1050 525 1153 \nL 897 3053 \nL 409 3053 \nL 500 3500 \nL 978 3500 \nL 1172 4494 \nL 1747 4494 \nL 1556 3500 \nL 2706 3500 \nz\n\" transform=\"scale(0.015625)\"/>\n       <path id=\"DejaVuSans-29\" d=\"M 513 4856 \nL 1013 4856 \nQ 1481 4119 1714 3412 \nQ 1947 2706 1947 2009 \nQ 1947 1309 1714 600 \nQ 1481 -109 1013 -844 \nL 513 -844 \nQ 928 -128 1133 580 \nQ 1338 1288 1338 2009 \nQ 1338 2731 1133 3434 \nQ 928 4138 513 4856 \nz\n\" transform=\"scale(0.015625)\"/>\n      </defs>\n      <use xlink:href=\"#DejaVuSans-28\" transform=\"translate(0 0.125)\"/>\n      <use xlink:href=\"#DejaVuSans-Oblique-75\" transform=\"translate(39.013672 0.125)\"/>\n      <use xlink:href=\"#DejaVuSans-Oblique-74\" transform=\"translate(102.392578 -16.28125) scale(0.7)\"/>\n      <use xlink:href=\"#DejaVuSans-29\" transform=\"translate(132.573242 0.125)\"/>\n      <use xlink:href=\"#DejaVuSans-31\" transform=\"translate(172.543945 -16.28125) scale(0.7)\"/>\n     </g>\n    </g>\n   </g>\n   <g id=\"line2d_4\">\n    <path d=\"M 72.523687 62.032976 \nL 79.762055 62.032782 \nL 87.000422 62.032573 \nL 94.23879 62.032356 \nL 101.477157 15.394265 \nL 108.715524 10.998912 \nL 115.953892 10.999042 \nL 123.192259 10.999179 \nL 130.430626 22.372724 \nL 137.668994 30.947079 \nL 144.907361 33.499101 \nL 152.145728 33.75467 \nL 159.384096 33.248763 \nL 166.622463 32.615242 \nL 173.86083 32.100226 \nL 181.099198 31.779959 \nL 188.337565 31.657695 \nL 195.575932 31.707752 \nL 202.8143 31.895513 \nL 210.052667 32.186248 \nL 217.291034 32.548714 \nL 224.529402 32.956335 \nL 231.767769 33.387294 \nL 239.006136 33.824172 \nL 246.244504 34.253421 \nL 253.482871 34.664813 \nL 260.721239 35.050912 \nL 267.959606 35.406601 \nL 275.197973 35.728662 \nL 282.436341 36.015403 \nL 289.674708 36.266341 \nL 296.913075 36.481916 \nL 304.151443 36.663244 \nL 311.38981 36.8119 \nL 318.628177 36.929719 \nL 325.866545 37.018627 \nL 333.104912 37.0805 \nL 340.343279 37.117063 \nL 347.581647 37.129864 \nL 354.820014 37.120415 \nL 362.058381 37.090649 \nL 369.296749 37.044068 \nL 376.535116 36.98831 \nL 383.773483 36.940684 \nL 391.011851 36.939872 \nL 398.250218 37.070628 \nL 405.488585 37.517148 \nL 412.726953 38.697541 \nL 419.96532 41.870683 \nL 427.203687 55.2138 \n\" clip-path=\"url(#p2abd0eb7e8)\" style=\"fill: none; stroke: #1f77b4; stroke-width: 1.5; stroke-linecap: square\"/>\n   </g>\n   <g id=\"patch_3\">\n    <path d=\"M 54.789688 64.584679 \nL 54.789688 8.447209 \n\" style=\"fill: none; stroke: #000000; stroke-width: 0.8; stroke-linejoin: miter; stroke-linecap: square\"/>\n   </g>\n   <g id=\"patch_4\">\n    <path d=\"M 444.937687 64.584679 \nL 444.937687 8.447209 \n\" style=\"fill: none; stroke: #000000; stroke-width: 0.8; stroke-linejoin: miter; stroke-linecap: square\"/>\n   </g>\n   <g id=\"patch_5\">\n    <path d=\"M 54.789687 64.584679 \nL 444.937687 64.584679 \n\" style=\"fill: none; stroke: #000000; stroke-width: 0.8; stroke-linejoin: miter; stroke-linecap: square\"/>\n   </g>\n   <g id=\"patch_6\">\n    <path d=\"M 54.789687 8.447209 \nL 444.937687 8.447209 \n\" style=\"fill: none; stroke: #000000; stroke-width: 0.8; stroke-linejoin: miter; stroke-linecap: square\"/>\n   </g>\n  </g>\n  <g id=\"axes_2\">\n   <g id=\"patch_7\">\n    <path d=\"M 54.789688 141.60215 \nL 444.937687 141.60215 \nL 444.937687 85.464679 \nL 54.789688 85.464679 \nz\n\" style=\"fill: #ffffff\"/>\n   </g>\n   <g id=\"matplotlib.axis_3\"/>\n   <g id=\"matplotlib.axis_4\">\n    <g id=\"ytick_4\">\n     <g id=\"line2d_5\">\n      <g>\n       <use xlink:href=\"#m03a8f5cb0c\" x=\"54.789688\" y=\"139.047811\" style=\"stroke: #000000; stroke-width: 0.8\"/>\n      </g>\n     </g>\n     <g id=\"text_5\">\n      <!-- −1 -->\n      <g transform=\"translate(33.0475 142.84703) scale(0.1 -0.1)\">\n       <use xlink:href=\"#DejaVuSans-2212\"/>\n       <use xlink:href=\"#DejaVuSans-31\" x=\"83.789062\"/>\n      </g>\n     </g>\n    </g>\n    <g id=\"ytick_5\">\n     <g id=\"line2d_6\">\n      <g>\n       <use xlink:href=\"#m03a8f5cb0c\" x=\"54.789688\" y=\"112.727328\" style=\"stroke: #000000; stroke-width: 0.8\"/>\n      </g>\n     </g>\n     <g id=\"text_6\">\n      <!-- 0 -->\n      <g transform=\"translate(41.427188 116.526546) scale(0.1 -0.1)\">\n       <use xlink:href=\"#DejaVuSans-30\"/>\n      </g>\n     </g>\n    </g>\n    <g id=\"ytick_6\">\n     <g id=\"line2d_7\">\n      <g>\n       <use xlink:href=\"#m03a8f5cb0c\" x=\"54.789688\" y=\"86.406844\" style=\"stroke: #000000; stroke-width: 0.8\"/>\n      </g>\n     </g>\n     <g id=\"text_7\">\n      <!-- 1 -->\n      <g transform=\"translate(41.427188 90.206063) scale(0.1 -0.1)\">\n       <use xlink:href=\"#DejaVuSans-31\"/>\n      </g>\n     </g>\n    </g>\n    <g id=\"text_8\">\n     <!-- $(u_t)_2$ -->\n     <g transform=\"translate(25.72 131.133415) rotate(-90) scale(0.16 -0.16)\">\n      <defs>\n       <path id=\"DejaVuSans-32\" d=\"M 1228 531 \nL 3431 531 \nL 3431 0 \nL 469 0 \nL 469 531 \nQ 828 903 1448 1529 \nQ 2069 2156 2228 2338 \nQ 2531 2678 2651 2914 \nQ 2772 3150 2772 3378 \nQ 2772 3750 2511 3984 \nQ 2250 4219 1831 4219 \nQ 1534 4219 1204 4116 \nQ 875 4013 500 3803 \nL 500 4441 \nQ 881 4594 1212 4672 \nQ 1544 4750 1819 4750 \nQ 2544 4750 2975 4387 \nQ 3406 4025 3406 3419 \nQ 3406 3131 3298 2873 \nQ 3191 2616 2906 2266 \nQ 2828 2175 2409 1742 \nQ 1991 1309 1228 531 \nz\n\" transform=\"scale(0.015625)\"/>\n      </defs>\n      <use xlink:href=\"#DejaVuSans-28\" transform=\"translate(0 0.125)\"/>\n      <use xlink:href=\"#DejaVuSans-Oblique-75\" transform=\"translate(39.013672 0.125)\"/>\n      <use xlink:href=\"#DejaVuSans-Oblique-74\" transform=\"translate(102.392578 -16.28125) scale(0.7)\"/>\n      <use xlink:href=\"#DejaVuSans-29\" transform=\"translate(132.573242 0.125)\"/>\n      <use xlink:href=\"#DejaVuSans-32\" transform=\"translate(172.543945 -16.28125) scale(0.7)\"/>\n     </g>\n    </g>\n   </g>\n   <g id=\"line2d_8\">\n    <path d=\"M 72.523687 139.050446 \nL 79.762055 139.05001 \nL 87.000422 139.049582 \nL 94.23879 139.04917 \nL 101.477157 139.048771 \nL 108.715524 139.048452 \nL 115.953892 139.04816 \nL 123.192259 110.258449 \nL 130.430626 91.716741 \nL 137.668994 88.016383 \nL 144.907361 88.72522 \nL 152.145728 91.004843 \nL 159.384096 93.712869 \nL 166.622463 96.363006 \nL 173.86083 98.763282 \nL 181.099198 100.856003 \nL 188.337565 102.64311 \nL 195.575932 104.151084 \nL 202.8143 105.41458 \nL 210.052667 106.469007 \nL 217.291034 107.347352 \nL 224.529402 108.079003 \nL 231.767769 108.689502 \nL 239.006136 109.200692 \nL 246.244504 109.631032 \nL 253.482871 109.995953 \nL 260.721239 110.308209 \nL 267.959606 110.57821 \nL 275.197973 110.814313 \nL 282.436341 111.023084 \nL 289.674708 111.209528 \nL 296.913075 111.377287 \nL 304.151443 111.528816 \nL 311.38981 111.665522 \nL 318.628177 111.787884 \nL 325.866545 111.895523 \nL 333.104912 111.987226 \nL 340.343279 112.060861 \nL 347.581647 112.1131 \nL 354.820014 112.138761 \nL 362.058381 112.129377 \nL 369.296749 112.07018 \nL 376.535116 111.93384 \nL 383.773483 111.667528 \nL 391.011851 111.166301 \nL 398.250218 110.218657 \nL 405.488585 108.399946 \nL 412.726953 104.934386 \nL 419.96532 99.634482 \nL 427.203687 113.260224 \n\" clip-path=\"url(#p34ad4a6608)\" style=\"fill: none; stroke: #1f77b4; stroke-width: 1.5; stroke-linecap: square\"/>\n   </g>\n   <g id=\"patch_8\">\n    <path d=\"M 54.789688 141.60215 \nL 54.789688 85.464679 \n\" style=\"fill: none; stroke: #000000; stroke-width: 0.8; stroke-linejoin: miter; stroke-linecap: square\"/>\n   </g>\n   <g id=\"patch_9\">\n    <path d=\"M 444.937687 141.60215 \nL 444.937687 85.464679 \n\" style=\"fill: none; stroke: #000000; stroke-width: 0.8; stroke-linejoin: miter; stroke-linecap: square\"/>\n   </g>\n   <g id=\"patch_10\">\n    <path d=\"M 54.789687 141.60215 \nL 444.937687 141.60215 \n\" style=\"fill: none; stroke: #000000; stroke-width: 0.8; stroke-linejoin: miter; stroke-linecap: square\"/>\n   </g>\n   <g id=\"patch_11\">\n    <path d=\"M 54.789687 85.464679 \nL 444.937687 85.464679 \n\" style=\"fill: none; stroke: #000000; stroke-width: 0.8; stroke-linejoin: miter; stroke-linecap: square\"/>\n   </g>\n  </g>\n  <g id=\"axes_3\">\n   <g id=\"patch_12\">\n    <path d=\"M 54.789688 218.61962 \nL 444.937687 218.61962 \nL 444.937687 162.48215 \nL 54.789688 162.48215 \nz\n\" style=\"fill: #ffffff\"/>\n   </g>\n   <g id=\"matplotlib.axis_5\"/>\n   <g id=\"matplotlib.axis_6\">\n    <g id=\"ytick_7\">\n     <g id=\"line2d_9\">\n      <g>\n       <use xlink:href=\"#m03a8f5cb0c\" x=\"54.789688\" y=\"218.61962\" style=\"stroke: #000000; stroke-width: 0.8\"/>\n      </g>\n     </g>\n     <g id=\"text_9\">\n      <!-- −10 -->\n      <g transform=\"translate(26.685 222.418839) scale(0.1 -0.1)\">\n       <use xlink:href=\"#DejaVuSans-2212\"/>\n       <use xlink:href=\"#DejaVuSans-31\" x=\"83.789062\"/>\n       <use xlink:href=\"#DejaVuSans-30\" x=\"147.412109\"/>\n      </g>\n     </g>\n    </g>\n    <g id=\"ytick_8\">\n     <g id=\"line2d_10\">\n      <g>\n       <use xlink:href=\"#m03a8f5cb0c\" x=\"54.789688\" y=\"190.550885\" style=\"stroke: #000000; stroke-width: 0.8\"/>\n      </g>\n     </g>\n     <g id=\"text_10\">\n      <!-- 0 -->\n      <g transform=\"translate(41.427188 194.350104) scale(0.1 -0.1)\">\n       <use xlink:href=\"#DejaVuSans-30\"/>\n      </g>\n     </g>\n    </g>\n    <g id=\"ytick_9\">\n     <g id=\"line2d_11\">\n      <g>\n       <use xlink:href=\"#m03a8f5cb0c\" x=\"54.789688\" y=\"162.48215\" style=\"stroke: #000000; stroke-width: 0.8\"/>\n      </g>\n     </g>\n     <g id=\"text_11\">\n      <!-- 10 -->\n      <g transform=\"translate(35.064688 166.281368) scale(0.1 -0.1)\">\n       <use xlink:href=\"#DejaVuSans-31\"/>\n       <use xlink:href=\"#DejaVuSans-30\" x=\"63.623047\"/>\n      </g>\n     </g>\n    </g>\n    <g id=\"text_12\">\n     <!-- $(x_t)_1$ -->\n     <g transform=\"translate(19.3575 207.830885) rotate(-90) scale(0.16 -0.16)\">\n      <defs>\n       <path id=\"DejaVuSans-Oblique-78\" d=\"M 3841 3500 \nL 2234 1784 \nL 3219 0 \nL 2559 0 \nL 1819 1388 \nL 531 0 \nL -166 0 \nL 1556 1844 \nL 641 3500 \nL 1300 3500 \nL 1972 2234 \nL 3144 3500 \nL 3841 3500 \nz\n\" transform=\"scale(0.015625)\"/>\n      </defs>\n      <use xlink:href=\"#DejaVuSans-28\" transform=\"translate(0 0.125)\"/>\n      <use xlink:href=\"#DejaVuSans-Oblique-78\" transform=\"translate(39.013672 0.125)\"/>\n      <use xlink:href=\"#DejaVuSans-Oblique-74\" transform=\"translate(98.193359 -16.28125) scale(0.7)\"/>\n      <use xlink:href=\"#DejaVuSans-29\" transform=\"translate(128.374023 0.125)\"/>\n      <use xlink:href=\"#DejaVuSans-31\" transform=\"translate(168.344727 -16.28125) scale(0.7)\"/>\n     </g>\n    </g>\n   </g>\n   <g id=\"line2d_12\">\n    <path d=\"M 72.523688 196.903384 \nL 79.617288 197.444671 \nL 86.710888 195.920116 \nL 93.804488 193.535878 \nL 100.898088 190.645083 \nL 107.991688 187.081897 \nL 115.085288 183.423287 \nL 122.178888 179.574167 \nL 129.272488 177.42712 \nL 136.366087 177.32185 \nL 143.459688 178.320447 \nL 150.553288 179.74774 \nL 157.646887 181.281588 \nL 164.740488 182.774753 \nL 171.834088 184.163886 \nL 178.927687 185.425359 \nL 186.021287 186.554004 \nL 193.114888 187.552939 \nL 200.208487 188.428736 \nL 207.302087 189.18918 \nL 214.395688 189.842242 \nL 221.489287 190.395653 \nL 228.582887 190.856748 \nL 235.676488 191.232422 \nL 242.770087 191.529154 \nL 249.863687 191.753039 \nL 256.957288 191.909831 \nL 264.050887 192.004981 \nL 271.144487 192.043676 \nL 278.238088 192.030872 \nL 285.331687 191.971321 \nL 292.425287 191.869606 \nL 299.518888 191.730163 \nL 306.612487 191.557314 \nL 313.706087 191.355294 \nL 320.799688 191.128281 \nL 327.893287 190.88044 \nL 334.986887 190.61597 \nL 342.080487 190.339169 \nL 349.174087 190.054542 \nL 356.267687 189.76698 \nL 363.361287 189.482073 \nL 370.454887 189.206727 \nL 377.548487 188.95036 \nL 384.642087 188.727309 \nL 391.735687 188.561708 \nL 398.829287 188.497425 \nL 405.922887 188.618006 \nL 413.016487 189.081616 \nL 420.110087 190.102447 \nL 427.203687 190.550885 \n\" clip-path=\"url(#p0e8a036d4e)\" style=\"fill: none; stroke: #1f77b4; stroke-width: 1.5; stroke-linecap: square\"/>\n   </g>\n   <g id=\"patch_13\">\n    <path d=\"M 54.789688 218.61962 \nL 54.789688 162.48215 \n\" style=\"fill: none; stroke: #000000; stroke-width: 0.8; stroke-linejoin: miter; stroke-linecap: square\"/>\n   </g>\n   <g id=\"patch_14\">\n    <path d=\"M 444.937687 218.61962 \nL 444.937687 162.48215 \n\" style=\"fill: none; stroke: #000000; stroke-width: 0.8; stroke-linejoin: miter; stroke-linecap: square\"/>\n   </g>\n   <g id=\"patch_15\">\n    <path d=\"M 54.789688 218.61962 \nL 444.937687 218.61962 \n\" style=\"fill: none; stroke: #000000; stroke-width: 0.8; stroke-linejoin: miter; stroke-linecap: square\"/>\n   </g>\n   <g id=\"patch_16\">\n    <path d=\"M 54.789688 162.48215 \nL 444.937687 162.48215 \n\" style=\"fill: none; stroke: #000000; stroke-width: 0.8; stroke-linejoin: miter; stroke-linecap: square\"/>\n   </g>\n  </g>\n  <g id=\"axes_4\">\n   <g id=\"patch_17\">\n    <path d=\"M 54.789688 295.63709 \nL 444.937687 295.63709 \nL 444.937687 239.49962 \nL 54.789688 239.49962 \nz\n\" style=\"fill: #ffffff\"/>\n   </g>\n   <g id=\"matplotlib.axis_7\">\n    <g id=\"xtick_1\">\n     <g id=\"line2d_13\">\n      <defs>\n       <path id=\"m5d91646b92\" d=\"M 0 0 \nL 0 3.5 \n\" style=\"stroke: #000000; stroke-width: 0.8\"/>\n      </defs>\n      <g>\n       <use xlink:href=\"#m5d91646b92\" x=\"72.523688\" y=\"295.63709\" style=\"stroke: #000000; stroke-width: 0.8\"/>\n      </g>\n     </g>\n     <g id=\"text_13\">\n      <!-- 0 -->\n      <g transform=\"translate(69.342438 310.235528) scale(0.1 -0.1)\">\n       <use xlink:href=\"#DejaVuSans-30\"/>\n      </g>\n     </g>\n    </g>\n    <g id=\"xtick_2\">\n     <g id=\"line2d_14\">\n      <g>\n       <use xlink:href=\"#m5d91646b92\" x=\"143.459688\" y=\"295.63709\" style=\"stroke: #000000; stroke-width: 0.8\"/>\n      </g>\n     </g>\n     <g id=\"text_14\">\n      <!-- 10 -->\n      <g transform=\"translate(137.097187 310.235528) scale(0.1 -0.1)\">\n       <use xlink:href=\"#DejaVuSans-31\"/>\n       <use xlink:href=\"#DejaVuSans-30\" x=\"63.623047\"/>\n      </g>\n     </g>\n    </g>\n    <g id=\"xtick_3\">\n     <g id=\"line2d_15\">\n      <g>\n       <use xlink:href=\"#m5d91646b92\" x=\"214.395688\" y=\"295.63709\" style=\"stroke: #000000; stroke-width: 0.8\"/>\n      </g>\n     </g>\n     <g id=\"text_15\">\n      <!-- 20 -->\n      <g transform=\"translate(208.033187 310.235528) scale(0.1 -0.1)\">\n       <use xlink:href=\"#DejaVuSans-32\"/>\n       <use xlink:href=\"#DejaVuSans-30\" x=\"63.623047\"/>\n      </g>\n     </g>\n    </g>\n    <g id=\"xtick_4\">\n     <g id=\"line2d_16\">\n      <g>\n       <use xlink:href=\"#m5d91646b92\" x=\"285.331687\" y=\"295.63709\" style=\"stroke: #000000; stroke-width: 0.8\"/>\n      </g>\n     </g>\n     <g id=\"text_16\">\n      <!-- 30 -->\n      <g transform=\"translate(278.969187 310.235528) scale(0.1 -0.1)\">\n       <defs>\n        <path id=\"DejaVuSans-33\" d=\"M 2597 2516 \nQ 3050 2419 3304 2112 \nQ 3559 1806 3559 1356 \nQ 3559 666 3084 287 \nQ 2609 -91 1734 -91 \nQ 1441 -91 1130 -33 \nQ 819 25 488 141 \nL 488 750 \nQ 750 597 1062 519 \nQ 1375 441 1716 441 \nQ 2309 441 2620 675 \nQ 2931 909 2931 1356 \nQ 2931 1769 2642 2001 \nQ 2353 2234 1838 2234 \nL 1294 2234 \nL 1294 2753 \nL 1863 2753 \nQ 2328 2753 2575 2939 \nQ 2822 3125 2822 3475 \nQ 2822 3834 2567 4026 \nQ 2313 4219 1838 4219 \nQ 1578 4219 1281 4162 \nQ 984 4106 628 3988 \nL 628 4550 \nQ 988 4650 1302 4700 \nQ 1616 4750 1894 4750 \nQ 2613 4750 3031 4423 \nQ 3450 4097 3450 3541 \nQ 3450 3153 3228 2886 \nQ 3006 2619 2597 2516 \nz\n\" transform=\"scale(0.015625)\"/>\n       </defs>\n       <use xlink:href=\"#DejaVuSans-33\"/>\n       <use xlink:href=\"#DejaVuSans-30\" x=\"63.623047\"/>\n      </g>\n     </g>\n    </g>\n    <g id=\"xtick_5\">\n     <g id=\"line2d_17\">\n      <g>\n       <use xlink:href=\"#m5d91646b92\" x=\"356.267687\" y=\"295.63709\" style=\"stroke: #000000; stroke-width: 0.8\"/>\n      </g>\n     </g>\n     <g id=\"text_17\">\n      <!-- 40 -->\n      <g transform=\"translate(349.905187 310.235528) scale(0.1 -0.1)\">\n       <defs>\n        <path id=\"DejaVuSans-34\" d=\"M 2419 4116 \nL 825 1625 \nL 2419 1625 \nL 2419 4116 \nz\nM 2253 4666 \nL 3047 4666 \nL 3047 1625 \nL 3713 1625 \nL 3713 1100 \nL 3047 1100 \nL 3047 0 \nL 2419 0 \nL 2419 1100 \nL 313 1100 \nL 313 1709 \nL 2253 4666 \nz\n\" transform=\"scale(0.015625)\"/>\n       </defs>\n       <use xlink:href=\"#DejaVuSans-34\"/>\n       <use xlink:href=\"#DejaVuSans-30\" x=\"63.623047\"/>\n      </g>\n     </g>\n    </g>\n    <g id=\"xtick_6\">\n     <g id=\"line2d_18\">\n      <g>\n       <use xlink:href=\"#m5d91646b92\" x=\"427.203687\" y=\"295.63709\" style=\"stroke: #000000; stroke-width: 0.8\"/>\n      </g>\n     </g>\n     <g id=\"text_18\">\n      <!-- 50 -->\n      <g transform=\"translate(420.841187 310.235528) scale(0.1 -0.1)\">\n       <defs>\n        <path id=\"DejaVuSans-35\" d=\"M 691 4666 \nL 3169 4666 \nL 3169 4134 \nL 1269 4134 \nL 1269 2991 \nQ 1406 3038 1543 3061 \nQ 1681 3084 1819 3084 \nQ 2600 3084 3056 2656 \nQ 3513 2228 3513 1497 \nQ 3513 744 3044 326 \nQ 2575 -91 1722 -91 \nQ 1428 -91 1123 -41 \nQ 819 9 494 109 \nL 494 744 \nQ 775 591 1075 516 \nQ 1375 441 1709 441 \nQ 2250 441 2565 725 \nQ 2881 1009 2881 1497 \nQ 2881 1984 2565 2268 \nQ 2250 2553 1709 2553 \nQ 1456 2553 1204 2497 \nQ 953 2441 691 2322 \nL 691 4666 \nz\n\" transform=\"scale(0.015625)\"/>\n       </defs>\n       <use xlink:href=\"#DejaVuSans-35\"/>\n       <use xlink:href=\"#DejaVuSans-30\" x=\"63.623047\"/>\n      </g>\n     </g>\n    </g>\n    <g id=\"text_19\">\n     <!-- $t$ -->\n     <g transform=\"translate(246.663688 328.472715) scale(0.16 -0.16)\">\n      <use xlink:href=\"#DejaVuSans-Oblique-74\" transform=\"translate(0 0.78125)\"/>\n     </g>\n    </g>\n   </g>\n   <g id=\"matplotlib.axis_8\">\n    <g id=\"ytick_10\">\n     <g id=\"line2d_19\">\n      <g>\n       <use xlink:href=\"#m03a8f5cb0c\" x=\"54.789688\" y=\"295.63709\" style=\"stroke: #000000; stroke-width: 0.8\"/>\n      </g>\n     </g>\n     <g id=\"text_20\">\n      <!-- −25 -->\n      <g transform=\"translate(26.685 299.436309) scale(0.1 -0.1)\">\n       <use xlink:href=\"#DejaVuSans-2212\"/>\n       <use xlink:href=\"#DejaVuSans-32\" x=\"83.789062\"/>\n       <use xlink:href=\"#DejaVuSans-35\" x=\"147.412109\"/>\n      </g>\n     </g>\n    </g>\n    <g id=\"ytick_11\">\n     <g id=\"line2d_20\">\n      <g>\n       <use xlink:href=\"#m03a8f5cb0c\" x=\"54.789688\" y=\"267.568355\" style=\"stroke: #000000; stroke-width: 0.8\"/>\n      </g>\n     </g>\n     <g id=\"text_21\">\n      <!-- 0 -->\n      <g transform=\"translate(41.427188 271.367574) scale(0.1 -0.1)\">\n       <use xlink:href=\"#DejaVuSans-30\"/>\n      </g>\n     </g>\n    </g>\n    <g id=\"ytick_12\">\n     <g id=\"line2d_21\">\n      <g>\n       <use xlink:href=\"#m03a8f5cb0c\" x=\"54.789688\" y=\"239.49962\" style=\"stroke: #000000; stroke-width: 0.8\"/>\n      </g>\n     </g>\n     <g id=\"text_22\">\n      <!-- 25 -->\n      <g transform=\"translate(35.064688 243.298839) scale(0.1 -0.1)\">\n       <use xlink:href=\"#DejaVuSans-32\"/>\n       <use xlink:href=\"#DejaVuSans-35\" x=\"63.623047\"/>\n      </g>\n     </g>\n    </g>\n    <g id=\"text_23\">\n     <!-- $(x_t)_2$ -->\n     <g transform=\"translate(19.3575 284.848355) rotate(-90) scale(0.16 -0.16)\">\n      <use xlink:href=\"#DejaVuSans-28\" transform=\"translate(0 0.125)\"/>\n      <use xlink:href=\"#DejaVuSans-Oblique-78\" transform=\"translate(39.013672 0.125)\"/>\n      <use xlink:href=\"#DejaVuSans-Oblique-74\" transform=\"translate(98.193359 -16.28125) scale(0.7)\"/>\n      <use xlink:href=\"#DejaVuSans-29\" transform=\"translate(128.374023 0.125)\"/>\n      <use xlink:href=\"#DejaVuSans-32\" transform=\"translate(168.344727 -16.28125) scale(0.7)\"/>\n     </g>\n    </g>\n   </g>\n   <g id=\"line2d_22\">\n    <path d=\"M 72.523688 263.348384 \nL 79.617288 266.911308 \nL 86.710888 269.231716 \nL 93.804488 271.237758 \nL 100.898088 273.215871 \nL 107.991688 274.867756 \nL 115.085288 276.655828 \nL 122.178888 278.515392 \nL 129.272488 277.824917 \nL 136.366087 276.068724 \nL 143.459688 274.486967 \nL 150.553288 273.164112 \nL 157.646887 272.087453 \nL 164.740488 271.227756 \nL 171.834088 270.553508 \nL 178.927687 270.035023 \nL 186.021287 269.645738 \nL 193.114888 269.362474 \nL 200.208487 269.165293 \nL 207.302087 269.037212 \nL 214.395688 268.963867 \nL 221.489287 268.933186 \nL 228.582887 268.935093 \nL 235.676488 268.961231 \nL 242.770087 269.004718 \nL 249.863687 269.059942 \nL 256.957288 269.122364 \nL 264.050887 269.188357 \nL 271.144487 269.255061 \nL 278.238088 269.320254 \nL 285.331687 269.382235 \nL 292.425287 269.439731 \nL 299.518888 269.491798 \nL 306.612487 269.537751 \nL 313.706087 269.577081 \nL 320.799688 269.609395 \nL 327.893287 269.634345 \nL 334.986887 269.651565 \nL 342.080487 269.66059 \nL 349.174087 269.66076 \nL 356.267687 269.651059 \nL 363.361287 269.629848 \nL 370.454887 269.594362 \nL 377.548487 269.539717 \nL 384.642087 269.456925 \nL 391.735687 269.328854 \nL 398.829287 269.122019 \nL 405.922887 268.770269 \nL 413.016487 268.149243 \nL 420.110087 267.142739 \nL 427.203687 267.568355 \n\" clip-path=\"url(#pb06632bf4c)\" style=\"fill: none; stroke: #1f77b4; stroke-width: 1.5; stroke-linecap: square\"/>\n   </g>\n   <g id=\"patch_18\">\n    <path d=\"M 54.789688 295.63709 \nL 54.789688 239.49962 \n\" style=\"fill: none; stroke: #000000; stroke-width: 0.8; stroke-linejoin: miter; stroke-linecap: square\"/>\n   </g>\n   <g id=\"patch_19\">\n    <path d=\"M 444.937687 295.63709 \nL 444.937687 239.49962 \n\" style=\"fill: none; stroke: #000000; stroke-width: 0.8; stroke-linejoin: miter; stroke-linecap: square\"/>\n   </g>\n   <g id=\"patch_20\">\n    <path d=\"M 54.789688 295.63709 \nL 444.937687 295.63709 \n\" style=\"fill: none; stroke: #000000; stroke-width: 0.8; stroke-linejoin: miter; stroke-linecap: square\"/>\n   </g>\n   <g id=\"patch_21\">\n    <path d=\"M 54.789688 239.49962 \nL 444.937687 239.49962 \n\" style=\"fill: none; stroke: #000000; stroke-width: 0.8; stroke-linejoin: miter; stroke-linecap: square\"/>\n   </g>\n  </g>\n </g>\n <defs>\n  <clipPath id=\"p2abd0eb7e8\">\n   <rect x=\"54.789688\" y=\"8.447209\" width=\"390.148\" height=\"56.13747\"/>\n  </clipPath>\n  <clipPath id=\"p34ad4a6608\">\n   <rect x=\"54.789688\" y=\"85.464679\" width=\"390.148\" height=\"56.13747\"/>\n  </clipPath>\n  <clipPath id=\"p0e8a036d4e\">\n   <rect x=\"54.789688\" y=\"162.48215\" width=\"390.148\" height=\"56.13747\"/>\n  </clipPath>\n  <clipPath id=\"pb06632bf4c\">\n   <rect x=\"54.789688\" y=\"239.49962\" width=\"390.148\" height=\"56.13747\"/>\n  </clipPath>\n </defs>\n</svg>\n"
     },
     "metadata": {},
     "output_type": "display_data"
    }
   ],
   "source": [
    "# Plot results.\n",
    "import matplotlib.pyplot as plt\n",
    "\n",
    "%config InlineBackend.figure_format = 'svg'\n",
    "\n",
    "f = plt.figure()\n",
    "\n",
    "# Plot (u_t)_1.\n",
    "ax = f.add_subplot(411)\n",
    "plt.plot(u[0, :].value)\n",
    "plt.ylabel(r\"$(u_t)_1$\", fontsize=16)\n",
    "plt.yticks(np.linspace(-1.0, 1.0, 3))\n",
    "plt.xticks([])\n",
    "\n",
    "# Plot (u_t)_2.\n",
    "plt.subplot(4, 1, 2)\n",
    "plt.plot(u[1, :].value)\n",
    "plt.ylabel(r\"$(u_t)_2$\", fontsize=16)\n",
    "plt.yticks(np.linspace(-1, 1, 3))\n",
    "plt.xticks([])\n",
    "\n",
    "# Plot (x_t)_1.\n",
    "plt.subplot(4, 1, 3)\n",
    "x1 = x[0, :].value\n",
    "plt.plot(x1)\n",
    "plt.ylabel(r\"$(x_t)_1$\", fontsize=16)\n",
    "plt.yticks([-10, 0, 10])\n",
    "plt.ylim([-10, 10])\n",
    "plt.xticks([])\n",
    "\n",
    "# Plot (x_t)_2.\n",
    "plt.subplot(4, 1, 4)\n",
    "x2 = x[1, :].value\n",
    "plt.plot(range(51), x2)\n",
    "plt.yticks([-25, 0, 25])\n",
    "plt.ylim([-25, 25])\n",
    "plt.ylabel(r\"$(x_t)_2$\", fontsize=16)\n",
    "plt.xlabel(r\"$t$\", fontsize=16)\n",
    "plt.tight_layout()\n",
    "plt.show()"
   ],
   "metadata": {
    "collapsed": false,
    "pycharm": {
     "name": "#%%\n"
    },
    "ExecuteTime": {
     "end_time": "2023-06-23T21:04:12.565563363Z",
     "start_time": "2023-06-23T21:04:11.624075890Z"
    }
   }
  }
 ],
 "metadata": {
  "kernelspec": {
   "name": "python3",
   "language": "python",
   "display_name": "Python 3 (ipykernel)"
  },
  "language_info": {
   "codemirror_mode": {
    "name": "ipython",
    "version": 3
   },
   "file_extension": ".py",
   "mimetype": "text/x-python",
   "name": "python",
   "nbconvert_exporter": "python",
   "pygments_lexer": "ipython3",
   "version": "3.7.0"
  }
 },
 "nbformat": 4,
 "nbformat_minor": 1
}
