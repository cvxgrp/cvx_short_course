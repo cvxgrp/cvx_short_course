{
 "cells": [
  {
   "cell_type": "markdown",
   "metadata": {},
   "source": [
    "# Portfolio optimization "
   ]
  },
  {
   "cell_type": "markdown",
   "metadata": {
    "pycharm": {
     "name": "#%% md\n"
    }
   },
   "source": [
    "## Portfolio allocation vector\n",
    "\n",
    "In this example we show how to do portfolio optimization using CVXPY.\n",
    "We begin with the basic definitions.\n",
    "In portfolio optimization we have some amount of money to invest in any of $n$ different assets. \n",
    "We choose what fraction $w_i$ of our money to invest in each asset $i$, $i=1, \\ldots, n$.\n",
    "\n",
    "We call $w\\in {\\bf R}^n$ the *portfolio allocation vector*.\n",
    "We of course have the constraint that ${\\mathbf 1}^T w =1$.\n",
    "The allocation $w_i<0$ means a *short position* in asset $i$, or that we borrow shares to sell now that we must replace later.\n",
    "The allocation $w \\geq 0$ is a *long only* portfolio.\n",
    "The quantity"
   ],
   "outputs": []
  },
  {
   "cell_type": "markdown",
   "source": [
    "$$\n",
    "\\|w \\|_1 = {\\mathbf 1}^T w_+ + {\\mathbf 1}^T w_-\n",
    "$$"
   ],
   "metadata": {
    "collapsed": false,
    "pycharm": {
     "name": "#%% md\n"
    }
   },
   "outputs": []
  },
  {
   "cell_type": "markdown",
   "source": [
    "is known as *leverage*."
   ],
   "metadata": {
    "collapsed": false,
    "pycharm": {
     "name": "#%% md\n"
    }
   }
  },
  {
   "cell_type": "markdown",
   "metadata": {},
   "source": [
    "## Asset returns\n",
    "\n",
    "We will only model investments held for one period. The initial prices are $p_i > 0$. The end of period prices are $p_i^+ >0$. The asset (fractional) returns are $r_i = (p_i^+-p_i)/p_i$. The porfolio (fractional) return is $R = r^Tw$.\n",
    "\n",
    "A common model is that $r$ is a random variable with mean ${\\bf E}r = \\mu$ and covariance ${\\bf E{(r-\\mu)(r-\\mu)^T}} = \\Sigma$.\n",
    "It follows that $R$ is a random variable with ${\\bf E}R = \\mu^T w$ and ${\\bf var}(R) = w^T\\Sigma w$.\n",
    "${\\bf E}R$ is the (mean) *return* of the portfolio. ${\\bf var}(R)$ is the *risk* of the portfolio.\n",
    "(Risk is also sometimes given as ${\\bf std}(R) = \\sqrt{{\\bf var}(R)}$.)\n",
    "\n",
    "Portfolio optimization has two competing objectives: high return and low risk."
   ]
  },
  {
   "cell_type": "markdown",
   "metadata": {
    "pycharm": {
     "name": "#%% md\n"
    }
   },
   "source": [
    "## Classical (Markowitz) portfolio optimization\n",
    "\n",
    "Classical (Markowitz) portfolio optimization solves the optimization problem"
   ],
   "outputs": []
  },
  {
   "cell_type": "markdown",
   "source": [
    "$$\n",
    "\\begin{array}{ll} \\mbox{maximize} & \\mu^T w - \\gamma w^T\\Sigma w\\\\\n",
    "\\mbox{subject to} & {\\bf 1}^T w = 1, \\quad w \\in {\\cal W},\n",
    "\\end{array}\n",
    "$$"
   ],
   "metadata": {
    "collapsed": false,
    "pycharm": {
     "name": "#%% md\n"
    }
   }
  },
  {
   "cell_type": "markdown",
   "source": [
    "where $w \\in {\\bf R}^n$ is the optimization variable, $\\cal W$ is a set of allowed portfolios (e.g., ${\\cal W} = {\\bf R}_+^n$ for a long only portfolio), and $\\gamma >0$ is the *risk aversion parameter*.\n",
    "\n",
    "The objective $\\mu^Tw - \\gamma w^T\\Sigma w$ is the *risk-adjusted return*. Varying $\\gamma$ gives the optimal *risk-return trade-off*.\n",
    "We can get the same risk-return trade-off by fixing return and minimizing risk."
   ],
   "metadata": {
    "collapsed": false,
    "pycharm": {
     "name": "#%% md\n"
    }
   }
  },
  {
   "cell_type": "markdown",
   "metadata": {},
   "source": [
    "## Example\n",
    "\n",
    "In the following code we compute and plot the optimal risk-return trade-off for $10$ assets, restricting ourselves to a long only portfolio."
   ]
  },
  {
   "cell_type": "code",
   "execution_count": 1,
   "outputs": [],
   "source": [
    "# Generate data for long only portfolio optimization.\n",
    "import numpy as np\n",
    "import scipy.sparse as sp\n",
    "\n",
    "np.random.seed(1)\n",
    "n = 10\n",
    "mu = np.abs(np.random.randn(n, 1))\n",
    "Sigma = np.random.randn(n, n)\n",
    "Sigma = Sigma.T.dot(Sigma)"
   ],
   "metadata": {
    "collapsed": false,
    "pycharm": {
     "name": "#%%\n"
    }
   }
  },
  {
   "cell_type": "code",
   "execution_count": 2,
   "outputs": [],
   "source": [
    "# Long only portfolio optimization.\n",
    "import cvxpy as cp\n",
    "\n",
    "\n",
    "w = cp.Variable(n)\n",
    "gamma = cp.Parameter(nonneg=True)\n",
    "ret = mu.T @ w\n",
    "risk = cp.quad_form(w, Sigma)\n",
    "prob = cp.Problem(cp.Maximize(ret - gamma * risk), [cp.sum(w) == 1, w >= 0])"
   ],
   "metadata": {
    "collapsed": false,
    "pycharm": {
     "name": "#%%\n"
    }
   }
  },
  {
   "cell_type": "code",
   "execution_count": 3,
   "outputs": [],
   "source": [
    "# Compute trade-off curve.\n",
    "SAMPLES = 100\n",
    "risk_data = np.zeros(SAMPLES)\n",
    "ret_data = np.zeros(SAMPLES)\n",
    "gamma_vals = np.logspace(-2, 3, num=SAMPLES)\n",
    "for i in range(SAMPLES):\n",
    "    gamma.value = gamma_vals[i]\n",
    "    prob.solve()\n",
    "    risk_data[i] = cp.sqrt(risk).value\n",
    "    ret_data[i] = ret.value"
   ],
   "metadata": {
    "collapsed": false,
    "pycharm": {
     "name": "#%%\n"
    }
   }
  },
  {
   "cell_type": "code",
   "execution_count": 4,
   "outputs": [
    {
     "data": {
      "text/plain": "<Figure size 432x288 with 1 Axes>",
      "image/svg+xml": "<?xml version=\"1.0\" encoding=\"utf-8\" standalone=\"no\"?>\n<!DOCTYPE svg PUBLIC \"-//W3C//DTD SVG 1.1//EN\"\n  \"http://www.w3.org/Graphics/SVG/1.1/DTD/svg11.dtd\">\n<svg xmlns:xlink=\"http://www.w3.org/1999/xlink\" width=\"385.78125pt\" height=\"262.19625pt\" viewBox=\"0 0 385.78125 262.19625\" xmlns=\"http://www.w3.org/2000/svg\" version=\"1.1\">\n <metadata>\n  <rdf:RDF xmlns:dc=\"http://purl.org/dc/elements/1.1/\" xmlns:cc=\"http://creativecommons.org/ns#\" xmlns:rdf=\"http://www.w3.org/1999/02/22-rdf-syntax-ns#\">\n   <cc:Work>\n    <dc:type rdf:resource=\"http://purl.org/dc/dcmitype/StillImage\"/>\n    <dc:date>2022-06-04T10:33:09.059339</dc:date>\n    <dc:format>image/svg+xml</dc:format>\n    <dc:creator>\n     <cc:Agent>\n      <dc:title>Matplotlib v3.5.2, https://matplotlib.org/</dc:title>\n     </cc:Agent>\n    </dc:creator>\n   </cc:Work>\n  </rdf:RDF>\n </metadata>\n <defs>\n  <style type=\"text/css\">*{stroke-linejoin: round; stroke-linecap: butt}</style>\n </defs>\n <g id=\"figure_1\">\n  <g id=\"patch_1\">\n   <path d=\"M 0 262.19625 \nL 385.78125 262.19625 \nL 385.78125 0 \nL 0 0 \nL 0 262.19625 \nz\n\" style=\"fill: none\"/>\n  </g>\n  <g id=\"axes_1\">\n   <g id=\"patch_2\">\n    <path d=\"M 43.78125 224.64 \nL 378.58125 224.64 \nL 378.58125 7.2 \nL 43.78125 7.2 \nz\n\" style=\"fill: #ffffff\"/>\n   </g>\n   <g id=\"matplotlib.axis_1\">\n    <g id=\"xtick_1\">\n     <g id=\"line2d_1\">\n      <defs>\n       <path id=\"mbfda1b9d8d\" d=\"M 0 0 \nL 0 3.5 \n\" style=\"stroke: #000000; stroke-width: 0.8\"/>\n      </defs>\n      <g>\n       <use xlink:href=\"#mbfda1b9d8d\" x=\"73.4446\" y=\"224.64\" style=\"stroke: #000000; stroke-width: 0.8\"/>\n      </g>\n     </g>\n     <g id=\"text_1\">\n      <!-- 0.5 -->\n      <g transform=\"translate(65.493037 239.238438)scale(0.1 -0.1)\">\n       <defs>\n        <path id=\"DejaVuSans-30\" d=\"M 2034 4250 \nQ 1547 4250 1301 3770 \nQ 1056 3291 1056 2328 \nQ 1056 1369 1301 889 \nQ 1547 409 2034 409 \nQ 2525 409 2770 889 \nQ 3016 1369 3016 2328 \nQ 3016 3291 2770 3770 \nQ 2525 4250 2034 4250 \nz\nM 2034 4750 \nQ 2819 4750 3233 4129 \nQ 3647 3509 3647 2328 \nQ 3647 1150 3233 529 \nQ 2819 -91 2034 -91 \nQ 1250 -91 836 529 \nQ 422 1150 422 2328 \nQ 422 3509 836 4129 \nQ 1250 4750 2034 4750 \nz\n\" transform=\"scale(0.015625)\"/>\n        <path id=\"DejaVuSans-2e\" d=\"M 684 794 \nL 1344 794 \nL 1344 0 \nL 684 0 \nL 684 794 \nz\n\" transform=\"scale(0.015625)\"/>\n        <path id=\"DejaVuSans-35\" d=\"M 691 4666 \nL 3169 4666 \nL 3169 4134 \nL 1269 4134 \nL 1269 2991 \nQ 1406 3038 1543 3061 \nQ 1681 3084 1819 3084 \nQ 2600 3084 3056 2656 \nQ 3513 2228 3513 1497 \nQ 3513 744 3044 326 \nQ 2575 -91 1722 -91 \nQ 1428 -91 1123 -41 \nQ 819 9 494 109 \nL 494 744 \nQ 775 591 1075 516 \nQ 1375 441 1709 441 \nQ 2250 441 2565 725 \nQ 2881 1009 2881 1497 \nQ 2881 1984 2565 2268 \nQ 2250 2553 1709 2553 \nQ 1456 2553 1204 2497 \nQ 953 2441 691 2322 \nL 691 4666 \nz\n\" transform=\"scale(0.015625)\"/>\n       </defs>\n       <use xlink:href=\"#DejaVuSans-30\"/>\n       <use xlink:href=\"#DejaVuSans-2e\" x=\"63.623047\"/>\n       <use xlink:href=\"#DejaVuSans-35\" x=\"95.410156\"/>\n      </g>\n     </g>\n    </g>\n    <g id=\"xtick_2\">\n     <g id=\"line2d_2\">\n      <g>\n       <use xlink:href=\"#mbfda1b9d8d\" x=\"124.831411\" y=\"224.64\" style=\"stroke: #000000; stroke-width: 0.8\"/>\n      </g>\n     </g>\n     <g id=\"text_2\">\n      <!-- 1.0 -->\n      <g transform=\"translate(116.879848 239.238438)scale(0.1 -0.1)\">\n       <defs>\n        <path id=\"DejaVuSans-31\" d=\"M 794 531 \nL 1825 531 \nL 1825 4091 \nL 703 3866 \nL 703 4441 \nL 1819 4666 \nL 2450 4666 \nL 2450 531 \nL 3481 531 \nL 3481 0 \nL 794 0 \nL 794 531 \nz\n\" transform=\"scale(0.015625)\"/>\n       </defs>\n       <use xlink:href=\"#DejaVuSans-31\"/>\n       <use xlink:href=\"#DejaVuSans-2e\" x=\"63.623047\"/>\n       <use xlink:href=\"#DejaVuSans-30\" x=\"95.410156\"/>\n      </g>\n     </g>\n    </g>\n    <g id=\"xtick_3\">\n     <g id=\"line2d_3\">\n      <g>\n       <use xlink:href=\"#mbfda1b9d8d\" x=\"176.218222\" y=\"224.64\" style=\"stroke: #000000; stroke-width: 0.8\"/>\n      </g>\n     </g>\n     <g id=\"text_3\">\n      <!-- 1.5 -->\n      <g transform=\"translate(168.26666 239.238438)scale(0.1 -0.1)\">\n       <use xlink:href=\"#DejaVuSans-31\"/>\n       <use xlink:href=\"#DejaVuSans-2e\" x=\"63.623047\"/>\n       <use xlink:href=\"#DejaVuSans-35\" x=\"95.410156\"/>\n      </g>\n     </g>\n    </g>\n    <g id=\"xtick_4\">\n     <g id=\"line2d_4\">\n      <g>\n       <use xlink:href=\"#mbfda1b9d8d\" x=\"227.605033\" y=\"224.64\" style=\"stroke: #000000; stroke-width: 0.8\"/>\n      </g>\n     </g>\n     <g id=\"text_4\">\n      <!-- 2.0 -->\n      <g transform=\"translate(219.653471 239.238438)scale(0.1 -0.1)\">\n       <defs>\n        <path id=\"DejaVuSans-32\" d=\"M 1228 531 \nL 3431 531 \nL 3431 0 \nL 469 0 \nL 469 531 \nQ 828 903 1448 1529 \nQ 2069 2156 2228 2338 \nQ 2531 2678 2651 2914 \nQ 2772 3150 2772 3378 \nQ 2772 3750 2511 3984 \nQ 2250 4219 1831 4219 \nQ 1534 4219 1204 4116 \nQ 875 4013 500 3803 \nL 500 4441 \nQ 881 4594 1212 4672 \nQ 1544 4750 1819 4750 \nQ 2544 4750 2975 4387 \nQ 3406 4025 3406 3419 \nQ 3406 3131 3298 2873 \nQ 3191 2616 2906 2266 \nQ 2828 2175 2409 1742 \nQ 1991 1309 1228 531 \nz\n\" transform=\"scale(0.015625)\"/>\n       </defs>\n       <use xlink:href=\"#DejaVuSans-32\"/>\n       <use xlink:href=\"#DejaVuSans-2e\" x=\"63.623047\"/>\n       <use xlink:href=\"#DejaVuSans-30\" x=\"95.410156\"/>\n      </g>\n     </g>\n    </g>\n    <g id=\"xtick_5\">\n     <g id=\"line2d_5\">\n      <g>\n       <use xlink:href=\"#mbfda1b9d8d\" x=\"278.991845\" y=\"224.64\" style=\"stroke: #000000; stroke-width: 0.8\"/>\n      </g>\n     </g>\n     <g id=\"text_5\">\n      <!-- 2.5 -->\n      <g transform=\"translate(271.040282 239.238438)scale(0.1 -0.1)\">\n       <use xlink:href=\"#DejaVuSans-32\"/>\n       <use xlink:href=\"#DejaVuSans-2e\" x=\"63.623047\"/>\n       <use xlink:href=\"#DejaVuSans-35\" x=\"95.410156\"/>\n      </g>\n     </g>\n    </g>\n    <g id=\"xtick_6\">\n     <g id=\"line2d_6\">\n      <g>\n       <use xlink:href=\"#mbfda1b9d8d\" x=\"330.378656\" y=\"224.64\" style=\"stroke: #000000; stroke-width: 0.8\"/>\n      </g>\n     </g>\n     <g id=\"text_6\">\n      <!-- 3.0 -->\n      <g transform=\"translate(322.427093 239.238438)scale(0.1 -0.1)\">\n       <defs>\n        <path id=\"DejaVuSans-33\" d=\"M 2597 2516 \nQ 3050 2419 3304 2112 \nQ 3559 1806 3559 1356 \nQ 3559 666 3084 287 \nQ 2609 -91 1734 -91 \nQ 1441 -91 1130 -33 \nQ 819 25 488 141 \nL 488 750 \nQ 750 597 1062 519 \nQ 1375 441 1716 441 \nQ 2309 441 2620 675 \nQ 2931 909 2931 1356 \nQ 2931 1769 2642 2001 \nQ 2353 2234 1838 2234 \nL 1294 2234 \nL 1294 2753 \nL 1863 2753 \nQ 2328 2753 2575 2939 \nQ 2822 3125 2822 3475 \nQ 2822 3834 2567 4026 \nQ 2313 4219 1838 4219 \nQ 1578 4219 1281 4162 \nQ 984 4106 628 3988 \nL 628 4550 \nQ 988 4650 1302 4700 \nQ 1616 4750 1894 4750 \nQ 2613 4750 3031 4423 \nQ 3450 4097 3450 3541 \nQ 3450 3153 3228 2886 \nQ 3006 2619 2597 2516 \nz\n\" transform=\"scale(0.015625)\"/>\n       </defs>\n       <use xlink:href=\"#DejaVuSans-33\"/>\n       <use xlink:href=\"#DejaVuSans-2e\" x=\"63.623047\"/>\n       <use xlink:href=\"#DejaVuSans-30\" x=\"95.410156\"/>\n      </g>\n     </g>\n    </g>\n    <g id=\"text_7\">\n     <!-- Standard deviation -->\n     <g transform=\"translate(163.603906 252.916563)scale(0.1 -0.1)\">\n      <defs>\n       <path id=\"DejaVuSans-53\" d=\"M 3425 4513 \nL 3425 3897 \nQ 3066 4069 2747 4153 \nQ 2428 4238 2131 4238 \nQ 1616 4238 1336 4038 \nQ 1056 3838 1056 3469 \nQ 1056 3159 1242 3001 \nQ 1428 2844 1947 2747 \nL 2328 2669 \nQ 3034 2534 3370 2195 \nQ 3706 1856 3706 1288 \nQ 3706 609 3251 259 \nQ 2797 -91 1919 -91 \nQ 1588 -91 1214 -16 \nQ 841 59 441 206 \nL 441 856 \nQ 825 641 1194 531 \nQ 1563 422 1919 422 \nQ 2459 422 2753 634 \nQ 3047 847 3047 1241 \nQ 3047 1584 2836 1778 \nQ 2625 1972 2144 2069 \nL 1759 2144 \nQ 1053 2284 737 2584 \nQ 422 2884 422 3419 \nQ 422 4038 858 4394 \nQ 1294 4750 2059 4750 \nQ 2388 4750 2728 4690 \nQ 3069 4631 3425 4513 \nz\n\" transform=\"scale(0.015625)\"/>\n       <path id=\"DejaVuSans-74\" d=\"M 1172 4494 \nL 1172 3500 \nL 2356 3500 \nL 2356 3053 \nL 1172 3053 \nL 1172 1153 \nQ 1172 725 1289 603 \nQ 1406 481 1766 481 \nL 2356 481 \nL 2356 0 \nL 1766 0 \nQ 1100 0 847 248 \nQ 594 497 594 1153 \nL 594 3053 \nL 172 3053 \nL 172 3500 \nL 594 3500 \nL 594 4494 \nL 1172 4494 \nz\n\" transform=\"scale(0.015625)\"/>\n       <path id=\"DejaVuSans-61\" d=\"M 2194 1759 \nQ 1497 1759 1228 1600 \nQ 959 1441 959 1056 \nQ 959 750 1161 570 \nQ 1363 391 1709 391 \nQ 2188 391 2477 730 \nQ 2766 1069 2766 1631 \nL 2766 1759 \nL 2194 1759 \nz\nM 3341 1997 \nL 3341 0 \nL 2766 0 \nL 2766 531 \nQ 2569 213 2275 61 \nQ 1981 -91 1556 -91 \nQ 1019 -91 701 211 \nQ 384 513 384 1019 \nQ 384 1609 779 1909 \nQ 1175 2209 1959 2209 \nL 2766 2209 \nL 2766 2266 \nQ 2766 2663 2505 2880 \nQ 2244 3097 1772 3097 \nQ 1472 3097 1187 3025 \nQ 903 2953 641 2809 \nL 641 3341 \nQ 956 3463 1253 3523 \nQ 1550 3584 1831 3584 \nQ 2591 3584 2966 3190 \nQ 3341 2797 3341 1997 \nz\n\" transform=\"scale(0.015625)\"/>\n       <path id=\"DejaVuSans-6e\" d=\"M 3513 2113 \nL 3513 0 \nL 2938 0 \nL 2938 2094 \nQ 2938 2591 2744 2837 \nQ 2550 3084 2163 3084 \nQ 1697 3084 1428 2787 \nQ 1159 2491 1159 1978 \nL 1159 0 \nL 581 0 \nL 581 3500 \nL 1159 3500 \nL 1159 2956 \nQ 1366 3272 1645 3428 \nQ 1925 3584 2291 3584 \nQ 2894 3584 3203 3211 \nQ 3513 2838 3513 2113 \nz\n\" transform=\"scale(0.015625)\"/>\n       <path id=\"DejaVuSans-64\" d=\"M 2906 2969 \nL 2906 4863 \nL 3481 4863 \nL 3481 0 \nL 2906 0 \nL 2906 525 \nQ 2725 213 2448 61 \nQ 2172 -91 1784 -91 \nQ 1150 -91 751 415 \nQ 353 922 353 1747 \nQ 353 2572 751 3078 \nQ 1150 3584 1784 3584 \nQ 2172 3584 2448 3432 \nQ 2725 3281 2906 2969 \nz\nM 947 1747 \nQ 947 1113 1208 752 \nQ 1469 391 1925 391 \nQ 2381 391 2643 752 \nQ 2906 1113 2906 1747 \nQ 2906 2381 2643 2742 \nQ 2381 3103 1925 3103 \nQ 1469 3103 1208 2742 \nQ 947 2381 947 1747 \nz\n\" transform=\"scale(0.015625)\"/>\n       <path id=\"DejaVuSans-72\" d=\"M 2631 2963 \nQ 2534 3019 2420 3045 \nQ 2306 3072 2169 3072 \nQ 1681 3072 1420 2755 \nQ 1159 2438 1159 1844 \nL 1159 0 \nL 581 0 \nL 581 3500 \nL 1159 3500 \nL 1159 2956 \nQ 1341 3275 1631 3429 \nQ 1922 3584 2338 3584 \nQ 2397 3584 2469 3576 \nQ 2541 3569 2628 3553 \nL 2631 2963 \nz\n\" transform=\"scale(0.015625)\"/>\n       <path id=\"DejaVuSans-20\" transform=\"scale(0.015625)\"/>\n       <path id=\"DejaVuSans-65\" d=\"M 3597 1894 \nL 3597 1613 \nL 953 1613 \nQ 991 1019 1311 708 \nQ 1631 397 2203 397 \nQ 2534 397 2845 478 \nQ 3156 559 3463 722 \nL 3463 178 \nQ 3153 47 2828 -22 \nQ 2503 -91 2169 -91 \nQ 1331 -91 842 396 \nQ 353 884 353 1716 \nQ 353 2575 817 3079 \nQ 1281 3584 2069 3584 \nQ 2775 3584 3186 3129 \nQ 3597 2675 3597 1894 \nz\nM 3022 2063 \nQ 3016 2534 2758 2815 \nQ 2500 3097 2075 3097 \nQ 1594 3097 1305 2825 \nQ 1016 2553 972 2059 \nL 3022 2063 \nz\n\" transform=\"scale(0.015625)\"/>\n       <path id=\"DejaVuSans-76\" d=\"M 191 3500 \nL 800 3500 \nL 1894 563 \nL 2988 3500 \nL 3597 3500 \nL 2284 0 \nL 1503 0 \nL 191 3500 \nz\n\" transform=\"scale(0.015625)\"/>\n       <path id=\"DejaVuSans-69\" d=\"M 603 3500 \nL 1178 3500 \nL 1178 0 \nL 603 0 \nL 603 3500 \nz\nM 603 4863 \nL 1178 4863 \nL 1178 4134 \nL 603 4134 \nL 603 4863 \nz\n\" transform=\"scale(0.015625)\"/>\n       <path id=\"DejaVuSans-6f\" d=\"M 1959 3097 \nQ 1497 3097 1228 2736 \nQ 959 2375 959 1747 \nQ 959 1119 1226 758 \nQ 1494 397 1959 397 \nQ 2419 397 2687 759 \nQ 2956 1122 2956 1747 \nQ 2956 2369 2687 2733 \nQ 2419 3097 1959 3097 \nz\nM 1959 3584 \nQ 2709 3584 3137 3096 \nQ 3566 2609 3566 1747 \nQ 3566 888 3137 398 \nQ 2709 -91 1959 -91 \nQ 1206 -91 779 398 \nQ 353 888 353 1747 \nQ 353 2609 779 3096 \nQ 1206 3584 1959 3584 \nz\n\" transform=\"scale(0.015625)\"/>\n      </defs>\n      <use xlink:href=\"#DejaVuSans-53\"/>\n      <use xlink:href=\"#DejaVuSans-74\" x=\"63.476562\"/>\n      <use xlink:href=\"#DejaVuSans-61\" x=\"102.685547\"/>\n      <use xlink:href=\"#DejaVuSans-6e\" x=\"163.964844\"/>\n      <use xlink:href=\"#DejaVuSans-64\" x=\"227.34375\"/>\n      <use xlink:href=\"#DejaVuSans-61\" x=\"290.820312\"/>\n      <use xlink:href=\"#DejaVuSans-72\" x=\"352.099609\"/>\n      <use xlink:href=\"#DejaVuSans-64\" x=\"391.462891\"/>\n      <use xlink:href=\"#DejaVuSans-20\" x=\"454.939453\"/>\n      <use xlink:href=\"#DejaVuSans-64\" x=\"486.726562\"/>\n      <use xlink:href=\"#DejaVuSans-65\" x=\"550.203125\"/>\n      <use xlink:href=\"#DejaVuSans-76\" x=\"611.726562\"/>\n      <use xlink:href=\"#DejaVuSans-69\" x=\"670.90625\"/>\n      <use xlink:href=\"#DejaVuSans-61\" x=\"698.689453\"/>\n      <use xlink:href=\"#DejaVuSans-74\" x=\"759.96875\"/>\n      <use xlink:href=\"#DejaVuSans-69\" x=\"799.177734\"/>\n      <use xlink:href=\"#DejaVuSans-6f\" x=\"826.960938\"/>\n      <use xlink:href=\"#DejaVuSans-6e\" x=\"888.142578\"/>\n     </g>\n    </g>\n   </g>\n   <g id=\"matplotlib.axis_2\">\n    <g id=\"ytick_1\">\n     <g id=\"line2d_7\">\n      <defs>\n       <path id=\"m1ba35bf6db\" d=\"M 0 0 \nL -3.5 0 \n\" style=\"stroke: #000000; stroke-width: 0.8\"/>\n      </defs>\n      <g>\n       <use xlink:href=\"#m1ba35bf6db\" x=\"43.78125\" y=\"190.614756\" style=\"stroke: #000000; stroke-width: 0.8\"/>\n      </g>\n     </g>\n     <g id=\"text_8\">\n      <!-- 0.5 -->\n      <g transform=\"translate(20.878125 194.413975)scale(0.1 -0.1)\">\n       <use xlink:href=\"#DejaVuSans-30\"/>\n       <use xlink:href=\"#DejaVuSans-2e\" x=\"63.623047\"/>\n       <use xlink:href=\"#DejaVuSans-35\" x=\"95.410156\"/>\n      </g>\n     </g>\n    </g>\n    <g id=\"ytick_2\">\n     <g id=\"line2d_8\">\n      <g>\n       <use xlink:href=\"#m1ba35bf6db\" x=\"43.78125\" y=\"142.452838\" style=\"stroke: #000000; stroke-width: 0.8\"/>\n      </g>\n     </g>\n     <g id=\"text_9\">\n      <!-- 1.0 -->\n      <g transform=\"translate(20.878125 146.252057)scale(0.1 -0.1)\">\n       <use xlink:href=\"#DejaVuSans-31\"/>\n       <use xlink:href=\"#DejaVuSans-2e\" x=\"63.623047\"/>\n       <use xlink:href=\"#DejaVuSans-30\" x=\"95.410156\"/>\n      </g>\n     </g>\n    </g>\n    <g id=\"ytick_3\">\n     <g id=\"line2d_9\">\n      <g>\n       <use xlink:href=\"#m1ba35bf6db\" x=\"43.78125\" y=\"94.290919\" style=\"stroke: #000000; stroke-width: 0.8\"/>\n      </g>\n     </g>\n     <g id=\"text_10\">\n      <!-- 1.5 -->\n      <g transform=\"translate(20.878125 98.090138)scale(0.1 -0.1)\">\n       <use xlink:href=\"#DejaVuSans-31\"/>\n       <use xlink:href=\"#DejaVuSans-2e\" x=\"63.623047\"/>\n       <use xlink:href=\"#DejaVuSans-35\" x=\"95.410156\"/>\n      </g>\n     </g>\n    </g>\n    <g id=\"ytick_4\">\n     <g id=\"line2d_10\">\n      <g>\n       <use xlink:href=\"#m1ba35bf6db\" x=\"43.78125\" y=\"46.129001\" style=\"stroke: #000000; stroke-width: 0.8\"/>\n      </g>\n     </g>\n     <g id=\"text_11\">\n      <!-- 2.0 -->\n      <g transform=\"translate(20.878125 49.928219)scale(0.1 -0.1)\">\n       <use xlink:href=\"#DejaVuSans-32\"/>\n       <use xlink:href=\"#DejaVuSans-2e\" x=\"63.623047\"/>\n       <use xlink:href=\"#DejaVuSans-30\" x=\"95.410156\"/>\n      </g>\n     </g>\n    </g>\n    <g id=\"text_12\">\n     <!-- Return -->\n     <g transform=\"translate(14.798438 132.511406)rotate(-90)scale(0.1 -0.1)\">\n      <defs>\n       <path id=\"DejaVuSans-52\" d=\"M 2841 2188 \nQ 3044 2119 3236 1894 \nQ 3428 1669 3622 1275 \nL 4263 0 \nL 3584 0 \nL 2988 1197 \nQ 2756 1666 2539 1819 \nQ 2322 1972 1947 1972 \nL 1259 1972 \nL 1259 0 \nL 628 0 \nL 628 4666 \nL 2053 4666 \nQ 2853 4666 3247 4331 \nQ 3641 3997 3641 3322 \nQ 3641 2881 3436 2590 \nQ 3231 2300 2841 2188 \nz\nM 1259 4147 \nL 1259 2491 \nL 2053 2491 \nQ 2509 2491 2742 2702 \nQ 2975 2913 2975 3322 \nQ 2975 3731 2742 3939 \nQ 2509 4147 2053 4147 \nL 1259 4147 \nz\n\" transform=\"scale(0.015625)\"/>\n       <path id=\"DejaVuSans-75\" d=\"M 544 1381 \nL 544 3500 \nL 1119 3500 \nL 1119 1403 \nQ 1119 906 1312 657 \nQ 1506 409 1894 409 \nQ 2359 409 2629 706 \nQ 2900 1003 2900 1516 \nL 2900 3500 \nL 3475 3500 \nL 3475 0 \nL 2900 0 \nL 2900 538 \nQ 2691 219 2414 64 \nQ 2138 -91 1772 -91 \nQ 1169 -91 856 284 \nQ 544 659 544 1381 \nz\nM 1991 3584 \nL 1991 3584 \nz\n\" transform=\"scale(0.015625)\"/>\n      </defs>\n      <use xlink:href=\"#DejaVuSans-52\"/>\n      <use xlink:href=\"#DejaVuSans-65\" x=\"64.982422\"/>\n      <use xlink:href=\"#DejaVuSans-74\" x=\"126.505859\"/>\n      <use xlink:href=\"#DejaVuSans-75\" x=\"165.714844\"/>\n      <use xlink:href=\"#DejaVuSans-72\" x=\"229.09375\"/>\n      <use xlink:href=\"#DejaVuSans-6e\" x=\"268.457031\"/>\n     </g>\n    </g>\n   </g>\n   <g id=\"line2d_11\">\n    <path d=\"M 285.510086 17.083636 \nL 285.510086 17.083636 \nL 285.510086 17.083636 \nL 285.510086 17.083636 \nL 285.510086 17.083636 \nL 285.510086 17.083636 \nL 285.510086 17.083636 \nL 285.510086 17.083636 \nL 285.510086 17.083636 \nL 285.510086 17.083636 \nL 285.510086 17.083636 \nL 285.510086 17.083636 \nL 285.510086 17.083636 \nL 285.510086 17.083636 \nL 285.510086 17.083636 \nL 273.526714 20.147641 \nL 261.341207 23.449595 \nL 251.224658 26.389044 \nL 242.878527 29.005786 \nL 229.916643 33.395651 \nL 216.158762 38.257701 \nL 202.750878 43.234807 \nL 188.222614 48.846459 \nL 174.194996 54.410928 \nL 162.08378 59.364501 \nL 151.684622 63.774247 \nL 142.809042 67.69987 \nL 135.28221 71.194518 \nL 128.941517 74.305507 \nL 123.635896 77.074956 \nL 119.225738 79.540361 \nL 115.583176 81.735102 \nL 112.592476 83.688894 \nL 109.773635 85.706541 \nL 104.909532 89.422365 \nL 100.146628 93.282538 \nL 96.07621 96.781626 \nL 92.68405 99.896567 \nL 89.834443 102.711566 \nL 84.734022 108.041734 \nL 80.376055 112.786729 \nL 76.676025 117.010796 \nL 73.555344 120.771123 \nL 70.940963 124.118624 \nL 68.765289 127.098619 \nL 66.966304 129.751456 \nL 65.487743 132.113051 \nL 64.27925 134.215379 \nL 63.296393 136.086903 \nL 62.500535 137.752962 \nL 61.858529 139.236113 \nL 61.3423 140.556436 \nL 60.928327 141.731807 \nL 60.426549 143.321425 \nL 59.974942 144.900715 \nL 59.639709 146.19865 \nL 59.507736 146.771444 \nL 59.402818 147.281353 \nL 59.319463 147.735281 \nL 59.253272 148.139376 \nL 59.200734 148.499106 \nL 59.159045 148.819344 \nL 59.125975 149.104425 \nL 59.099746 149.358208 \nL 59.078946 149.584129 \nL 59.062455 149.785248 \nL 59.049381 149.964287 \nL 59.039016 150.12367 \nL 59.0308 150.265555 \nL 59.024288 150.391863 \nL 59.019127 150.504305 \nL 59.015036 150.604402 \nL 59.011793 150.69351 \nL 59.009224 150.772836 \nL 59.007187 150.843452 \nL 59.005573 150.906316 \nL 59.004294 150.962279 \nL 59.00328 151.012097 \nL 59.002477 151.056447 \nL 59.00184 151.095927 \nL 59.001336 151.131073 \nL 59.000936 151.162361 \nL 59.000619 151.190213 \nL 59.000368 151.215008 \nL 59.000169 151.237081 \nL 59.000011 151.25673 \nL 58.999886 151.274223 \nL 58.999787 151.289795 \nL 58.999708 151.303657 \nL 58.999646 151.315997 \nL 58.999597 151.326983 \nL 58.999558 151.336763 \nL 58.999527 151.345469 \nL 58.999502 151.353219 \nL 58.999483 151.360118 \nL 58.999467 151.36626 \nL 58.999455 151.371728 \nL 58.999446 151.376595 \nL 58.999438 151.380928 \nL 58.999432 151.384785 \n\" clip-path=\"url(#p84915f4216)\" style=\"fill: none; stroke: #008000; stroke-width: 1.5; stroke-linecap: square\"/>\n   </g>\n   <g id=\"line2d_12\">\n    <defs>\n     <path id=\"m1196af6231\" d=\"M -3 3 \nL 3 3 \nL 3 -3 \nL -3 -3 \nz\n\" style=\"stroke: #0000ff; stroke-linejoin: miter\"/>\n    </defs>\n    <g clip-path=\"url(#p84915f4216)\">\n     <use xlink:href=\"#m1196af6231\" x=\"123.635896\" y=\"77.074956\" style=\"fill: #0000ff; stroke: #0000ff; stroke-linejoin: miter\"/>\n    </g>\n   </g>\n   <g id=\"line2d_13\">\n    <g clip-path=\"url(#p84915f4216)\">\n     <use xlink:href=\"#m1196af6231\" x=\"80.376055\" y=\"112.786729\" style=\"fill: #0000ff; stroke: #0000ff; stroke-linejoin: miter\"/>\n    </g>\n   </g>\n   <g id=\"line2d_14\">\n    <defs>\n     <path id=\"mccc98bc58b\" d=\"M 0 3 \nC 0.795609 3 1.55874 2.683901 2.12132 2.12132 \nC 2.683901 1.55874 3 0.795609 3 0 \nC 3 -0.795609 2.683901 -1.55874 2.12132 -2.12132 \nC 1.55874 -2.683901 0.795609 -3 0 -3 \nC -0.795609 -3 -1.55874 -2.683901 -2.12132 -2.12132 \nC -2.683901 -1.55874 -3 -0.795609 -3 0 \nC -3 0.795609 -2.683901 1.55874 -2.12132 2.12132 \nC -1.55874 2.683901 -0.795609 3 0 3 \nz\n\" style=\"stroke: #ff0000\"/>\n    </defs>\n    <g clip-path=\"url(#p84915f4216)\">\n     <use xlink:href=\"#mccc98bc58b\" x=\"318.070062\" y=\"82.313497\" style=\"fill: #ff0000; stroke: #ff0000\"/>\n    </g>\n   </g>\n   <g id=\"line2d_15\">\n    <g clip-path=\"url(#p84915f4216)\">\n     <use xlink:href=\"#mccc98bc58b\" x=\"347.415783\" y=\"179.84995\" style=\"fill: #ff0000; stroke: #ff0000\"/>\n    </g>\n   </g>\n   <g id=\"line2d_16\">\n    <g clip-path=\"url(#p84915f4216)\">\n     <use xlink:href=\"#mccc98bc58b\" x=\"224.492521\" y=\"187.901145\" style=\"fill: #ff0000; stroke: #ff0000\"/>\n    </g>\n   </g>\n   <g id=\"line2d_17\">\n    <g clip-path=\"url(#p84915f4216)\">\n     <use xlink:href=\"#mccc98bc58b\" x=\"271.393448\" y=\"135.42422\" style=\"fill: #ff0000; stroke: #ff0000\"/>\n    </g>\n   </g>\n   <g id=\"line2d_18\">\n    <g clip-path=\"url(#p84915f4216)\">\n     <use xlink:href=\"#mccc98bc58b\" x=\"236.397883\" y=\"155.417291\" style=\"fill: #ff0000; stroke: #ff0000\"/>\n    </g>\n   </g>\n   <g id=\"line2d_19\">\n    <g clip-path=\"url(#p84915f4216)\">\n     <use xlink:href=\"#mccc98bc58b\" x=\"285.510086\" y=\"17.083636\" style=\"fill: #ff0000; stroke: #ff0000\"/>\n    </g>\n   </g>\n   <g id=\"line2d_20\">\n    <g clip-path=\"url(#p84915f4216)\">\n     <use xlink:href=\"#mccc98bc58b\" x=\"240.662644\" y=\"70.709711\" style=\"fill: #ff0000; stroke: #ff0000\"/>\n    </g>\n   </g>\n   <g id=\"line2d_21\">\n    <g clip-path=\"url(#p84915f4216)\">\n     <use xlink:href=\"#mccc98bc58b\" x=\"363.363068\" y=\"165.454305\" style=\"fill: #ff0000; stroke: #ff0000\"/>\n    </g>\n   </g>\n   <g id=\"line2d_22\">\n    <g clip-path=\"url(#p84915f4216)\">\n     <use xlink:href=\"#mccc98bc58b\" x=\"316.792125\" y=\"208.045605\" style=\"fill: #ff0000; stroke: #ff0000\"/>\n    </g>\n   </g>\n   <g id=\"line2d_23\">\n    <g clip-path=\"url(#p84915f4216)\">\n     <use xlink:href=\"#mccc98bc58b\" x=\"286.705433\" y=\"214.756364\" style=\"fill: #ff0000; stroke: #ff0000\"/>\n    </g>\n   </g>\n   <g id=\"patch_3\">\n    <path d=\"M 43.78125 224.64 \nL 43.78125 7.2 \n\" style=\"fill: none; stroke: #000000; stroke-width: 0.8; stroke-linejoin: miter; stroke-linecap: square\"/>\n   </g>\n   <g id=\"patch_4\">\n    <path d=\"M 378.58125 224.64 \nL 378.58125 7.2 \n\" style=\"fill: none; stroke: #000000; stroke-width: 0.8; stroke-linejoin: miter; stroke-linecap: square\"/>\n   </g>\n   <g id=\"patch_5\">\n    <path d=\"M 43.78125 224.64 \nL 378.58125 224.64 \n\" style=\"fill: none; stroke: #000000; stroke-width: 0.8; stroke-linejoin: miter; stroke-linecap: square\"/>\n   </g>\n   <g id=\"patch_6\">\n    <path d=\"M 43.78125 7.2 \nL 378.58125 7.2 \n\" style=\"fill: none; stroke: #000000; stroke-width: 0.8; stroke-linejoin: miter; stroke-linecap: square\"/>\n   </g>\n   <g id=\"text_13\">\n    <!-- $\\gamma = 0.29$ -->\n    <g transform=\"translate(131.857786 79.964671)scale(0.1 -0.1)\">\n     <defs>\n      <path id=\"DejaVuSans-Oblique-3b3\" d=\"M 1491 2950 \nL 1838 788 \nL 3456 3500 \nL 4066 3500 \nL 1972 0 \nL 1713 -1331 \nL 1138 -1331 \nL 1397 0 \nL 988 2613 \nQ 925 3006 628 3006 \nL 475 3006 \nL 569 3500 \nL 788 3500 \nQ 1403 3500 1491 2950 \nz\n\" transform=\"scale(0.015625)\"/>\n      <path id=\"DejaVuSans-3d\" d=\"M 678 2906 \nL 4684 2906 \nL 4684 2381 \nL 678 2381 \nL 678 2906 \nz\nM 678 1631 \nL 4684 1631 \nL 4684 1100 \nL 678 1100 \nL 678 1631 \nz\n\" transform=\"scale(0.015625)\"/>\n      <path id=\"DejaVuSans-39\" d=\"M 703 97 \nL 703 672 \nQ 941 559 1184 500 \nQ 1428 441 1663 441 \nQ 2288 441 2617 861 \nQ 2947 1281 2994 2138 \nQ 2813 1869 2534 1725 \nQ 2256 1581 1919 1581 \nQ 1219 1581 811 2004 \nQ 403 2428 403 3163 \nQ 403 3881 828 4315 \nQ 1253 4750 1959 4750 \nQ 2769 4750 3195 4129 \nQ 3622 3509 3622 2328 \nQ 3622 1225 3098 567 \nQ 2575 -91 1691 -91 \nQ 1453 -91 1209 -44 \nQ 966 3 703 97 \nz\nM 1959 2075 \nQ 2384 2075 2632 2365 \nQ 2881 2656 2881 3163 \nQ 2881 3666 2632 3958 \nQ 2384 4250 1959 4250 \nQ 1534 4250 1286 3958 \nQ 1038 3666 1038 3163 \nQ 1038 2656 1286 2365 \nQ 1534 2075 1959 2075 \nz\n\" transform=\"scale(0.015625)\"/>\n     </defs>\n     <use xlink:href=\"#DejaVuSans-Oblique-3b3\" transform=\"translate(0 0.78125)\"/>\n     <use xlink:href=\"#DejaVuSans-3d\" transform=\"translate(78.662109 0.78125)\"/>\n     <use xlink:href=\"#DejaVuSans-30\" transform=\"translate(181.933594 0.78125)\"/>\n     <use xlink:href=\"#DejaVuSans-2e\" transform=\"translate(245.556641 0.78125)\"/>\n     <use xlink:href=\"#DejaVuSans-32\" transform=\"translate(271.84375 0.78125)\"/>\n     <use xlink:href=\"#DejaVuSans-39\" transform=\"translate(333.716797 0.78125)\"/>\n    </g>\n   </g>\n   <g id=\"text_14\">\n    <!-- $\\gamma = 1.05$ -->\n    <g transform=\"translate(88.597944 115.676444)scale(0.1 -0.1)\">\n     <use xlink:href=\"#DejaVuSans-Oblique-3b3\" transform=\"translate(0 0.78125)\"/>\n     <use xlink:href=\"#DejaVuSans-3d\" transform=\"translate(78.662109 0.78125)\"/>\n     <use xlink:href=\"#DejaVuSans-31\" transform=\"translate(181.933594 0.78125)\"/>\n     <use xlink:href=\"#DejaVuSans-2e\" transform=\"translate(245.556641 0.78125)\"/>\n     <use xlink:href=\"#DejaVuSans-30\" transform=\"translate(277.34375 0.78125)\"/>\n     <use xlink:href=\"#DejaVuSans-35\" transform=\"translate(340.966797 0.78125)\"/>\n    </g>\n   </g>\n  </g>\n </g>\n <defs>\n  <clipPath id=\"p84915f4216\">\n   <rect x=\"43.78125\" y=\"7.2\" width=\"334.8\" height=\"217.44\"/>\n  </clipPath>\n </defs>\n</svg>\n"
     },
     "metadata": {
      "needs_background": "light"
     },
     "output_type": "display_data"
    }
   ],
   "source": [
    "# Plot long only trade-off curve.\n",
    "import matplotlib.pyplot as plt\n",
    "\n",
    "%matplotlib inline\n",
    "%config InlineBackend.figure_format = 'svg'\n",
    "\n",
    "markers_on = [29, 40]\n",
    "fig = plt.figure()\n",
    "ax = fig.add_subplot(111)\n",
    "plt.plot(risk_data, ret_data, \"g-\")\n",
    "for marker in markers_on:\n",
    "    plt.plot(risk_data[marker], ret_data[marker], \"bs\")\n",
    "    ax.annotate(\n",
    "        r\"$\\gamma = %.2f$\" % gamma_vals[marker],\n",
    "        xy=(risk_data[marker] + 0.08, ret_data[marker] - 0.03),\n",
    "    )\n",
    "for i in range(n):\n",
    "    plt.plot(cp.sqrt(Sigma[i, i]).value, mu[i], \"ro\")\n",
    "plt.xlabel(\"Standard deviation\")\n",
    "plt.ylabel(\"Return\")\n",
    "plt.show()"
   ],
   "metadata": {
    "collapsed": false,
    "pycharm": {
     "name": "#%%\n"
    }
   }
  },
  {
   "cell_type": "markdown",
   "source": [
    "We plot below the return distributions for the two risk aversion values marked on the trade-off curve.\n",
    "Notice that the probability of a loss is near 0 for the low risk value and far above 0 for the high risk value."
   ],
   "metadata": {
    "collapsed": false,
    "pycharm": {
     "name": "#%% md\n"
    }
   }
  },
  {
   "cell_type": "code",
   "execution_count": 5,
   "outputs": [
    {
     "data": {
      "text/plain": "<Figure size 432x288 with 1 Axes>",
      "image/svg+xml": "<?xml version=\"1.0\" encoding=\"utf-8\" standalone=\"no\"?>\n<!DOCTYPE svg PUBLIC \"-//W3C//DTD SVG 1.1//EN\"\n  \"http://www.w3.org/Graphics/SVG/1.1/DTD/svg11.dtd\">\n<svg xmlns:xlink=\"http://www.w3.org/1999/xlink\" width=\"385.78125pt\" height=\"262.19625pt\" viewBox=\"0 0 385.78125 262.19625\" xmlns=\"http://www.w3.org/2000/svg\" version=\"1.1\">\n <metadata>\n  <rdf:RDF xmlns:dc=\"http://purl.org/dc/elements/1.1/\" xmlns:cc=\"http://creativecommons.org/ns#\" xmlns:rdf=\"http://www.w3.org/1999/02/22-rdf-syntax-ns#\">\n   <cc:Work>\n    <dc:type rdf:resource=\"http://purl.org/dc/dcmitype/StillImage\"/>\n    <dc:date>2022-06-04T10:33:09.450579</dc:date>\n    <dc:format>image/svg+xml</dc:format>\n    <dc:creator>\n     <cc:Agent>\n      <dc:title>Matplotlib v3.5.2, https://matplotlib.org/</dc:title>\n     </cc:Agent>\n    </dc:creator>\n   </cc:Work>\n  </rdf:RDF>\n </metadata>\n <defs>\n  <style type=\"text/css\">*{stroke-linejoin: round; stroke-linecap: butt}</style>\n </defs>\n <g id=\"figure_1\">\n  <g id=\"patch_1\">\n   <path d=\"M 0 262.19625 \nL 385.78125 262.19625 \nL 385.78125 0 \nL 0 0 \nL 0 262.19625 \nz\n\" style=\"fill: none\"/>\n  </g>\n  <g id=\"axes_1\">\n   <g id=\"patch_2\">\n    <path d=\"M 43.78125 224.64 \nL 378.58125 224.64 \nL 378.58125 7.2 \nL 43.78125 7.2 \nz\n\" style=\"fill: #ffffff\"/>\n   </g>\n   <g id=\"matplotlib.axis_1\">\n    <g id=\"xtick_1\">\n     <g id=\"line2d_1\">\n      <defs>\n       <path id=\"m988adac638\" d=\"M 0 0 \nL 0 3.5 \n\" style=\"stroke: #000000; stroke-width: 0.8\"/>\n      </defs>\n      <g>\n       <use xlink:href=\"#m988adac638\" x=\"58.999432\" y=\"224.64\" style=\"stroke: #000000; stroke-width: 0.8\"/>\n      </g>\n     </g>\n     <g id=\"text_1\">\n      <!-- −2 -->\n      <g transform=\"translate(51.628338 239.238437)scale(0.1 -0.1)\">\n       <defs>\n        <path id=\"DejaVuSans-2212\" d=\"M 678 2272 \nL 4684 2272 \nL 4684 1741 \nL 678 1741 \nL 678 2272 \nz\n\" transform=\"scale(0.015625)\"/>\n        <path id=\"DejaVuSans-32\" d=\"M 1228 531 \nL 3431 531 \nL 3431 0 \nL 469 0 \nL 469 531 \nQ 828 903 1448 1529 \nQ 2069 2156 2228 2338 \nQ 2531 2678 2651 2914 \nQ 2772 3150 2772 3378 \nQ 2772 3750 2511 3984 \nQ 2250 4219 1831 4219 \nQ 1534 4219 1204 4116 \nQ 875 4013 500 3803 \nL 500 4441 \nQ 881 4594 1212 4672 \nQ 1544 4750 1819 4750 \nQ 2544 4750 2975 4387 \nQ 3406 4025 3406 3419 \nQ 3406 3131 3298 2873 \nQ 3191 2616 2906 2266 \nQ 2828 2175 2409 1742 \nQ 1991 1309 1228 531 \nz\n\" transform=\"scale(0.015625)\"/>\n       </defs>\n       <use xlink:href=\"#DejaVuSans-2212\"/>\n       <use xlink:href=\"#DejaVuSans-32\" x=\"83.789062\"/>\n      </g>\n     </g>\n    </g>\n    <g id=\"xtick_2\">\n     <g id=\"line2d_2\">\n      <g>\n       <use xlink:href=\"#m988adac638\" x=\"102.479951\" y=\"224.64\" style=\"stroke: #000000; stroke-width: 0.8\"/>\n      </g>\n     </g>\n     <g id=\"text_2\">\n      <!-- −1 -->\n      <g transform=\"translate(95.108858 239.238437)scale(0.1 -0.1)\">\n       <defs>\n        <path id=\"DejaVuSans-31\" d=\"M 794 531 \nL 1825 531 \nL 1825 4091 \nL 703 3866 \nL 703 4441 \nL 1819 4666 \nL 2450 4666 \nL 2450 531 \nL 3481 531 \nL 3481 0 \nL 794 0 \nL 794 531 \nz\n\" transform=\"scale(0.015625)\"/>\n       </defs>\n       <use xlink:href=\"#DejaVuSans-2212\"/>\n       <use xlink:href=\"#DejaVuSans-31\" x=\"83.789062\"/>\n      </g>\n     </g>\n    </g>\n    <g id=\"xtick_3\">\n     <g id=\"line2d_3\">\n      <g>\n       <use xlink:href=\"#m988adac638\" x=\"145.960471\" y=\"224.64\" style=\"stroke: #000000; stroke-width: 0.8\"/>\n      </g>\n     </g>\n     <g id=\"text_3\">\n      <!-- 0 -->\n      <g transform=\"translate(142.779221 239.238437)scale(0.1 -0.1)\">\n       <defs>\n        <path id=\"DejaVuSans-30\" d=\"M 2034 4250 \nQ 1547 4250 1301 3770 \nQ 1056 3291 1056 2328 \nQ 1056 1369 1301 889 \nQ 1547 409 2034 409 \nQ 2525 409 2770 889 \nQ 3016 1369 3016 2328 \nQ 3016 3291 2770 3770 \nQ 2525 4250 2034 4250 \nz\nM 2034 4750 \nQ 2819 4750 3233 4129 \nQ 3647 3509 3647 2328 \nQ 3647 1150 3233 529 \nQ 2819 -91 2034 -91 \nQ 1250 -91 836 529 \nQ 422 1150 422 2328 \nQ 422 3509 836 4129 \nQ 1250 4750 2034 4750 \nz\n\" transform=\"scale(0.015625)\"/>\n       </defs>\n       <use xlink:href=\"#DejaVuSans-30\"/>\n      </g>\n     </g>\n    </g>\n    <g id=\"xtick_4\">\n     <g id=\"line2d_4\">\n      <g>\n       <use xlink:href=\"#m988adac638\" x=\"189.44099\" y=\"224.64\" style=\"stroke: #000000; stroke-width: 0.8\"/>\n      </g>\n     </g>\n     <g id=\"text_4\">\n      <!-- 1 -->\n      <g transform=\"translate(186.25974 239.238437)scale(0.1 -0.1)\">\n       <use xlink:href=\"#DejaVuSans-31\"/>\n      </g>\n     </g>\n    </g>\n    <g id=\"xtick_5\">\n     <g id=\"line2d_5\">\n      <g>\n       <use xlink:href=\"#m988adac638\" x=\"232.92151\" y=\"224.64\" style=\"stroke: #000000; stroke-width: 0.8\"/>\n      </g>\n     </g>\n     <g id=\"text_5\">\n      <!-- 2 -->\n      <g transform=\"translate(229.74026 239.238437)scale(0.1 -0.1)\">\n       <use xlink:href=\"#DejaVuSans-32\"/>\n      </g>\n     </g>\n    </g>\n    <g id=\"xtick_6\">\n     <g id=\"line2d_6\">\n      <g>\n       <use xlink:href=\"#m988adac638\" x=\"276.402029\" y=\"224.64\" style=\"stroke: #000000; stroke-width: 0.8\"/>\n      </g>\n     </g>\n     <g id=\"text_6\">\n      <!-- 3 -->\n      <g transform=\"translate(273.220779 239.238437)scale(0.1 -0.1)\">\n       <defs>\n        <path id=\"DejaVuSans-33\" d=\"M 2597 2516 \nQ 3050 2419 3304 2112 \nQ 3559 1806 3559 1356 \nQ 3559 666 3084 287 \nQ 2609 -91 1734 -91 \nQ 1441 -91 1130 -33 \nQ 819 25 488 141 \nL 488 750 \nQ 750 597 1062 519 \nQ 1375 441 1716 441 \nQ 2309 441 2620 675 \nQ 2931 909 2931 1356 \nQ 2931 1769 2642 2001 \nQ 2353 2234 1838 2234 \nL 1294 2234 \nL 1294 2753 \nL 1863 2753 \nQ 2328 2753 2575 2939 \nQ 2822 3125 2822 3475 \nQ 2822 3834 2567 4026 \nQ 2313 4219 1838 4219 \nQ 1578 4219 1281 4162 \nQ 984 4106 628 3988 \nL 628 4550 \nQ 988 4650 1302 4700 \nQ 1616 4750 1894 4750 \nQ 2613 4750 3031 4423 \nQ 3450 4097 3450 3541 \nQ 3450 3153 3228 2886 \nQ 3006 2619 2597 2516 \nz\n\" transform=\"scale(0.015625)\"/>\n       </defs>\n       <use xlink:href=\"#DejaVuSans-33\"/>\n      </g>\n     </g>\n    </g>\n    <g id=\"xtick_7\">\n     <g id=\"line2d_7\">\n      <g>\n       <use xlink:href=\"#m988adac638\" x=\"319.882549\" y=\"224.64\" style=\"stroke: #000000; stroke-width: 0.8\"/>\n      </g>\n     </g>\n     <g id=\"text_7\">\n      <!-- 4 -->\n      <g transform=\"translate(316.701299 239.238437)scale(0.1 -0.1)\">\n       <defs>\n        <path id=\"DejaVuSans-34\" d=\"M 2419 4116 \nL 825 1625 \nL 2419 1625 \nL 2419 4116 \nz\nM 2253 4666 \nL 3047 4666 \nL 3047 1625 \nL 3713 1625 \nL 3713 1100 \nL 3047 1100 \nL 3047 0 \nL 2419 0 \nL 2419 1100 \nL 313 1100 \nL 313 1709 \nL 2253 4666 \nz\n\" transform=\"scale(0.015625)\"/>\n       </defs>\n       <use xlink:href=\"#DejaVuSans-34\"/>\n      </g>\n     </g>\n    </g>\n    <g id=\"xtick_8\">\n     <g id=\"line2d_8\">\n      <g>\n       <use xlink:href=\"#m988adac638\" x=\"363.363068\" y=\"224.64\" style=\"stroke: #000000; stroke-width: 0.8\"/>\n      </g>\n     </g>\n     <g id=\"text_8\">\n      <!-- 5 -->\n      <g transform=\"translate(360.181818 239.238437)scale(0.1 -0.1)\">\n       <defs>\n        <path id=\"DejaVuSans-35\" d=\"M 691 4666 \nL 3169 4666 \nL 3169 4134 \nL 1269 4134 \nL 1269 2991 \nQ 1406 3038 1543 3061 \nQ 1681 3084 1819 3084 \nQ 2600 3084 3056 2656 \nQ 3513 2228 3513 1497 \nQ 3513 744 3044 326 \nQ 2575 -91 1722 -91 \nQ 1428 -91 1123 -41 \nQ 819 9 494 109 \nL 494 744 \nQ 775 591 1075 516 \nQ 1375 441 1709 441 \nQ 2250 441 2565 725 \nQ 2881 1009 2881 1497 \nQ 2881 1984 2565 2268 \nQ 2250 2553 1709 2553 \nQ 1456 2553 1204 2497 \nQ 953 2441 691 2322 \nL 691 4666 \nz\n\" transform=\"scale(0.015625)\"/>\n       </defs>\n       <use xlink:href=\"#DejaVuSans-35\"/>\n      </g>\n     </g>\n    </g>\n    <g id=\"text_9\">\n     <!-- Return -->\n     <g transform=\"translate(194.589844 252.916562)scale(0.1 -0.1)\">\n      <defs>\n       <path id=\"DejaVuSans-52\" d=\"M 2841 2188 \nQ 3044 2119 3236 1894 \nQ 3428 1669 3622 1275 \nL 4263 0 \nL 3584 0 \nL 2988 1197 \nQ 2756 1666 2539 1819 \nQ 2322 1972 1947 1972 \nL 1259 1972 \nL 1259 0 \nL 628 0 \nL 628 4666 \nL 2053 4666 \nQ 2853 4666 3247 4331 \nQ 3641 3997 3641 3322 \nQ 3641 2881 3436 2590 \nQ 3231 2300 2841 2188 \nz\nM 1259 4147 \nL 1259 2491 \nL 2053 2491 \nQ 2509 2491 2742 2702 \nQ 2975 2913 2975 3322 \nQ 2975 3731 2742 3939 \nQ 2509 4147 2053 4147 \nL 1259 4147 \nz\n\" transform=\"scale(0.015625)\"/>\n       <path id=\"DejaVuSans-65\" d=\"M 3597 1894 \nL 3597 1613 \nL 953 1613 \nQ 991 1019 1311 708 \nQ 1631 397 2203 397 \nQ 2534 397 2845 478 \nQ 3156 559 3463 722 \nL 3463 178 \nQ 3153 47 2828 -22 \nQ 2503 -91 2169 -91 \nQ 1331 -91 842 396 \nQ 353 884 353 1716 \nQ 353 2575 817 3079 \nQ 1281 3584 2069 3584 \nQ 2775 3584 3186 3129 \nQ 3597 2675 3597 1894 \nz\nM 3022 2063 \nQ 3016 2534 2758 2815 \nQ 2500 3097 2075 3097 \nQ 1594 3097 1305 2825 \nQ 1016 2553 972 2059 \nL 3022 2063 \nz\n\" transform=\"scale(0.015625)\"/>\n       <path id=\"DejaVuSans-74\" d=\"M 1172 4494 \nL 1172 3500 \nL 2356 3500 \nL 2356 3053 \nL 1172 3053 \nL 1172 1153 \nQ 1172 725 1289 603 \nQ 1406 481 1766 481 \nL 2356 481 \nL 2356 0 \nL 1766 0 \nQ 1100 0 847 248 \nQ 594 497 594 1153 \nL 594 3053 \nL 172 3053 \nL 172 3500 \nL 594 3500 \nL 594 4494 \nL 1172 4494 \nz\n\" transform=\"scale(0.015625)\"/>\n       <path id=\"DejaVuSans-75\" d=\"M 544 1381 \nL 544 3500 \nL 1119 3500 \nL 1119 1403 \nQ 1119 906 1312 657 \nQ 1506 409 1894 409 \nQ 2359 409 2629 706 \nQ 2900 1003 2900 1516 \nL 2900 3500 \nL 3475 3500 \nL 3475 0 \nL 2900 0 \nL 2900 538 \nQ 2691 219 2414 64 \nQ 2138 -91 1772 -91 \nQ 1169 -91 856 284 \nQ 544 659 544 1381 \nz\nM 1991 3584 \nL 1991 3584 \nz\n\" transform=\"scale(0.015625)\"/>\n       <path id=\"DejaVuSans-72\" d=\"M 2631 2963 \nQ 2534 3019 2420 3045 \nQ 2306 3072 2169 3072 \nQ 1681 3072 1420 2755 \nQ 1159 2438 1159 1844 \nL 1159 0 \nL 581 0 \nL 581 3500 \nL 1159 3500 \nL 1159 2956 \nQ 1341 3275 1631 3429 \nQ 1922 3584 2338 3584 \nQ 2397 3584 2469 3576 \nQ 2541 3569 2628 3553 \nL 2631 2963 \nz\n\" transform=\"scale(0.015625)\"/>\n       <path id=\"DejaVuSans-6e\" d=\"M 3513 2113 \nL 3513 0 \nL 2938 0 \nL 2938 2094 \nQ 2938 2591 2744 2837 \nQ 2550 3084 2163 3084 \nQ 1697 3084 1428 2787 \nQ 1159 2491 1159 1978 \nL 1159 0 \nL 581 0 \nL 581 3500 \nL 1159 3500 \nL 1159 2956 \nQ 1366 3272 1645 3428 \nQ 1925 3584 2291 3584 \nQ 2894 3584 3203 3211 \nQ 3513 2838 3513 2113 \nz\n\" transform=\"scale(0.015625)\"/>\n      </defs>\n      <use xlink:href=\"#DejaVuSans-52\"/>\n      <use xlink:href=\"#DejaVuSans-65\" x=\"64.982422\"/>\n      <use xlink:href=\"#DejaVuSans-74\" x=\"126.505859\"/>\n      <use xlink:href=\"#DejaVuSans-75\" x=\"165.714844\"/>\n      <use xlink:href=\"#DejaVuSans-72\" x=\"229.09375\"/>\n      <use xlink:href=\"#DejaVuSans-6e\" x=\"268.457031\"/>\n     </g>\n    </g>\n   </g>\n   <g id=\"matplotlib.axis_2\">\n    <g id=\"ytick_1\">\n     <g id=\"line2d_9\">\n      <defs>\n       <path id=\"mc0785ef3e7\" d=\"M 0 0 \nL -3.5 0 \n\" style=\"stroke: #000000; stroke-width: 0.8\"/>\n      </defs>\n      <g>\n       <use xlink:href=\"#mc0785ef3e7\" x=\"43.78125\" y=\"214.756364\" style=\"stroke: #000000; stroke-width: 0.8\"/>\n      </g>\n     </g>\n     <g id=\"text_10\">\n      <!-- 0.0 -->\n      <g transform=\"translate(20.878125 218.555582)scale(0.1 -0.1)\">\n       <defs>\n        <path id=\"DejaVuSans-2e\" d=\"M 684 794 \nL 1344 794 \nL 1344 0 \nL 684 0 \nL 684 794 \nz\n\" transform=\"scale(0.015625)\"/>\n       </defs>\n       <use xlink:href=\"#DejaVuSans-30\"/>\n       <use xlink:href=\"#DejaVuSans-2e\" x=\"63.623047\"/>\n       <use xlink:href=\"#DejaVuSans-30\" x=\"95.410156\"/>\n      </g>\n     </g>\n    </g>\n    <g id=\"ytick_2\">\n     <g id=\"line2d_10\">\n      <g>\n       <use xlink:href=\"#mc0785ef3e7\" x=\"43.78125\" y=\"182.84734\" style=\"stroke: #000000; stroke-width: 0.8\"/>\n      </g>\n     </g>\n     <g id=\"text_11\">\n      <!-- 0.2 -->\n      <g transform=\"translate(20.878125 186.646559)scale(0.1 -0.1)\">\n       <use xlink:href=\"#DejaVuSans-30\"/>\n       <use xlink:href=\"#DejaVuSans-2e\" x=\"63.623047\"/>\n       <use xlink:href=\"#DejaVuSans-32\" x=\"95.410156\"/>\n      </g>\n     </g>\n    </g>\n    <g id=\"ytick_3\">\n     <g id=\"line2d_11\">\n      <g>\n       <use xlink:href=\"#mc0785ef3e7\" x=\"43.78125\" y=\"150.938316\" style=\"stroke: #000000; stroke-width: 0.8\"/>\n      </g>\n     </g>\n     <g id=\"text_12\">\n      <!-- 0.4 -->\n      <g transform=\"translate(20.878125 154.737535)scale(0.1 -0.1)\">\n       <use xlink:href=\"#DejaVuSans-30\"/>\n       <use xlink:href=\"#DejaVuSans-2e\" x=\"63.623047\"/>\n       <use xlink:href=\"#DejaVuSans-34\" x=\"95.410156\"/>\n      </g>\n     </g>\n    </g>\n    <g id=\"ytick_4\">\n     <g id=\"line2d_12\">\n      <g>\n       <use xlink:href=\"#mc0785ef3e7\" x=\"43.78125\" y=\"119.029292\" style=\"stroke: #000000; stroke-width: 0.8\"/>\n      </g>\n     </g>\n     <g id=\"text_13\">\n      <!-- 0.6 -->\n      <g transform=\"translate(20.878125 122.828511)scale(0.1 -0.1)\">\n       <defs>\n        <path id=\"DejaVuSans-36\" d=\"M 2113 2584 \nQ 1688 2584 1439 2293 \nQ 1191 2003 1191 1497 \nQ 1191 994 1439 701 \nQ 1688 409 2113 409 \nQ 2538 409 2786 701 \nQ 3034 994 3034 1497 \nQ 3034 2003 2786 2293 \nQ 2538 2584 2113 2584 \nz\nM 3366 4563 \nL 3366 3988 \nQ 3128 4100 2886 4159 \nQ 2644 4219 2406 4219 \nQ 1781 4219 1451 3797 \nQ 1122 3375 1075 2522 \nQ 1259 2794 1537 2939 \nQ 1816 3084 2150 3084 \nQ 2853 3084 3261 2657 \nQ 3669 2231 3669 1497 \nQ 3669 778 3244 343 \nQ 2819 -91 2113 -91 \nQ 1303 -91 875 529 \nQ 447 1150 447 2328 \nQ 447 3434 972 4092 \nQ 1497 4750 2381 4750 \nQ 2619 4750 2861 4703 \nQ 3103 4656 3366 4563 \nz\n\" transform=\"scale(0.015625)\"/>\n       </defs>\n       <use xlink:href=\"#DejaVuSans-30\"/>\n       <use xlink:href=\"#DejaVuSans-2e\" x=\"63.623047\"/>\n       <use xlink:href=\"#DejaVuSans-36\" x=\"95.410156\"/>\n      </g>\n     </g>\n    </g>\n    <g id=\"ytick_5\">\n     <g id=\"line2d_13\">\n      <g>\n       <use xlink:href=\"#mc0785ef3e7\" x=\"43.78125\" y=\"87.120268\" style=\"stroke: #000000; stroke-width: 0.8\"/>\n      </g>\n     </g>\n     <g id=\"text_14\">\n      <!-- 0.8 -->\n      <g transform=\"translate(20.878125 90.919487)scale(0.1 -0.1)\">\n       <defs>\n        <path id=\"DejaVuSans-38\" d=\"M 2034 2216 \nQ 1584 2216 1326 1975 \nQ 1069 1734 1069 1313 \nQ 1069 891 1326 650 \nQ 1584 409 2034 409 \nQ 2484 409 2743 651 \nQ 3003 894 3003 1313 \nQ 3003 1734 2745 1975 \nQ 2488 2216 2034 2216 \nz\nM 1403 2484 \nQ 997 2584 770 2862 \nQ 544 3141 544 3541 \nQ 544 4100 942 4425 \nQ 1341 4750 2034 4750 \nQ 2731 4750 3128 4425 \nQ 3525 4100 3525 3541 \nQ 3525 3141 3298 2862 \nQ 3072 2584 2669 2484 \nQ 3125 2378 3379 2068 \nQ 3634 1759 3634 1313 \nQ 3634 634 3220 271 \nQ 2806 -91 2034 -91 \nQ 1263 -91 848 271 \nQ 434 634 434 1313 \nQ 434 1759 690 2068 \nQ 947 2378 1403 2484 \nz\nM 1172 3481 \nQ 1172 3119 1398 2916 \nQ 1625 2713 2034 2713 \nQ 2441 2713 2670 2916 \nQ 2900 3119 2900 3481 \nQ 2900 3844 2670 4047 \nQ 2441 4250 2034 4250 \nQ 1625 4250 1398 4047 \nQ 1172 3844 1172 3481 \nz\n\" transform=\"scale(0.015625)\"/>\n       </defs>\n       <use xlink:href=\"#DejaVuSans-30\"/>\n       <use xlink:href=\"#DejaVuSans-2e\" x=\"63.623047\"/>\n       <use xlink:href=\"#DejaVuSans-38\" x=\"95.410156\"/>\n      </g>\n     </g>\n    </g>\n    <g id=\"ytick_6\">\n     <g id=\"line2d_14\">\n      <g>\n       <use xlink:href=\"#mc0785ef3e7\" x=\"43.78125\" y=\"55.211244\" style=\"stroke: #000000; stroke-width: 0.8\"/>\n      </g>\n     </g>\n     <g id=\"text_15\">\n      <!-- 1.0 -->\n      <g transform=\"translate(20.878125 59.010463)scale(0.1 -0.1)\">\n       <use xlink:href=\"#DejaVuSans-31\"/>\n       <use xlink:href=\"#DejaVuSans-2e\" x=\"63.623047\"/>\n       <use xlink:href=\"#DejaVuSans-30\" x=\"95.410156\"/>\n      </g>\n     </g>\n    </g>\n    <g id=\"ytick_7\">\n     <g id=\"line2d_15\">\n      <g>\n       <use xlink:href=\"#mc0785ef3e7\" x=\"43.78125\" y=\"23.302221\" style=\"stroke: #000000; stroke-width: 0.8\"/>\n      </g>\n     </g>\n     <g id=\"text_16\">\n      <!-- 1.2 -->\n      <g transform=\"translate(20.878125 27.101439)scale(0.1 -0.1)\">\n       <use xlink:href=\"#DejaVuSans-31\"/>\n       <use xlink:href=\"#DejaVuSans-2e\" x=\"63.623047\"/>\n       <use xlink:href=\"#DejaVuSans-32\" x=\"95.410156\"/>\n      </g>\n     </g>\n    </g>\n    <g id=\"text_17\">\n     <!-- Density -->\n     <g transform=\"translate(14.798438 134.928594)rotate(-90)scale(0.1 -0.1)\">\n      <defs>\n       <path id=\"DejaVuSans-44\" d=\"M 1259 4147 \nL 1259 519 \nL 2022 519 \nQ 2988 519 3436 956 \nQ 3884 1394 3884 2338 \nQ 3884 3275 3436 3711 \nQ 2988 4147 2022 4147 \nL 1259 4147 \nz\nM 628 4666 \nL 1925 4666 \nQ 3281 4666 3915 4102 \nQ 4550 3538 4550 2338 \nQ 4550 1131 3912 565 \nQ 3275 0 1925 0 \nL 628 0 \nL 628 4666 \nz\n\" transform=\"scale(0.015625)\"/>\n       <path id=\"DejaVuSans-73\" d=\"M 2834 3397 \nL 2834 2853 \nQ 2591 2978 2328 3040 \nQ 2066 3103 1784 3103 \nQ 1356 3103 1142 2972 \nQ 928 2841 928 2578 \nQ 928 2378 1081 2264 \nQ 1234 2150 1697 2047 \nL 1894 2003 \nQ 2506 1872 2764 1633 \nQ 3022 1394 3022 966 \nQ 3022 478 2636 193 \nQ 2250 -91 1575 -91 \nQ 1294 -91 989 -36 \nQ 684 19 347 128 \nL 347 722 \nQ 666 556 975 473 \nQ 1284 391 1588 391 \nQ 1994 391 2212 530 \nQ 2431 669 2431 922 \nQ 2431 1156 2273 1281 \nQ 2116 1406 1581 1522 \nL 1381 1569 \nQ 847 1681 609 1914 \nQ 372 2147 372 2553 \nQ 372 3047 722 3315 \nQ 1072 3584 1716 3584 \nQ 2034 3584 2315 3537 \nQ 2597 3491 2834 3397 \nz\n\" transform=\"scale(0.015625)\"/>\n       <path id=\"DejaVuSans-69\" d=\"M 603 3500 \nL 1178 3500 \nL 1178 0 \nL 603 0 \nL 603 3500 \nz\nM 603 4863 \nL 1178 4863 \nL 1178 4134 \nL 603 4134 \nL 603 4863 \nz\n\" transform=\"scale(0.015625)\"/>\n       <path id=\"DejaVuSans-79\" d=\"M 2059 -325 \nQ 1816 -950 1584 -1140 \nQ 1353 -1331 966 -1331 \nL 506 -1331 \nL 506 -850 \nL 844 -850 \nQ 1081 -850 1212 -737 \nQ 1344 -625 1503 -206 \nL 1606 56 \nL 191 3500 \nL 800 3500 \nL 1894 763 \nL 2988 3500 \nL 3597 3500 \nL 2059 -325 \nz\n\" transform=\"scale(0.015625)\"/>\n      </defs>\n      <use xlink:href=\"#DejaVuSans-44\"/>\n      <use xlink:href=\"#DejaVuSans-65\" x=\"77.001953\"/>\n      <use xlink:href=\"#DejaVuSans-6e\" x=\"138.525391\"/>\n      <use xlink:href=\"#DejaVuSans-73\" x=\"201.904297\"/>\n      <use xlink:href=\"#DejaVuSans-69\" x=\"254.003906\"/>\n      <use xlink:href=\"#DejaVuSans-74\" x=\"281.787109\"/>\n      <use xlink:href=\"#DejaVuSans-79\" x=\"320.996094\"/>\n     </g>\n    </g>\n   </g>\n   <g id=\"line2d_16\">\n    <path d=\"M 58.999432 214.702103 \nL 77.27953 214.506252 \nL 88.247589 214.183949 \nL 96.778302 213.715577 \nL 103.785673 213.106148 \nL 109.57437 212.390495 \nL 114.753732 211.541706 \nL 119.628424 210.524344 \nL 124.198449 209.345056 \nL 128.463805 208.020337 \nL 132.729162 206.455452 \nL 136.68985 204.769109 \nL 140.650537 202.844212 \nL 144.611225 200.671325 \nL 148.571913 198.246267 \nL 152.532601 195.571227 \nL 156.797958 192.421999 \nL 161.367982 188.764512 \nL 166.547343 184.31915 \nL 172.945378 178.516165 \nL 186.96012 165.692243 \nL 191.530144 161.857581 \nL 195.490832 158.818865 \nL 198.842184 156.508635 \nL 201.888867 154.651318 \nL 204.93555 153.053063 \nL 207.677564 151.855641 \nL 210.419579 150.901652 \nL 213.161594 150.202782 \nL 215.59894 149.802794 \nL 218.036287 149.615181 \nL 220.473633 149.641792 \nL 222.91098 149.882363 \nL 225.348326 150.334527 \nL 227.785673 150.993845 \nL 230.527687 151.975109 \nL 233.269702 153.19835 \nL 236.316385 154.823233 \nL 239.363068 156.704676 \nL 242.71442 159.038211 \nL 246.370439 161.853989 \nL 250.635795 165.423846 \nL 256.119825 170.325271 \nL 275.00926 187.483245 \nL 279.883953 191.470393 \nL 284.453977 194.91604 \nL 288.719334 197.847924 \nL 292.680021 200.31204 \nL 296.640709 202.523881 \nL 300.601397 204.486712 \nL 304.562085 206.209228 \nL 308.827442 207.810459 \nL 313.092798 209.168349 \nL 317.662822 210.379347 \nL 322.537515 211.426047 \nL 327.716877 212.301051 \nL 333.505574 213.040384 \nL 339.903609 213.626166 \nL 347.520316 214.088936 \nL 356.965034 214.424195 \nL 363.363068 214.555052 \nL 363.363068 214.555052 \n\" clip-path=\"url(#p5cf56d688e)\" style=\"fill: none; stroke: #1f77b4; stroke-width: 1.5; stroke-linecap: square\"/>\n   </g>\n   <g id=\"line2d_17\">\n    <path d=\"M 58.999432 214.756364 \nL 148.571913 214.648148 \nL 152.83727 214.419907 \nL 155.883953 214.04165 \nL 158.016631 213.578927 \nL 159.844641 212.983195 \nL 161.67265 212.131186 \nL 163.195992 211.162926 \nL 164.719334 209.895428 \nL 165.938007 208.618945 \nL 167.15668 207.06575 \nL 168.375353 205.192231 \nL 169.594026 202.95208 \nL 170.8127 200.297205 \nL 172.031373 197.178916 \nL 173.250046 193.549425 \nL 174.773388 188.225386 \nL 176.296729 181.955376 \nL 177.820071 174.680858 \nL 179.343412 166.369274 \nL 181.171422 155.030397 \nL 182.999432 142.280569 \nL 185.13211 125.862856 \nL 188.178793 100.450069 \nL 192.748818 62.24284 \nL 194.576827 48.626839 \nL 196.100169 38.664295 \nL 197.318842 31.831716 \nL 198.537515 26.16837 \nL 199.45152 22.763127 \nL 200.365525 20.12768 \nL 201.27953 18.295165 \nL 201.888867 17.531454 \nL 202.498203 17.139461 \nL 203.10754 17.12141 \nL 203.716877 17.477404 \nL 204.326213 18.205423 \nL 204.93555 19.301344 \nL 205.849555 21.620954 \nL 206.76356 24.724683 \nL 207.677564 28.573743 \nL 208.896238 34.781983 \nL 210.114911 42.096412 \nL 211.638252 52.560288 \nL 213.770931 69.079465 \nL 217.122282 97.34142 \nL 220.778302 127.828449 \nL 223.215648 146.260646 \nL 225.043658 158.599393 \nL 226.871668 169.493709 \nL 228.395009 177.428664 \nL 229.918351 184.334848 \nL 231.441692 190.255078 \nL 232.965034 195.255435 \nL 234.488375 199.417961 \nL 236.011717 202.833972 \nL 237.535058 205.598271 \nL 238.753732 207.403502 \nL 240.277073 209.227407 \nL 241.800415 210.647815 \nL 243.323756 211.739248 \nL 244.847098 212.566818 \nL 246.675107 213.28919 \nL 248.807786 213.856301 \nL 251.245132 214.255859 \nL 254.291815 214.526051 \nL 258.86184 214.69058 \nL 268.306557 214.752841 \nL 363.363068 214.756364 \nL 363.363068 214.756364 \n\" clip-path=\"url(#p5cf56d688e)\" style=\"fill: none; stroke: #ff7f0e; stroke-width: 1.5; stroke-linecap: square\"/>\n   </g>\n   <g id=\"patch_3\">\n    <path d=\"M 43.78125 224.64 \nL 43.78125 7.2 \n\" style=\"fill: none; stroke: #000000; stroke-width: 0.8; stroke-linejoin: miter; stroke-linecap: square\"/>\n   </g>\n   <g id=\"patch_4\">\n    <path d=\"M 378.58125 224.64 \nL 378.58125 7.2 \n\" style=\"fill: none; stroke: #000000; stroke-width: 0.8; stroke-linejoin: miter; stroke-linecap: square\"/>\n   </g>\n   <g id=\"patch_5\">\n    <path d=\"M 43.78125 224.64 \nL 378.58125 224.64 \n\" style=\"fill: none; stroke: #000000; stroke-width: 0.8; stroke-linejoin: miter; stroke-linecap: square\"/>\n   </g>\n   <g id=\"patch_6\">\n    <path d=\"M 43.78125 7.2 \nL 378.58125 7.2 \n\" style=\"fill: none; stroke: #000000; stroke-width: 0.8; stroke-linejoin: miter; stroke-linecap: square\"/>\n   </g>\n   <g id=\"legend_1\">\n    <g id=\"patch_7\">\n     <path d=\"M 299.08125 44.596875 \nL 371.58125 44.596875 \nQ 373.58125 44.596875 373.58125 42.596875 \nL 373.58125 14.2 \nQ 373.58125 12.2 371.58125 12.2 \nL 299.08125 12.2 \nQ 297.08125 12.2 297.08125 14.2 \nL 297.08125 42.596875 \nQ 297.08125 44.596875 299.08125 44.596875 \nz\n\" style=\"fill: #ffffff; opacity: 0.8; stroke: #cccccc; stroke-linejoin: miter\"/>\n    </g>\n    <g id=\"line2d_18\">\n     <path d=\"M 301.08125 20.298437 \nL 311.08125 20.298437 \nL 321.08125 20.298437 \n\" style=\"fill: none; stroke: #1f77b4; stroke-width: 1.5; stroke-linecap: square\"/>\n    </g>\n    <g id=\"text_18\">\n     <!-- $\\gamma = 0.29$ -->\n     <g transform=\"translate(329.08125 23.798437)scale(0.1 -0.1)\">\n      <defs>\n       <path id=\"DejaVuSans-Oblique-3b3\" d=\"M 1491 2950 \nL 1838 788 \nL 3456 3500 \nL 4066 3500 \nL 1972 0 \nL 1713 -1331 \nL 1138 -1331 \nL 1397 0 \nL 988 2613 \nQ 925 3006 628 3006 \nL 475 3006 \nL 569 3500 \nL 788 3500 \nQ 1403 3500 1491 2950 \nz\n\" transform=\"scale(0.015625)\"/>\n       <path id=\"DejaVuSans-3d\" d=\"M 678 2906 \nL 4684 2906 \nL 4684 2381 \nL 678 2381 \nL 678 2906 \nz\nM 678 1631 \nL 4684 1631 \nL 4684 1100 \nL 678 1100 \nL 678 1631 \nz\n\" transform=\"scale(0.015625)\"/>\n       <path id=\"DejaVuSans-39\" d=\"M 703 97 \nL 703 672 \nQ 941 559 1184 500 \nQ 1428 441 1663 441 \nQ 2288 441 2617 861 \nQ 2947 1281 2994 2138 \nQ 2813 1869 2534 1725 \nQ 2256 1581 1919 1581 \nQ 1219 1581 811 2004 \nQ 403 2428 403 3163 \nQ 403 3881 828 4315 \nQ 1253 4750 1959 4750 \nQ 2769 4750 3195 4129 \nQ 3622 3509 3622 2328 \nQ 3622 1225 3098 567 \nQ 2575 -91 1691 -91 \nQ 1453 -91 1209 -44 \nQ 966 3 703 97 \nz\nM 1959 2075 \nQ 2384 2075 2632 2365 \nQ 2881 2656 2881 3163 \nQ 2881 3666 2632 3958 \nQ 2384 4250 1959 4250 \nQ 1534 4250 1286 3958 \nQ 1038 3666 1038 3163 \nQ 1038 2656 1286 2365 \nQ 1534 2075 1959 2075 \nz\n\" transform=\"scale(0.015625)\"/>\n      </defs>\n      <use xlink:href=\"#DejaVuSans-Oblique-3b3\" transform=\"translate(0 0.78125)\"/>\n      <use xlink:href=\"#DejaVuSans-3d\" transform=\"translate(78.662109 0.78125)\"/>\n      <use xlink:href=\"#DejaVuSans-30\" transform=\"translate(181.933594 0.78125)\"/>\n      <use xlink:href=\"#DejaVuSans-2e\" transform=\"translate(245.556641 0.78125)\"/>\n      <use xlink:href=\"#DejaVuSans-32\" transform=\"translate(271.84375 0.78125)\"/>\n      <use xlink:href=\"#DejaVuSans-39\" transform=\"translate(333.716797 0.78125)\"/>\n     </g>\n    </g>\n    <g id=\"line2d_19\">\n     <path d=\"M 301.08125 34.996875 \nL 311.08125 34.996875 \nL 321.08125 34.996875 \n\" style=\"fill: none; stroke: #ff7f0e; stroke-width: 1.5; stroke-linecap: square\"/>\n    </g>\n    <g id=\"text_19\">\n     <!-- $\\gamma = 1.05$ -->\n     <g transform=\"translate(329.08125 38.496875)scale(0.1 -0.1)\">\n      <use xlink:href=\"#DejaVuSans-Oblique-3b3\" transform=\"translate(0 0.78125)\"/>\n      <use xlink:href=\"#DejaVuSans-3d\" transform=\"translate(78.662109 0.78125)\"/>\n      <use xlink:href=\"#DejaVuSans-31\" transform=\"translate(181.933594 0.78125)\"/>\n      <use xlink:href=\"#DejaVuSans-2e\" transform=\"translate(245.556641 0.78125)\"/>\n      <use xlink:href=\"#DejaVuSans-30\" transform=\"translate(277.34375 0.78125)\"/>\n      <use xlink:href=\"#DejaVuSans-35\" transform=\"translate(340.966797 0.78125)\"/>\n     </g>\n    </g>\n   </g>\n  </g>\n </g>\n <defs>\n  <clipPath id=\"p5cf56d688e\">\n   <rect x=\"43.78125\" y=\"7.2\" width=\"334.8\" height=\"217.44\"/>\n  </clipPath>\n </defs>\n</svg>\n"
     },
     "metadata": {
      "needs_background": "light"
     },
     "output_type": "display_data"
    }
   ],
   "source": [
    "# Plot return distributions for two points on the trade-off curve.\n",
    "import scipy.stats as spstats\n",
    "\n",
    "\n",
    "plt.figure()\n",
    "for midx, idx in enumerate(markers_on):\n",
    "    gamma.value = gamma_vals[idx]\n",
    "    prob.solve()\n",
    "    x = np.linspace(-2, 5, 1000)\n",
    "    plt.plot(\n",
    "        x,\n",
    "        spstats.norm.pdf(x, ret.value, risk.value),\n",
    "        label=r\"$\\gamma = %.2f$\" % gamma.value,\n",
    "    )\n",
    "\n",
    "plt.xlabel(\"Return\")\n",
    "plt.ylabel(\"Density\")\n",
    "plt.legend(loc=\"upper right\")\n",
    "plt.show()"
   ],
   "metadata": {
    "collapsed": false,
    "pycharm": {
     "name": "#%%\n"
    }
   }
  },
  {
   "cell_type": "markdown",
   "source": [
    "### Portfolio constraints\n",
    "\n",
    "There are many other possible portfolio constraints besides the long only constraint. With no constraint (${\\cal W} = {\\bf R}^n$), the optimization problem has a simple analytical solution. We will look in detail at a *leverage limit*, or the constraint that $\\|w \\|_1 \\leq L^\\mathrm{max}$.\n",
    "\n",
    "\n",
    "Another interesting constraint is the *market neutral* constraint $m^T \\Sigma w =0$, where $m_i$ is the capitalization of asset $i$.\n",
    "$M = m^Tr$ is the *market return*, and $m^T \\Sigma w = {\\bf cov}(M,R)$.\n",
    "The market neutral constraint ensures that the portfolio return is uncorrelated with the market return."
   ],
   "metadata": {
    "collapsed": false,
    "pycharm": {
     "name": "#%% md\n"
    }
   }
  },
  {
   "cell_type": "markdown",
   "source": [
    "### Example\n",
    "\n",
    "In the following code we compute and plot optimal risk-return trade-off curves for leverage limits of 1, 2, and 4.\n",
    "Notice that more leverage increases returns and allows greater risk."
   ],
   "metadata": {
    "collapsed": false,
    "pycharm": {
     "name": "#%% md\n"
    }
   }
  },
  {
   "cell_type": "code",
   "execution_count": 6,
   "outputs": [],
   "source": [
    "# Portfolio optimization with leverage limit.\n",
    "Lmax = cp.Parameter()\n",
    "prob = cp.Problem(\n",
    "    cp.Maximize(ret - gamma * risk), [cp.sum(w) == 1, cp.norm(w, 1) <= Lmax]\n",
    ")"
   ],
   "metadata": {
    "collapsed": false,
    "pycharm": {
     "name": "#%%\n"
    }
   }
  },
  {
   "cell_type": "code",
   "execution_count": 7,
   "outputs": [],
   "source": [
    "# Compute trade-off curve for each leverage limit.\n",
    "L_vals = [1, 2, 4]\n",
    "SAMPLES = 100\n",
    "risk_data = np.zeros((len(L_vals), SAMPLES))\n",
    "ret_data = np.zeros((len(L_vals), SAMPLES))\n",
    "gamma_vals = np.logspace(-2, 3, num=SAMPLES)\n",
    "w_vals = []\n",
    "for k, L_val in enumerate(L_vals):\n",
    "    for i in range(SAMPLES):\n",
    "        Lmax.value = L_val\n",
    "        gamma.value = gamma_vals[i]\n",
    "        prob.solve(solver=cp.SCS)\n",
    "        risk_data[k, i] = cp.sqrt(risk).value\n",
    "        ret_data[k, i] = ret.value"
   ],
   "metadata": {
    "collapsed": false,
    "pycharm": {
     "name": "#%%\n"
    }
   }
  },
  {
   "cell_type": "code",
   "execution_count": 8,
   "outputs": [
    {
     "data": {
      "text/plain": "<Figure size 432x288 with 1 Axes>",
      "image/svg+xml": "<?xml version=\"1.0\" encoding=\"utf-8\" standalone=\"no\"?>\n<!DOCTYPE svg PUBLIC \"-//W3C//DTD SVG 1.1//EN\"\n  \"http://www.w3.org/Graphics/SVG/1.1/DTD/svg11.dtd\">\n<svg xmlns:xlink=\"http://www.w3.org/1999/xlink\" width=\"376.240625pt\" height=\"262.19625pt\" viewBox=\"0 0 376.240625 262.19625\" xmlns=\"http://www.w3.org/2000/svg\" version=\"1.1\">\n <metadata>\n  <rdf:RDF xmlns:dc=\"http://purl.org/dc/elements/1.1/\" xmlns:cc=\"http://creativecommons.org/ns#\" xmlns:rdf=\"http://www.w3.org/1999/02/22-rdf-syntax-ns#\">\n   <cc:Work>\n    <dc:type rdf:resource=\"http://purl.org/dc/dcmitype/StillImage\"/>\n    <dc:date>2022-06-04T10:33:10.581595</dc:date>\n    <dc:format>image/svg+xml</dc:format>\n    <dc:creator>\n     <cc:Agent>\n      <dc:title>Matplotlib v3.5.2, https://matplotlib.org/</dc:title>\n     </cc:Agent>\n    </dc:creator>\n   </cc:Work>\n  </rdf:RDF>\n </metadata>\n <defs>\n  <style type=\"text/css\">*{stroke-linejoin: round; stroke-linecap: butt}</style>\n </defs>\n <g id=\"figure_1\">\n  <g id=\"patch_1\">\n   <path d=\"M 0 262.19625 \nL 376.240625 262.19625 \nL 376.240625 0 \nL 0 0 \nL 0 262.19625 \nz\n\" style=\"fill: none\"/>\n  </g>\n  <g id=\"axes_1\">\n   <g id=\"patch_2\">\n    <path d=\"M 34.240625 224.64 \nL 369.040625 224.64 \nL 369.040625 7.2 \nL 34.240625 7.2 \nz\n\" style=\"fill: #ffffff\"/>\n   </g>\n   <g id=\"matplotlib.axis_1\">\n    <g id=\"xtick_1\">\n     <g id=\"line2d_1\">\n      <defs>\n       <path id=\"mc903dc863d\" d=\"M 0 0 \nL 0 3.5 \n\" style=\"stroke: #000000; stroke-width: 0.8\"/>\n      </defs>\n      <g>\n       <use xlink:href=\"#mc903dc863d\" x=\"34.607685\" y=\"224.64\" style=\"stroke: #000000; stroke-width: 0.8\"/>\n      </g>\n     </g>\n     <g id=\"text_1\">\n      <!-- 0 -->\n      <g transform=\"translate(31.426435 239.238437)scale(0.1 -0.1)\">\n       <defs>\n        <path id=\"DejaVuSans-30\" d=\"M 2034 4250 \nQ 1547 4250 1301 3770 \nQ 1056 3291 1056 2328 \nQ 1056 1369 1301 889 \nQ 1547 409 2034 409 \nQ 2525 409 2770 889 \nQ 3016 1369 3016 2328 \nQ 3016 3291 2770 3770 \nQ 2525 4250 2034 4250 \nz\nM 2034 4750 \nQ 2819 4750 3233 4129 \nQ 3647 3509 3647 2328 \nQ 3647 1150 3233 529 \nQ 2819 -91 2034 -91 \nQ 1250 -91 836 529 \nQ 422 1150 422 2328 \nQ 422 3509 836 4129 \nQ 1250 4750 2034 4750 \nz\n\" transform=\"scale(0.015625)\"/>\n       </defs>\n       <use xlink:href=\"#DejaVuSans-30\"/>\n      </g>\n     </g>\n    </g>\n    <g id=\"xtick_2\">\n     <g id=\"line2d_2\">\n      <g>\n       <use xlink:href=\"#mc903dc863d\" x=\"77.511609\" y=\"224.64\" style=\"stroke: #000000; stroke-width: 0.8\"/>\n      </g>\n     </g>\n     <g id=\"text_2\">\n      <!-- 1 -->\n      <g transform=\"translate(74.330359 239.238437)scale(0.1 -0.1)\">\n       <defs>\n        <path id=\"DejaVuSans-31\" d=\"M 794 531 \nL 1825 531 \nL 1825 4091 \nL 703 3866 \nL 703 4441 \nL 1819 4666 \nL 2450 4666 \nL 2450 531 \nL 3481 531 \nL 3481 0 \nL 794 0 \nL 794 531 \nz\n\" transform=\"scale(0.015625)\"/>\n       </defs>\n       <use xlink:href=\"#DejaVuSans-31\"/>\n      </g>\n     </g>\n    </g>\n    <g id=\"xtick_3\">\n     <g id=\"line2d_3\">\n      <g>\n       <use xlink:href=\"#mc903dc863d\" x=\"120.415532\" y=\"224.64\" style=\"stroke: #000000; stroke-width: 0.8\"/>\n      </g>\n     </g>\n     <g id=\"text_3\">\n      <!-- 2 -->\n      <g transform=\"translate(117.234282 239.238437)scale(0.1 -0.1)\">\n       <defs>\n        <path id=\"DejaVuSans-32\" d=\"M 1228 531 \nL 3431 531 \nL 3431 0 \nL 469 0 \nL 469 531 \nQ 828 903 1448 1529 \nQ 2069 2156 2228 2338 \nQ 2531 2678 2651 2914 \nQ 2772 3150 2772 3378 \nQ 2772 3750 2511 3984 \nQ 2250 4219 1831 4219 \nQ 1534 4219 1204 4116 \nQ 875 4013 500 3803 \nL 500 4441 \nQ 881 4594 1212 4672 \nQ 1544 4750 1819 4750 \nQ 2544 4750 2975 4387 \nQ 3406 4025 3406 3419 \nQ 3406 3131 3298 2873 \nQ 3191 2616 2906 2266 \nQ 2828 2175 2409 1742 \nQ 1991 1309 1228 531 \nz\n\" transform=\"scale(0.015625)\"/>\n       </defs>\n       <use xlink:href=\"#DejaVuSans-32\"/>\n      </g>\n     </g>\n    </g>\n    <g id=\"xtick_4\">\n     <g id=\"line2d_4\">\n      <g>\n       <use xlink:href=\"#mc903dc863d\" x=\"163.319456\" y=\"224.64\" style=\"stroke: #000000; stroke-width: 0.8\"/>\n      </g>\n     </g>\n     <g id=\"text_4\">\n      <!-- 3 -->\n      <g transform=\"translate(160.138206 239.238437)scale(0.1 -0.1)\">\n       <defs>\n        <path id=\"DejaVuSans-33\" d=\"M 2597 2516 \nQ 3050 2419 3304 2112 \nQ 3559 1806 3559 1356 \nQ 3559 666 3084 287 \nQ 2609 -91 1734 -91 \nQ 1441 -91 1130 -33 \nQ 819 25 488 141 \nL 488 750 \nQ 750 597 1062 519 \nQ 1375 441 1716 441 \nQ 2309 441 2620 675 \nQ 2931 909 2931 1356 \nQ 2931 1769 2642 2001 \nQ 2353 2234 1838 2234 \nL 1294 2234 \nL 1294 2753 \nL 1863 2753 \nQ 2328 2753 2575 2939 \nQ 2822 3125 2822 3475 \nQ 2822 3834 2567 4026 \nQ 2313 4219 1838 4219 \nQ 1578 4219 1281 4162 \nQ 984 4106 628 3988 \nL 628 4550 \nQ 988 4650 1302 4700 \nQ 1616 4750 1894 4750 \nQ 2613 4750 3031 4423 \nQ 3450 4097 3450 3541 \nQ 3450 3153 3228 2886 \nQ 3006 2619 2597 2516 \nz\n\" transform=\"scale(0.015625)\"/>\n       </defs>\n       <use xlink:href=\"#DejaVuSans-33\"/>\n      </g>\n     </g>\n    </g>\n    <g id=\"xtick_5\">\n     <g id=\"line2d_5\">\n      <g>\n       <use xlink:href=\"#mc903dc863d\" x=\"206.223379\" y=\"224.64\" style=\"stroke: #000000; stroke-width: 0.8\"/>\n      </g>\n     </g>\n     <g id=\"text_5\">\n      <!-- 4 -->\n      <g transform=\"translate(203.042129 239.238437)scale(0.1 -0.1)\">\n       <defs>\n        <path id=\"DejaVuSans-34\" d=\"M 2419 4116 \nL 825 1625 \nL 2419 1625 \nL 2419 4116 \nz\nM 2253 4666 \nL 3047 4666 \nL 3047 1625 \nL 3713 1625 \nL 3713 1100 \nL 3047 1100 \nL 3047 0 \nL 2419 0 \nL 2419 1100 \nL 313 1100 \nL 313 1709 \nL 2253 4666 \nz\n\" transform=\"scale(0.015625)\"/>\n       </defs>\n       <use xlink:href=\"#DejaVuSans-34\"/>\n      </g>\n     </g>\n    </g>\n    <g id=\"xtick_6\">\n     <g id=\"line2d_6\">\n      <g>\n       <use xlink:href=\"#mc903dc863d\" x=\"249.127303\" y=\"224.64\" style=\"stroke: #000000; stroke-width: 0.8\"/>\n      </g>\n     </g>\n     <g id=\"text_6\">\n      <!-- 5 -->\n      <g transform=\"translate(245.946053 239.238437)scale(0.1 -0.1)\">\n       <defs>\n        <path id=\"DejaVuSans-35\" d=\"M 691 4666 \nL 3169 4666 \nL 3169 4134 \nL 1269 4134 \nL 1269 2991 \nQ 1406 3038 1543 3061 \nQ 1681 3084 1819 3084 \nQ 2600 3084 3056 2656 \nQ 3513 2228 3513 1497 \nQ 3513 744 3044 326 \nQ 2575 -91 1722 -91 \nQ 1428 -91 1123 -41 \nQ 819 9 494 109 \nL 494 744 \nQ 775 591 1075 516 \nQ 1375 441 1709 441 \nQ 2250 441 2565 725 \nQ 2881 1009 2881 1497 \nQ 2881 1984 2565 2268 \nQ 2250 2553 1709 2553 \nQ 1456 2553 1204 2497 \nQ 953 2441 691 2322 \nL 691 4666 \nz\n\" transform=\"scale(0.015625)\"/>\n       </defs>\n       <use xlink:href=\"#DejaVuSans-35\"/>\n      </g>\n     </g>\n    </g>\n    <g id=\"xtick_7\">\n     <g id=\"line2d_7\">\n      <g>\n       <use xlink:href=\"#mc903dc863d\" x=\"292.031226\" y=\"224.64\" style=\"stroke: #000000; stroke-width: 0.8\"/>\n      </g>\n     </g>\n     <g id=\"text_7\">\n      <!-- 6 -->\n      <g transform=\"translate(288.849976 239.238437)scale(0.1 -0.1)\">\n       <defs>\n        <path id=\"DejaVuSans-36\" d=\"M 2113 2584 \nQ 1688 2584 1439 2293 \nQ 1191 2003 1191 1497 \nQ 1191 994 1439 701 \nQ 1688 409 2113 409 \nQ 2538 409 2786 701 \nQ 3034 994 3034 1497 \nQ 3034 2003 2786 2293 \nQ 2538 2584 2113 2584 \nz\nM 3366 4563 \nL 3366 3988 \nQ 3128 4100 2886 4159 \nQ 2644 4219 2406 4219 \nQ 1781 4219 1451 3797 \nQ 1122 3375 1075 2522 \nQ 1259 2794 1537 2939 \nQ 1816 3084 2150 3084 \nQ 2853 3084 3261 2657 \nQ 3669 2231 3669 1497 \nQ 3669 778 3244 343 \nQ 2819 -91 2113 -91 \nQ 1303 -91 875 529 \nQ 447 1150 447 2328 \nQ 447 3434 972 4092 \nQ 1497 4750 2381 4750 \nQ 2619 4750 2861 4703 \nQ 3103 4656 3366 4563 \nz\n\" transform=\"scale(0.015625)\"/>\n       </defs>\n       <use xlink:href=\"#DejaVuSans-36\"/>\n      </g>\n     </g>\n    </g>\n    <g id=\"xtick_8\">\n     <g id=\"line2d_8\">\n      <g>\n       <use xlink:href=\"#mc903dc863d\" x=\"334.93515\" y=\"224.64\" style=\"stroke: #000000; stroke-width: 0.8\"/>\n      </g>\n     </g>\n     <g id=\"text_8\">\n      <!-- 7 -->\n      <g transform=\"translate(331.7539 239.238437)scale(0.1 -0.1)\">\n       <defs>\n        <path id=\"DejaVuSans-37\" d=\"M 525 4666 \nL 3525 4666 \nL 3525 4397 \nL 1831 0 \nL 1172 0 \nL 2766 4134 \nL 525 4134 \nL 525 4666 \nz\n\" transform=\"scale(0.015625)\"/>\n       </defs>\n       <use xlink:href=\"#DejaVuSans-37\"/>\n      </g>\n     </g>\n    </g>\n    <g id=\"text_9\">\n     <!-- Standard deviation -->\n     <g transform=\"translate(154.063281 252.916562)scale(0.1 -0.1)\">\n      <defs>\n       <path id=\"DejaVuSans-53\" d=\"M 3425 4513 \nL 3425 3897 \nQ 3066 4069 2747 4153 \nQ 2428 4238 2131 4238 \nQ 1616 4238 1336 4038 \nQ 1056 3838 1056 3469 \nQ 1056 3159 1242 3001 \nQ 1428 2844 1947 2747 \nL 2328 2669 \nQ 3034 2534 3370 2195 \nQ 3706 1856 3706 1288 \nQ 3706 609 3251 259 \nQ 2797 -91 1919 -91 \nQ 1588 -91 1214 -16 \nQ 841 59 441 206 \nL 441 856 \nQ 825 641 1194 531 \nQ 1563 422 1919 422 \nQ 2459 422 2753 634 \nQ 3047 847 3047 1241 \nQ 3047 1584 2836 1778 \nQ 2625 1972 2144 2069 \nL 1759 2144 \nQ 1053 2284 737 2584 \nQ 422 2884 422 3419 \nQ 422 4038 858 4394 \nQ 1294 4750 2059 4750 \nQ 2388 4750 2728 4690 \nQ 3069 4631 3425 4513 \nz\n\" transform=\"scale(0.015625)\"/>\n       <path id=\"DejaVuSans-74\" d=\"M 1172 4494 \nL 1172 3500 \nL 2356 3500 \nL 2356 3053 \nL 1172 3053 \nL 1172 1153 \nQ 1172 725 1289 603 \nQ 1406 481 1766 481 \nL 2356 481 \nL 2356 0 \nL 1766 0 \nQ 1100 0 847 248 \nQ 594 497 594 1153 \nL 594 3053 \nL 172 3053 \nL 172 3500 \nL 594 3500 \nL 594 4494 \nL 1172 4494 \nz\n\" transform=\"scale(0.015625)\"/>\n       <path id=\"DejaVuSans-61\" d=\"M 2194 1759 \nQ 1497 1759 1228 1600 \nQ 959 1441 959 1056 \nQ 959 750 1161 570 \nQ 1363 391 1709 391 \nQ 2188 391 2477 730 \nQ 2766 1069 2766 1631 \nL 2766 1759 \nL 2194 1759 \nz\nM 3341 1997 \nL 3341 0 \nL 2766 0 \nL 2766 531 \nQ 2569 213 2275 61 \nQ 1981 -91 1556 -91 \nQ 1019 -91 701 211 \nQ 384 513 384 1019 \nQ 384 1609 779 1909 \nQ 1175 2209 1959 2209 \nL 2766 2209 \nL 2766 2266 \nQ 2766 2663 2505 2880 \nQ 2244 3097 1772 3097 \nQ 1472 3097 1187 3025 \nQ 903 2953 641 2809 \nL 641 3341 \nQ 956 3463 1253 3523 \nQ 1550 3584 1831 3584 \nQ 2591 3584 2966 3190 \nQ 3341 2797 3341 1997 \nz\n\" transform=\"scale(0.015625)\"/>\n       <path id=\"DejaVuSans-6e\" d=\"M 3513 2113 \nL 3513 0 \nL 2938 0 \nL 2938 2094 \nQ 2938 2591 2744 2837 \nQ 2550 3084 2163 3084 \nQ 1697 3084 1428 2787 \nQ 1159 2491 1159 1978 \nL 1159 0 \nL 581 0 \nL 581 3500 \nL 1159 3500 \nL 1159 2956 \nQ 1366 3272 1645 3428 \nQ 1925 3584 2291 3584 \nQ 2894 3584 3203 3211 \nQ 3513 2838 3513 2113 \nz\n\" transform=\"scale(0.015625)\"/>\n       <path id=\"DejaVuSans-64\" d=\"M 2906 2969 \nL 2906 4863 \nL 3481 4863 \nL 3481 0 \nL 2906 0 \nL 2906 525 \nQ 2725 213 2448 61 \nQ 2172 -91 1784 -91 \nQ 1150 -91 751 415 \nQ 353 922 353 1747 \nQ 353 2572 751 3078 \nQ 1150 3584 1784 3584 \nQ 2172 3584 2448 3432 \nQ 2725 3281 2906 2969 \nz\nM 947 1747 \nQ 947 1113 1208 752 \nQ 1469 391 1925 391 \nQ 2381 391 2643 752 \nQ 2906 1113 2906 1747 \nQ 2906 2381 2643 2742 \nQ 2381 3103 1925 3103 \nQ 1469 3103 1208 2742 \nQ 947 2381 947 1747 \nz\n\" transform=\"scale(0.015625)\"/>\n       <path id=\"DejaVuSans-72\" d=\"M 2631 2963 \nQ 2534 3019 2420 3045 \nQ 2306 3072 2169 3072 \nQ 1681 3072 1420 2755 \nQ 1159 2438 1159 1844 \nL 1159 0 \nL 581 0 \nL 581 3500 \nL 1159 3500 \nL 1159 2956 \nQ 1341 3275 1631 3429 \nQ 1922 3584 2338 3584 \nQ 2397 3584 2469 3576 \nQ 2541 3569 2628 3553 \nL 2631 2963 \nz\n\" transform=\"scale(0.015625)\"/>\n       <path id=\"DejaVuSans-20\" transform=\"scale(0.015625)\"/>\n       <path id=\"DejaVuSans-65\" d=\"M 3597 1894 \nL 3597 1613 \nL 953 1613 \nQ 991 1019 1311 708 \nQ 1631 397 2203 397 \nQ 2534 397 2845 478 \nQ 3156 559 3463 722 \nL 3463 178 \nQ 3153 47 2828 -22 \nQ 2503 -91 2169 -91 \nQ 1331 -91 842 396 \nQ 353 884 353 1716 \nQ 353 2575 817 3079 \nQ 1281 3584 2069 3584 \nQ 2775 3584 3186 3129 \nQ 3597 2675 3597 1894 \nz\nM 3022 2063 \nQ 3016 2534 2758 2815 \nQ 2500 3097 2075 3097 \nQ 1594 3097 1305 2825 \nQ 1016 2553 972 2059 \nL 3022 2063 \nz\n\" transform=\"scale(0.015625)\"/>\n       <path id=\"DejaVuSans-76\" d=\"M 191 3500 \nL 800 3500 \nL 1894 563 \nL 2988 3500 \nL 3597 3500 \nL 2284 0 \nL 1503 0 \nL 191 3500 \nz\n\" transform=\"scale(0.015625)\"/>\n       <path id=\"DejaVuSans-69\" d=\"M 603 3500 \nL 1178 3500 \nL 1178 0 \nL 603 0 \nL 603 3500 \nz\nM 603 4863 \nL 1178 4863 \nL 1178 4134 \nL 603 4134 \nL 603 4863 \nz\n\" transform=\"scale(0.015625)\"/>\n       <path id=\"DejaVuSans-6f\" d=\"M 1959 3097 \nQ 1497 3097 1228 2736 \nQ 959 2375 959 1747 \nQ 959 1119 1226 758 \nQ 1494 397 1959 397 \nQ 2419 397 2687 759 \nQ 2956 1122 2956 1747 \nQ 2956 2369 2687 2733 \nQ 2419 3097 1959 3097 \nz\nM 1959 3584 \nQ 2709 3584 3137 3096 \nQ 3566 2609 3566 1747 \nQ 3566 888 3137 398 \nQ 2709 -91 1959 -91 \nQ 1206 -91 779 398 \nQ 353 888 353 1747 \nQ 353 2609 779 3096 \nQ 1206 3584 1959 3584 \nz\n\" transform=\"scale(0.015625)\"/>\n      </defs>\n      <use xlink:href=\"#DejaVuSans-53\"/>\n      <use xlink:href=\"#DejaVuSans-74\" x=\"63.476562\"/>\n      <use xlink:href=\"#DejaVuSans-61\" x=\"102.685547\"/>\n      <use xlink:href=\"#DejaVuSans-6e\" x=\"163.964844\"/>\n      <use xlink:href=\"#DejaVuSans-64\" x=\"227.34375\"/>\n      <use xlink:href=\"#DejaVuSans-61\" x=\"290.820312\"/>\n      <use xlink:href=\"#DejaVuSans-72\" x=\"352.099609\"/>\n      <use xlink:href=\"#DejaVuSans-64\" x=\"391.462891\"/>\n      <use xlink:href=\"#DejaVuSans-20\" x=\"454.939453\"/>\n      <use xlink:href=\"#DejaVuSans-64\" x=\"486.726562\"/>\n      <use xlink:href=\"#DejaVuSans-65\" x=\"550.203125\"/>\n      <use xlink:href=\"#DejaVuSans-76\" x=\"611.726562\"/>\n      <use xlink:href=\"#DejaVuSans-69\" x=\"670.90625\"/>\n      <use xlink:href=\"#DejaVuSans-61\" x=\"698.689453\"/>\n      <use xlink:href=\"#DejaVuSans-74\" x=\"759.96875\"/>\n      <use xlink:href=\"#DejaVuSans-69\" x=\"799.177734\"/>\n      <use xlink:href=\"#DejaVuSans-6f\" x=\"826.960938\"/>\n      <use xlink:href=\"#DejaVuSans-6e\" x=\"888.142578\"/>\n     </g>\n    </g>\n   </g>\n   <g id=\"matplotlib.axis_2\">\n    <g id=\"ytick_1\">\n     <g id=\"line2d_9\">\n      <defs>\n       <path id=\"m3d81cc3eda\" d=\"M 0 0 \nL -3.5 0 \n\" style=\"stroke: #000000; stroke-width: 0.8\"/>\n      </defs>\n      <g>\n       <use xlink:href=\"#m3d81cc3eda\" x=\"34.240625\" y=\"208.505202\" style=\"stroke: #000000; stroke-width: 0.8\"/>\n      </g>\n     </g>\n     <g id=\"text_10\">\n      <!-- 1 -->\n      <g transform=\"translate(20.878125 212.304421)scale(0.1 -0.1)\">\n       <use xlink:href=\"#DejaVuSans-31\"/>\n      </g>\n     </g>\n    </g>\n    <g id=\"ytick_2\">\n     <g id=\"line2d_10\">\n      <g>\n       <use xlink:href=\"#m3d81cc3eda\" x=\"34.240625\" y=\"164.077306\" style=\"stroke: #000000; stroke-width: 0.8\"/>\n      </g>\n     </g>\n     <g id=\"text_11\">\n      <!-- 2 -->\n      <g transform=\"translate(20.878125 167.876525)scale(0.1 -0.1)\">\n       <use xlink:href=\"#DejaVuSans-32\"/>\n      </g>\n     </g>\n    </g>\n    <g id=\"ytick_3\">\n     <g id=\"line2d_11\">\n      <g>\n       <use xlink:href=\"#m3d81cc3eda\" x=\"34.240625\" y=\"119.649411\" style=\"stroke: #000000; stroke-width: 0.8\"/>\n      </g>\n     </g>\n     <g id=\"text_12\">\n      <!-- 3 -->\n      <g transform=\"translate(20.878125 123.44863)scale(0.1 -0.1)\">\n       <use xlink:href=\"#DejaVuSans-33\"/>\n      </g>\n     </g>\n    </g>\n    <g id=\"ytick_4\">\n     <g id=\"line2d_12\">\n      <g>\n       <use xlink:href=\"#m3d81cc3eda\" x=\"34.240625\" y=\"75.221515\" style=\"stroke: #000000; stroke-width: 0.8\"/>\n      </g>\n     </g>\n     <g id=\"text_13\">\n      <!-- 4 -->\n      <g transform=\"translate(20.878125 79.020734)scale(0.1 -0.1)\">\n       <use xlink:href=\"#DejaVuSans-34\"/>\n      </g>\n     </g>\n    </g>\n    <g id=\"ytick_5\">\n     <g id=\"line2d_13\">\n      <g>\n       <use xlink:href=\"#m3d81cc3eda\" x=\"34.240625\" y=\"30.79362\" style=\"stroke: #000000; stroke-width: 0.8\"/>\n      </g>\n     </g>\n     <g id=\"text_14\">\n      <!-- 5 -->\n      <g transform=\"translate(20.878125 34.592838)scale(0.1 -0.1)\">\n       <use xlink:href=\"#DejaVuSans-35\"/>\n      </g>\n     </g>\n    </g>\n    <g id=\"text_15\">\n     <!-- Return -->\n     <g transform=\"translate(14.798437 132.511406)rotate(-90)scale(0.1 -0.1)\">\n      <defs>\n       <path id=\"DejaVuSans-52\" d=\"M 2841 2188 \nQ 3044 2119 3236 1894 \nQ 3428 1669 3622 1275 \nL 4263 0 \nL 3584 0 \nL 2988 1197 \nQ 2756 1666 2539 1819 \nQ 2322 1972 1947 1972 \nL 1259 1972 \nL 1259 0 \nL 628 0 \nL 628 4666 \nL 2053 4666 \nQ 2853 4666 3247 4331 \nQ 3641 3997 3641 3322 \nQ 3641 2881 3436 2590 \nQ 3231 2300 2841 2188 \nz\nM 1259 4147 \nL 1259 2491 \nL 2053 2491 \nQ 2509 2491 2742 2702 \nQ 2975 2913 2975 3322 \nQ 2975 3731 2742 3939 \nQ 2509 4147 2053 4147 \nL 1259 4147 \nz\n\" transform=\"scale(0.015625)\"/>\n       <path id=\"DejaVuSans-75\" d=\"M 544 1381 \nL 544 3500 \nL 1119 3500 \nL 1119 1403 \nQ 1119 906 1312 657 \nQ 1506 409 1894 409 \nQ 2359 409 2629 706 \nQ 2900 1003 2900 1516 \nL 2900 3500 \nL 3475 3500 \nL 3475 0 \nL 2900 0 \nL 2900 538 \nQ 2691 219 2414 64 \nQ 2138 -91 1772 -91 \nQ 1169 -91 856 284 \nQ 544 659 544 1381 \nz\nM 1991 3584 \nL 1991 3584 \nz\n\" transform=\"scale(0.015625)\"/>\n      </defs>\n      <use xlink:href=\"#DejaVuSans-52\"/>\n      <use xlink:href=\"#DejaVuSans-65\" x=\"64.982422\"/>\n      <use xlink:href=\"#DejaVuSans-74\" x=\"126.505859\"/>\n      <use xlink:href=\"#DejaVuSans-75\" x=\"165.714844\"/>\n      <use xlink:href=\"#DejaVuSans-72\" x=\"229.09375\"/>\n      <use xlink:href=\"#DejaVuSans-6e\" x=\"268.457031\"/>\n     </g>\n    </g>\n   </g>\n   <g id=\"line2d_14\">\n    <path d=\"M 144.589591 150.680129 \nL 144.591369 150.679556 \nL 144.588596 150.68058 \nL 144.588511 150.68061 \nL 144.588103 150.680753 \nL 144.586612 150.681284 \nL 144.582199 150.682891 \nL 144.587667 150.680921 \nL 144.585199 150.681864 \nL 144.587358 150.681061 \nL 144.583281 150.682284 \nL 144.588597 150.680579 \nL 144.588603 150.680576 \nL 144.588259 150.680656 \nL 144.587315 150.680884 \nL 139.58597 152.09374 \nL 134.498571 153.616645 \nL 130.274866 154.972355 \nL 126.789983 156.179192 \nL 121.380494 158.204208 \nL 115.637098 160.446734 \nL 110.039922 162.742307 \nL 103.974905 165.33042 \nL 98.118888 167.896658 \nL 93.062876 170.181208 \nL 88.721755 172.215862 \nL 85.016543 174.026454 \nL 81.874379 175.638275 \nL 79.227371 177.073097 \nL 77.012437 178.350265 \nL 75.171327 179.487231 \nL 73.650634 180.499274 \nL 72.402135 181.400507 \nL 71.225593 182.33183 \nL 69.195018 184.0457 \nL 67.206444 185.8264 \nL 65.507114 187.440376 \nL 64.090724 188.877357 \nL 62.901816 190.175068 \nL 60.772241 192.633971 \nL 58.953251 194.822144 \nL 57.40876 196.770273 \nL 56.106128 198.504461 \nL 55.014853 200.048222 \nL 54.10622 201.423304 \nL 53.355213 202.646888 \nL 52.737971 203.73614 \nL 52.233473 204.705806 \nL 51.823153 205.56891 \nL 51.490962 206.336828 \nL 51.223108 207.020892 \nL 51.007405 207.630494 \nL 50.834571 208.172635 \nL 50.625036 208.906 \nL 50.43654 209.634485 \nL 50.29665 210.232904 \nL 50.241548 210.497144 \nL 50.197725 210.732481 \nL 50.162926 210.94188 \nL 50.135284 211.128363 \nL 50.11335 211.294332 \nL 50.095981 211.441769 \nL 50.08214 211.573628 \nL 50.07125 211.690054 \nL 50.062538 211.794625 \nL 50.05563 211.887763 \nL 50.050157 211.970673 \nL 50.045883 212.04332 \nL 50.042447 212.108899 \nL 50.039733 212.167076 \nL 50.037577 212.218988 \nL 50.035871 212.265122 \nL 50.034518 212.306232 \nL 50.033444 212.342887 \nL 50.032595 212.375413 \nL 50.031919 212.40458 \nL 50.031389 212.43018 \nL 50.030965 212.453239 \nL 50.030631 212.473572 \nL 50.030366 212.491856 \nL 50.030155 212.508115 \nL 50.029989 212.52238 \nL 50.029856 212.53548 \nL 50.029752 212.546702 \nL 50.029669 212.557045 \nL 50.029603 212.565862 \nL 50.02955 212.574041 \nL 50.02951 212.58134 \nL 50.029476 212.587506 \nL 50.02945 212.593268 \nL 50.02943 212.59842 \nL 50.029414 212.602868 \nL 50.029401 212.606955 \nL 50.029387 212.610226 \nL 50.029383 212.613922 \nL 50.029375 212.61639 \nL 50.029371 212.618964 \nL 50.029367 212.621273 \nL 50.029363 212.623146 \nL 50.029361 212.624926 \n\" clip-path=\"url(#p2b4b2a9302)\" style=\"fill: none; stroke: #1f77b4; stroke-width: 1.5; stroke-linecap: square\"/>\n   </g>\n   <g id=\"line2d_15\">\n    <path d=\"M 216.14649 105.62409 \nL 215.448827 105.68866 \nL 214.89374 105.746259 \nL 214.451294 105.79809 \nL 214.095457 105.846094 \nL 213.823774 105.883943 \nL 211.451574 106.282161 \nL 206.872201 107.103221 \nL 203.149407 107.83676 \nL 200.151413 108.483648 \nL 197.736494 109.05969 \nL 192.591776 110.444994 \nL 182.377862 113.31137 \nL 173.75294 115.8617 \nL 166.515793 118.13474 \nL 160.488997 120.154194 \nL 155.497724 121.954152 \nL 151.21421 123.628155 \nL 143.879964 126.683058 \nL 137.697762 129.402574 \nL 132.521624 131.823527 \nL 126.481519 134.841447 \nL 120.150135 138.141532 \nL 113.485258 141.755954 \nL 108.002336 144.84382 \nL 103.894459 147.283243 \nL 98.759074 150.492014 \nL 94.235774 153.432476 \nL 90.391237 156.050119 \nL 87.145067 158.380384 \nL 84.422514 160.454821 \nL 82.298061 162.183647 \nL 79.408357 164.700284 \nL 76.858997 167.042147 \nL 74.723748 169.126923 \nL 72.947219 170.982846 \nL 71.245255 172.899132 \nL 69.607944 174.871511 \nL 68.161604 176.742921 \nL 66.399818 179.216789 \nL 63.707002 183.121955 \nL 61.381196 186.598549 \nL 59.383587 189.693238 \nL 57.677966 192.448183 \nL 56.230998 194.900552 \nL 55.011046 197.084571 \nL 53.990176 199.028123 \nL 53.141299 200.758196 \nL 52.439472 202.299275 \nL 51.863312 203.67053 \nL 51.392673 204.891245 \nL 51.010111 205.977947 \nL 50.700479 206.945348 \nL 50.450804 207.806544 \nL 50.250112 208.573192 \nL 50.089218 209.255679 \nL 49.96054 209.863119 \nL 49.857774 210.403967 \nL 49.77584 210.885437 \nL 49.710592 211.31405 \nL 49.658684 211.695607 \nL 49.61742 212.035275 \nL 49.584638 212.337653 \nL 49.558608 212.606835 \nL 49.537948 212.846465 \nL 49.521554 213.059788 \nL 49.50855 213.249692 \nL 49.498236 213.418747 \nL 49.490057 213.569244 \nL 49.483573 213.70322 \nL 49.478432 213.822488 \nL 49.474356 213.928663 \nL 49.471126 214.023182 \nL 49.468565 214.107327 \nL 49.466532 214.182373 \nL 49.464926 214.248947 \nL 49.463652 214.30831 \nL 49.462641 214.361145 \nL 49.461841 214.408198 \nL 49.461206 214.450087 \nL 49.460703 214.487381 \nL 49.460304 214.520583 \nL 49.459988 214.550144 \nL 49.459738 214.576464 \nL 49.45954 214.599897 \nL 49.459383 214.620762 \nL 49.459258 214.63934 \nL 49.459159 214.655882 \nL 49.459081 214.670611 \nL 49.45902 214.683463 \nL 49.458971 214.695112 \nL 49.458932 214.70548 \nL 49.458901 214.714719 \nL 49.458877 214.72296 \nL 49.458857 214.730466 \nL 49.458842 214.736741 \nL 49.45883 214.742532 \nL 49.45882 214.747781 \nL 49.458813 214.752303 \nL 49.458807 214.756364 \n\" clip-path=\"url(#p2b4b2a9302)\" style=\"fill: none; stroke: #ff7f0e; stroke-width: 1.5; stroke-linecap: square\"/>\n   </g>\n   <g id=\"line2d_16\">\n    <path d=\"M 353.822443 17.083636 \nL 343.556355 18.728249 \nL 335.162511 20.199303 \nL 328.352366 21.500025 \nL 322.830714 22.665301 \nL 318.386504 23.69742 \nL 314.804689 24.622416 \nL 302.019435 28.268803 \nL 286.780896 32.833161 \nL 274.01497 36.898678 \nL 263.395877 40.512612 \nL 254.612169 43.735467 \nL 247.401751 46.5964 \nL 235.18725 51.816147 \nL 224.426503 56.682861 \nL 215.449217 61.009133 \nL 208.002625 64.863977 \nL 196.654959 71.174618 \nL 181.466755 79.8267 \nL 168.210344 87.528084 \nL 156.685868 94.384854 \nL 146.711109 100.48952 \nL 138.128236 105.92385 \nL 130.78401 110.760591 \nL 124.538832 115.066902 \nL 119.263036 118.900449 \nL 114.264995 122.753423 \nL 110.344953 125.951451 \nL 107.109869 128.78067 \nL 104.439752 131.299305 \nL 100.317121 135.474777 \nL 96.583608 139.461545 \nL 93.453642 143.013944 \nL 90.849615 146.176346 \nL 87.034059 151.162884 \nL 81.767407 158.146554 \nL 77.131284 164.365506 \nL 73.062866 169.900954 \nL 69.503422 174.828663 \nL 66.40092 179.215213 \nL 63.708286 183.120066 \nL 61.381641 186.597873 \nL 59.383323 189.693655 \nL 57.67759 192.448805 \nL 56.230465 194.90148 \nL 55.010873 197.084889 \nL 53.989938 199.028593 \nL 53.140963 200.758907 \nL 52.439479 202.299259 \nL 51.863322 203.670504 \nL 51.392688 204.891206 \nL 51.010298 205.977391 \nL 50.700485 206.945328 \nL 50.450812 207.806516 \nL 50.25012 208.573161 \nL 50.089227 209.25564 \nL 49.960525 209.863195 \nL 49.857759 210.404051 \nL 49.775837 210.885453 \nL 49.71059 211.314067 \nL 49.658682 211.695627 \nL 49.617418 212.035298 \nL 49.584636 212.337679 \nL 49.558606 212.606865 \nL 49.537945 212.846499 \nL 49.521551 213.059826 \nL 49.508547 213.249734 \nL 49.498233 213.418794 \nL 49.490055 213.569296 \nL 49.483567 213.703351 \nL 49.478428 213.822583 \nL 49.474352 213.928766 \nL 49.471123 214.02327 \nL 49.468562 214.10742 \nL 49.466533 214.182333 \nL 49.464925 214.249027 \nL 49.46365 214.308405 \nL 49.462639 214.361269 \nL 49.461838 214.408335 \nL 49.461206 214.450079 \nL 49.460703 214.487348 \nL 49.460305 214.520547 \nL 49.459989 214.550104 \nL 49.459739 214.576423 \nL 49.45954 214.599861 \nL 49.459383 214.620735 \nL 49.45926 214.639091 \nL 49.459161 214.655608 \nL 49.459083 214.670312 \nL 49.459021 214.683401 \nL 49.458971 214.695053 \nL 49.458932 214.705427 \nL 49.458902 214.714661 \nL 49.458877 214.722883 \nL 49.458858 214.730199 \nL 49.458842 214.736713 \nL 49.45883 214.742511 \nL 49.458821 214.747671 \nL 49.458813 214.752265 \nL 49.458807 214.756354 \n\" clip-path=\"url(#p2b4b2a9302)\" style=\"fill: none; stroke: #2ca02c; stroke-width: 1.5; stroke-linecap: square\"/>\n   </g>\n   <g id=\"patch_3\">\n    <path d=\"M 34.240625 224.64 \nL 34.240625 7.2 \n\" style=\"fill: none; stroke: #000000; stroke-width: 0.8; stroke-linejoin: miter; stroke-linecap: square\"/>\n   </g>\n   <g id=\"patch_4\">\n    <path d=\"M 369.040625 224.64 \nL 369.040625 7.2 \n\" style=\"fill: none; stroke: #000000; stroke-width: 0.8; stroke-linejoin: miter; stroke-linecap: square\"/>\n   </g>\n   <g id=\"patch_5\">\n    <path d=\"M 34.240625 224.64 \nL 369.040625 224.64 \n\" style=\"fill: none; stroke: #000000; stroke-width: 0.8; stroke-linejoin: miter; stroke-linecap: square\"/>\n   </g>\n   <g id=\"patch_6\">\n    <path d=\"M 34.240625 7.2 \nL 369.040625 7.2 \n\" style=\"fill: none; stroke: #000000; stroke-width: 0.8; stroke-linejoin: miter; stroke-linecap: square\"/>\n   </g>\n   <g id=\"legend_1\">\n    <g id=\"patch_7\">\n     <path d=\"M 287.140625 219.64 \nL 362.040625 219.64 \nQ 364.040625 219.64 364.040625 217.64 \nL 364.040625 174.605625 \nQ 364.040625 172.605625 362.040625 172.605625 \nL 287.140625 172.605625 \nQ 285.140625 172.605625 285.140625 174.605625 \nL 285.140625 217.64 \nQ 285.140625 219.64 287.140625 219.64 \nz\n\" style=\"fill: #ffffff; opacity: 0.8; stroke: #cccccc; stroke-linejoin: miter\"/>\n    </g>\n    <g id=\"line2d_17\">\n     <path d=\"M 289.140625 180.704062 \nL 299.140625 180.704062 \nL 309.140625 180.704062 \n\" style=\"fill: none; stroke: #1f77b4; stroke-width: 1.5; stroke-linecap: square\"/>\n    </g>\n    <g id=\"text_16\">\n     <!-- $L^{\\max}$ = 1 -->\n     <g transform=\"translate(317.140625 184.204062)scale(0.1 -0.1)\">\n      <defs>\n       <path id=\"DejaVuSans-Oblique-4c\" d=\"M 1075 4666 \nL 1709 4666 \nL 909 525 \nL 3181 525 \nL 3078 0 \nL 172 0 \nL 1075 4666 \nz\n\" transform=\"scale(0.015625)\"/>\n       <path id=\"DejaVuSans-6d\" d=\"M 3328 2828 \nQ 3544 3216 3844 3400 \nQ 4144 3584 4550 3584 \nQ 5097 3584 5394 3201 \nQ 5691 2819 5691 2113 \nL 5691 0 \nL 5113 0 \nL 5113 2094 \nQ 5113 2597 4934 2840 \nQ 4756 3084 4391 3084 \nQ 3944 3084 3684 2787 \nQ 3425 2491 3425 1978 \nL 3425 0 \nL 2847 0 \nL 2847 2094 \nQ 2847 2600 2669 2842 \nQ 2491 3084 2119 3084 \nQ 1678 3084 1418 2786 \nQ 1159 2488 1159 1978 \nL 1159 0 \nL 581 0 \nL 581 3500 \nL 1159 3500 \nL 1159 2956 \nQ 1356 3278 1631 3431 \nQ 1906 3584 2284 3584 \nQ 2666 3584 2933 3390 \nQ 3200 3197 3328 2828 \nz\n\" transform=\"scale(0.015625)\"/>\n       <path id=\"DejaVuSans-78\" d=\"M 3513 3500 \nL 2247 1797 \nL 3578 0 \nL 2900 0 \nL 1881 1375 \nL 863 0 \nL 184 0 \nL 1544 1831 \nL 300 3500 \nL 978 3500 \nL 1906 2253 \nL 2834 3500 \nL 3513 3500 \nz\n\" transform=\"scale(0.015625)\"/>\n       <path id=\"DejaVuSans-3d\" d=\"M 678 2906 \nL 4684 2906 \nL 4684 2381 \nL 678 2381 \nL 678 2906 \nz\nM 678 1631 \nL 4684 1631 \nL 4684 1100 \nL 678 1100 \nL 678 1631 \nz\n\" transform=\"scale(0.015625)\"/>\n      </defs>\n      <use xlink:href=\"#DejaVuSans-Oblique-4c\" transform=\"translate(0 0.51875)\"/>\n      <use xlink:href=\"#DejaVuSans-6d\" transform=\"translate(62.729661 38.8)scale(0.7)\"/>\n      <use xlink:href=\"#DejaVuSans-61\" transform=\"translate(130.918138 38.8)scale(0.7)\"/>\n      <use xlink:href=\"#DejaVuSans-78\" transform=\"translate(173.813646 38.8)scale(0.7)\"/>\n      <use xlink:href=\"#DejaVuSans-20\" transform=\"translate(217.973802 0.51875)\"/>\n      <use xlink:href=\"#DejaVuSans-3d\" transform=\"translate(249.760911 0.51875)\"/>\n      <use xlink:href=\"#DejaVuSans-20\" transform=\"translate(333.549974 0.51875)\"/>\n      <use xlink:href=\"#DejaVuSans-31\" transform=\"translate(365.337083 0.51875)\"/>\n     </g>\n    </g>\n    <g id=\"line2d_18\">\n     <path d=\"M 289.140625 195.382187 \nL 299.140625 195.382187 \nL 309.140625 195.382187 \n\" style=\"fill: none; stroke: #ff7f0e; stroke-width: 1.5; stroke-linecap: square\"/>\n    </g>\n    <g id=\"text_17\">\n     <!-- $L^{\\max}$ = 2 -->\n     <g transform=\"translate(317.140625 198.882187)scale(0.1 -0.1)\">\n      <use xlink:href=\"#DejaVuSans-Oblique-4c\" transform=\"translate(0 0.51875)\"/>\n      <use xlink:href=\"#DejaVuSans-6d\" transform=\"translate(62.729661 38.8)scale(0.7)\"/>\n      <use xlink:href=\"#DejaVuSans-61\" transform=\"translate(130.918138 38.8)scale(0.7)\"/>\n      <use xlink:href=\"#DejaVuSans-78\" transform=\"translate(173.813646 38.8)scale(0.7)\"/>\n      <use xlink:href=\"#DejaVuSans-20\" transform=\"translate(217.973802 0.51875)\"/>\n      <use xlink:href=\"#DejaVuSans-3d\" transform=\"translate(249.760911 0.51875)\"/>\n      <use xlink:href=\"#DejaVuSans-20\" transform=\"translate(333.549974 0.51875)\"/>\n      <use xlink:href=\"#DejaVuSans-32\" transform=\"translate(365.337083 0.51875)\"/>\n     </g>\n    </g>\n    <g id=\"line2d_19\">\n     <path d=\"M 289.140625 210.060312 \nL 299.140625 210.060312 \nL 309.140625 210.060312 \n\" style=\"fill: none; stroke: #2ca02c; stroke-width: 1.5; stroke-linecap: square\"/>\n    </g>\n    <g id=\"text_18\">\n     <!-- $L^{\\max}$ = 4 -->\n     <g transform=\"translate(317.140625 213.560312)scale(0.1 -0.1)\">\n      <use xlink:href=\"#DejaVuSans-Oblique-4c\" transform=\"translate(0 0.51875)\"/>\n      <use xlink:href=\"#DejaVuSans-6d\" transform=\"translate(62.729661 38.8)scale(0.7)\"/>\n      <use xlink:href=\"#DejaVuSans-61\" transform=\"translate(130.918138 38.8)scale(0.7)\"/>\n      <use xlink:href=\"#DejaVuSans-78\" transform=\"translate(173.813646 38.8)scale(0.7)\"/>\n      <use xlink:href=\"#DejaVuSans-20\" transform=\"translate(217.973802 0.51875)\"/>\n      <use xlink:href=\"#DejaVuSans-3d\" transform=\"translate(249.760911 0.51875)\"/>\n      <use xlink:href=\"#DejaVuSans-20\" transform=\"translate(333.549974 0.51875)\"/>\n      <use xlink:href=\"#DejaVuSans-34\" transform=\"translate(365.337083 0.51875)\"/>\n     </g>\n    </g>\n   </g>\n  </g>\n </g>\n <defs>\n  <clipPath id=\"p2b4b2a9302\">\n   <rect x=\"34.240625\" y=\"7.2\" width=\"334.8\" height=\"217.44\"/>\n  </clipPath>\n </defs>\n</svg>\n"
     },
     "metadata": {
      "needs_background": "light"
     },
     "output_type": "display_data"
    }
   ],
   "source": [
    "# Plot trade-off curves for each leverage limit.\n",
    "for idx, L_val in enumerate(L_vals):\n",
    "    plt.plot(risk_data[idx, :], ret_data[idx, :], label=r\"$L^{\\max}$ = %d\" % L_val)\n",
    "for w_val in w_vals:\n",
    "    w.value = w_val\n",
    "    plt.plot(cp.sqrt(risk).value, ret.value, \"bs\")\n",
    "plt.xlabel(\"Standard deviation\")\n",
    "plt.ylabel(\"Return\")\n",
    "plt.legend(loc=\"lower right\")\n",
    "plt.show()"
   ],
   "metadata": {
    "collapsed": false,
    "pycharm": {
     "name": "#%%\n"
    }
   }
  },
  {
   "cell_type": "markdown",
   "source": [
    "We next examine the points on each trade-off curve where $w^T\\Sigma w = 2$.\n",
    "We plot the amount of each asset held in each portfolio as bar graphs. (Negative holdings indicate a short position.)\n",
    "Notice that some assets are held in a long position for the low leverage portfolio but in a short position in the higher leverage portfolios. "
   ],
   "metadata": {
    "collapsed": false,
    "pycharm": {
     "name": "#%% md\n"
    }
   }
  },
  {
   "cell_type": "code",
   "execution_count": 9,
   "outputs": [],
   "source": [
    "# Portfolio optimization with a leverage limit and a bound on risk.\n",
    "prob = cp.Problem(cp.Maximize(ret), [cp.sum(w) == 1, cp.norm(w, 1) <= Lmax, risk <= 2])"
   ],
   "metadata": {
    "collapsed": false,
    "pycharm": {
     "name": "#%%\n"
    }
   }
  },
  {
   "cell_type": "code",
   "execution_count": 10,
   "outputs": [],
   "source": [
    "# Compute solution for different leverage limits.\n",
    "for k, L_val in enumerate(L_vals):\n",
    "    Lmax.value = L_val\n",
    "    prob.solve()\n",
    "    w_vals.append(w.value)"
   ],
   "metadata": {
    "collapsed": false,
    "pycharm": {
     "name": "#%%\n"
    }
   }
  },
  {
   "cell_type": "code",
   "execution_count": 11,
   "outputs": [
    {
     "data": {
      "text/plain": "<Figure size 432x288 with 1 Axes>",
      "image/svg+xml": "<?xml version=\"1.0\" encoding=\"utf-8\" standalone=\"no\"?>\n<!DOCTYPE svg PUBLIC \"-//W3C//DTD SVG 1.1//EN\"\n  \"http://www.w3.org/Graphics/SVG/1.1/DTD/svg11.dtd\">\n<svg xmlns:xlink=\"http://www.w3.org/1999/xlink\" width=\"399.967812pt\" height=\"268.48147pt\" viewBox=\"0 0 399.967812 268.48147\" xmlns=\"http://www.w3.org/2000/svg\" version=\"1.1\">\n <metadata>\n  <rdf:RDF xmlns:dc=\"http://purl.org/dc/elements/1.1/\" xmlns:cc=\"http://creativecommons.org/ns#\" xmlns:rdf=\"http://www.w3.org/1999/02/22-rdf-syntax-ns#\">\n   <cc:Work>\n    <dc:type rdf:resource=\"http://purl.org/dc/dcmitype/StillImage\"/>\n    <dc:date>2022-06-04T10:33:10.858156</dc:date>\n    <dc:format>image/svg+xml</dc:format>\n    <dc:creator>\n     <cc:Agent>\n      <dc:title>Matplotlib v3.5.2, https://matplotlib.org/</dc:title>\n     </cc:Agent>\n    </dc:creator>\n   </cc:Work>\n  </rdf:RDF>\n </metadata>\n <defs>\n  <style type=\"text/css\">*{stroke-linejoin: round; stroke-linecap: butt}</style>\n </defs>\n <g id=\"figure_1\">\n  <g id=\"patch_1\">\n   <path d=\"M 0 268.48147 \nL 399.967812 268.48147 \nL 399.967812 0 \nL 0 0 \nL 0 268.48147 \nz\n\" style=\"fill: none\"/>\n  </g>\n  <g id=\"axes_1\">\n   <g id=\"patch_2\">\n    <path d=\"M 57.967813 225.118345 \nL 392.767812 225.118345 \nL 392.767812 7.678345 \nL 57.967813 7.678345 \nz\n\" style=\"fill: #ffffff\"/>\n   </g>\n   <g id=\"patch_3\">\n    <path d=\"M 53.675505 156.485358 \nL 62.26012 156.485358 \nL 62.26012 156.485357 \nL 53.675505 156.485357 \nz\n\" clip-path=\"url(#p2e5a55e326)\" style=\"fill: #0000ff\"/>\n   </g>\n   <g id=\"patch_4\">\n    <path d=\"M 88.013966 156.485358 \nL 96.598582 156.485358 \nL 96.598582 156.485358 \nL 88.013966 156.485358 \nz\n\" clip-path=\"url(#p2e5a55e326)\" style=\"fill: #0000ff\"/>\n   </g>\n   <g id=\"patch_5\">\n    <path d=\"M 122.352428 156.485358 \nL 130.937043 156.485358 \nL 130.937043 156.485358 \nL 122.352428 156.485358 \nz\n\" clip-path=\"url(#p2e5a55e326)\" style=\"fill: #0000ff\"/>\n   </g>\n   <g id=\"patch_6\">\n    <path d=\"M 156.690889 156.485358 \nL 165.275505 156.485358 \nL 165.275505 156.485359 \nL 156.690889 156.485359 \nz\n\" clip-path=\"url(#p2e5a55e326)\" style=\"fill: #0000ff\"/>\n   </g>\n   <g id=\"patch_7\">\n    <path d=\"M 191.029351 156.485358 \nL 199.613966 156.485358 \nL 199.613966 156.485357 \nL 191.029351 156.485357 \nz\n\" clip-path=\"url(#p2e5a55e326)\" style=\"fill: #0000ff\"/>\n   </g>\n   <g id=\"patch_8\">\n    <path d=\"M 225.367813 156.485358 \nL 233.952428 156.485358 \nL 233.952428 145.446171 \nL 225.367813 145.446171 \nz\n\" clip-path=\"url(#p2e5a55e326)\" style=\"fill: #0000ff\"/>\n   </g>\n   <g id=\"patch_9\">\n    <path d=\"M 259.706274 156.485358 \nL 268.290889 156.485358 \nL 268.290889 133.227457 \nL 259.706274 133.227457 \nz\n\" clip-path=\"url(#p2e5a55e326)\" style=\"fill: #0000ff\"/>\n   </g>\n   <g id=\"patch_10\">\n    <path d=\"M 294.044736 156.485358 \nL 302.629351 156.485358 \nL 302.629351 152.862496 \nL 294.044736 152.862496 \nz\n\" clip-path=\"url(#p2e5a55e326)\" style=\"fill: #0000ff\"/>\n   </g>\n   <g id=\"patch_11\">\n    <path d=\"M 328.383197 156.485358 \nL 336.967812 156.485358 \nL 336.967812 131.943094 \nL 328.383197 131.943094 \nz\n\" clip-path=\"url(#p2e5a55e326)\" style=\"fill: #0000ff\"/>\n   </g>\n   <g id=\"patch_12\">\n    <path d=\"M 362.721659 156.485358 \nL 371.306274 156.485358 \nL 371.306274 73.461439 \nL 362.721659 73.461439 \nz\n\" clip-path=\"url(#p2e5a55e326)\" style=\"fill: #0000ff\"/>\n   </g>\n   <g id=\"patch_13\">\n    <path d=\"M 62.26012 156.485358 \nL 70.844736 156.485358 \nL 70.844736 165.562336 \nL 62.26012 165.562336 \nz\n\" clip-path=\"url(#p2e5a55e326)\" style=\"fill: #008000\"/>\n   </g>\n   <g id=\"patch_14\">\n    <path d=\"M 96.598582 156.485358 \nL 105.183197 156.485358 \nL 105.183197 156.485359 \nL 96.598582 156.485359 \nz\n\" clip-path=\"url(#p2e5a55e326)\" style=\"fill: #008000\"/>\n   </g>\n   <g id=\"patch_15\">\n    <path d=\"M 130.937043 156.485358 \nL 139.521659 156.485358 \nL 139.521659 156.485359 \nL 130.937043 156.485359 \nz\n\" clip-path=\"url(#p2e5a55e326)\" style=\"fill: #008000\"/>\n   </g>\n   <g id=\"patch_16\">\n    <path d=\"M 165.275505 156.485358 \nL 173.86012 156.485358 \nL 173.86012 201.572291 \nL 165.275505 201.572291 \nz\n\" clip-path=\"url(#p2e5a55e326)\" style=\"fill: #008000\"/>\n   </g>\n   <g id=\"patch_17\">\n    <path d=\"M 199.613966 156.485358 \nL 208.198582 156.485358 \nL 208.198582 167.667199 \nL 199.613966 167.667199 \nz\n\" clip-path=\"url(#p2e5a55e326)\" style=\"fill: #008000\"/>\n   </g>\n   <g id=\"patch_18\">\n    <path d=\"M 233.952428 156.485358 \nL 242.537043 156.485358 \nL 242.537043 123.083766 \nL 233.952428 123.083766 \nz\n\" clip-path=\"url(#p2e5a55e326)\" style=\"fill: #008000\"/>\n   </g>\n   <g id=\"patch_19\">\n    <path d=\"M 268.290889 156.485358 \nL 276.875505 156.485358 \nL 276.875505 111.449436 \nL 268.290889 111.449436 \nz\n\" clip-path=\"url(#p2e5a55e326)\" style=\"fill: #008000\"/>\n   </g>\n   <g id=\"patch_20\">\n    <path d=\"M 302.629351 156.485358 \nL 311.213966 156.485358 \nL 311.213966 163.882677 \nL 302.629351 163.882677 \nz\n\" clip-path=\"url(#p2e5a55e326)\" style=\"fill: #008000\"/>\n   </g>\n   <g id=\"patch_21\">\n    <path d=\"M 336.967812 156.485358 \nL 345.552428 156.485358 \nL 345.552428 119.675422 \nL 336.967812 119.675422 \nz\n\" clip-path=\"url(#p2e5a55e326)\" style=\"fill: #008000\"/>\n   </g>\n   <g id=\"patch_22\">\n    <path d=\"M 371.306274 156.485358 \nL 379.890889 156.485358 \nL 379.890889 53.503601 \nL 371.306274 53.503601 \nz\n\" clip-path=\"url(#p2e5a55e326)\" style=\"fill: #008000\"/>\n   </g>\n   <g id=\"patch_23\">\n    <path d=\"M 70.844736 156.485358 \nL 79.429351 156.485358 \nL 79.429351 170.714778 \nL 70.844736 170.714778 \nz\n\" clip-path=\"url(#p2e5a55e326)\" style=\"fill: #ff0000\"/>\n   </g>\n   <g id=\"patch_24\">\n    <path d=\"M 105.183197 156.485358 \nL 113.767813 156.485358 \nL 113.767813 140.662569 \nL 105.183197 140.662569 \nz\n\" clip-path=\"url(#p2e5a55e326)\" style=\"fill: #ff0000\"/>\n   </g>\n   <g id=\"patch_25\">\n    <path d=\"M 139.521659 156.485358 \nL 148.106274 156.485358 \nL 148.106274 197.812176 \nL 139.521659 197.812176 \nz\n\" clip-path=\"url(#p2e5a55e326)\" style=\"fill: #ff0000\"/>\n   </g>\n   <g id=\"patch_26\">\n    <path d=\"M 173.86012 156.485358 \nL 182.444736 156.485358 \nL 182.444736 215.234708 \nL 173.86012 215.234708 \nz\n\" clip-path=\"url(#p2e5a55e326)\" style=\"fill: #ff0000\"/>\n   </g>\n   <g id=\"patch_27\">\n    <path d=\"M 208.198582 156.485358 \nL 216.783197 156.485358 \nL 216.783197 204.242462 \nL 208.198582 204.242462 \nz\n\" clip-path=\"url(#p2e5a55e326)\" style=\"fill: #ff0000\"/>\n   </g>\n   <g id=\"patch_28\">\n    <path d=\"M 242.537043 156.485358 \nL 251.121659 156.485358 \nL 251.121659 61.71665 \nL 242.537043 61.71665 \nz\n\" clip-path=\"url(#p2e5a55e326)\" style=\"fill: #ff0000\"/>\n   </g>\n   <g id=\"patch_29\">\n    <path d=\"M 276.875505 156.485358 \nL 285.46012 156.485358 \nL 285.46012 81.59026 \nL 276.875505 81.59026 \nz\n\" clip-path=\"url(#p2e5a55e326)\" style=\"fill: #ff0000\"/>\n   </g>\n   <g id=\"patch_30\">\n    <path d=\"M 311.213966 156.485358 \nL 319.798582 156.485358 \nL 319.798582 212.651875 \nL 311.213966 212.651875 \nz\n\" clip-path=\"url(#p2e5a55e326)\" style=\"fill: #ff0000\"/>\n   </g>\n   <g id=\"patch_31\">\n    <path d=\"M 345.552428 156.485358 \nL 354.137043 156.485358 \nL 354.137043 117.179986 \nL 345.552428 117.179986 \nz\n\" clip-path=\"url(#p2e5a55e326)\" style=\"fill: #ff0000\"/>\n   </g>\n   <g id=\"patch_32\">\n    <path d=\"M 379.890889 156.485358 \nL 388.475505 156.485358 \nL 388.475505 17.561981 \nL 379.890889 17.561981 \nz\n\" clip-path=\"url(#p2e5a55e326)\" style=\"fill: #ff0000\"/>\n   </g>\n   <g id=\"matplotlib.axis_1\">\n    <g id=\"xtick_1\">\n     <g id=\"line2d_1\">\n      <defs>\n       <path id=\"m9a042c702e\" d=\"M 0 0 \nL 0 3.5 \n\" style=\"stroke: #000000; stroke-width: 0.8\"/>\n      </defs>\n      <g>\n       <use xlink:href=\"#m9a042c702e\" x=\"70.844736\" y=\"225.118345\" style=\"stroke: #000000; stroke-width: 0.8\"/>\n      </g>\n     </g>\n     <g id=\"text_1\">\n      <!-- 1 -->\n      <g transform=\"translate(67.663486 239.716782)scale(0.1 -0.1)\">\n       <defs>\n        <path id=\"DejaVuSans-31\" d=\"M 794 531 \nL 1825 531 \nL 1825 4091 \nL 703 3866 \nL 703 4441 \nL 1819 4666 \nL 2450 4666 \nL 2450 531 \nL 3481 531 \nL 3481 0 \nL 794 0 \nL 794 531 \nz\n\" transform=\"scale(0.015625)\"/>\n       </defs>\n       <use xlink:href=\"#DejaVuSans-31\"/>\n      </g>\n     </g>\n    </g>\n    <g id=\"xtick_2\">\n     <g id=\"line2d_2\">\n      <g>\n       <use xlink:href=\"#m9a042c702e\" x=\"105.183197\" y=\"225.118345\" style=\"stroke: #000000; stroke-width: 0.8\"/>\n      </g>\n     </g>\n     <g id=\"text_2\">\n      <!-- 2 -->\n      <g transform=\"translate(102.001947 239.716782)scale(0.1 -0.1)\">\n       <defs>\n        <path id=\"DejaVuSans-32\" d=\"M 1228 531 \nL 3431 531 \nL 3431 0 \nL 469 0 \nL 469 531 \nQ 828 903 1448 1529 \nQ 2069 2156 2228 2338 \nQ 2531 2678 2651 2914 \nQ 2772 3150 2772 3378 \nQ 2772 3750 2511 3984 \nQ 2250 4219 1831 4219 \nQ 1534 4219 1204 4116 \nQ 875 4013 500 3803 \nL 500 4441 \nQ 881 4594 1212 4672 \nQ 1544 4750 1819 4750 \nQ 2544 4750 2975 4387 \nQ 3406 4025 3406 3419 \nQ 3406 3131 3298 2873 \nQ 3191 2616 2906 2266 \nQ 2828 2175 2409 1742 \nQ 1991 1309 1228 531 \nz\n\" transform=\"scale(0.015625)\"/>\n       </defs>\n       <use xlink:href=\"#DejaVuSans-32\"/>\n      </g>\n     </g>\n    </g>\n    <g id=\"xtick_3\">\n     <g id=\"line2d_3\">\n      <g>\n       <use xlink:href=\"#m9a042c702e\" x=\"139.521659\" y=\"225.118345\" style=\"stroke: #000000; stroke-width: 0.8\"/>\n      </g>\n     </g>\n     <g id=\"text_3\">\n      <!-- 3 -->\n      <g transform=\"translate(136.340409 239.716782)scale(0.1 -0.1)\">\n       <defs>\n        <path id=\"DejaVuSans-33\" d=\"M 2597 2516 \nQ 3050 2419 3304 2112 \nQ 3559 1806 3559 1356 \nQ 3559 666 3084 287 \nQ 2609 -91 1734 -91 \nQ 1441 -91 1130 -33 \nQ 819 25 488 141 \nL 488 750 \nQ 750 597 1062 519 \nQ 1375 441 1716 441 \nQ 2309 441 2620 675 \nQ 2931 909 2931 1356 \nQ 2931 1769 2642 2001 \nQ 2353 2234 1838 2234 \nL 1294 2234 \nL 1294 2753 \nL 1863 2753 \nQ 2328 2753 2575 2939 \nQ 2822 3125 2822 3475 \nQ 2822 3834 2567 4026 \nQ 2313 4219 1838 4219 \nQ 1578 4219 1281 4162 \nQ 984 4106 628 3988 \nL 628 4550 \nQ 988 4650 1302 4700 \nQ 1616 4750 1894 4750 \nQ 2613 4750 3031 4423 \nQ 3450 4097 3450 3541 \nQ 3450 3153 3228 2886 \nQ 3006 2619 2597 2516 \nz\n\" transform=\"scale(0.015625)\"/>\n       </defs>\n       <use xlink:href=\"#DejaVuSans-33\"/>\n      </g>\n     </g>\n    </g>\n    <g id=\"xtick_4\">\n     <g id=\"line2d_4\">\n      <g>\n       <use xlink:href=\"#m9a042c702e\" x=\"173.86012\" y=\"225.118345\" style=\"stroke: #000000; stroke-width: 0.8\"/>\n      </g>\n     </g>\n     <g id=\"text_4\">\n      <!-- 4 -->\n      <g transform=\"translate(170.67887 239.716782)scale(0.1 -0.1)\">\n       <defs>\n        <path id=\"DejaVuSans-34\" d=\"M 2419 4116 \nL 825 1625 \nL 2419 1625 \nL 2419 4116 \nz\nM 2253 4666 \nL 3047 4666 \nL 3047 1625 \nL 3713 1625 \nL 3713 1100 \nL 3047 1100 \nL 3047 0 \nL 2419 0 \nL 2419 1100 \nL 313 1100 \nL 313 1709 \nL 2253 4666 \nz\n\" transform=\"scale(0.015625)\"/>\n       </defs>\n       <use xlink:href=\"#DejaVuSans-34\"/>\n      </g>\n     </g>\n    </g>\n    <g id=\"xtick_5\">\n     <g id=\"line2d_5\">\n      <g>\n       <use xlink:href=\"#m9a042c702e\" x=\"208.198582\" y=\"225.118345\" style=\"stroke: #000000; stroke-width: 0.8\"/>\n      </g>\n     </g>\n     <g id=\"text_5\">\n      <!-- 5 -->\n      <g transform=\"translate(205.017332 239.716782)scale(0.1 -0.1)\">\n       <defs>\n        <path id=\"DejaVuSans-35\" d=\"M 691 4666 \nL 3169 4666 \nL 3169 4134 \nL 1269 4134 \nL 1269 2991 \nQ 1406 3038 1543 3061 \nQ 1681 3084 1819 3084 \nQ 2600 3084 3056 2656 \nQ 3513 2228 3513 1497 \nQ 3513 744 3044 326 \nQ 2575 -91 1722 -91 \nQ 1428 -91 1123 -41 \nQ 819 9 494 109 \nL 494 744 \nQ 775 591 1075 516 \nQ 1375 441 1709 441 \nQ 2250 441 2565 725 \nQ 2881 1009 2881 1497 \nQ 2881 1984 2565 2268 \nQ 2250 2553 1709 2553 \nQ 1456 2553 1204 2497 \nQ 953 2441 691 2322 \nL 691 4666 \nz\n\" transform=\"scale(0.015625)\"/>\n       </defs>\n       <use xlink:href=\"#DejaVuSans-35\"/>\n      </g>\n     </g>\n    </g>\n    <g id=\"xtick_6\">\n     <g id=\"line2d_6\">\n      <g>\n       <use xlink:href=\"#m9a042c702e\" x=\"242.537043\" y=\"225.118345\" style=\"stroke: #000000; stroke-width: 0.8\"/>\n      </g>\n     </g>\n     <g id=\"text_6\">\n      <!-- 6 -->\n      <g transform=\"translate(239.355793 239.716782)scale(0.1 -0.1)\">\n       <defs>\n        <path id=\"DejaVuSans-36\" d=\"M 2113 2584 \nQ 1688 2584 1439 2293 \nQ 1191 2003 1191 1497 \nQ 1191 994 1439 701 \nQ 1688 409 2113 409 \nQ 2538 409 2786 701 \nQ 3034 994 3034 1497 \nQ 3034 2003 2786 2293 \nQ 2538 2584 2113 2584 \nz\nM 3366 4563 \nL 3366 3988 \nQ 3128 4100 2886 4159 \nQ 2644 4219 2406 4219 \nQ 1781 4219 1451 3797 \nQ 1122 3375 1075 2522 \nQ 1259 2794 1537 2939 \nQ 1816 3084 2150 3084 \nQ 2853 3084 3261 2657 \nQ 3669 2231 3669 1497 \nQ 3669 778 3244 343 \nQ 2819 -91 2113 -91 \nQ 1303 -91 875 529 \nQ 447 1150 447 2328 \nQ 447 3434 972 4092 \nQ 1497 4750 2381 4750 \nQ 2619 4750 2861 4703 \nQ 3103 4656 3366 4563 \nz\n\" transform=\"scale(0.015625)\"/>\n       </defs>\n       <use xlink:href=\"#DejaVuSans-36\"/>\n      </g>\n     </g>\n    </g>\n    <g id=\"xtick_7\">\n     <g id=\"line2d_7\">\n      <g>\n       <use xlink:href=\"#m9a042c702e\" x=\"276.875505\" y=\"225.118345\" style=\"stroke: #000000; stroke-width: 0.8\"/>\n      </g>\n     </g>\n     <g id=\"text_7\">\n      <!-- 7 -->\n      <g transform=\"translate(273.694255 239.716782)scale(0.1 -0.1)\">\n       <defs>\n        <path id=\"DejaVuSans-37\" d=\"M 525 4666 \nL 3525 4666 \nL 3525 4397 \nL 1831 0 \nL 1172 0 \nL 2766 4134 \nL 525 4134 \nL 525 4666 \nz\n\" transform=\"scale(0.015625)\"/>\n       </defs>\n       <use xlink:href=\"#DejaVuSans-37\"/>\n      </g>\n     </g>\n    </g>\n    <g id=\"xtick_8\">\n     <g id=\"line2d_8\">\n      <g>\n       <use xlink:href=\"#m9a042c702e\" x=\"311.213966\" y=\"225.118345\" style=\"stroke: #000000; stroke-width: 0.8\"/>\n      </g>\n     </g>\n     <g id=\"text_8\">\n      <!-- 8 -->\n      <g transform=\"translate(308.032716 239.716782)scale(0.1 -0.1)\">\n       <defs>\n        <path id=\"DejaVuSans-38\" d=\"M 2034 2216 \nQ 1584 2216 1326 1975 \nQ 1069 1734 1069 1313 \nQ 1069 891 1326 650 \nQ 1584 409 2034 409 \nQ 2484 409 2743 651 \nQ 3003 894 3003 1313 \nQ 3003 1734 2745 1975 \nQ 2488 2216 2034 2216 \nz\nM 1403 2484 \nQ 997 2584 770 2862 \nQ 544 3141 544 3541 \nQ 544 4100 942 4425 \nQ 1341 4750 2034 4750 \nQ 2731 4750 3128 4425 \nQ 3525 4100 3525 3541 \nQ 3525 3141 3298 2862 \nQ 3072 2584 2669 2484 \nQ 3125 2378 3379 2068 \nQ 3634 1759 3634 1313 \nQ 3634 634 3220 271 \nQ 2806 -91 2034 -91 \nQ 1263 -91 848 271 \nQ 434 634 434 1313 \nQ 434 1759 690 2068 \nQ 947 2378 1403 2484 \nz\nM 1172 3481 \nQ 1172 3119 1398 2916 \nQ 1625 2713 2034 2713 \nQ 2441 2713 2670 2916 \nQ 2900 3119 2900 3481 \nQ 2900 3844 2670 4047 \nQ 2441 4250 2034 4250 \nQ 1625 4250 1398 4047 \nQ 1172 3844 1172 3481 \nz\n\" transform=\"scale(0.015625)\"/>\n       </defs>\n       <use xlink:href=\"#DejaVuSans-38\"/>\n      </g>\n     </g>\n    </g>\n    <g id=\"xtick_9\">\n     <g id=\"line2d_9\">\n      <g>\n       <use xlink:href=\"#m9a042c702e\" x=\"345.552428\" y=\"225.118345\" style=\"stroke: #000000; stroke-width: 0.8\"/>\n      </g>\n     </g>\n     <g id=\"text_9\">\n      <!-- 9 -->\n      <g transform=\"translate(342.371178 239.716782)scale(0.1 -0.1)\">\n       <defs>\n        <path id=\"DejaVuSans-39\" d=\"M 703 97 \nL 703 672 \nQ 941 559 1184 500 \nQ 1428 441 1663 441 \nQ 2288 441 2617 861 \nQ 2947 1281 2994 2138 \nQ 2813 1869 2534 1725 \nQ 2256 1581 1919 1581 \nQ 1219 1581 811 2004 \nQ 403 2428 403 3163 \nQ 403 3881 828 4315 \nQ 1253 4750 1959 4750 \nQ 2769 4750 3195 4129 \nQ 3622 3509 3622 2328 \nQ 3622 1225 3098 567 \nQ 2575 -91 1691 -91 \nQ 1453 -91 1209 -44 \nQ 966 3 703 97 \nz\nM 1959 2075 \nQ 2384 2075 2632 2365 \nQ 2881 2656 2881 3163 \nQ 2881 3666 2632 3958 \nQ 2384 4250 1959 4250 \nQ 1534 4250 1286 3958 \nQ 1038 3666 1038 3163 \nQ 1038 2656 1286 2365 \nQ 1534 2075 1959 2075 \nz\n\" transform=\"scale(0.015625)\"/>\n       </defs>\n       <use xlink:href=\"#DejaVuSans-39\"/>\n      </g>\n     </g>\n    </g>\n    <g id=\"xtick_10\">\n     <g id=\"line2d_10\">\n      <g>\n       <use xlink:href=\"#m9a042c702e\" x=\"379.890889\" y=\"225.118345\" style=\"stroke: #000000; stroke-width: 0.8\"/>\n      </g>\n     </g>\n     <g id=\"text_10\">\n      <!-- 10 -->\n      <g transform=\"translate(373.528389 239.716782)scale(0.1 -0.1)\">\n       <defs>\n        <path id=\"DejaVuSans-30\" d=\"M 2034 4250 \nQ 1547 4250 1301 3770 \nQ 1056 3291 1056 2328 \nQ 1056 1369 1301 889 \nQ 1547 409 2034 409 \nQ 2525 409 2770 889 \nQ 3016 1369 3016 2328 \nQ 3016 3291 2770 3770 \nQ 2525 4250 2034 4250 \nz\nM 2034 4750 \nQ 2819 4750 3233 4129 \nQ 3647 3509 3647 2328 \nQ 3647 1150 3233 529 \nQ 2819 -91 2034 -91 \nQ 1250 -91 836 529 \nQ 422 1150 422 2328 \nQ 422 3509 836 4129 \nQ 1250 4750 2034 4750 \nz\n\" transform=\"scale(0.015625)\"/>\n       </defs>\n       <use xlink:href=\"#DejaVuSans-31\"/>\n       <use xlink:href=\"#DejaVuSans-30\" x=\"63.623047\"/>\n      </g>\n     </g>\n    </g>\n    <g id=\"text_11\">\n     <!-- $i$ -->\n     <g transform=\"translate(223.127813 257.95397)scale(0.16 -0.16)\">\n      <defs>\n       <path id=\"DejaVuSans-Oblique-69\" d=\"M 1172 4863 \nL 1747 4863 \nL 1606 4134 \nL 1031 4134 \nL 1172 4863 \nz\nM 909 3500 \nL 1484 3500 \nL 800 0 \nL 225 0 \nL 909 3500 \nz\n\" transform=\"scale(0.015625)\"/>\n      </defs>\n      <use xlink:href=\"#DejaVuSans-Oblique-69\" transform=\"translate(0 0.015625)\"/>\n     </g>\n    </g>\n   </g>\n   <g id=\"matplotlib.axis_2\">\n    <g id=\"ytick_1\">\n     <g id=\"line2d_11\">\n      <defs>\n       <path id=\"m64c7eb2c12\" d=\"M 0 0 \nL -3.5 0 \n\" style=\"stroke: #000000; stroke-width: 0.8\"/>\n      </defs>\n      <g>\n       <use xlink:href=\"#m64c7eb2c12\" x=\"57.967813\" y=\"214.679814\" style=\"stroke: #000000; stroke-width: 0.8\"/>\n      </g>\n     </g>\n     <g id=\"text_12\">\n      <!-- −0.4 -->\n      <g transform=\"translate(26.685 218.479033)scale(0.1 -0.1)\">\n       <defs>\n        <path id=\"DejaVuSans-2212\" d=\"M 678 2272 \nL 4684 2272 \nL 4684 1741 \nL 678 1741 \nL 678 2272 \nz\n\" transform=\"scale(0.015625)\"/>\n        <path id=\"DejaVuSans-2e\" d=\"M 684 794 \nL 1344 794 \nL 1344 0 \nL 684 0 \nL 684 794 \nz\n\" transform=\"scale(0.015625)\"/>\n       </defs>\n       <use xlink:href=\"#DejaVuSans-2212\"/>\n       <use xlink:href=\"#DejaVuSans-30\" x=\"83.789062\"/>\n       <use xlink:href=\"#DejaVuSans-2e\" x=\"147.412109\"/>\n       <use xlink:href=\"#DejaVuSans-34\" x=\"179.199219\"/>\n      </g>\n     </g>\n    </g>\n    <g id=\"ytick_2\">\n     <g id=\"line2d_12\">\n      <g>\n       <use xlink:href=\"#m64c7eb2c12\" x=\"57.967813\" y=\"185.582586\" style=\"stroke: #000000; stroke-width: 0.8\"/>\n      </g>\n     </g>\n     <g id=\"text_13\">\n      <!-- −0.2 -->\n      <g transform=\"translate(26.685 189.381805)scale(0.1 -0.1)\">\n       <use xlink:href=\"#DejaVuSans-2212\"/>\n       <use xlink:href=\"#DejaVuSans-30\" x=\"83.789062\"/>\n       <use xlink:href=\"#DejaVuSans-2e\" x=\"147.412109\"/>\n       <use xlink:href=\"#DejaVuSans-32\" x=\"179.199219\"/>\n      </g>\n     </g>\n    </g>\n    <g id=\"ytick_3\">\n     <g id=\"line2d_13\">\n      <g>\n       <use xlink:href=\"#m64c7eb2c12\" x=\"57.967813\" y=\"156.485358\" style=\"stroke: #000000; stroke-width: 0.8\"/>\n      </g>\n     </g>\n     <g id=\"text_14\">\n      <!-- 0.0 -->\n      <g transform=\"translate(35.064687 160.284577)scale(0.1 -0.1)\">\n       <use xlink:href=\"#DejaVuSans-30\"/>\n       <use xlink:href=\"#DejaVuSans-2e\" x=\"63.623047\"/>\n       <use xlink:href=\"#DejaVuSans-30\" x=\"95.410156\"/>\n      </g>\n     </g>\n    </g>\n    <g id=\"ytick_4\">\n     <g id=\"line2d_14\">\n      <g>\n       <use xlink:href=\"#m64c7eb2c12\" x=\"57.967813\" y=\"127.38813\" style=\"stroke: #000000; stroke-width: 0.8\"/>\n      </g>\n     </g>\n     <g id=\"text_15\">\n      <!-- 0.2 -->\n      <g transform=\"translate(35.064687 131.187349)scale(0.1 -0.1)\">\n       <use xlink:href=\"#DejaVuSans-30\"/>\n       <use xlink:href=\"#DejaVuSans-2e\" x=\"63.623047\"/>\n       <use xlink:href=\"#DejaVuSans-32\" x=\"95.410156\"/>\n      </g>\n     </g>\n    </g>\n    <g id=\"ytick_5\">\n     <g id=\"line2d_15\">\n      <g>\n       <use xlink:href=\"#m64c7eb2c12\" x=\"57.967813\" y=\"98.290903\" style=\"stroke: #000000; stroke-width: 0.8\"/>\n      </g>\n     </g>\n     <g id=\"text_16\">\n      <!-- 0.4 -->\n      <g transform=\"translate(35.064687 102.090121)scale(0.1 -0.1)\">\n       <use xlink:href=\"#DejaVuSans-30\"/>\n       <use xlink:href=\"#DejaVuSans-2e\" x=\"63.623047\"/>\n       <use xlink:href=\"#DejaVuSans-34\" x=\"95.410156\"/>\n      </g>\n     </g>\n    </g>\n    <g id=\"ytick_6\">\n     <g id=\"line2d_16\">\n      <g>\n       <use xlink:href=\"#m64c7eb2c12\" x=\"57.967813\" y=\"69.193675\" style=\"stroke: #000000; stroke-width: 0.8\"/>\n      </g>\n     </g>\n     <g id=\"text_17\">\n      <!-- 0.6 -->\n      <g transform=\"translate(35.064687 72.992893)scale(0.1 -0.1)\">\n       <use xlink:href=\"#DejaVuSans-30\"/>\n       <use xlink:href=\"#DejaVuSans-2e\" x=\"63.623047\"/>\n       <use xlink:href=\"#DejaVuSans-36\" x=\"95.410156\"/>\n      </g>\n     </g>\n    </g>\n    <g id=\"ytick_7\">\n     <g id=\"line2d_17\">\n      <g>\n       <use xlink:href=\"#m64c7eb2c12\" x=\"57.967813\" y=\"40.096447\" style=\"stroke: #000000; stroke-width: 0.8\"/>\n      </g>\n     </g>\n     <g id=\"text_18\">\n      <!-- 0.8 -->\n      <g transform=\"translate(35.064687 43.895665)scale(0.1 -0.1)\">\n       <use xlink:href=\"#DejaVuSans-30\"/>\n       <use xlink:href=\"#DejaVuSans-2e\" x=\"63.623047\"/>\n       <use xlink:href=\"#DejaVuSans-38\" x=\"95.410156\"/>\n      </g>\n     </g>\n    </g>\n    <g id=\"ytick_8\">\n     <g id=\"line2d_18\">\n      <g>\n       <use xlink:href=\"#m64c7eb2c12\" x=\"57.967813\" y=\"10.999219\" style=\"stroke: #000000; stroke-width: 0.8\"/>\n      </g>\n     </g>\n     <g id=\"text_19\">\n      <!-- 1.0 -->\n      <g transform=\"translate(35.064687 14.798437)scale(0.1 -0.1)\">\n       <use xlink:href=\"#DejaVuSans-31\"/>\n       <use xlink:href=\"#DejaVuSans-2e\" x=\"63.623047\"/>\n       <use xlink:href=\"#DejaVuSans-30\" x=\"95.410156\"/>\n      </g>\n     </g>\n    </g>\n    <g id=\"text_20\">\n     <!-- $w_i$ -->\n     <g transform=\"translate(19.3575 124.718345)rotate(-90)scale(0.16 -0.16)\">\n      <defs>\n       <path id=\"DejaVuSans-Oblique-77\" d=\"M 544 3500 \nL 1113 3500 \nL 1259 684 \nL 2566 3500 \nL 3231 3500 \nL 3425 684 \nL 4666 3500 \nL 5241 3500 \nL 3641 0 \nL 2969 0 \nL 2797 2900 \nL 1459 0 \nL 781 0 \nL 544 3500 \nz\n\" transform=\"scale(0.015625)\"/>\n      </defs>\n      <use xlink:href=\"#DejaVuSans-Oblique-77\" transform=\"translate(0 0.3125)\"/>\n      <use xlink:href=\"#DejaVuSans-Oblique-69\" transform=\"translate(81.787109 -16.09375)scale(0.7)\"/>\n     </g>\n    </g>\n   </g>\n   <g id=\"patch_33\">\n    <path d=\"M 57.967813 225.118345 \nL 57.967813 7.678345 \n\" style=\"fill: none; stroke: #000000; stroke-width: 0.8; stroke-linejoin: miter; stroke-linecap: square\"/>\n   </g>\n   <g id=\"patch_34\">\n    <path d=\"M 392.767812 225.118345 \nL 392.767812 7.678345 \n\" style=\"fill: none; stroke: #000000; stroke-width: 0.8; stroke-linejoin: miter; stroke-linecap: square\"/>\n   </g>\n   <g id=\"patch_35\">\n    <path d=\"M 57.967813 225.118345 \nL 392.767812 225.118345 \n\" style=\"fill: none; stroke: #000000; stroke-width: 0.8; stroke-linejoin: miter; stroke-linecap: square\"/>\n   </g>\n   <g id=\"patch_36\">\n    <path d=\"M 57.967813 7.678345 \nL 392.767812 7.678345 \n\" style=\"fill: none; stroke: #000000; stroke-width: 0.8; stroke-linejoin: miter; stroke-linecap: square\"/>\n   </g>\n  </g>\n </g>\n <defs>\n  <clipPath id=\"p2e5a55e326\">\n   <rect x=\"57.967813\" y=\"7.678345\" width=\"334.8\" height=\"217.44\"/>\n  </clipPath>\n </defs>\n</svg>\n"
     },
     "metadata": {
      "needs_background": "light"
     },
     "output_type": "display_data"
    }
   ],
   "source": [
    "# Plot bar graph of holdings for different leverage limits.\n",
    "colors = [\"b\", \"g\", \"r\"]\n",
    "indices = np.argsort(mu.flatten())\n",
    "for idx, L_val in enumerate(L_vals):\n",
    "    plt.bar(\n",
    "        np.arange(1, n + 1) + 0.25 * idx - 0.375,\n",
    "        w_vals[idx][indices],\n",
    "        color=colors[idx],\n",
    "        label=r\"$L^{\\max}$ = %d\" % L_val,\n",
    "        width=0.25,\n",
    "    )\n",
    "plt.ylabel(r\"$w_i$\", fontsize=16)\n",
    "plt.xlabel(r\"$i$\", fontsize=16)\n",
    "plt.xlim([1 - 0.375, 10 + 0.375])\n",
    "plt.xticks(np.arange(1, n + 1))\n",
    "plt.show()"
   ],
   "metadata": {
    "collapsed": false,
    "pycharm": {
     "name": "#%%\n"
    }
   }
  },
  {
   "cell_type": "markdown",
   "source": [
    "## Variations\n",
    "\n",
    "There are many more variations of classical portfolio optimization. We might require that $\\mu^T w \\geq R^\\mathrm{min}$ and minimize $w^T \\Sigma w$ or $\\|\\Sigma ^{1/2} w\\|_2$.\n",
    "We could include the (broker) cost of short positions as the penalty $s^T (w)_-$ for some $s \\geq 0$.\n",
    "We could include transaction costs (from a previous portfolio $w^\\mathrm{prev}$) as the penalty"
   ],
   "metadata": {
    "collapsed": false,
    "pycharm": {
     "name": "#%% md\n"
    }
   },
   "outputs": []
  },
  {
   "cell_type": "markdown",
   "source": [
    "$$\n",
    "\\kappa ^T |w-w^\\mathrm{prev}|^\\eta, \\quad\n",
    "\\kappa \\geq 0.\n",
    "$$"
   ],
   "metadata": {
    "collapsed": false,
    "pycharm": {
     "name": "#%% md\n"
    }
   },
   "outputs": []
  },
  {
   "cell_type": "markdown",
   "source": [
    "Common values of $\\eta$ are $\\eta =1, ~ 3/2, ~2$."
   ],
   "metadata": {
    "collapsed": false,
    "pycharm": {
     "name": "#%% md\n"
    }
   }
  },
  {
   "cell_type": "markdown",
   "source": [
    "## Factor covariance model\n",
    "\n",
    "A particularly common and useful variation is to model the covariance matrix $\\Sigma$ as a factor model"
   ],
   "metadata": {
    "collapsed": false,
    "pycharm": {
     "name": "#%% md\n"
    }
   },
   "outputs": []
  },
  {
   "cell_type": "markdown",
   "source": [
    "$$\n",
    "\\Sigma  =  F \\tilde \\Sigma F^T + D,\n",
    "$$"
   ],
   "metadata": {
    "collapsed": false,
    "pycharm": {
     "name": "#%% md\n"
    }
   },
   "outputs": []
  },
  {
   "cell_type": "markdown",
   "source": [
    "\n",
    "where  $F \\in {\\bf R}^{n \\times k}$, $k \\ll n$ is the *factor loading matrix*. $k$ is the number of factors (or sectors) (typically 10s). $F_{ij}$ is the loading of asset $i$ to factor $j$.\n",
    "$D$ is a diagonal matrix; $D_{ii}>0$ is the *idiosyncratic risk*. $\\tilde \\Sigma > 0$ is the *factor covariance matrix*.\n",
    "\n",
    "$F^Tw \\in {\\bf R}^k$ gives the portfolio *factor exposures*. A portfolio is *factor $j$ neutral* if $(F^Tw)_j=0$.\n"
   ],
   "metadata": {
    "collapsed": false,
    "pycharm": {
     "name": "#%% md\n"
    }
   }
  },
  {
   "cell_type": "markdown",
   "source": [
    "## Portfolio optimization with factor covariance model\n",
    "\n",
    "Using the factor covariance model, we frame the portfolio optimization problem as"
   ],
   "metadata": {
    "collapsed": false,
    "pycharm": {
     "name": "#%% md\n"
    }
   },
   "outputs": []
  },
  {
   "cell_type": "markdown",
   "source": [
    "$$\n",
    "\\begin{array}{ll} \\mbox{maximize} & \\mu^T w - \\gamma \\left(f^T \\tilde \\Sigma f  + w^TDw \\right) \\\\\n",
    "\\mbox{subject to} & {\\bf 1}^T w = 1, \\quad f=F^Tw\\\\\n",
    "& w \\in {\\cal W}, \\quad f \\in {\\cal F},\n",
    "\\end{array}\n",
    "$$"
   ],
   "metadata": {
    "collapsed": false,
    "pycharm": {
     "name": "#%% md\n"
    }
   }
  },
  {
   "cell_type": "markdown",
   "source": [
    "where the variables are the allocations $w \\in {\\bf R}^n$ and factor exposures $f\\in {\\bf R}^k$ and $\\cal F$ gives the factor exposure constraints.\n",
    "\n",
    "Using the factor covariance model in the optimization problem has a computational advantage. The solve time is $O(nk^2)$ versus $O(n^3)$ for the standard problem."
   ],
   "metadata": {
    "collapsed": false,
    "pycharm": {
     "name": "#%% md\n"
    }
   }
  },
  {
   "cell_type": "markdown",
   "source": [
    "## Example\n",
    "\n",
    "In the following code we generate and solve a portfolio optimization problem with 30 factors and 3000 assets.\n",
    "We set the leverage limit $=2$ and $\\gamma=0.1$.\n",
    "\n",
    "We solve the problem both with the covariance given as a single matrix and as a factor model."
   ],
   "metadata": {
    "collapsed": false,
    "pycharm": {
     "name": "#%% md\n"
    }
   }
  },
  {
   "cell_type": "code",
   "execution_count": null,
   "outputs": [],
   "source": [
    "# Generate data for factor model.\n",
    "n = 600\n",
    "m = 30\n",
    "np.random.seed(1)\n",
    "mu = np.abs(np.random.randn(n, 1))\n",
    "Sigma_tilde = np.random.randn(m, m)\n",
    "Sigma_tilde = Sigma_tilde.T.dot(Sigma_tilde)\n",
    "D = sp.diags(np.random.uniform(0, 0.9, size=n))\n",
    "F = np.random.randn(n, m)"
   ],
   "metadata": {
    "collapsed": false,
    "pycharm": {
     "name": "#%%\n"
    }
   }
  },
  {
   "cell_type": "code",
   "execution_count": null,
   "outputs": [],
   "source": [
    "# Factor model portfolio optimization.\n",
    "w = cp.Variable(n)\n",
    "f = cp.Variable(m)\n",
    "gamma = cp.Parameter(nonneg=True)\n",
    "Lmax = cp.Parameter()\n",
    "ret = mu.T @ w\n",
    "risk = cp.quad_form(f, Sigma_tilde) + cp.sum_squares(np.sqrt(D) @ w)\n",
    "prob_factor = cp.Problem(\n",
    "    cp.Maximize(ret - gamma * risk),\n",
    "    [cp.sum(w) == 1, f == F.T @ w, cp.norm(w, 1) <= Lmax],\n",
    ")\n",
    "\n",
    "# Solve the factor model problem.\n",
    "Lmax.value = 2\n",
    "gamma.value = 0.1\n",
    "prob_factor.solve(verbose=True)"
   ],
   "metadata": {
    "collapsed": false,
    "pycharm": {
     "name": "#%%\n"
    }
   }
  },
  {
   "cell_type": "code",
   "execution_count": null,
   "outputs": [],
   "source": [
    "from cvxpy.atoms.affine.wraps import psd_wrap\n",
    "\n",
    "# Standard portfolio optimization with data from factor model.\n",
    "risk = cp.quad_form(w, psd_wrap(F.dot(Sigma_tilde).dot(F.T) + D))\n",
    "prob = cp.Problem(\n",
    "    cp.Maximize(ret - gamma * risk), [cp.sum(w) == 1, cp.norm(w, 1) <= Lmax]\n",
    ")\n",
    "\n",
    "prob.solve(verbose=True, max_iter=100_000)"
   ],
   "metadata": {
    "collapsed": false,
    "pycharm": {
     "name": "#%%\n"
    }
   }
  },
  {
   "cell_type": "markdown",
   "source": [
    "We expect the factor model to be at least 20 times faster than the standard model as\n",
    "$n^2 = 20 n m$ where $n$ is the number of assets and $m$ is the number of factors.\n",
    "This estimate does not yet reflect a smaller number of iterations required for the factor model."
   ],
   "metadata": {
    "collapsed": false,
    "pycharm": {
     "name": "#%% md\n"
    }
   }
  },
  {
   "cell_type": "code",
   "execution_count": null,
   "outputs": [],
   "source": [
    "print(\"Factor model solve time = {}\".format(prob_factor.solver_stats.solve_time))\n",
    "print(\"Single model solve time = {}\".format(prob.solver_stats.solve_time))"
   ],
   "metadata": {
    "collapsed": false,
    "pycharm": {
     "name": "#%%\n"
    }
   }
  },
  {
   "cell_type": "code",
   "execution_count": null,
   "outputs": [],
   "source": [],
   "metadata": {
    "collapsed": false,
    "pycharm": {
     "name": "#%%\n"
    }
   }
  }
 ],
 "metadata": {
  "kernelspec": {
   "display_name": "Python 3",
   "language": "python",
   "name": "python3"
  },
  "language_info": {
   "codemirror_mode": {
    "name": "ipython",
    "version": 3
   },
   "file_extension": ".py",
   "mimetype": "text/x-python",
   "name": "python",
   "nbconvert_exporter": "python",
   "pygments_lexer": "ipython3",
   "version": "3.6.7"
  }
 },
 "nbformat": 4,
 "nbformat_minor": 1
}
