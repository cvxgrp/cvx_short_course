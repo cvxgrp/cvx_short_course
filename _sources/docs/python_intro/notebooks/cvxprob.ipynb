{
 "cells": [
  {
   "cell_type": "markdown",
   "metadata": {
    "pycharm": {
     "name": "#%% md\n"
    }
   },
   "source": [
    "# CVXPY"
   ]
  },
  {
   "cell_type": "markdown",
   "source": [
    "This Python notebook shows a basic example using CVXPY."
   ],
   "metadata": {
    "collapsed": false
   }
  },
  {
   "cell_type": "code",
   "execution_count": 1,
   "metadata": {
    "pycharm": {
     "name": "#%%\n"
    }
   },
   "outputs": [
    {
     "name": "stdout",
     "output_type": "stream",
     "text": [
      "[ 1.84938877e-01  4.25089350e-01 -4.02558020e-22 -2.86851394e-21\n",
      "  1.58256609e-22  1.68042475e-01  6.01518175e-22]\n",
      "[0.         0.         0.4282705  4.44105024 2.45354868 0.\n",
      " 3.24159717]\n"
     ]
    }
   ],
   "source": [
    "import cvxpy as cp\n",
    "import numpy as np\n",
    "\n",
    "\n",
    "# Problem data.\n",
    "m = 10\n",
    "n = 7\n",
    "np.random.seed(1)\n",
    "A = np.random.randn(m, n)\n",
    "b = np.random.randn(m)\n",
    "\n",
    "# Construct the problem.\n",
    "x = cp.Variable(n)\n",
    "# *, +, -, / are overloaded to construct CVXPY objects.\n",
    "cost = cp.sum_squares(A @ x - b)\n",
    "objective = cp.Minimize(cost)\n",
    "# <=, >=, == are overloaded to construct CVXPY constraints.\n",
    "constraints = [0 <= x, x <= 1]\n",
    "prob = cp.Problem(objective, constraints)\n",
    "\n",
    "# The optimal objective is returned by prob.solve().\n",
    "result = prob.solve()\n",
    "# The optimal value for x is stored in x.value.\n",
    "print(x.value)\n",
    "# The optimal Lagrange multiplier for a constraint\n",
    "# is stored in constraint.dual_value.\n",
    "print(constraints[0].dual_value)"
   ]
  }
 ],
 "metadata": {
  "kernelspec": {
   "display_name": "Python 3",
   "language": "python",
   "name": "python3"
  },
  "language_info": {
   "codemirror_mode": {
    "name": "ipython",
    "version": 3
   },
   "file_extension": ".py",
   "mimetype": "text/x-python",
   "name": "python",
   "nbconvert_exporter": "python",
   "pygments_lexer": "ipython3",
   "version": "3.7.0"
  }
 },
 "nbformat": 4,
 "nbformat_minor": 1
}
