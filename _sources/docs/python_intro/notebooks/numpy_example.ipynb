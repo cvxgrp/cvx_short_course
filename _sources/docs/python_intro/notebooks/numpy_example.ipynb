{
 "cells": [
  {
   "cell_type": "markdown",
   "metadata": {
    "pycharm": {
     "name": "#%% md\n"
    }
   },
   "source": [
    "# NumPy"
   ]
  },
  {
   "cell_type": "markdown",
   "source": [
    "This notebook covers the basics of NumPy, the Python matrix library."
   ],
   "metadata": {
    "collapsed": false
   }
  },
  {
   "cell_type": "code",
   "execution_count": 1,
   "metadata": {
    "pycharm": {
     "name": "#%%\n"
    }
   },
   "outputs": [
    {
     "name": "stdout",
     "output_type": "stream",
     "text": [
      "[[0. 0. 0. 0.]\n",
      " [0. 0. 0. 0.]\n",
      " [0. 0. 0. 0.]]\n",
      "(3, 4)\n"
     ]
    }
   ],
   "source": [
    "# NumPy namespace convention: np\n",
    "import numpy as np\n",
    "\n",
    "# Create an all-zero matrix\n",
    "#   NOTE: argument is a tuple '(3, 4)'\n",
    "#     WRONG: np.zeros(3, 4)\n",
    "#     CORRECT: np.zeros( (3, 4) )\n",
    "A = np.zeros((3, 4))\n",
    "\n",
    "\n",
    "print(A)\n",
    "print(A.shape)  # dimensions of A"
   ]
  },
  {
   "cell_type": "code",
   "execution_count": 2,
   "metadata": {
    "pycharm": {
     "name": "#%%\n"
    }
   },
   "outputs": [
    {
     "name": "stdout",
     "output_type": "stream",
     "text": [
      "[[1. 1. 1. 1.]\n",
      " [1. 1. 1. 1.]\n",
      " [1. 1. 1. 1.]]\n",
      "[[1. 0. 0. 0. 0.]\n",
      " [0. 1. 0. 0. 0.]\n",
      " [0. 0. 1. 0. 0.]\n",
      " [0. 0. 0. 1. 0.]\n",
      " [0. 0. 0. 0. 1.]]\n",
      "[[1. 0. 0. 0. 0. 1. 0. 0. 0. 0.]\n",
      " [0. 1. 0. 0. 0. 0. 1. 0. 0. 0.]\n",
      " [0. 0. 1. 0. 0. 0. 0. 1. 0. 0.]\n",
      " [0. 0. 0. 1. 0. 0. 0. 0. 1. 0.]\n",
      " [0. 0. 0. 0. 1. 0. 0. 0. 0. 1.]]\n"
     ]
    }
   ],
   "source": [
    "# All-one matrix\n",
    "B = np.ones((3, 4))\n",
    "print(B)\n",
    "\n",
    "# Identity matrix\n",
    "I = np.eye(5)\n",
    "print(I)\n",
    "\n",
    "# Stacking matrices horizontally\n",
    "#   Use vstack to stack vertically\n",
    "J = np.hstack((I, I))\n",
    "print(J)"
   ]
  },
  {
   "cell_type": "code",
   "execution_count": 3,
   "metadata": {
    "pycharm": {
     "name": "#%%\n"
    }
   },
   "outputs": [
    {
     "name": "stdout",
     "output_type": "stream",
     "text": [
      "[[ 1.01584229  0.76828725 -1.06476038 -0.17142325]\n",
      " [ 1.02943762 -0.24485524 -0.91905382 -1.01351637]\n",
      " [ 0.23211986  0.19976033 -0.01518893  1.87137834]\n",
      " [-0.2720834  -0.01172056  0.94421325 -0.71147514]]\n",
      "[ 0.76828725 -0.24485524  0.19976033 -0.01172056]\n",
      "1.8713783391228629\n"
     ]
    }
   ],
   "source": [
    "# Random matrix with standard Gaussian entries\n",
    "#   NOTE: argument is NOT a tuple\n",
    "Q = np.random.randn(4, 4)\n",
    "\n",
    "print(Q)\n",
    "print(Q[:, 1])  # Second column (everything is 0-indexed)\n",
    "print(Q[2, 3])  # (3, 4) entry (as a real number)"
   ]
  },
  {
   "cell_type": "code",
   "execution_count": 4,
   "metadata": {
    "pycharm": {
     "name": "#%%\n"
    }
   },
   "outputs": [
    {
     "name": "stdout",
     "output_type": "stream",
     "text": [
      "[[-1.3634611]]\n",
      "-1.3634611001081356\n"
     ]
    }
   ],
   "source": [
    "# Random column vector of length 4\n",
    "v = np.random.randn(4, 1)\n",
    "\n",
    "# v.T: v tranpose\n",
    "# @: matrix multiplication\n",
    "z = v.T @ Q @ v\n",
    "\n",
    "# The result is a 1-by-1 matrix\n",
    "print(z)\n",
    "\n",
    "# Extract the result as a real number\n",
    "print(z[0, 0])"
   ]
  },
  {
   "cell_type": "code",
   "execution_count": 5,
   "metadata": {
    "pycharm": {
     "name": "#%%\n"
    }
   },
   "outputs": [
    {
     "name": "stdout",
     "output_type": "stream",
     "text": [
      "[[1 3]\n",
      " [2 4]]\n",
      "[[-1.   6.4]\n",
      " [15.  32. ]]\n",
      "[4 6]\n",
      "[3 7]\n"
     ]
    }
   ],
   "source": [
    "# Other useful methods\n",
    "#   Construct a matrix\n",
    "A = np.array([[1, 2], [3, 4]])\n",
    "B = np.array([[-1, 3.2], [5, 8]])\n",
    "#   Transpose a matrix\n",
    "print(A.T)\n",
    "#   Elementwise multiplication\n",
    "print(np.multiply(A, B))\n",
    "#   Sum of each column (as a row vector)\n",
    "print(np.sum(A, axis=0))\n",
    "#   Sum of each row (as a column vector)\n",
    "print(np.sum(A, axis=1))"
   ]
  },
  {
   "cell_type": "code",
   "execution_count": 6,
   "metadata": {
    "pycharm": {
     "name": "#%%\n"
    }
   },
   "outputs": [
    {
     "name": "stdout",
     "output_type": "stream",
     "text": [
      "d =  [ 0.13393125 29.86606875]\n",
      "V =  [[-0.81741556 -0.57604844]\n",
      " [ 0.57604844 -0.81741556]]\n",
      "||v||_2 =  2.23606797749979\n",
      "Q^{-1}v =  [-2.   1.5]\n"
     ]
    }
   ],
   "source": [
    "# Linear algebra routines\n",
    "Q = A.T @ A\n",
    "(d, V) = np.linalg.eig(Q)  # Eigen decomposition\n",
    "print(\"d = \", d)\n",
    "print(\"V = \", V)\n",
    "\n",
    "v = np.array([1, 2])\n",
    "print(\"||v||_2 = \", np.linalg.norm(v))  # 2-norm of a vector\n",
    "\n",
    "Qinv = np.linalg.inv(Q)  # Matrix inverse\n",
    "# Solves Qx = v (faster than Qinv*v)\n",
    "x = np.linalg.solve(Q, v)\n",
    "print(\"Q^{-1}v = \", x)"
   ]
  }
 ],
 "metadata": {
  "kernelspec": {
   "display_name": "Python 3",
   "language": "python",
   "name": "python3"
  },
  "language_info": {
   "codemirror_mode": {
    "name": "ipython",
    "version": 3
   },
   "file_extension": ".py",
   "mimetype": "text/x-python",
   "name": "python",
   "nbconvert_exporter": "python",
   "pygments_lexer": "ipython3",
   "version": "3.7.0"
  }
 },
 "nbformat": 4,
 "nbformat_minor": 1
}
