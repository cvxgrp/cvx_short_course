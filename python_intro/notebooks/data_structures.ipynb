{
 "cells": [
  {
   "cell_type": "markdown",
   "metadata": {
    "pycharm": {
     "name": "#%% md\n"
    }
   },
   "source": [
    "# Data structures"
   ]
  },
  {
   "cell_type": "markdown",
   "source": [
    "This notebook covers the basics of the list and dict data structures."
   ],
   "metadata": {
    "collapsed": false
   }
  },
  {
   "cell_type": "code",
   "execution_count": 1,
   "metadata": {
    "pycharm": {
     "name": "#%%\n"
    }
   },
   "outputs": [
    {
     "name": "stdout",
     "output_type": "stream",
     "text": [
      "[1, 2, 3]\n",
      "[0, 1, 4, 9, 16]\n",
      "5\n"
     ]
    }
   ],
   "source": [
    "# declare a list\n",
    "a = [1, 2, 3]\n",
    "print(a)\n",
    "\n",
    "# making a list using list comprehension\n",
    "# same as\n",
    "#   a = [0, 1, 4, 9, 16]\n",
    "a = [x**2 for x in range(5)]\n",
    "print(a)\n",
    "\n",
    "# length of the list\n",
    "print(len(a))"
   ]
  },
  {
   "cell_type": "code",
   "execution_count": 2,
   "metadata": {
    "pycharm": {
     "name": "#%%\n"
    }
   },
   "outputs": [
    {
     "name": "stdout",
     "output_type": "stream",
     "text": [
      "[0, 1, 4, 9, 16, 25]\n",
      "[0, 1, 4, 9, 16]\n"
     ]
    }
   ],
   "source": [
    "# appending to the end of the list\n",
    "a.append(5**2)\n",
    "print(a)\n",
    "\n",
    "# removing the last element\n",
    "a.pop()\n",
    "print(a)"
   ]
  },
  {
   "cell_type": "code",
   "execution_count": 3,
   "metadata": {
    "pycharm": {
     "name": "#%%\n"
    }
   },
   "outputs": [
    {
     "name": "stdout",
     "output_type": "stream",
     "text": [
      "[0, 1, 4]\n",
      "[9, 16]\n",
      "[1, 4, 9]\n"
     ]
    }
   ],
   "source": [
    "# taking the first 3 elements\n",
    "print(a[:3])\n",
    "\n",
    "# taking the last 2 elements\n",
    "print(a[-2:])\n",
    "\n",
    "# taking the middle 3 elements (a[1], a[2], a[3])\n",
    "#   NOTE: a[4] is not included!\n",
    "print(a[1:4])"
   ]
  },
  {
   "cell_type": "code",
   "execution_count": 4,
   "metadata": {
    "pycharm": {
     "name": "#%%\n"
    }
   },
   "outputs": [
    {
     "name": "stdout",
     "output_type": "stream",
     "text": [
      "[1, 2, 3, 4]\n",
      "[0, 1, 4, 9, 16, 1, 2, 3, 4, 5]\n"
     ]
    }
   ],
   "source": [
    "# + concatenating lists\n",
    "print([1, 2] + [3, 4])\n",
    "\n",
    "b = [1, 2, 3, 4, 5]\n",
    "a += b  # appending a list\n",
    "print(a)"
   ]
  },
  {
   "cell_type": "code",
   "execution_count": 5,
   "metadata": {
    "pycharm": {
     "name": "#%%\n"
    }
   },
   "outputs": [
    {
     "name": "stdout",
     "output_type": "stream",
     "text": [
      "{'jack': 4098, 'sape': 4139, 'guido': 4127}\n",
      "4098\n",
      "jack 4098\n",
      "sape 4139\n",
      "guido 4127\n"
     ]
    }
   ],
   "source": [
    "# dictionary is a collection of key-value pairs\n",
    "d = {\"jack\": 4098, \"sape\": 4139}\n",
    "d[\"guido\"] = 4127\n",
    "print(d)\n",
    "print(d[\"jack\"])\n",
    "\n",
    "# iterating over a dictionary.\n",
    "for key, value in d.items():\n",
    "    print(key, value)\n",
    "\n",
    "# making an empty dictionary\n",
    "empty_dict = dict()"
   ]
  }
 ],
 "metadata": {
  "kernelspec": {
   "display_name": "Python 3",
   "language": "python",
   "name": "python3"
  },
  "language_info": {
   "codemirror_mode": {
    "name": "ipython",
    "version": 3
   },
   "file_extension": ".py",
   "mimetype": "text/x-python",
   "name": "python",
   "nbconvert_exporter": "python",
   "pygments_lexer": "ipython3",
   "version": "3.7.0"
  }
 },
 "nbformat": 4,
 "nbformat_minor": 1
}
