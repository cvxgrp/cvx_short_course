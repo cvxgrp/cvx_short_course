{
 "cells": [
  {
   "cell_type": "markdown",
   "metadata": {
    "pycharm": {
     "name": "#%% md\n"
    }
   },
   "source": [
    "# Python basics"
   ]
  },
  {
   "cell_type": "markdown",
   "source": [
    "This notebook covers the basics of Python syntax."
   ],
   "metadata": {
    "collapsed": false
   }
  },
  {
   "cell_type": "code",
   "execution_count": 1,
   "metadata": {
    "pycharm": {
     "name": "#%%\n"
    }
   },
   "outputs": [],
   "source": [
    "# Example Python script\n",
    "# Write comments like this"
   ]
  },
  {
   "cell_type": "code",
   "execution_count": 2,
   "metadata": {
    "pycharm": {
     "name": "#%%\n"
    }
   },
   "outputs": [
    {
     "name": "stdout",
     "output_type": "stream",
     "text": [
      "Hello, World!\n"
     ]
    }
   ],
   "source": [
    "# Basic operators: +, -, *, /\n",
    "#   Beware of integer division:\n",
    "#     2/5 == 0\n",
    "#     2.0/5 == 0.4\n",
    "# Exponentiation: **\n",
    "#   3**4 == 81\n",
    "# String: \"abc\" or 'abc' (both are same)\n",
    "\n",
    "print(\"Hello, World!\")  # Prints a string to the console"
   ]
  },
  {
   "cell_type": "code",
   "execution_count": 3,
   "outputs": [
    {
     "name": "stdout",
     "output_type": "stream",
     "text": [
      "Hello, World!\n"
     ]
    }
   ],
   "source": [
    "# Define function using def keyword\n",
    "# Note the colon (:) at the end of the line\n",
    "# Indentation by tab or space *but not both*\n",
    "def func(arg):\n",
    "    # string concatenation with + operator\n",
    "    text = \"Hello, \" + arg + \"!\"\n",
    "    print(text)\n",
    "\n",
    "\n",
    "func(\"World\")"
   ],
   "metadata": {
    "collapsed": false,
    "pycharm": {
     "name": "#%%\n"
    }
   }
  },
  {
   "cell_type": "code",
   "execution_count": 4,
   "outputs": [
    {
     "name": "stdout",
     "output_type": "stream",
     "text": [
      "0 is even\n",
      "1 is odd\n",
      "2 is even\n",
      "3 is odd\n",
      "4 is even\n",
      "5 is odd\n",
      "6 is even\n",
      "7 is odd\n",
      "8 is even\n",
      "9 is odd\n"
     ]
    }
   ],
   "source": [
    "# for loop example\n",
    "# range(n) creates a list [0, 1, ..., n-1]\n",
    "for i in range(10):\n",
    "    # if-else example\n",
    "    if i % 2 == 0:\n",
    "        # str() converts object into string\n",
    "        print(str(i) + \" is even\")\n",
    "    else:\n",
    "        print(str(i) + \" is odd\")"
   ],
   "metadata": {
    "collapsed": false,
    "pycharm": {
     "name": "#%%\n"
    }
   }
  },
  {
   "cell_type": "code",
   "execution_count": 5,
   "outputs": [
    {
     "name": "stdout",
     "output_type": "stream",
     "text": [
      "foo\n",
      "1234\n",
      "bar\n"
     ]
    }
   ],
   "source": [
    "# for loop can work on any list\n",
    "for elem in [\"foo\", 1234, \"bar\"]:\n",
    "    print(elem)"
   ],
   "metadata": {
    "collapsed": false,
    "pycharm": {
     "name": "#%%\n"
    }
   }
  },
  {
   "cell_type": "code",
   "execution_count": 6,
   "outputs": [
    {
     "name": "stdout",
     "output_type": "stream",
     "text": [
      "10\n",
      "20\n",
      "30\n",
      "40\n",
      "50\n",
      "60\n",
      "70\n",
      "80\n",
      "90\n",
      "100\n"
     ]
    }
   ],
   "source": [
    "# while loop, break, continue\n",
    "count = 0\n",
    "while True:\n",
    "    if count > 100:\n",
    "        break\n",
    "    count += 1  # count = count + 1\n",
    "    if count % 10 != 0:\n",
    "        continue\n",
    "    print(count)"
   ],
   "metadata": {
    "collapsed": false,
    "pycharm": {
     "name": "#%%\n"
    }
   }
  }
 ],
 "metadata": {
  "kernelspec": {
   "display_name": "Python 3",
   "language": "python",
   "name": "python3"
  },
  "language_info": {
   "codemirror_mode": {
    "name": "ipython",
    "version": 3
   },
   "file_extension": ".py",
   "mimetype": "text/x-python",
   "name": "python",
   "nbconvert_exporter": "python",
   "pygments_lexer": "ipython3",
   "version": "3.7.0"
  }
 },
 "nbformat": 4,
 "nbformat_minor": 1
}
